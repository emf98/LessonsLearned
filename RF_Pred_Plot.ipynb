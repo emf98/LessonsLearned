{
 "cells": [
  {
   "cell_type": "markdown",
   "id": "9f0fd2d8",
   "metadata": {},
   "source": [
    "### File for creating \"preceding  metrics\" plots for predictions using the RF model I trained ...\n",
    "\n",
    "7/8/2025"
   ]
  },
  {
   "cell_type": "code",
   "execution_count": 1,
   "id": "afee9814",
   "metadata": {},
   "outputs": [],
   "source": [
    "#relevant import statements\n",
    "import numpy as np\n",
    "import math\n",
    "import pandas as pd\n",
    "import xarray as xr \n",
    "import pickle \n",
    "import matplotlib.pyplot as plt"
   ]
  },
  {
   "cell_type": "markdown",
   "id": "0a381151",
   "metadata": {},
   "source": [
    "Open and pre-process ellipse metrics. "
   ]
  },
  {
   "cell_type": "code",
   "execution_count": 2,
   "id": "3fcdfff2",
   "metadata": {},
   "outputs": [],
   "source": [
    "##open ellipse metric files\n",
    "infile = open(\"./data/ellipse/era5_wind50_59.p\", 'rb') \n",
    "wind10 = pickle.load(infile)\n",
    "infile.close()\n",
    "\n",
    "infile = open(\"./data/ellipse/era5_size50_59.p\", 'rb') \n",
    "size10 = pickle.load(infile)\n",
    "infile.close()\n",
    "\n",
    "infile = open(\"./data/ellipse/era5_ratio50_59.p\", 'rb') \n",
    "rat10 = pickle.load(infile)\n",
    "infile.close()\n",
    "\n",
    "infile = open(\"./data/ellipse/era5_ephi50_59.p\", 'rb') \n",
    "ephi10 = pickle.load(infile)\n",
    "infile.close()\n",
    "\n",
    "infile = open(\"./data/ellipse/era5_cenlat50_59.p\", 'rb')\n",
    "cenlat10 = pickle.load(infile)\n",
    "infile.close()\n",
    "\n",
    "infile = open(\"./data/ellipse/era5_cenlon50_59.p\", 'rb')\n",
    "cenlon10 = pickle.load(infile)\n",
    "infile.close()\n",
    "\n",
    "infile = open(\"./data/gph/NA_gph_weightedANOM_500.p\", 'rb') \n",
    "gph = pickle.load(infile)\n",
    "infile.close()\n",
    "\n",
    "infile = open(\"./data/pv/CAP_pvu_weightedANOM_100.p\", 'rb') \n",
    "pv = pickle.load(infile)\n",
    "infile.close()"
   ]
  },
  {
   "cell_type": "code",
   "execution_count": 3,
   "id": "bf3ad66f",
   "metadata": {},
   "outputs": [],
   "source": [
    "#remove leap year\n",
    "wind10 = np.delete(wind10,[120],1)\n",
    "rat10 = np.delete(rat10,[120],1)\n",
    "cenlat10 = np.delete(cenlat10,[120],1)\n",
    "cenlon10 = np.delete(cenlon10,[120],1)\n",
    "size10 = np.delete(size10,[120],1)\n",
    "ephi10 = np.delete(ephi10,[120],1)"
   ]
  },
  {
   "cell_type": "code",
   "execution_count": 4,
   "id": "3fb43169",
   "metadata": {
    "collapsed": true,
    "jupyter": {
     "outputs_hidden": true
    }
   },
   "outputs": [
    {
     "name": "stdout",
     "output_type": "stream",
     "text": [
      "24\n",
      "144\n",
      "True\n",
      "24\n",
      "145\n",
      "True\n",
      "24\n",
      "146\n",
      "True\n",
      "24\n",
      "147\n",
      "True\n",
      "24\n",
      "148\n",
      "True\n",
      "24\n",
      "149\n",
      "True\n",
      "24\n",
      "150\n",
      "True\n",
      "29\n",
      "145\n",
      "True\n",
      "29\n",
      "146\n",
      "True\n",
      "29\n",
      "147\n",
      "True\n",
      "29\n",
      "148\n",
      "True\n",
      "29\n",
      "149\n",
      "True\n",
      "39\n",
      "149\n",
      "True\n",
      "39\n",
      "150\n",
      "True\n",
      "41\n",
      "144\n",
      "True\n"
     ]
    }
   ],
   "source": [
    "#remove NaNs\n",
    "indices = np.isnan(wind10)\n",
    "for i in range(0,63):\n",
    "    for j in range(0,151):\n",
    "        if indices[i,j] != False:\n",
    "            print(i)\n",
    "            print(j)\n",
    "            print(\"True\")\n",
    "            wind10[i,j] = 0\n",
    "            rat10[i,j] = 0\n",
    "            cenlat10[i,j] = 0\n",
    "            cenlon10[i,j] = 0\n",
    "            size10[i,j] = 0\n",
    "            ephi10[i,j] = 0"
   ]
  },
  {
   "cell_type": "code",
   "execution_count": 5,
   "id": "161b5b14",
   "metadata": {},
   "outputs": [],
   "source": [
    "input = np.empty((62,151,8))"
   ]
  },
  {
   "cell_type": "code",
   "execution_count": 6,
   "id": "1d019e87",
   "metadata": {},
   "outputs": [],
   "source": [
    "input[:,:,0] = wind10[:62,:]\n",
    "input[:,:,1] = rat10[:62,:]\n",
    "input[:,:,2] = cenlat10[:62,:]\n",
    "input[:,:,3] = cenlon10[:62,:]\n",
    "input[:,:,4] = size10[:62,:]\n",
    "input[:,:,5] = ephi10[:62,:]\n",
    "input[:,:,6] = gph[:62,:]\n",
    "input[:,:,7] = pv[:62,:]"
   ]
  },
  {
   "cell_type": "code",
   "execution_count": 7,
   "id": "fb8e6e75",
   "metadata": {},
   "outputs": [],
   "source": [
    "input2 = np.empty((62,137,3))"
   ]
  },
  {
   "cell_type": "code",
   "execution_count": 8,
   "id": "08f21c0d",
   "metadata": {},
   "outputs": [],
   "source": [
    "input2[:,:,2] = wind10[:62,:137]\n",
    "input2[:,:,1] = cenlon10[:62,:137]\n",
    "input2[:,:,0] = size10[:62,:137]"
   ]
  },
  {
   "cell_type": "markdown",
   "id": "94721834",
   "metadata": {},
   "source": [
    "Now that the assembly is done ... We can plot. lol."
   ]
  },
  {
   "cell_type": "code",
   "execution_count": 9,
   "id": "f2f26c98",
   "metadata": {},
   "outputs": [],
   "source": [
    "##open indice files\n",
    "infile = open(\"./RF_indices/range_indices_RF14.p\", 'rb') ##essentially just taking the ranges from the testing data (which is being plotted?)  \n",
    "ranges = pickle.load(infile)\n",
    "infile.close()\n",
    "\n",
    "infile = open(\"./RF_indices/posXtest_RF14.p\", 'rb') \n",
    "posXtest = pickle.load(infile)\n",
    "infile.close()\n",
    "\n",
    "infile = open(\"./RF_indices/FposXtest_RF14.p\", 'rb') \n",
    "FposXtest = pickle.load(infile)\n",
    "infile.close()\n",
    "\n",
    "infile = open(\"./RF_indices/negXtest_RF14.p\", 'rb') \n",
    "negXtest = pickle.load(infile)\n",
    "infile.close()\n",
    "\n",
    "infile = open(\"./RF_indices/FnegXtest_RF14.p\", 'rb') \n",
    "FnegXtest = pickle.load(infile)\n",
    "infile.close()"
   ]
  },
  {
   "cell_type": "code",
   "execution_count": 10,
   "id": "4742f255",
   "metadata": {},
   "outputs": [
    {
     "data": {
      "text/plain": [
       "(5, 137, 3)"
      ]
     },
     "execution_count": 10,
     "metadata": {},
     "output_type": "execute_result"
    }
   ],
   "source": [
    "##reduce input to just the testing data\n",
    "#nolag_Xtest = input[58:,:,:]\n",
    "nolag_Xtest = input2[57:,:,:]\n",
    "nolag_Xtest.shape"
   ]
  },
  {
   "cell_type": "markdown",
   "id": "e8390e64",
   "metadata": {},
   "source": [
    "### The following few cells are if you would like to make a timeseries plot. "
   ]
  },
  {
   "cell_type": "raw",
   "id": "a56e8e8d",
   "metadata": {
    "jupyter": {
     "source_hidden": true
    }
   },
   "source": [
    "##Correct Positive Events\n",
    "pos_corr_events = []\n",
    "pos_corr_num = []\n",
    "pos_corr_total_events = []\n",
    "\n",
    "for i in range(0,5):\n",
    "    for j in range(0,141):\n",
    "        #index for the date being observed\n",
    "        date_index = ranges[i,j]\n",
    "        ##loop through indexes of positive and correct events\n",
    "        for k in range(len(posXtest)):\n",
    "            pos_index = posXtest[k]\n",
    "            if pos_index == date_index:\n",
    "                pos_corr_total_events.append(0)\n",
    "                if j<=19:\n",
    "                    continue\n",
    "                else:\n",
    "                    pos_corr_num.append(0)\n",
    "                    pos_corr_events.extend(nolag_Xtest[i,j-20:j,:])\n",
    "\n",
    "##reshape\n",
    "pos = np.array(pos_corr_events).reshape((len(pos_corr_num),20,8))\n",
    "print(pos.shape)\n",
    "print(len(pos_corr_total_events))\n",
    "##A LOT OF THE CORRECT POSITIVE EVENTS ARE WITHIN 20 DAYS OF THE START OF THE YEAR"
   ]
  },
  {
   "cell_type": "raw",
   "id": "ce3c9a9b",
   "metadata": {
    "jupyter": {
     "source_hidden": true
    }
   },
   "source": [
    "##FALSE Positive Events\n",
    "Fpos_corr_events = []\n",
    "Fpos_corr_num = []\n",
    "Fpos_corr_total_events = []\n",
    "\n",
    "for i in range(0,5):\n",
    "    for j in range(0,141):\n",
    "        #index for the date being observed\n",
    "        date_index = ranges[i,j]\n",
    "        ##loop through indexes of positive and correct events\n",
    "        for k in range(len(FposXtest)):\n",
    "            pos_index = FposXtest[k]\n",
    "            if pos_index == date_index:\n",
    "                Fpos_corr_total_events.append(0)\n",
    "                if j<=19:\n",
    "                    continue\n",
    "                else:\n",
    "                    Fpos_corr_num.append(0)\n",
    "                    Fpos_corr_events.extend(nolag_Xtest[i,j-20:j,:])\n",
    "##reshape\n",
    "Fpos = np.array(Fpos_corr_events).reshape((len(Fpos_corr_num),20,8))\n",
    "print(Fpos.shape)\n",
    "print(len(Fpos_corr_total_events))"
   ]
  },
  {
   "cell_type": "raw",
   "id": "5d0f8787",
   "metadata": {
    "jupyter": {
     "source_hidden": true
    }
   },
   "source": [
    "##Correct Negative Events\n",
    "neg_corr_events = []\n",
    "neg_corr_num = []\n",
    "neg_corr_total_events = []\n",
    "\n",
    "for i in range(0,5):\n",
    "    for j in range(0,141):\n",
    "        #index for the date being observed\n",
    "        date_index = ranges[i,j]\n",
    "        ##loop through indexes of positive and correct events\n",
    "        for k in range(len(negXtest)):\n",
    "            neg_index = negXtest[k]\n",
    "            if neg_index == date_index:\n",
    "                neg_corr_total_events.append(0)\n",
    "                if j<=19:\n",
    "                    continue\n",
    "                else:\n",
    "                    neg_corr_num.append(0)\n",
    "                    neg_corr_events.extend(nolag_Xtest[i,j-20:j,:])\n",
    "##reshape\n",
    "neg = np.array(neg_corr_events).reshape((len(neg_corr_num),20,8))\n",
    "print(neg.shape)\n",
    "print(len(neg_corr_total_events))"
   ]
  },
  {
   "cell_type": "raw",
   "id": "f2896b1c",
   "metadata": {
    "jupyter": {
     "source_hidden": true
    }
   },
   "source": [
    "##FALSE Negative Events\n",
    "Fneg_corr_events = []\n",
    "Fneg_corr_num = []\n",
    "Fneg_corr_total_events = []\n",
    "\n",
    "for i in range(0,5):\n",
    "    for j in range(0,141):\n",
    "        #index for the date being observed\n",
    "        date_index = ranges[i,j]\n",
    "        ##loop through indexes of positive and correct events\n",
    "        for k in range(len(FnegXtest)):\n",
    "            neg_index = FnegXtest[k]\n",
    "            if neg_index == date_index:\n",
    "                Fneg_corr_total_events.append(0)\n",
    "                if j<=19:\n",
    "                    continue\n",
    "                else:\n",
    "                    Fneg_corr_num.append(0)\n",
    "                    Fneg_corr_events.extend(nolag_Xtest[i,j-20:j,:])\n",
    "\n",
    "##reshape\n",
    "Fneg = np.array(Fneg_corr_events).reshape((len(Fneg_corr_num),20,8))\n",
    "print(Fneg.shape)\n",
    "print(len(Fneg_corr_total_events))"
   ]
  },
  {
   "cell_type": "raw",
   "id": "df2b36f4",
   "metadata": {
    "jupyter": {
     "source_hidden": true
    }
   },
   "source": [
    "##wind\n",
    "##ratio\n",
    "##latitude\n",
    "##longitude\n",
    "##size\n",
    "##ephi\n",
    "##gph\n",
    "##pv"
   ]
  },
  {
   "cell_type": "raw",
   "id": "0794dc4e",
   "metadata": {
    "jupyter": {
     "source_hidden": true
    }
   },
   "source": [
    "import matplotlib.ticker as mticker\n",
    "myLocator = mticker.MultipleLocator(2)\n",
    "l2 = [-20,-19,-18,-17,-16,-15,-14,-13,-12,-11,-10,-9,-8,-7,-6,-5,-4,-3,-2,-1]\n",
    "metrics = [\"Wind (m/s)\", \"Ratio (m)\", \"Latitude ($^o$)\", \"Longitude ($^o$)\", \"Size (m$^2$)\", \"EPhi ($^o$)\", \"GPH (hPa)\", \"PV (m$^2$K/s kg)\"]\n",
    "c = [\"midnightblue\",\"royalblue\",\"mediumvioletred\",\"magenta\"]\n",
    "fs = 12\n",
    "\n",
    "fig, axes = plt.subplots(4, 2, figsize=(10, 10))\n",
    "plt.suptitle(\"Random Forest Testing Input Features 20-Days Prior to Anomaly Predictions\", fontsize = 16)\n",
    "axes = axes.flatten()\n",
    "for i in range(0,8):\n",
    "    \n",
    "    C_pos = np.nanmean(pos[:,:,i],axis=0)\n",
    "    F_neg = np.nanmean(Fneg[:,:,i],axis=0)\n",
    "    C_neg = np.nanmean(neg[:,:,i],axis=0)\n",
    "    F_pos = np.nanmean(Fpos[:,:,i],axis=0)\n",
    "    \n",
    "    axes[i].plot(l2, C_pos, color = str(c[0]), label = \"Correct +\")\n",
    "    axes[i].plot(l2, F_neg, color = str(c[1]), label = \"False -\")\n",
    "    axes[i].plot(l2, C_neg, color = str(c[2]), label = \"Correct -\")\n",
    "    axes[i].plot(l2, F_pos, color = str(c[3]), label = \"False +\")\n",
    "    \n",
    "    axes[i].set_ylabel(str(metrics[i]), fontsize = fs)\n",
    "    axes[i].set_xlabel(\"Date Position\", fontsize = fs)\n",
    "    #axes[i].set_ylim(0,1)\n",
    "    axes[i].xaxis.set_major_locator(myLocator)\n",
    "    if i == 1:\n",
    "        axes[i].legend(fontsize = 8,loc=\"lower left\")\n",
    "    \n",
    "\n",
    "plt.tight_layout()\n",
    "plt.subplots_adjust(top=0.95)   \n",
    "#plt.savefig(\"RF_features_beforePRED.png\")\n",
    "plt.show()"
   ]
  },
  {
   "cell_type": "markdown",
   "id": "963fc78a",
   "metadata": {},
   "source": [
    "### These few cells will be for making box plots instead lol. "
   ]
  },
  {
   "cell_type": "code",
   "execution_count": 11,
   "id": "61b1a26c",
   "metadata": {},
   "outputs": [
    {
     "name": "stdout",
     "output_type": "stream",
     "text": [
      "(4464, 1, 3)\n",
      "4464\n"
     ]
    }
   ],
   "source": [
    "##Correct Positive Events\n",
    "pos_corr_events = []\n",
    "pos_corr_num = []\n",
    "pos_corr_total_events = []\n",
    "\n",
    "for i in range(0,5):\n",
    "    for j in range(0,137):\n",
    "        #index for the date being observed\n",
    "        date_index = ranges[i,j]\n",
    "        ##loop through indexes of positive and correct events\n",
    "        for k in range(len(posXtest)):\n",
    "            pos_index = posXtest[k]\n",
    "            if pos_index == date_index:\n",
    "                pos_corr_total_events.append(0)\n",
    "                pos_corr_num.append(0)\n",
    "                pos_corr_events.extend(nolag_Xtest[i,j,:])\n",
    "\n",
    "##reshape\n",
    "pos = np.array(pos_corr_events).reshape((len(pos_corr_num),1,3))\n",
    "print(pos.shape)\n",
    "print(len(pos_corr_total_events))\n",
    "##A LOT OF THE CORRECT POSITIVE EVENTS ARE WITHIN 20 DAYS OF THE START OF THE YEAR"
   ]
  },
  {
   "cell_type": "code",
   "execution_count": 12,
   "id": "a35bf7ad",
   "metadata": {},
   "outputs": [
    {
     "name": "stdout",
     "output_type": "stream",
     "text": [
      "(1541, 1, 3)\n",
      "1541\n"
     ]
    }
   ],
   "source": [
    "##FALSE Positive Events\n",
    "Fpos_corr_events = []\n",
    "Fpos_corr_num = []\n",
    "Fpos_corr_total_events = []\n",
    "\n",
    "for i in range(0,5):\n",
    "    for j in range(0,137):\n",
    "        #index for the date being observed\n",
    "        date_index = ranges[i,j]\n",
    "        ##loop through indexes of positive and correct events\n",
    "        for k in range(len(FposXtest)):\n",
    "            pos_index = FposXtest[k]\n",
    "            if pos_index == date_index:\n",
    "                Fpos_corr_total_events.append(0)\n",
    "                Fpos_corr_num.append(0)\n",
    "                Fpos_corr_events.extend(nolag_Xtest[i,j,:])\n",
    "##reshape\n",
    "Fpos = np.array(Fpos_corr_events).reshape((len(Fpos_corr_num),1,3))\n",
    "print(Fpos.shape)\n",
    "print(len(Fpos_corr_total_events))"
   ]
  },
  {
   "cell_type": "code",
   "execution_count": 13,
   "id": "730e6f42",
   "metadata": {},
   "outputs": [
    {
     "name": "stdout",
     "output_type": "stream",
     "text": [
      "(5359, 1, 3)\n",
      "5359\n"
     ]
    }
   ],
   "source": [
    "##Correct Negative Events\n",
    "neg_corr_events = []\n",
    "neg_corr_num = []\n",
    "neg_corr_total_events = []\n",
    "\n",
    "for i in range(0,5):\n",
    "    for j in range(0,137):\n",
    "        #index for the date being observed\n",
    "        date_index = ranges[i,j]\n",
    "        ##loop through indexes of positive and correct events\n",
    "        for k in range(len(negXtest)):\n",
    "            neg_index = negXtest[k]\n",
    "            if neg_index == date_index:\n",
    "                neg_corr_total_events.append(0)\n",
    "                neg_corr_num.append(0)\n",
    "                neg_corr_events.extend(nolag_Xtest[i,j,:])\n",
    "##reshape\n",
    "neg = np.array(neg_corr_events).reshape((len(neg_corr_num),1,3))\n",
    "print(neg.shape)\n",
    "print(len(neg_corr_total_events))"
   ]
  },
  {
   "cell_type": "code",
   "execution_count": 14,
   "id": "19450d3f",
   "metadata": {},
   "outputs": [
    {
     "name": "stdout",
     "output_type": "stream",
     "text": [
      "(2434, 1, 3)\n",
      "2434\n"
     ]
    }
   ],
   "source": [
    "##FALSE Negative Events\n",
    "Fneg_corr_events = []\n",
    "Fneg_corr_num = []\n",
    "Fneg_corr_total_events = []\n",
    "\n",
    "for i in range(0,5):\n",
    "    for j in range(0,137):\n",
    "        #index for the date being observed\n",
    "        date_index = ranges[i,j]\n",
    "        ##loop through indexes of positive and correct events\n",
    "        for k in range(len(FnegXtest)):\n",
    "            neg_index = FnegXtest[k]\n",
    "            if neg_index == date_index:\n",
    "                Fneg_corr_total_events.append(0)\n",
    "                Fneg_corr_num.append(0)\n",
    "                Fneg_corr_events.extend(nolag_Xtest[i,j,:])\n",
    "\n",
    "##reshape\n",
    "Fneg = np.array(Fneg_corr_events).reshape((len(Fneg_corr_num),1,3))\n",
    "print(Fneg.shape)\n",
    "print(len(Fneg_corr_total_events))"
   ]
  },
  {
   "cell_type": "code",
   "execution_count": 15,
   "id": "34181464",
   "metadata": {},
   "outputs": [
    {
     "data": {
      "image/png": "[encoded data removed]",
      "text/plain": [
       "<Figure size 1200x1200 with 3 Axes>"
      ]
     },
     "metadata": {},
     "output_type": "display_data"
    }
   ],
   "source": [
    "import matplotlib.ticker as mticker\n",
    "myLocator = mticker.MultipleLocator(2)\n",
    "\n",
    "#metrics = [\"Wind (m/s)\", \"Ratio (m)\", \"Latitude ($^o$)\", \"Longitude ($^o$)\", \"Size (m$^2$)\", \"EPhi ($^o$)\", \"GPH (hPa)\", \"PV (m$^2$K/s kg)\"]\n",
    "metrics = [\"Size (m$^2$)\", \"Longitude ($^o$)\", \"Wind (m/s)\"]\n",
    "ticks = ['Correct +', 'Incorrect -', 'Correct -', 'Incorrect +'] #set tick numbers for dataset\n",
    "ind = [2, 4, 6, 8]  # the x locations for the groups\n",
    "w = 0.25 #box-plot width\n",
    "c = [\"midnightblue\",\"royalblue\",\"mediumvioletred\",\"magenta\"]\n",
    "fs = 14\n",
    "\n",
    "fig, axes = plt.subplots(3, 1, figsize=(12, 12))\n",
    "plt.suptitle(\"Distribution of Testing Data RF Input Features Prior to Temp Anomaly Predictions\", fontsize = 20, x=0.53)\n",
    "axes = axes.flatten()\n",
    "for i in range(0,3):\n",
    "\n",
    "    if i ==6:\n",
    "        C_pos = pos[:,0,i]\n",
    "        F_neg = Fneg[:,0,i]\n",
    "        C_neg = neg[:,0,i]\n",
    "        F_pos = Fpos[:,0,i]\n",
    "        \n",
    "        a1 =axes[i].boxplot([C_pos,F_neg,C_neg,F_pos], positions= [2,4,6,8], widths=w, patch_artist=True)\n",
    "        for bplot in (a1,):\n",
    "            for patch, color in zip(bplot['boxes'], c):\n",
    "                patch.set_facecolor(color)\n",
    "        axes[i].set_xticks(ind, ticks, fontsize = 14)\n",
    "        axes[i].set_ylabel(str(metrics[i]), fontsize = fs)\n",
    "        #axes[i].set_ylim(0,1)\n",
    "    else:\n",
    "        C_pos = pos[:,0,i]\n",
    "        F_neg = Fneg[:,0,i]\n",
    "        C_neg = neg[:,0,i]\n",
    "        F_pos = Fpos[:,0,i]\n",
    "        \n",
    "        a1 =axes[i].boxplot([C_pos,F_neg,C_neg,F_pos], positions= [2,4,6,8], widths=w, patch_artist=True)\n",
    "        for bplot in (a1,):\n",
    "            for patch, color in zip(bplot['boxes'], c):\n",
    "                patch.set_facecolor(color)\n",
    "        axes[i].set_xticks(ind, ticks, fontsize = 14)\n",
    "        axes[i].set_ylabel(str(metrics[i]), fontsize = 14)\n",
    "        axes[i].tick_params(axis='both', labelsize=14)\n",
    "\n",
    "        #axes[i].set_ylim(0,1)\n",
    "    \n",
    "\n",
    "plt.tight_layout()\n",
    "plt.subplots_adjust(top=0.94)   \n",
    "plt.savefig(\"RF_features_beforePRED_BOXPLOT_14days.png\")\n",
    "plt.show()"
   ]
  },
  {
   "cell_type": "code",
   "execution_count": null,
   "id": "63d33a6d",
   "metadata": {},
   "outputs": [],
   "source": []
  },
  {
   "cell_type": "code",
   "execution_count": null,
   "id": "b2fb8930",
   "metadata": {},
   "outputs": [],
   "source": []
  },
  {
   "cell_type": "code",
   "execution_count": null,
   "id": "0078a103",
   "metadata": {},
   "outputs": [],
   "source": []
  },
  {
   "cell_type": "code",
   "execution_count": null,
   "id": "4b1b286a",
   "metadata": {},
   "outputs": [],
   "source": []
  }
 ],
 "metadata": {
  "kernelspec": {
   "display_name": "Python 3 (ipykernel)",
   "language": "python",
   "name": "python3"
  },
  "language_info": {
   "codemirror_mode": {
    "name": "ipython",
    "version": 3
   },
   "file_extension": ".py",
   "mimetype": "text/x-python",
   "name": "python",
   "nbconvert_exporter": "python",
   "pygments_lexer": "ipython3",
   "version": "3.10.12"
  }
 },
 "nbformat": 4,
 "nbformat_minor": 5
}
