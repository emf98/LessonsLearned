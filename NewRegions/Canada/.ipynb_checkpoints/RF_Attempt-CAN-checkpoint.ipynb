{
 "cells": [
  {
   "cell_type": "markdown",
   "id": "76dbe59a",
   "metadata": {},
   "source": [
    "### Random Forests for my ellipse metric-based model. \n",
    "\n",
    "This is the same RF model but for the Nova Scotia temp region. "
   ]
  },
  {
   "cell_type": "raw",
   "id": "6e41dc97",
   "metadata": {
    "jupyter": {
     "source_hidden": true
    }
   },
   "source": [
    "!pip install seaborn"
   ]
  },
  {
   "cell_type": "code",
   "execution_count": 1,
   "id": "20bdc7a4",
   "metadata": {
    "jupyter": {
     "source_hidden": true
    }
   },
   "outputs": [],
   "source": [
    "#relevant import statements\n",
    "import numpy as np\n",
    "import math\n",
    "import pandas as pd\n",
    "import xarray as xr \n",
    "import pickle \n",
    "import matplotlib.pyplot as plt\n",
    "\n",
    "import random\n",
    "from random import seed\n",
    "from random import randint\n",
    "from random import sample\n",
    "\n",
    "import seaborn as sns # statistical data visualization\n",
    "from sklearn.ensemble import RandomForestRegressor, RandomForestClassifier\n",
    "from sklearn.metrics import accuracy_score\n",
    "from sklearn.model_selection import train_test_split\n",
    "from sklearn.metrics import mean_squared_error, r2_score\n",
    "\n",
    "from sklearn.feature_selection import SelectFromModel"
   ]
  },
  {
   "cell_type": "code",
   "execution_count": 2,
   "id": "5444fb45",
   "metadata": {},
   "outputs": [],
   "source": [
    "##just to stop the excess number of warnings \n",
    "import warnings\n",
    "warnings.filterwarnings('ignore')"
   ]
  },
  {
   "cell_type": "code",
   "execution_count": 3,
   "id": "9b179998",
   "metadata": {},
   "outputs": [],
   "source": [
    "#import definitions from skill stat file\n",
    "from SkillStats_MOD import BSS\n",
    "from SkillStats_MOD import RAS\n",
    "from SkillStats_MOD import PAS"
   ]
  },
  {
   "cell_type": "code",
   "execution_count": 4,
   "id": "f744a5c6",
   "metadata": {},
   "outputs": [
    {
     "data": {
      "text/plain": [
       "(62, 149, 8)"
      ]
     },
     "execution_count": 4,
     "metadata": {},
     "output_type": "execute_result"
    }
   ],
   "source": [
    "#load input data, it is max/min standardized, NaNs removed\n",
    "#stratospheric polar vortex ellipse diagnostics from Fernandez et al 2025 (in review)\n",
    "#comparison here may be a little muddled because I am limitied in the days that I can observe, however, I am currently working(7/8/2025) on calculating the diagnostics for the full dataset\n",
    "#this will be fixed. \n",
    "\n",
    "infile = open(\"../data/nolag_extendedanom_input.p\", 'rb') \n",
    "nolag_input = pickle.load(infile)\n",
    "infile.close()\n",
    "\n",
    "nolag_input.shape "
   ]
  },
  {
   "cell_type": "markdown",
   "id": "088cbee8",
   "metadata": {},
   "source": [
    "If I go back to the OG code, this was all 137 instead of 149. "
   ]
  },
  {
   "cell_type": "code",
   "execution_count": 5,
   "id": "ad1299ef",
   "metadata": {},
   "outputs": [],
   "source": [
    "idx = 135"
   ]
  },
  {
   "cell_type": "code",
   "execution_count": 6,
   "id": "f1b69370",
   "metadata": {},
   "outputs": [],
   "source": [
    "inp1 = np.empty((62,idx,8)) #create new input array, 14 day lag. "
   ]
  },
  {
   "cell_type": "code",
   "execution_count": 7,
   "id": "4be71a7e",
   "metadata": {},
   "outputs": [],
   "source": [
    "shift = 14\n",
    "#0 if normal "
   ]
  },
  {
   "cell_type": "code",
   "execution_count": 8,
   "id": "bcbd19d7",
   "metadata": {},
   "outputs": [],
   "source": [
    "##reshaping to change lag in metrics for input\n",
    "inp1[:,:,0] = nolag_input[:62,shift:,0] ##wind\n",
    "inp1[:,:,1] = nolag_input[:62,shift:,1] ##ratio\n",
    "inp1[:,:,2] = nolag_input[:62,shift:,2] ##latitude\n",
    "inp1[:,:,3] = nolag_input[:62,shift:,3] ##longitude\n",
    "inp1[:,:,4] = nolag_input[:62,shift:,4] ##size\n",
    "inp1[:,:,5] = nolag_input[:62,shift:,5] ##ephi\n",
    "inp1[:,:,6] = nolag_input[:62,shift:,6] ##gph\n",
    "inp1[:,:,7] = nolag_input[:62,shift:,7] ##pv"
   ]
  },
  {
   "cell_type": "code",
   "execution_count": 9,
   "id": "5d37936f",
   "metadata": {},
   "outputs": [],
   "source": [
    "inp=inp1.reshape(62*idx,8)"
   ]
  },
  {
   "cell_type": "code",
   "execution_count": 10,
   "id": "5d04afb9",
   "metadata": {},
   "outputs": [],
   "source": [
    "#load output data file.\n",
    "#I can change this to represent any of the available temp regions. \n",
    "infile = open(\"../data/nova_anomtemps_reduced.p\",\"rb\",)\n",
    "temp = pickle.load(infile) \n",
    "infile.close()\n",
    "\n",
    "# load climo data\n",
    "infile = open(\"../data/nova_climoprob_reduced.p\",\"rb\",)\n",
    "climo = pickle.load(infile) \n",
    "infile.close()"
   ]
  },
  {
   "cell_type": "code",
   "execution_count": 11,
   "id": "23b5c365",
   "metadata": {},
   "outputs": [
    {
     "name": "stdout",
     "output_type": "stream",
     "text": [
      "(9238,)\n",
      "(9238, 2)\n"
     ]
    }
   ],
   "source": [
    "print(temp.shape)\n",
    "print(climo.shape)"
   ]
  },
  {
   "cell_type": "code",
   "execution_count": 12,
   "id": "8525a48d",
   "metadata": {},
   "outputs": [],
   "source": [
    "temp = temp.reshape(62,149) ##it was flattened, reshape it\n",
    "climo = climo.reshape(62,149,2)"
   ]
  },
  {
   "cell_type": "code",
   "execution_count": 13,
   "id": "5abc53b5",
   "metadata": {},
   "outputs": [
    {
     "data": {
      "text/plain": [
       "(8370,)"
      ]
     },
     "execution_count": 13,
     "metadata": {},
     "output_type": "execute_result"
    }
   ],
   "source": [
    "##reshape again to introduce lag. \n",
    "output = temp[:,shift:].reshape(62*idx)\n",
    "output.shape"
   ]
  },
  {
   "cell_type": "code",
   "execution_count": 14,
   "id": "985dba79",
   "metadata": {},
   "outputs": [
    {
     "data": {
      "text/plain": [
       "(8370, 2)"
      ]
     },
     "execution_count": 14,
     "metadata": {},
     "output_type": "execute_result"
    }
   ],
   "source": [
    "##reshaping climo\n",
    "climo = climo[:,shift:,:].reshape(62*idx,2)\n",
    "climo.shape"
   ]
  },
  {
   "cell_type": "code",
   "execution_count": 15,
   "id": "944dccd6",
   "metadata": {},
   "outputs": [
    {
     "data": {
      "text/plain": [
       "array([1., 1., 1., 1., 1., 1., 1., 1., 1., 1., 1., 1., 1., 1., 1., 1., 1.,\n",
       "       0., 0., 0.])"
      ]
     },
     "execution_count": 15,
     "metadata": {},
     "output_type": "execute_result"
    }
   ],
   "source": [
    "output[0:20]"
   ]
  },
  {
   "cell_type": "code",
   "execution_count": 16,
   "id": "1bb668b9",
   "metadata": {},
   "outputs": [
    {
     "data": {
      "text/html": [
       "<div>\n",
       "<style scoped>\n",
       "    .dataframe tbody tr th:only-of-type {\n",
       "        vertical-align: middle;\n",
       "    }\n",
       "\n",
       "    .dataframe tbody tr th {\n",
       "        vertical-align: top;\n",
       "    }\n",
       "\n",
       "    .dataframe thead th {\n",
       "        text-align: right;\n",
       "    }\n",
       "</style>\n",
       "<table border=\"1\" class=\"dataframe\">\n",
       "  <thead>\n",
       "    <tr style=\"text-align: right;\">\n",
       "      <th></th>\n",
       "      <th>wind</th>\n",
       "      <th>rat</th>\n",
       "      <th>cenlat</th>\n",
       "      <th>cenlon</th>\n",
       "      <th>size</th>\n",
       "      <th>ephi</th>\n",
       "      <th>gph</th>\n",
       "      <th>pv</th>\n",
       "    </tr>\n",
       "  </thead>\n",
       "  <tbody>\n",
       "    <tr>\n",
       "      <th>0</th>\n",
       "      <td>0.598728</td>\n",
       "      <td>0.479457</td>\n",
       "      <td>0.833525</td>\n",
       "      <td>0.644826</td>\n",
       "      <td>0.476586</td>\n",
       "      <td>0.329934</td>\n",
       "      <td>0.685088</td>\n",
       "      <td>0.344325</td>\n",
       "    </tr>\n",
       "    <tr>\n",
       "      <th>1</th>\n",
       "      <td>0.603299</td>\n",
       "      <td>0.473327</td>\n",
       "      <td>0.836757</td>\n",
       "      <td>0.652509</td>\n",
       "      <td>0.484985</td>\n",
       "      <td>0.412879</td>\n",
       "      <td>0.668491</td>\n",
       "      <td>0.368610</td>\n",
       "    </tr>\n",
       "    <tr>\n",
       "      <th>2</th>\n",
       "      <td>0.606463</td>\n",
       "      <td>0.484023</td>\n",
       "      <td>0.840236</td>\n",
       "      <td>0.680402</td>\n",
       "      <td>0.494653</td>\n",
       "      <td>0.494592</td>\n",
       "      <td>0.653260</td>\n",
       "      <td>0.372181</td>\n",
       "    </tr>\n",
       "    <tr>\n",
       "      <th>3</th>\n",
       "      <td>0.609500</td>\n",
       "      <td>0.508195</td>\n",
       "      <td>0.845303</td>\n",
       "      <td>0.716699</td>\n",
       "      <td>0.504882</td>\n",
       "      <td>0.570149</td>\n",
       "      <td>0.634099</td>\n",
       "      <td>0.375236</td>\n",
       "    </tr>\n",
       "    <tr>\n",
       "      <th>4</th>\n",
       "      <td>0.612191</td>\n",
       "      <td>0.544338</td>\n",
       "      <td>0.852306</td>\n",
       "      <td>0.766323</td>\n",
       "      <td>0.514023</td>\n",
       "      <td>0.635181</td>\n",
       "      <td>0.619355</td>\n",
       "      <td>0.404989</td>\n",
       "    </tr>\n",
       "    <tr>\n",
       "      <th>...</th>\n",
       "      <td>...</td>\n",
       "      <td>...</td>\n",
       "      <td>...</td>\n",
       "      <td>...</td>\n",
       "      <td>...</td>\n",
       "      <td>...</td>\n",
       "      <td>...</td>\n",
       "      <td>...</td>\n",
       "    </tr>\n",
       "    <tr>\n",
       "      <th>8365</th>\n",
       "      <td>0.593302</td>\n",
       "      <td>0.446485</td>\n",
       "      <td>0.741122</td>\n",
       "      <td>0.674863</td>\n",
       "      <td>0.550987</td>\n",
       "      <td>0.194401</td>\n",
       "      <td>0.583356</td>\n",
       "      <td>0.649220</td>\n",
       "    </tr>\n",
       "    <tr>\n",
       "      <th>8366</th>\n",
       "      <td>0.585727</td>\n",
       "      <td>0.443649</td>\n",
       "      <td>0.738294</td>\n",
       "      <td>0.688205</td>\n",
       "      <td>0.539156</td>\n",
       "      <td>0.203137</td>\n",
       "      <td>0.576748</td>\n",
       "      <td>0.704463</td>\n",
       "    </tr>\n",
       "    <tr>\n",
       "      <th>8367</th>\n",
       "      <td>0.581969</td>\n",
       "      <td>0.438761</td>\n",
       "      <td>0.736058</td>\n",
       "      <td>0.705501</td>\n",
       "      <td>0.522961</td>\n",
       "      <td>0.221439</td>\n",
       "      <td>0.577187</td>\n",
       "      <td>0.760367</td>\n",
       "    </tr>\n",
       "    <tr>\n",
       "      <th>8368</th>\n",
       "      <td>0.581262</td>\n",
       "      <td>0.432586</td>\n",
       "      <td>0.734603</td>\n",
       "      <td>0.725774</td>\n",
       "      <td>0.506165</td>\n",
       "      <td>0.259560</td>\n",
       "      <td>0.586223</td>\n",
       "      <td>0.765773</td>\n",
       "    </tr>\n",
       "    <tr>\n",
       "      <th>8369</th>\n",
       "      <td>0.581061</td>\n",
       "      <td>0.423985</td>\n",
       "      <td>0.734216</td>\n",
       "      <td>0.746868</td>\n",
       "      <td>0.490494</td>\n",
       "      <td>0.313516</td>\n",
       "      <td>0.599852</td>\n",
       "      <td>0.744233</td>\n",
       "    </tr>\n",
       "  </tbody>\n",
       "</table>\n",
       "<p>8370 rows × 8 columns</p>\n",
       "</div>"
      ],
      "text/plain": [
       "          wind       rat    cenlat    cenlon      size      ephi       gph  \\\n",
       "0     0.598728  0.479457  0.833525  0.644826  0.476586  0.329934  0.685088   \n",
       "1     0.603299  0.473327  0.836757  0.652509  0.484985  0.412879  0.668491   \n",
       "2     0.606463  0.484023  0.840236  0.680402  0.494653  0.494592  0.653260   \n",
       "3     0.609500  0.508195  0.845303  0.716699  0.504882  0.570149  0.634099   \n",
       "4     0.612191  0.544338  0.852306  0.766323  0.514023  0.635181  0.619355   \n",
       "...        ...       ...       ...       ...       ...       ...       ...   \n",
       "8365  0.593302  0.446485  0.741122  0.674863  0.550987  0.194401  0.583356   \n",
       "8366  0.585727  0.443649  0.738294  0.688205  0.539156  0.203137  0.576748   \n",
       "8367  0.581969  0.438761  0.736058  0.705501  0.522961  0.221439  0.577187   \n",
       "8368  0.581262  0.432586  0.734603  0.725774  0.506165  0.259560  0.586223   \n",
       "8369  0.581061  0.423985  0.734216  0.746868  0.490494  0.313516  0.599852   \n",
       "\n",
       "            pv  \n",
       "0     0.344325  \n",
       "1     0.368610  \n",
       "2     0.372181  \n",
       "3     0.375236  \n",
       "4     0.404989  \n",
       "...        ...  \n",
       "8365  0.649220  \n",
       "8366  0.704463  \n",
       "8367  0.760367  \n",
       "8368  0.765773  \n",
       "8369  0.744233  \n",
       "\n",
       "[8370 rows x 8 columns]"
      ]
     },
     "execution_count": 16,
     "metadata": {},
     "output_type": "execute_result"
    }
   ],
   "source": [
    "#convert to pandas dataframe\n",
    "input = pd.DataFrame(inp)\n",
    "#label columns of variables for input data\n",
    "col_names = ['wind','rat','cenlat','cenlon','size','ephi','gph','pv']\n",
    "input.columns = col_names\n",
    "\n",
    "input"
   ]
  },
  {
   "cell_type": "raw",
   "id": "bc719213",
   "metadata": {
    "jupyter": {
     "source_hidden": true
    }
   },
   "source": [
    "sns.heatmap(input.corr(), annot=True) ##heatmap for showing correlation across variables"
   ]
  },
  {
   "cell_type": "markdown",
   "id": "90438b93",
   "metadata": {},
   "source": [
    "### Start Random Forest Model. "
   ]
  },
  {
   "cell_type": "code",
   "execution_count": 17,
   "id": "58d73855",
   "metadata": {},
   "outputs": [],
   "source": [
    "##first ... split data into training/testing ...\n",
    "##this is just taking the first 58 years of data, leaving the remaining 5 for testing\n",
    "X_train = input.iloc[:(52*idx),:]\n",
    "X_test = input.iloc[(52*idx):,:]\n",
    "Y_train = output[:(52*idx)]\n",
    "Y_test = output[(52*idx):]\n",
    "\n",
    "val_subset = (10*idx) #index for subsetting validation data in cross val"
   ]
  },
  {
   "cell_type": "code",
   "execution_count": 18,
   "id": "85eb511b",
   "metadata": {
    "scrolled": true
   },
   "outputs": [
    {
     "data": {
      "text/html": [
       "<div>\n",
       "<style scoped>\n",
       "    .dataframe tbody tr th:only-of-type {\n",
       "        vertical-align: middle;\n",
       "    }\n",
       "\n",
       "    .dataframe tbody tr th {\n",
       "        vertical-align: top;\n",
       "    }\n",
       "\n",
       "    .dataframe thead th {\n",
       "        text-align: right;\n",
       "    }\n",
       "</style>\n",
       "<table border=\"1\" class=\"dataframe\">\n",
       "  <thead>\n",
       "    <tr style=\"text-align: right;\">\n",
       "      <th></th>\n",
       "      <th>wind</th>\n",
       "      <th>rat</th>\n",
       "      <th>cenlat</th>\n",
       "      <th>cenlon</th>\n",
       "      <th>size</th>\n",
       "      <th>ephi</th>\n",
       "      <th>gph</th>\n",
       "      <th>pv</th>\n",
       "    </tr>\n",
       "  </thead>\n",
       "  <tbody>\n",
       "    <tr>\n",
       "      <th>count</th>\n",
       "      <td>7020.000000</td>\n",
       "      <td>7020.000000</td>\n",
       "      <td>7020.000000</td>\n",
       "      <td>7020.000000</td>\n",
       "      <td>7020.000000</td>\n",
       "      <td>7020.000000</td>\n",
       "      <td>7020.000000</td>\n",
       "      <td>7020.000000</td>\n",
       "    </tr>\n",
       "    <tr>\n",
       "      <th>mean</th>\n",
       "      <td>0.589052</td>\n",
       "      <td>0.499740</td>\n",
       "      <td>0.767711</td>\n",
       "      <td>0.532491</td>\n",
       "      <td>0.583454</td>\n",
       "      <td>0.603460</td>\n",
       "      <td>0.448177</td>\n",
       "      <td>0.619660</td>\n",
       "    </tr>\n",
       "    <tr>\n",
       "      <th>std</th>\n",
       "      <td>0.132461</td>\n",
       "      <td>0.098438</td>\n",
       "      <td>0.085492</td>\n",
       "      <td>0.113647</td>\n",
       "      <td>0.177041</td>\n",
       "      <td>0.177495</td>\n",
       "      <td>0.162954</td>\n",
       "      <td>0.123109</td>\n",
       "    </tr>\n",
       "    <tr>\n",
       "      <th>min</th>\n",
       "      <td>0.166639</td>\n",
       "      <td>0.001529</td>\n",
       "      <td>0.035135</td>\n",
       "      <td>0.040957</td>\n",
       "      <td>0.000000</td>\n",
       "      <td>0.000000</td>\n",
       "      <td>0.000000</td>\n",
       "      <td>0.000000</td>\n",
       "    </tr>\n",
       "    <tr>\n",
       "      <th>25%</th>\n",
       "      <td>0.501605</td>\n",
       "      <td>0.438507</td>\n",
       "      <td>0.737741</td>\n",
       "      <td>0.465899</td>\n",
       "      <td>0.475108</td>\n",
       "      <td>0.496063</td>\n",
       "      <td>0.331001</td>\n",
       "      <td>0.541570</td>\n",
       "    </tr>\n",
       "    <tr>\n",
       "      <th>50%</th>\n",
       "      <td>0.592201</td>\n",
       "      <td>0.485577</td>\n",
       "      <td>0.777600</td>\n",
       "      <td>0.540796</td>\n",
       "      <td>0.598637</td>\n",
       "      <td>0.637052</td>\n",
       "      <td>0.440947</td>\n",
       "      <td>0.623602</td>\n",
       "    </tr>\n",
       "    <tr>\n",
       "      <th>75%</th>\n",
       "      <td>0.683671</td>\n",
       "      <td>0.547846</td>\n",
       "      <td>0.812707</td>\n",
       "      <td>0.606676</td>\n",
       "      <td>0.709535</td>\n",
       "      <td>0.735914</td>\n",
       "      <td>0.568498</td>\n",
       "      <td>0.707716</td>\n",
       "    </tr>\n",
       "    <tr>\n",
       "      <th>max</th>\n",
       "      <td>1.000000</td>\n",
       "      <td>0.968115</td>\n",
       "      <td>0.996077</td>\n",
       "      <td>0.921196</td>\n",
       "      <td>1.000000</td>\n",
       "      <td>1.000000</td>\n",
       "      <td>0.885885</td>\n",
       "      <td>1.000000</td>\n",
       "    </tr>\n",
       "  </tbody>\n",
       "</table>\n",
       "</div>"
      ],
      "text/plain": [
       "              wind          rat       cenlat       cenlon         size  \\\n",
       "count  7020.000000  7020.000000  7020.000000  7020.000000  7020.000000   \n",
       "mean      0.589052     0.499740     0.767711     0.532491     0.583454   \n",
       "std       0.132461     0.098438     0.085492     0.113647     0.177041   \n",
       "min       0.166639     0.001529     0.035135     0.040957     0.000000   \n",
       "25%       0.501605     0.438507     0.737741     0.465899     0.475108   \n",
       "50%       0.592201     0.485577     0.777600     0.540796     0.598637   \n",
       "75%       0.683671     0.547846     0.812707     0.606676     0.709535   \n",
       "max       1.000000     0.968115     0.996077     0.921196     1.000000   \n",
       "\n",
       "              ephi          gph           pv  \n",
       "count  7020.000000  7020.000000  7020.000000  \n",
       "mean      0.603460     0.448177     0.619660  \n",
       "std       0.177495     0.162954     0.123109  \n",
       "min       0.000000     0.000000     0.000000  \n",
       "25%       0.496063     0.331001     0.541570  \n",
       "50%       0.637052     0.440947     0.623602  \n",
       "75%       0.735914     0.568498     0.707716  \n",
       "max       1.000000     0.885885     1.000000  "
      ]
     },
     "execution_count": 18,
     "metadata": {},
     "output_type": "execute_result"
    }
   ],
   "source": [
    "X_train.describe()"
   ]
  },
  {
   "cell_type": "code",
   "execution_count": 19,
   "id": "95dac97f",
   "metadata": {},
   "outputs": [],
   "source": [
    "##next are some empty lists, as I love to do lol. \n",
    "n = 100"
   ]
  },
  {
   "cell_type": "code",
   "execution_count": 20,
   "id": "370378ec",
   "metadata": {
    "jupyter": {
     "source_hidden": true
    }
   },
   "outputs": [],
   "source": [
    "#empty lists to save Accuracy\n",
    "acc_reg1_val = []\n",
    "acc_reg1_train = []\n",
    "acc_reg1_test = []\n",
    "\n",
    "##BSS Arrays, all of the skill scores have 200 rows\n",
    "#because that is how many cross-validations I will do for the model\n",
    "BSS_all= np.empty((n,))\n",
    "BSS_val= np.empty((n,))\n",
    "BSS_train= np.empty((n,))\n",
    "BSS_test= np.empty((n,))\n",
    "\n",
    "##RAS and PAS Arrays\n",
    "Prec_all= np.empty((n,2))\n",
    "Rec_all= np.empty((n,2))\n",
    "\n",
    "Prec_val= np.empty((n,2))\n",
    "Rec_val= np.empty((n,2))\n",
    "\n",
    "Prec_train= np.empty((n,2))\n",
    "Rec_train= np.empty((n,2))\n",
    "\n",
    "Prec_test= np.empty((n,2))\n",
    "Rec_test= np.empty((n,2))\n",
    "\n",
    "important = np.empty((n,8))"
   ]
  },
  {
   "cell_type": "code",
   "execution_count": 21,
   "id": "e35d817e",
   "metadata": {
    "jupyter": {
     "source_hidden": true
    }
   },
   "outputs": [],
   "source": [
    "#save probabilities\n",
    "p_test = []\n",
    "p_train = []\n",
    "p_val = []"
   ]
  },
  {
   "cell_type": "code",
   "execution_count": 22,
   "id": "c5031e03",
   "metadata": {},
   "outputs": [],
   "source": [
    "#create initial regressor for rf to do feature selection \n",
    "rf_reg1 = RandomForestClassifier(max_depth=3, n_estimators=400, random_state=42)"
   ]
  },
  {
   "cell_type": "markdown",
   "id": "15a455b3",
   "metadata": {},
   "source": [
    "In order for me to add in the appropriate skill scores, since this is a categorical classification, I had to create separate metrics with one hot encoding to calculate BSS/RAS/PAS. \n",
    "\n",
    "I also had to calculate the daily probability for each categorical classification, which is done in the temperature pre-processing file. "
   ]
  },
  {
   "cell_type": "code",
   "execution_count": 23,
   "id": "22ba2323",
   "metadata": {},
   "outputs": [
    {
     "name": "stderr",
     "output_type": "stream",
     "text": [
      "2025-07-17 15:37:52.811300: I tensorflow/core/util/port.cc:111] oneDNN custom operations are on. You may see slightly different numerical results due to floating-point round-off errors from different computation orders. To turn them off, set the environment variable `TF_ENABLE_ONEDNN_OPTS=0`.\n",
      "2025-07-17 15:37:52.814383: I tensorflow/tsl/cuda/cudart_stub.cc:28] Could not find cuda drivers on your machine, GPU will not be used.\n",
      "2025-07-17 15:37:52.855515: E tensorflow/compiler/xla/stream_executor/cuda/cuda_dnn.cc:9342] Unable to register cuDNN factory: Attempting to register factory for plugin cuDNN when one has already been registered\n",
      "2025-07-17 15:37:52.855542: E tensorflow/compiler/xla/stream_executor/cuda/cuda_fft.cc:609] Unable to register cuFFT factory: Attempting to register factory for plugin cuFFT when one has already been registered\n",
      "2025-07-17 15:37:52.855571: E tensorflow/compiler/xla/stream_executor/cuda/cuda_blas.cc:1518] Unable to register cuBLAS factory: Attempting to register factory for plugin cuBLAS when one has already been registered\n",
      "2025-07-17 15:37:52.863099: I tensorflow/tsl/cuda/cudart_stub.cc:28] Could not find cuda drivers on your machine, GPU will not be used.\n",
      "2025-07-17 15:37:52.863701: I tensorflow/core/platform/cpu_feature_guard.cc:182] This TensorFlow binary is optimized to use available CPU instructions in performance-critical operations.\n",
      "To enable the following instructions: AVX2 AVX512F AVX512_VNNI AVX512_BF16 AVX_VNNI AMX_TILE AMX_INT8 AMX_BF16 FMA, in other operations, rebuild TensorFlow with the appropriate compiler flags.\n"
     ]
    }
   ],
   "source": [
    "##one-hot encoded outputs for the purpose of calculating probabilities\n",
    "import keras\n",
    "Y_all = keras.utils.to_categorical(output)\n",
    "Y_tes = keras.utils.to_categorical(Y_test)\n",
    "X_all = input.values"
   ]
  },
  {
   "cell_type": "code",
   "execution_count": 24,
   "id": "cd65f55a",
   "metadata": {},
   "outputs": [
    {
     "data": {
      "text/plain": [
       "array([[0., 1.],\n",
       "       [0., 1.],\n",
       "       [0., 1.],\n",
       "       ...,\n",
       "       [0., 1.],\n",
       "       [1., 0.],\n",
       "       [0., 1.]], dtype=float32)"
      ]
     },
     "execution_count": 24,
     "metadata": {},
     "output_type": "execute_result"
    }
   ],
   "source": [
    "Y_all"
   ]
  },
  {
   "cell_type": "code",
   "execution_count": null,
   "id": "63df9d1d",
   "metadata": {
    "jupyter": {
     "source_hidden": true
    },
    "scrolled": true
   },
   "outputs": [
    {
     "name": "stdout",
     "output_type": "stream",
     "text": [
      "Cross Val #:0\n",
      "Selected Features: Index(['wind', 'gph'], dtype='object')\n",
      "Cross Val #:1\n",
      "Selected Features: Index(['gph'], dtype='object')\n",
      "Cross Val #:2\n",
      "Selected Features: Index(['wind', 'gph'], dtype='object')\n",
      "Cross Val #:3\n",
      "Selected Features: Index(['wind', 'gph'], dtype='object')\n",
      "Cross Val #:4\n",
      "Selected Features: Index(['wind', 'gph'], dtype='object')\n",
      "Cross Val #:5\n",
      "Selected Features: Index(['wind', 'gph'], dtype='object')\n",
      "Cross Val #:6\n",
      "Selected Features: Index(['gph'], dtype='object')\n",
      "Cross Val #:7\n",
      "Selected Features: Index(['wind', 'gph'], dtype='object')\n",
      "Cross Val #:8\n",
      "Selected Features: Index(['gph'], dtype='object')\n",
      "Cross Val #:9\n",
      "Selected Features: Index(['wind', 'gph'], dtype='object')\n",
      "Cross Val #:10\n",
      "Selected Features: Index(['wind', 'gph'], dtype='object')\n",
      "Cross Val #:11\n",
      "Selected Features: Index(['wind', 'gph'], dtype='object')\n",
      "Cross Val #:12\n",
      "Selected Features: Index(['gph'], dtype='object')\n",
      "Cross Val #:13\n",
      "Selected Features: Index(['wind', 'gph'], dtype='object')\n",
      "Cross Val #:14\n",
      "Selected Features: Index(['gph'], dtype='object')\n",
      "Cross Val #:15\n"
     ]
    }
   ],
   "source": [
    "##make loop for cross validation \n",
    "for l in range(0,n):\n",
    "    print(\"Cross Val #:\"+str(l))\n",
    "    ##randomly choose a fraction of events for validation and training\n",
    "    start = random.randrange(len(X_train.iloc[:,0])-val_subset)\n",
    "    end = start+(val_subset)\n",
    "\n",
    "    climo_test = climo[(52*idx):,:]\n",
    "    climo_tr = climo[:(52*idx),:]\n",
    "    \n",
    "    X_val = input.iloc[start:end,:]\n",
    "    Y_val = output[start:end]\n",
    "    climo_val = climo_tr[start:end,:]\n",
    "    \n",
    "    X_train1 = X_train.iloc[0:start]\n",
    "    Y_train1 = Y_train[0:start]\n",
    "    climo_train1 = climo_tr[0:start,:]\n",
    "    X_train2 = X_train.iloc[end:]\n",
    "    Y_train2 = Y_train[end:]\n",
    "    climo_train2 = climo_tr[end:,:]\n",
    "\n",
    "    ##concatenate all of these\n",
    "    X_tr = pd.concat([X_train1,X_train2], axis = 0)\n",
    "    Y_tr = np.concatenate((Y_train1,Y_train2))\n",
    "    climo_train = np.concatenate((climo_train1,climo_train2))\n",
    "    \n",
    "\n",
    "    #_______________________train the model_______________________________\n",
    "    #train rf\n",
    "    rf_reg1.fit(X_tr, Y_tr)\n",
    "    pred1 = rf_reg1.predict(X_all)\n",
    "    pred2 = rf_reg1.predict_proba(X_all)\n",
    "    \n",
    "    #prediction with validation data\n",
    "    pred_val1 = rf_reg1.predict(X_val)\n",
    "    pred_val2 = rf_reg1.predict_proba(X_val)\n",
    "    p_val.append(pred_val2)\n",
    "    acc_reg1_val.append(accuracy_score(Y_val, pred_val1))\n",
    "    \n",
    "    #prediction with training data\n",
    "    pred_train1 = rf_reg1.predict(X_tr)\n",
    "    pred_train2 = rf_reg1.predict_proba(X_tr)\n",
    "    p_train.append(pred_train2)\n",
    "    acc_reg1_train.append(accuracy_score(Y_tr, pred_train1))\n",
    "\n",
    "    #prediction with testing data\n",
    "    pred_test1 = rf_reg1.predict(X_test)\n",
    "    pred_test2 = rf_reg1.predict_proba(X_test)\n",
    "    p_test.append(pred_test2)\n",
    "    acc_reg1_test.append(accuracy_score(Y_test, pred_test1))\n",
    "   \n",
    "    #_______________________feature selection______________________________\n",
    "    #prepare to show relevant features by actually ... choosing them \n",
    "    selector = SelectFromModel(rf_reg1, threshold=\"mean\", max_features=None)\n",
    "    X_train_selected = selector.transform(X_tr)\n",
    "    X_test_selected = selector.transform(X_test)\n",
    "\n",
    "    #print names of selected features\n",
    "    selected_features = input.columns[selector.get_support()]\n",
    "    print(f'Selected Features: {selected_features}')\n",
    "\n",
    "    importances = rf_reg1.feature_importances_\n",
    "    important[l,:] = importances[:]\n",
    "    \n",
    "    #_______________________statistics calcs_______________________________\n",
    "    pred_class = []\n",
    "    predval_class = []\n",
    "    predtr_class = []\n",
    "    predtest_class = []\n",
    "    \n",
    "    Y_tr2 = keras.utils.to_categorical(Y_tr)\n",
    "    Y_val2 = keras.utils.to_categorical(Y_val)\n",
    "\n",
    "    ##BRIER SKILL SCORE\n",
    "    BSS_all[l] = BSS(Y_all,pred2)\n",
    "    BSS_val[l] = BSS(Y_val2,pred_val2)\n",
    "    BSS_train[l] = BSS(Y_tr2,pred_train2)\n",
    "    BSS_test[l] = BSS(Y_tes,pred_test2) \n",
    "    \n",
    "    ##RECALL ACCURACY SCORE    \n",
    "    RAS(l, Rec_all, climo, Y_all, pred2, pred_class,\n",
    "            climo_val, Rec_val, Y_val2, pred_val2, predval_class,\n",
    "            climo_train, Rec_train, Y_tr2, pred_train2, predtr_class,\n",
    "            climo_test, Rec_test, Y_tes, pred_test2, predtest_class)\n",
    "    ##PRECISION ACCURACY SCORE     \n",
    "    PAS(l, Prec_all, climo, Y_all, pred2, pred_class,\n",
    "            climo_val, Prec_val, Y_val2, pred_val2, predval_class,\n",
    "            climo_train, Prec_train, Y_tr2, pred_train2, predtr_class,\n",
    "            climo_test, Prec_test, Y_tes, pred_test2, predtest_class)"
   ]
  },
  {
   "cell_type": "code",
   "execution_count": null,
   "id": "24c6d2a3",
   "metadata": {},
   "outputs": [],
   "source": [
    "print('###################################################')\n",
    "print(f'Accuracy, Validation: {np.mean(acc_reg1_val) * 100:.2f}%')\n",
    "print(f'Accuracy, Training: {np.mean(acc_reg1_train) * 100:.2f}%')\n",
    "print(f'Accuracy, Testing: {np.mean(acc_reg1_test) * 100:.2f}%')"
   ]
  },
  {
   "cell_type": "code",
   "execution_count": null,
   "id": "532cbb14",
   "metadata": {
    "jupyter": {
     "source_hidden": true
    }
   },
   "outputs": [],
   "source": [
    "#plot\n",
    "fig = plt.figure(figsize=(12,11))\n",
    "font = 16\n",
    "#loop through each member\n",
    "ax1 = plt.subplot(3,1,1)\n",
    "ax2 = plt.subplot(3,1,2)\n",
    "ax3 = plt.subplot(3,1,3)\n",
    "\n",
    "ticks = ['Full', 'Train', 'Val', 'Test'] #set tick numbers for dataset\n",
    "colors = ['lightcyan','indianred']\n",
    "ind = [2, 4, 6, 8]  # the x locations for the groups\n",
    "w = 0.3 #box-plot width\n",
    "labels = ['- Anom', '+ Anom '] #labels of quantiles\n",
    "\n",
    "\n",
    "##begin to go plot by plot ...\n",
    "#each plot has a separate plot function for each lead time. In these, the plots get each quantile plotted. \n",
    "plt.suptitle(\"Stat Scores for Predicting Sign of Canadian Temp Anoms in Full RF Model at 14-days Leadtime\",fontsize = 18) \n",
    "\n",
    "a1_0 = ax1.boxplot(BSS_all[:], positions= [2], widths=w, patch_artist=True)\n",
    "a1_5 = ax1.boxplot(BSS_train[:], positions=[4], widths=w, patch_artist=True)\n",
    "a1_10 = ax1.boxplot(BSS_val[:], positions=[6], widths=w, patch_artist=True)\n",
    "a1_14 = ax1.boxplot(BSS_test[:], positions=[7], widths=w, patch_artist=True)\n",
    "ax1.axhline(0, c='k', ls ='-.')\n",
    "ax1.set_xticks(ind, ticks)\n",
    "#next few lines color the box plot faces\n",
    "for bplot in (a1_0, a1_5, a1_10, a1_14,):\n",
    "    for patch, color in zip(bplot['boxes'], colors):\n",
    "        patch.set_facecolor(color)\n",
    "for patch, label in zip(a1_0['boxes'], labels):\n",
    "    patch.set_label(label)\n",
    "ax1.set_title('BSS for Temperature Region',fontsize = 14)\n",
    "ax1.set_ylim(-0.1,0.5)\n",
    "ax1.set_xlabel('Data Set',fontsize = 14)\n",
    "ax1.set_ylabel('BSS',fontsize = font)\n",
    "ax1.tick_params(axis='both', which='major', labelsize= font)\n",
    "ax1.legend(loc = 'lower right', fontsize = 10)\n",
    "ax1.set_aspect('auto') ;\n",
    "\n",
    "##repeat the process\n",
    "a2_0 = ax2.boxplot([Rec_all[:,0],Rec_all[:,1]], positions= [1.8,2.2], widths=w, patch_artist=True)\n",
    "a2_5 = ax2.boxplot([Rec_train[:,0],Rec_train[:,1]], positions=[3.8,4.2], widths=w, patch_artist=True)\n",
    "a2_10 = ax2.boxplot([Rec_val[:,0],Rec_val[:,1]], positions=[5.8,6.2], widths=w, patch_artist=True)\n",
    "a2_14 = ax2.boxplot([Rec_test[:,0],Rec_test[:,1]], positions=[7.8,8.2], widths=w, patch_artist=True)\n",
    "ax2.axhline(0.5, c='k', ls ='-.')\n",
    "ax2.set_xticks(ind, ticks)\n",
    "for bplot in (a2_0, a2_5, a2_10, a2_14):\n",
    "    for patch, color in zip(bplot['boxes'], colors):\n",
    "        patch.set_facecolor(color)\n",
    "for patch, label in zip(a2_0['boxes'], labels):\n",
    "    patch.set_label(label)\n",
    "#ax2.set_title('RAS for Temperature Region',fontsize = 14)\n",
    "ax2.set_ylim(-0.1,1.1)\n",
    "ax2.tick_params(axis='both', which='major', labelsize= font)\n",
    "ax2.set_ylabel('RAS',fontsize = font)\n",
    "#ax2.set_xlabel('Data Set',fontsize = 14)\n",
    "#ax2.set_ylabel('Brier Skill Score')\n",
    "ax2.legend(loc = 'lower right', fontsize = 14)\n",
    "ax2.set_aspect('auto') ;\n",
    "\n",
    "a3_0 = ax3.boxplot([Prec_all[:,0],Prec_all[:,1]], positions= [1.8,2.2], widths=w, patch_artist=True)\n",
    "a3_5 = ax3.boxplot([Prec_train[:,0],Prec_train[:,1]], positions=[3.8,4.2], widths=w, patch_artist=True)\n",
    "a3_10 = ax3.boxplot([Prec_val[:,0],Prec_val[:,1]], positions=[5.8,6.2], widths=w, patch_artist=True)\n",
    "a3_14 = ax3.boxplot([Prec_test[:,0],Prec_test[:,1]], positions=[7.8,8.2], widths=w, patch_artist=True)\n",
    "ax3.axhline(0.5, c='k', ls ='-.')\n",
    "ax3.set_xticks(ind, ticks)\n",
    "for bplot in (a3_0, a3_5, a3_10, a3_14):\n",
    "    for patch, color in zip(bplot['boxes'], colors):\n",
    "        patch.set_facecolor(color)\n",
    "for patch, label in zip(a3_0['boxes'], labels):\n",
    "    patch.set_label(label)\n",
    "#ax3.set_title('RAS Well')\n",
    "#ax3.set_title('PAS for Temperature Region',fontsize = 14)\n",
    "ax3.set_ylim(-0.1,1.1)\n",
    "ax3.set_ylabel('PAS',fontsize = font)\n",
    "ax3.set_xlabel('Data Set',fontsize = font)\n",
    "#ax3.set_ylabel('Recall Accuracy Score',fontsize = 14)\n",
    "ax3.tick_params(axis='both', which='major', labelsize= font)\n",
    "ax3.legend(loc = 'lower right', fontsize = 14)\n",
    "ax3.set_aspect('auto') ;\n",
    "\n",
    "plt.tight_layout()\n",
    "#plt.show()\n",
    "plt.savefig(\"./images/FullRF_14days_CanSS.png\", bbox_inches='tight',dpi =150)\n"
   ]
  },
  {
   "cell_type": "code",
   "execution_count": null,
   "id": "f15bff00",
   "metadata": {
    "jupyter": {
     "source_hidden": true
    }
   },
   "outputs": [],
   "source": [
    "p_test = np.array(p_test)\n",
    "p_test = p_test.reshape((len(p_test)*len(p_test[0]),2))\n",
    "\n",
    "p_train = np.array(p_train)\n",
    "p_train = p_train.reshape((len(p_train)*len(p_train[0]),2))\n",
    "\n",
    "p_val= np.array(p_val)\n",
    "p_val = p_val.reshape((len(p_val)*len(p_val[0]),2))\n",
    "\n",
    "bins = np.linspace(0, 1, 37)  #10 bins from 0.4 to 1\n",
    "fs = 11\n",
    "##bin the probabilities\n",
    "counts_neg_train, edges_neg_train = np.histogram(p_train[:,0], bins=bins)\n",
    "counts_pos_train, edges_pos_train = np.histogram(p_train[:,1], bins=bins)\n",
    "\n",
    "counts_neg_val, edges_neg_val = np.histogram(p_val[:,0], bins=bins)\n",
    "counts_pos_val, edges_pos_val = np.histogram(p_val[:,1], bins=bins)\n",
    "\n",
    "counts_neg_test, edges_neg_test = np.histogram(p_test[:,0], bins=bins)\n",
    "counts_pos_test, edges_pos_test = np.histogram(p_test[:,1], bins=bins)\n",
    "\n",
    "\n",
    "fig, axes = plt.subplots(3, 2, figsize=(11,11))\n",
    "ax1, ax2, ax3, ax4, ax5, ax6 = axes.flatten()\n",
    "\n",
    "ax1.bar(edges_neg_train[:-1], counts_neg_train, width=np.diff(edges_neg_train), \n",
    "        edgecolor='black', alpha=0.5, align='edge', color='blue')\n",
    "ax1.set_title('Negative', fontsize=fs+2)\n",
    "ax1.set_xlabel('Probability in Training Data', fontsize=fs+1)\n",
    "ax1.set_ylabel('Count', fontsize=fs+1)\n",
    "\n",
    "ax2.bar(edges_pos_train[:-1], counts_pos_train, width=np.diff(edges_pos_train), \n",
    "        edgecolor='black', alpha=0.5, align='edge', color='orange')\n",
    "ax2.set_title('Positive', fontsize=fs+2)\n",
    "ax2.set_xlabel('Probability in Training Data', fontsize=fs+1)\n",
    "#ax2.set_ylabel('Count')\n",
    "\n",
    "ax3.bar(edges_neg_val[:-1], counts_neg_val, width=np.diff(edges_neg_val), \n",
    "        edgecolor='black', alpha=0.5, align='edge', color='blue')\n",
    "#ax3.set_title('Negative Validation Predictions', fontsize=fs)\n",
    "ax3.set_xlabel('Probability in Validation Data', fontsize=fs+1)\n",
    "ax3.set_ylabel('Count', fontsize=fs+1)\n",
    "\n",
    "ax4.bar(edges_pos_val[:-1], counts_pos_val, width=np.diff(edges_pos_val), \n",
    "        edgecolor='black', alpha=0.5, align='edge', color='orange')\n",
    "#ax4.set_title('Positive Validation Predictions', fontsize=fs)\n",
    "ax4.set_xlabel('Probability in Validation Data', fontsize=fs+1)\n",
    "#ax4.set_ylabel('Count')\n",
    "\n",
    "ax5.bar(edges_neg_test[:-1], counts_neg_test, width=np.diff(edges_neg_test), \n",
    "        edgecolor='black', alpha=0.5, align='edge', color='blue')\n",
    "#ax5.set_title('Negative Testing Predictions', fontsize=fs)\n",
    "ax5.set_xlabel('Probability in Testing Data', fontsize=fs+1)\n",
    "ax5.set_ylabel('Count', fontsize=fs+1)\n",
    "\n",
    "ax6.bar(edges_pos_test[:-1], counts_pos_test, width=np.diff(edges_pos_test), \n",
    "        edgecolor='black', alpha=0.5, align='edge', color='orange')\n",
    "#ax6.set_title('Positive Testing Predictions', fontsize=fs)\n",
    "ax6.set_xlabel('Probability in Testing Data', fontsize=fs+1)\n",
    "#ax6.set_ylabel('Count')\n",
    "\n",
    "plt.suptitle(\"Probability Distributions of Various Datasets Across 100 CVs for Predicting +14 day Canadian Temp Anomalies, FM\", fontsize=fs+4, x=0.525,y=0.99)\n",
    "plt.tight_layout()\n",
    "plt.savefig(\"./images/CanRF_probdistrib_14days.png\",bbox_inches = 'tight')"
   ]
  },
  {
   "cell_type": "code",
   "execution_count": null,
   "id": "3a211287",
   "metadata": {
    "jupyter": {
     "source_hidden": true
    }
   },
   "outputs": [],
   "source": [
    "#take average across all feature importance values by cross validation\n",
    "imp = np.nanmean(important, axis = 0)\n",
    "imp.shape"
   ]
  },
  {
   "cell_type": "code",
   "execution_count": null,
   "id": "2cdb3562",
   "metadata": {
    "jupyter": {
     "source_hidden": true
    }
   },
   "outputs": [],
   "source": [
    "#plot features by relative importance\n",
    "indices = np.argsort(imp)[::-1]  #sort by importance\n",
    "c = [\"navy\",\"royalblue\",\"slateblue\",\"blueviolet\",\"darkviolet\",\"purple\",\"mediumvioletred\",\"magenta\"]\n",
    "\n",
    "plt.figure(figsize=(9, 6))\n",
    "plt.title(\"Average Feature Importances Across 100 CVs, Canada 14\",fontsize =18)\n",
    "plt.barh(range(input.shape[1]), imp[indices], align=\"center\", color = c)\n",
    "plt.yticks(range(input.shape[1]), input.columns[indices],fontsize =14)\n",
    "plt.xticks(fontsize =14)\n",
    "plt.xlabel(\"Relative Importance\",fontsize =16)\n",
    "plt.gca().invert_yaxis()\n",
    "plt.savefig(\"./images/CanRF_FeatureImportance_14days.png\",bbox_inches = 'tight')"
   ]
  },
  {
   "cell_type": "markdown",
   "id": "7a935f75",
   "metadata": {},
   "source": [
    "### Switch over to the reduced model. "
   ]
  },
  {
   "cell_type": "code",
   "execution_count": 31,
   "id": "d76d365c",
   "metadata": {},
   "outputs": [],
   "source": [
    "##change pandas dataframe to choose top 3 important features only\n",
    "input2 = input[['pv', \"wind\", \"cenlat\",\"gph\"]]\n",
    "#input2 = input"
   ]
  },
  {
   "cell_type": "code",
   "execution_count": 32,
   "id": "00cad537",
   "metadata": {
    "jupyter": {
     "source_hidden": true
    }
   },
   "outputs": [],
   "source": [
    "#AGAIN, empty lists \n",
    "n = 100\n",
    "#empty lists to save Accuracy\n",
    "acc_reg2_val = []\n",
    "acc_reg2_train = []\n",
    "acc_reg2_test = []\n",
    "\n",
    "##BSS Arrays\n",
    "##BSS Arrays, all of the skill scores have 200 rows\n",
    "#because that is how many cross-validations I will do for the model\n",
    "BSS_all= np.empty((n,))\n",
    "BSS_val= np.empty((n,))\n",
    "BSS_train= np.empty((n,))\n",
    "BSS_test= np.empty((n,))\n",
    "\n",
    "##RAS and PAS Arrays\n",
    "Prec_all= np.empty((n,2))\n",
    "Rec_all= np.empty((n,2))\n",
    "\n",
    "Prec_val= np.empty((n,2))\n",
    "Rec_val= np.empty((n,2))\n",
    "\n",
    "Prec_train= np.empty((n,2))\n",
    "Rec_train= np.empty((n,2))\n",
    "\n",
    "Prec_test= np.empty((n,2))\n",
    "Rec_test= np.empty((n,2))\n",
    "\n",
    "important = np.empty((n,8))\n",
    "\n",
    "#save PREDICTIONS\n",
    "test90_acc = []\n",
    "##full model\n",
    "fulltest_acc = []\n",
    "\n",
    "##correct positive\n",
    "posXtest = []\n",
    "#false positive\n",
    "FposXtest = []\n",
    "#correct negative\n",
    "negXtest = []\n",
    "#false negative\n",
    "FnegXtest = []\n",
    "\n",
    "indexes = []\n",
    "\n",
    "##correct positive\n",
    "percpos = []\n",
    "#false positive\n",
    "percFpos = []\n",
    "#correct negative\n",
    "percneg = []\n",
    "#false negative\n",
    "percFneg = []\n",
    "\n",
    "#save probabilities\n",
    "p_test = []\n",
    "p_train = []\n",
    "p_val = []"
   ]
  },
  {
   "cell_type": "code",
   "execution_count": 33,
   "id": "6224fe36",
   "metadata": {},
   "outputs": [],
   "source": [
    "##first ... split data into training/testing ...\n",
    "##this is just taking the first 58 years of data, leaving the remaining 5 for testing\n",
    "X_train = input2.iloc[:(52*idx),:]\n",
    "X_test = input2.iloc[(52*idx):,:]\n",
    "Y_train = output[:(52*idx)]\n",
    "Y_test = output[(52*idx):]\n",
    "\n",
    "val_subset = (10*idx) #index for subsetting validation data in cross val"
   ]
  },
  {
   "cell_type": "code",
   "execution_count": 34,
   "id": "ef356160",
   "metadata": {},
   "outputs": [],
   "source": [
    "##definition statement for ACC\n",
    "def calculate_accuracy(y_true, y_prob, threshold=0.5):\n",
    "    y_pred = (y_prob >= threshold).astype(int)\n",
    "    return np.mean(y_true == y_pred)"
   ]
  },
  {
   "cell_type": "code",
   "execution_count": 35,
   "id": "b954d258",
   "metadata": {},
   "outputs": [],
   "source": [
    "Y_all = keras.utils.to_categorical(output)\n",
    "Y_tes = keras.utils.to_categorical(Y_test)\n",
    "X_all = input2.values"
   ]
  },
  {
   "cell_type": "code",
   "execution_count": 36,
   "id": "56ba2c31",
   "metadata": {},
   "outputs": [],
   "source": [
    "#second random forest model with selected features only\n",
    "rf_reg2 = RandomForestClassifier(max_depth=3, n_estimators=400, random_state=42)"
   ]
  },
  {
   "cell_type": "code",
   "execution_count": 37,
   "id": "7f4d21c8",
   "metadata": {
    "jupyter": {
     "source_hidden": true
    },
    "scrolled": true
   },
   "outputs": [
    {
     "name": "stdout",
     "output_type": "stream",
     "text": [
      "Cross Val #:0\n",
      "Cross Val #:1\n",
      "Cross Val #:2\n",
      "Cross Val #:3\n",
      "Cross Val #:4\n",
      "Cross Val #:5\n",
      "Cross Val #:6\n",
      "Cross Val #:7\n",
      "Cross Val #:8\n",
      "Cross Val #:9\n",
      "Cross Val #:10\n",
      "Cross Val #:11\n",
      "Cross Val #:12\n",
      "Cross Val #:13\n",
      "Cross Val #:14\n",
      "Cross Val #:15\n",
      "Cross Val #:16\n",
      "Cross Val #:17\n",
      "Cross Val #:18\n",
      "Cross Val #:19\n",
      "Cross Val #:20\n",
      "Cross Val #:21\n",
      "Cross Val #:22\n",
      "Cross Val #:23\n",
      "Cross Val #:24\n",
      "Cross Val #:25\n",
      "Cross Val #:26\n",
      "Cross Val #:27\n",
      "Cross Val #:28\n",
      "Cross Val #:29\n",
      "Cross Val #:30\n",
      "Cross Val #:31\n",
      "Cross Val #:32\n",
      "Cross Val #:33\n",
      "Cross Val #:34\n",
      "Cross Val #:35\n",
      "Cross Val #:36\n",
      "Cross Val #:37\n",
      "Cross Val #:38\n",
      "Cross Val #:39\n",
      "Cross Val #:40\n",
      "Cross Val #:41\n",
      "Cross Val #:42\n",
      "Cross Val #:43\n",
      "Cross Val #:44\n",
      "Cross Val #:45\n",
      "Cross Val #:46\n",
      "Cross Val #:47\n",
      "Cross Val #:48\n",
      "Cross Val #:49\n",
      "Cross Val #:50\n",
      "Cross Val #:51\n",
      "Cross Val #:52\n",
      "Cross Val #:53\n",
      "Cross Val #:54\n",
      "Cross Val #:55\n",
      "Cross Val #:56\n",
      "Cross Val #:57\n",
      "Cross Val #:58\n",
      "Cross Val #:59\n",
      "Cross Val #:60\n",
      "Cross Val #:61\n",
      "Cross Val #:62\n",
      "Cross Val #:63\n",
      "Cross Val #:64\n",
      "Cross Val #:65\n",
      "Cross Val #:66\n",
      "Cross Val #:67\n",
      "Cross Val #:68\n",
      "Cross Val #:69\n",
      "Cross Val #:70\n",
      "Cross Val #:71\n",
      "Cross Val #:72\n",
      "Cross Val #:73\n",
      "Cross Val #:74\n",
      "Cross Val #:75\n",
      "Cross Val #:76\n",
      "Cross Val #:77\n",
      "Cross Val #:78\n",
      "Cross Val #:79\n",
      "Cross Val #:80\n",
      "Cross Val #:81\n",
      "Cross Val #:82\n",
      "Cross Val #:83\n",
      "Cross Val #:84\n",
      "Cross Val #:85\n",
      "Cross Val #:86\n",
      "Cross Val #:87\n",
      "Cross Val #:88\n",
      "Cross Val #:89\n",
      "Cross Val #:90\n",
      "Cross Val #:91\n",
      "Cross Val #:92\n",
      "Cross Val #:93\n",
      "Cross Val #:94\n",
      "Cross Val #:95\n",
      "Cross Val #:96\n",
      "Cross Val #:97\n",
      "Cross Val #:98\n",
      "Cross Val #:99\n"
     ]
    }
   ],
   "source": [
    "##make loop for cross validation \n",
    "for l in range(0,n):\n",
    "    print(\"Cross Val #:\"+str(l))\n",
    "    ##randomly choose a fraction of events for validation and training\n",
    "    start = random.randrange(len(X_train.iloc[:,0])-val_subset)\n",
    "    end = start+(val_subset)\n",
    "\n",
    "    climo_test = climo[(52*idx):,:]\n",
    "    climo_tr = climo[:(52*idx),:]\n",
    "    \n",
    "    X_val = input2.iloc[start:end,:]\n",
    "    Y_val = output[start:end]\n",
    "    climo_val = climo_tr[start:end,:]\n",
    "    \n",
    "    X_train1 = X_train.iloc[0:start]\n",
    "    Y_train1 = Y_train[0:start]\n",
    "    climo_train1 = climo_tr[0:start,:]\n",
    "    X_train2 = X_train.iloc[end:]\n",
    "    Y_train2 = Y_train[end:]\n",
    "    climo_train2 = climo_tr[end:,:]\n",
    "\n",
    "    ##concatenate all of these\n",
    "    X_tr = pd.concat([X_train1,X_train2], axis = 0)\n",
    "    Y_tr = np.concatenate((Y_train1,Y_train2))\n",
    "    climo_train = np.concatenate((climo_train1,climo_train2))\n",
    "    \n",
    "    \n",
    "    #_______________________train the model_______________________________\n",
    "    #train rf\n",
    "    rf_reg2.fit(X_tr, Y_tr)\n",
    "    pred1 = rf_reg2.predict(X_all)\n",
    "    pred2 = rf_reg2.predict_proba(X_all)\n",
    "    \n",
    "    #prediction with validation data\n",
    "    pred_val1 = rf_reg2.predict(X_val)\n",
    "    pred_val2 = rf_reg2.predict_proba(X_val)\n",
    "    p_val.append(pred_val2)\n",
    "    acc_reg2_val.append(accuracy_score(Y_val, pred_val1))\n",
    "    \n",
    "    #prediction with training data\n",
    "    pred_train1 = rf_reg2.predict(X_tr)\n",
    "    pred_train2 = rf_reg2.predict_proba(X_tr)\n",
    "    p_train.append(pred_train2)\n",
    "    acc_reg2_train.append(accuracy_score(Y_tr, pred_train1))\n",
    "\n",
    "    #prediction with testing data\n",
    "    pred_test1 = rf_reg2.predict(X_test)\n",
    "    pred_test2 = rf_reg2.predict_proba(X_test)\n",
    "    p_test.append(pred_test2)\n",
    "    acc_reg2_test.append(accuracy_score(Y_test, pred_test1))\n",
    "    \n",
    "    #_______________________statistics calcs_______________________________\n",
    "    pred_class = []\n",
    "    predval_class = []\n",
    "    predtr_class = []\n",
    "    predtest_class = []\n",
    "\n",
    "    Y_tr2 = keras.utils.to_categorical(Y_tr)\n",
    "    Y_val2 = keras.utils.to_categorical(Y_val)\n",
    "\n",
    "    ##BRIER SKILL SCORE\n",
    "    BSS_all[l] = BSS(Y_all,pred2)\n",
    "    BSS_val[l] = BSS(Y_val2,pred_val2)\n",
    "    BSS_train[l] = BSS(Y_tr2,pred_train2)\n",
    "    BSS_test[l] = BSS(Y_tes,pred_test2) \n",
    "    \n",
    "    ##RECALL ACCURACY SCORE    \n",
    "    RAS(l, Rec_all, climo, Y_all, pred2, pred_class,\n",
    "            climo_val, Rec_val, Y_val2, pred_val2, predval_class,\n",
    "            climo_train, Rec_train, Y_tr2, pred_train2, predtr_class,\n",
    "            climo_test, Rec_test, Y_tes, pred_test2, predtest_class)\n",
    "    ##PRECISION ACCURACY SCORE     \n",
    "    PAS(l, Prec_all, climo, Y_all, pred2, pred_class,\n",
    "            climo_val, Prec_val, Y_val2, pred_val2, predval_class,\n",
    "            climo_train, Prec_train, Y_tr2, pred_train2, predtr_class,\n",
    "            climo_test, Prec_test, Y_tes, pred_test2, predtest_class)\n",
    "    \n",
    "    #___________________________Higher confidence samples_______________________\n",
    "\n",
    "    q90 = np.percentile(pred_test2,90,axis=0) ##90th percentile of test\n",
    "    ##90th percentile acc\n",
    "    great90 = [i for i, row in enumerate(pred_test2) if (row[0] > q90[0]) or (row[1] > q90[1])]\n",
    "    # Create the arrays of probabilities and actual values that exceed the 90th percentile\n",
    "    test90 = pred_test2[great90]\n",
    "    test90_norm = Y_tes[great90]\n",
    "    test90_acc.append(calculate_accuracy(test90_norm, test90, threshold=0.5))\n",
    "    ##full model\n",
    "    fulltest_acc.append(calculate_accuracy(Y_tes, pred_test2, threshold=0.5))\n",
    "\n",
    "    ##classify the accuracy of predicitons\n",
    "    correct_pos = [] #correct positive anomaly\n",
    "    correct_neg = [] #correct negative anomaly\n",
    "    \n",
    "    false_pos = [] #false positive\n",
    "    false_neg = [] #false negative\n",
    "\n",
    "    indexes.extend(great90)\n",
    "    for j in range(len(great90)):\n",
    "        #print(j)\n",
    "        #print(great90[j])\n",
    "        index = great90[j]\n",
    "        if pred_test2[index,0] < pred_test2[index,1] and Y_tes[index,0] == 0:\n",
    "            correct_pos.append(index)\n",
    "            #print('###########')\n",
    "        elif pred_test2[index,0] > pred_test2[index,1] and Y_tes[index,0] == 1:\n",
    "            correct_neg.append(index)\n",
    "            #print('###########')\n",
    "        elif pred_test2[index,0] < pred_test2[index,1] and Y_tes[index,0] == 1:\n",
    "            false_neg.append(index)\n",
    "            #print('###########')\n",
    "        elif pred_test2[index,0] > pred_test2[index,1] and Y_tes[index,0] == 0:\n",
    "            false_pos.append(index)\n",
    "            #print('###########')\n",
    "\n",
    "    ##correct positive\n",
    "    posXtest.extend(correct_pos)\n",
    "    #false positive\n",
    "    FposXtest.extend(false_pos)\n",
    "    #correct negative\n",
    "    negXtest.extend(correct_neg)\n",
    "    #false negative\n",
    "    FnegXtest.extend(false_neg)\n",
    "    \n",
    "    percpos.append(len(correct_pos)/len(great90))\n",
    "    #false positive\n",
    "    percFpos.append(len(false_pos)/len(great90))\n",
    "    #correct negative\n",
    "    percneg.append(len(correct_neg)/len(great90))\n",
    "    #false negative\n",
    "    percFneg.append(len(false_neg)/len(great90))\n",
    "\n"
   ]
  },
  {
   "cell_type": "code",
   "execution_count": 38,
   "id": "8f90a925",
   "metadata": {},
   "outputs": [
    {
     "name": "stdout",
     "output_type": "stream",
     "text": [
      "###################################################\n",
      "Accuracy, Validation: 70.28%\n",
      "Accuracy, Training: 72.22%\n",
      "Accuracy, Testing: 72.84%\n"
     ]
    }
   ],
   "source": [
    "print('###################################################')\n",
    "print(f'Accuracy, Validation: {np.mean(acc_reg2_val) * 100:.2f}%')\n",
    "print(f'Accuracy, Training: {np.mean(acc_reg2_train) * 100:.2f}%')\n",
    "print(f'Accuracy, Testing: {np.mean(acc_reg2_test) * 100:.2f}%')"
   ]
  },
  {
   "cell_type": "code",
   "execution_count": 39,
   "id": "2525120a",
   "metadata": {
    "jupyter": {
     "source_hidden": true
    }
   },
   "outputs": [
    {
     "data": {
      "image/png": "[encoded data removed]",
      "text/plain": [
       "<Figure size 1200x1100 with 3 Axes>"
      ]
     },
     "metadata": {},
     "output_type": "display_data"
    }
   ],
   "source": [
    "#plot\n",
    "fig = plt.figure(figsize=(12,11))\n",
    "font = 16\n",
    "#loop through each member\n",
    "ax1 = plt.subplot(3,1,1)\n",
    "ax2 = plt.subplot(3,1,2)\n",
    "ax3 = plt.subplot(3,1,3)\n",
    "\n",
    "ticks = ['Full', 'Train', 'Val', 'Test'] #set tick numbers for dataset\n",
    "colors = ['lightcyan','indianred']\n",
    "ind = [2, 4, 6, 8]  # the x locations for the groups\n",
    "w = 0.3 #box-plot width\n",
    "labels = ['- Anom', '+ Anom '] #labels of quantiles\n",
    "\n",
    "\n",
    "##begin to go plot by plot ...\n",
    "#each plot has a separate plot function for each lead time. In these, the plots get each quantile plotted. \n",
    "plt.suptitle(\"Stat Scores for Predicting Sign of Canadian Temp Anoms in Reduced RF Model at 14-days Leadtime\",fontsize = 18) \n",
    "\n",
    "a1_0 = ax1.boxplot(BSS_all[:], positions= [2], widths=w, patch_artist=True)\n",
    "a1_5 = ax1.boxplot(BSS_train[:], positions=[4], widths=w, patch_artist=True)\n",
    "a1_10 = ax1.boxplot(BSS_val[:], positions=[6], widths=w, patch_artist=True)\n",
    "a1_14 = ax1.boxplot(BSS_test[:], positions=[7], widths=w, patch_artist=True)\n",
    "ax1.axhline(0, c='k', ls ='-.')\n",
    "ax1.set_xticks(ind, ticks)\n",
    "#next few lines color the box plot faces\n",
    "for bplot in (a1_0, a1_5, a1_10, a1_14,):\n",
    "    for patch, color in zip(bplot['boxes'], colors):\n",
    "        patch.set_facecolor(color)\n",
    "#for patch, label in zip(a1_0['boxes'], labels):\n",
    "    #patch.set_label(label)\n",
    "ax1.set_title('BSS for Temperature Region',fontsize = 14)\n",
    "ax1.set_ylim(-0.1,0.5)\n",
    "ax1.set_xlabel('Data Set',fontsize = 14)\n",
    "ax1.set_ylabel('BSS',fontsize = font)\n",
    "ax1.tick_params(axis='both', which='major', labelsize= font)\n",
    "ax1.legend(loc = 'lower right', fontsize = 10)\n",
    "ax1.set_aspect('auto') ;\n",
    "\n",
    "##repeat the process\n",
    "a2_0 = ax2.boxplot([Rec_all[:,0],Rec_all[:,1]], positions= [1.8,2.2], widths=w, patch_artist=True)\n",
    "a2_5 = ax2.boxplot([Rec_train[:,0],Rec_train[:,1]], positions=[3.8,4.2], widths=w, patch_artist=True)\n",
    "a2_10 = ax2.boxplot([Rec_val[:,0],Rec_val[:,1]], positions=[5.8,6.2], widths=w, patch_artist=True)\n",
    "a2_14 = ax2.boxplot([Rec_test[:,0],Rec_test[:,1]], positions=[7.8,8.2], widths=w, patch_artist=True)\n",
    "ax2.axhline(0.5, c='k', ls ='-.')\n",
    "ax2.set_xticks(ind, ticks)\n",
    "for bplot in (a2_0, a2_5, a2_10, a2_14):\n",
    "    for patch, color in zip(bplot['boxes'], colors):\n",
    "        patch.set_facecolor(color)\n",
    "for patch, label in zip(a2_0['boxes'], labels):\n",
    "    patch.set_label(label)\n",
    "#ax2.set_title('RAS for Temperature Region',fontsize = 14)\n",
    "ax2.set_ylim(-0.1,1.1)\n",
    "ax2.tick_params(axis='both', which='major', labelsize= font)\n",
    "ax2.set_ylabel('RAS',fontsize = font)\n",
    "#ax2.set_xlabel('Data Set',fontsize = 14)\n",
    "#ax2.set_ylabel('Brier Skill Score')\n",
    "ax2.legend(loc = 'lower right', fontsize = 14)\n",
    "ax2.set_aspect('auto') ;\n",
    "\n",
    "a3_0 = ax3.boxplot([Prec_all[:,0],Prec_all[:,1]], positions= [1.8,2.2], widths=w, patch_artist=True)\n",
    "a3_5 = ax3.boxplot([Prec_train[:,0],Prec_train[:,1]], positions=[3.8,4.2], widths=w, patch_artist=True)\n",
    "a3_10 = ax3.boxplot([Prec_val[:,0],Prec_val[:,1]], positions=[5.8,6.2], widths=w, patch_artist=True)\n",
    "a3_14 = ax3.boxplot([Prec_test[:,0],Prec_test[:,1]], positions=[7.8,8.2], widths=w, patch_artist=True)\n",
    "ax3.axhline(0.5, c='k', ls ='-.')\n",
    "ax3.set_xticks(ind, ticks)\n",
    "for bplot in (a3_0, a3_5, a3_10, a3_14):\n",
    "    for patch, color in zip(bplot['boxes'], colors):\n",
    "        patch.set_facecolor(color)\n",
    "for patch, label in zip(a3_0['boxes'], labels):\n",
    "    patch.set_label(label)\n",
    "#ax3.set_title('RAS Well')\n",
    "#ax3.set_title('PAS for Temperature Region',fontsize = 14)\n",
    "ax3.set_ylim(-0.1,1.1)\n",
    "ax3.set_ylabel('PAS',fontsize = font)\n",
    "ax3.set_xlabel('Data Set',fontsize = font)\n",
    "#ax3.set_ylabel('Recall Accuracy Score',fontsize = 14)\n",
    "ax3.tick_params(axis='both', which='major', labelsize= font)\n",
    "ax3.legend(loc = 'lower right', fontsize = 14)\n",
    "ax3.set_aspect('auto') ;\n",
    "\n",
    "plt.tight_layout()\n",
    "#plt.show()\n",
    "plt.savefig(\"./images/RedRF_14days_CanSS.png\", bbox_inches='tight',dpi =150)\n"
   ]
  },
  {
   "cell_type": "code",
   "execution_count": 40,
   "id": "9f2bd237",
   "metadata": {
    "jupyter": {
     "source_hidden": true
    }
   },
   "outputs": [
    {
     "data": {
      "image/png": "[encoded data removed]",
      "text/plain": [
       "<Figure size 1100x1100 with 6 Axes>"
      ]
     },
     "metadata": {},
     "output_type": "display_data"
    }
   ],
   "source": [
    "p_test = np.array(p_test)\n",
    "p_test = p_test.reshape((len(p_test)*len(p_test[0]),2))\n",
    "\n",
    "p_train = np.array(p_train)\n",
    "p_train = p_train.reshape((len(p_train)*len(p_train[0]),2))\n",
    "\n",
    "p_val= np.array(p_val)\n",
    "p_val = p_val.reshape((len(p_val)*len(p_val[0]),2))\n",
    "\n",
    "bins = np.linspace(0, 1, 37)  #10 bins from 0.4 to 1\n",
    "fs = 11\n",
    "##bin the probabilities\n",
    "counts_neg_train, edges_neg_train = np.histogram(p_train[:,0], bins=bins)\n",
    "counts_pos_train, edges_pos_train = np.histogram(p_train[:,1], bins=bins)\n",
    "\n",
    "counts_neg_val, edges_neg_val = np.histogram(p_val[:,0], bins=bins)\n",
    "counts_pos_val, edges_pos_val = np.histogram(p_val[:,1], bins=bins)\n",
    "\n",
    "counts_neg_test, edges_neg_test = np.histogram(p_test[:,0], bins=bins)\n",
    "counts_pos_test, edges_pos_test = np.histogram(p_test[:,1], bins=bins)\n",
    "\n",
    "\n",
    "fig, axes = plt.subplots(3, 2, figsize=(11,11))\n",
    "ax1, ax2, ax3, ax4, ax5, ax6 = axes.flatten()\n",
    "\n",
    "ax1.bar(edges_neg_train[:-1], counts_neg_train, width=np.diff(edges_neg_train), \n",
    "        edgecolor='black', alpha=0.5, align='edge', color='blue')\n",
    "ax1.set_title('Negative', fontsize=fs+2)\n",
    "ax1.set_xlabel('Probability in Training Data', fontsize=fs+1)\n",
    "ax1.set_ylabel('Count', fontsize=fs+1)\n",
    "\n",
    "ax2.bar(edges_pos_train[:-1], counts_pos_train, width=np.diff(edges_pos_train), \n",
    "        edgecolor='black', alpha=0.5, align='edge', color='orange')\n",
    "ax2.set_title('Positive', fontsize=fs+2)\n",
    "ax2.set_xlabel('Probability in Training Data', fontsize=fs+1)\n",
    "#ax2.set_ylabel('Count')\n",
    "\n",
    "ax3.bar(edges_neg_val[:-1], counts_neg_val, width=np.diff(edges_neg_val), \n",
    "        edgecolor='black', alpha=0.5, align='edge', color='blue')\n",
    "#ax3.set_title('Negative Validation Predictions', fontsize=fs)\n",
    "ax3.set_xlabel('Probability in Validation Data', fontsize=fs+1)\n",
    "ax3.set_ylabel('Count', fontsize=fs+1)\n",
    "\n",
    "ax4.bar(edges_pos_val[:-1], counts_pos_val, width=np.diff(edges_pos_val), \n",
    "        edgecolor='black', alpha=0.5, align='edge', color='orange')\n",
    "#ax4.set_title('Positive Validation Predictions', fontsize=fs)\n",
    "ax4.set_xlabel('Probability in Validation Data', fontsize=fs+1)\n",
    "#ax4.set_ylabel('Count')\n",
    "\n",
    "ax5.bar(edges_neg_test[:-1], counts_neg_test, width=np.diff(edges_neg_test), \n",
    "        edgecolor='black', alpha=0.5, align='edge', color='blue')\n",
    "#ax5.set_title('Negative Testing Predictions', fontsize=fs)\n",
    "ax5.set_xlabel('Probability in Testing Data', fontsize=fs+1)\n",
    "ax5.set_ylabel('Count', fontsize=fs+1)\n",
    "\n",
    "ax6.bar(edges_pos_test[:-1], counts_pos_test, width=np.diff(edges_pos_test), \n",
    "        edgecolor='black', alpha=0.5, align='edge', color='orange')\n",
    "#ax6.set_title('Positive Testing Predictions', fontsize=fs)\n",
    "ax6.set_xlabel('Probability in Testing Data', fontsize=fs+1)\n",
    "#ax6.set_ylabel('Count')\n",
    "\n",
    "plt.suptitle(\"Probability Distributions of Various Datasets Across 100 CVs for Predicting +14 day Canadian Temp Anomalies, RM\", fontsize=fs+4, x=0.525,y=0.99)\n",
    "plt.tight_layout()\n",
    "plt.savefig(\"./images/CanRF_probdistribRM_14days.png\",bbox_inches = 'tight')"
   ]
  },
  {
   "cell_type": "code",
   "execution_count": 41,
   "id": "179a32ec",
   "metadata": {},
   "outputs": [],
   "source": [
    "#try SHAP with this model\n",
    "import shap\n",
    "\n",
    "explainer = shap.TreeExplainer(rf_reg2)"
   ]
  },
  {
   "cell_type": "code",
   "execution_count": 42,
   "id": "f655b762",
   "metadata": {},
   "outputs": [],
   "source": [
    "shap_values = explainer.shap_values(X_test)\n",
    "shap_obj = explainer(X_test)"
   ]
  },
  {
   "cell_type": "code",
   "execution_count": 43,
   "id": "d258bd52",
   "metadata": {},
   "outputs": [
    {
     "data": {
      "text/plain": [
       "(1350, 4, 2)"
      ]
     },
     "execution_count": 43,
     "metadata": {},
     "output_type": "execute_result"
    }
   ],
   "source": [
    "shap_obj.shape"
   ]
  },
  {
   "cell_type": "code",
   "execution_count": 44,
   "id": "cb444667",
   "metadata": {},
   "outputs": [
    {
     "data": {
      "image/png": "[encoded data removed]",
      "text/plain": [
       "<Figure size 800x310 with 2 Axes>"
      ]
     },
     "metadata": {},
     "output_type": "display_data"
    }
   ],
   "source": [
    "plt.title(\"SHAP Values for Negative Canadian Temp Anomalies +14 Days Lead\",fontsize =14, y = 1.05)\n",
    "ax = shap.plots.beeswarm(shap_obj[:,:,0], show = False) ##for negative classifications ... this is physically consistent!\n",
    "#ax.set_xlim(-0.3,0.3)  \n",
    "plt.savefig(\"./images/RFshap_Can_14days.png\",bbox_inches = 'tight')"
   ]
  },
  {
   "cell_type": "raw",
   "id": "3e09f416",
   "metadata": {
    "jupyter": {
     "source_hidden": true
    }
   },
   "source": [
    "plt.title(\"SHAP Values for Classifying Positive Temp Anomalies +14 Days Lead\",fontsize =14, y = 1.05)\n",
    "ax = shap.plots.beeswarm(shap_obj[:,:,1], show = False) ##for positive classifications ... this is physically consistent!\n",
    "#ax.set_xlim(-0.2,0.2)\n",
    "#plt.savefig(\"RFshap_Pos_Pred_14days.png\")"
   ]
  },
  {
   "cell_type": "code",
   "execution_count": 45,
   "id": "7011d01c",
   "metadata": {
    "jupyter": {
     "source_hidden": true
    }
   },
   "outputs": [
    {
     "data": {
      "image/png": "[encoded data removed]",
      "text/plain": [
       "<Figure size 640x480 with 1 Axes>"
      ]
     },
     "metadata": {},
     "output_type": "display_data"
    }
   ],
   "source": [
    "#######bar plot for showing the distribution of confident predictions\n",
    "bins = np.linspace(0.4, 1,13)  # 10 bins from 0.4 to 1\n",
    "##bin the testing 90th percentile accuracy data\n",
    "counts90, edges90 = np.histogram(test90_acc, bins=bins)\n",
    "countsfull, edgesfull = np.histogram(fulltest_acc, bins=bins)\n",
    "# Plot the full dataset\n",
    "#offset = 0.02  # Adjust this value if needed for better visibility\n",
    "plt.bar(edgesfull[:-1], countsfull, width=np.diff(edgesfull), \n",
    "        edgecolor='black', alpha=0.5, label='All Predictions', align='edge', color='blue')\n",
    "# Plot the 90th percentile\n",
    "plt.bar(edges90[:-1], counts90, width=np.diff(edges90), \n",
    "        edgecolor='black', alpha=0.5, label='>90th Percentile Predictions', align='edge', color = 'lightblue')\n",
    "plt.xlabel('Accuracy',fontsize =14)\n",
    "plt.ylabel('Number of Models',fontsize =14)\n",
    "plt.legend()\n",
    "plt.title('Testing Prediction ACC Across 100 RF Models, Canada',fontsize =15)\n",
    "plt.savefig(\"./images/CanRF_PredACCtest_14days.png\",bbox_inches = 'tight')"
   ]
  },
  {
   "cell_type": "code",
   "execution_count": 46,
   "id": "524c7be4",
   "metadata": {},
   "outputs": [],
   "source": [
    "##correct positive\n",
    "posXtest = np.array(posXtest)\n",
    "#false positive\n",
    "FposXtest = np.array(FposXtest)\n",
    "#correct negative\n",
    "negXtest = np.array(negXtest)\n",
    "#false negative\n",
    "FnegXtest = np.array(FnegXtest)\n",
    "\n",
    "indexes = np.array(indexes)"
   ]
  },
  {
   "cell_type": "code",
   "execution_count": 47,
   "id": "f14a7b3d",
   "metadata": {},
   "outputs": [
    {
     "name": "stdout",
     "output_type": "stream",
     "text": [
      "Average Num. of 10% Confident and Correct Postive Predictions: 46.52%\n",
      "Average Num. of 10% Confident and Correct Negative Predictions: 36.55%\n",
      "Average Num. of 10% Confident and FALSE Postive Predictions: 13.45%\n",
      "Average Num. of 10% Confident and FALSE Negative Predictions: 3.49%\n",
      "#######################################################################\n",
      "Average Num. of 10% Confident and Correct Predictions: 83.07%\n",
      "Average Num. of 10% Confident and FALSE Predictions: 16.93%\n"
     ]
    }
   ],
   "source": [
    "print(f'Average Num. of 10% Confident and Correct Postive Predictions: {np.mean(percpos)* 100:.2f}%')\n",
    "print(f'Average Num. of 10% Confident and Correct Negative Predictions: {np.mean(percneg)* 100:.2f}%')\n",
    "print(f'Average Num. of 10% Confident and FALSE Postive Predictions: {np.mean(percFpos)* 100:.2f}%')\n",
    "print(f'Average Num. of 10% Confident and FALSE Negative Predictions: {np.mean(percFneg)* 100:.2f}%')\n",
    "print('#######################################################################')\n",
    "print(f'Average Num. of 10% Confident and Correct Predictions: {np.mean(percpos)* 100 + np.mean(percneg)* 100:.2f}%')\n",
    "print(f'Average Num. of 10% Confident and FALSE Predictions: {np.mean(percFpos)* 100 +np.mean(percFneg)* 100:.2f}%')"
   ]
  },
  {
   "cell_type": "code",
   "execution_count": 48,
   "id": "d59eb63d",
   "metadata": {},
   "outputs": [
    {
     "data": {
      "text/plain": [
       "(5, 149)"
      ]
     },
     "execution_count": 48,
     "metadata": {},
     "output_type": "execute_result"
    }
   ],
   "source": [
    "####now I wanna make these plots SO ... I am adding an index column on to X_test ... full version. \n",
    "X_test = input.iloc[(57*149):,:]\n",
    "ranges = np.array([x for x in range(0,745,1)])\n",
    "ranges = ranges.reshape(5,149) \n",
    "ranges.shape"
   ]
  },
  {
   "cell_type": "code",
   "execution_count": 49,
   "id": "f16e0103",
   "metadata": {},
   "outputs": [
    {
     "data": {
      "text/plain": [
       "array([0, 1, 2, 3, 4, 5, 6, 7, 8, 9])"
      ]
     },
     "execution_count": 49,
     "metadata": {},
     "output_type": "execute_result"
    }
   ],
   "source": [
    "ranges[0,0:10]"
   ]
  },
  {
   "cell_type": "code",
   "execution_count": 50,
   "id": "8f0eb638",
   "metadata": {},
   "outputs": [],
   "source": [
    "##export out files to make the next few plots w/o normalization\n",
    "#pickle.dump(ranges, open(\"range_indices_RF14.p\", 'wb'))\n",
    "pickle.dump(posXtest, open(\"posXtest_can14.p\", 'wb'))\n",
    "pickle.dump(FposXtest, open(\"FposXtest_can14.p\", 'wb'))\n",
    "pickle.dump(negXtest, open(\"negXtest_can14.p\", 'wb'))\n",
    "pickle.dump(FnegXtest, open(\"FnegXtest_can14.p\", 'wb'))"
   ]
  },
  {
   "cell_type": "code",
   "execution_count": null,
   "id": "5522dbe5",
   "metadata": {},
   "outputs": [],
   "source": []
  }
 ],
 "metadata": {
  "kernelspec": {
   "display_name": "Python 3 (ipykernel)",
   "language": "python",
   "name": "python3"
  },
  "language_info": {
   "codemirror_mode": {
    "name": "ipython",
    "version": 3
   },
   "file_extension": ".py",
   "mimetype": "text/x-python",
   "name": "python",
   "nbconvert_exporter": "python",
   "pygments_lexer": "ipython3",
   "version": "3.10.12"
  }
 },
 "nbformat": 4,
 "nbformat_minor": 5
}
