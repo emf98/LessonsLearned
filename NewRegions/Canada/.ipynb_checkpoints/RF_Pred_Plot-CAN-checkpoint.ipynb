{
 "cells": [
  {
   "cell_type": "markdown",
   "id": "6a1357fb",
   "metadata": {},
   "source": [
    "### File for creating \"preceding  metrics\" plots for predictions using the RF model I trained ...\n",
    "## Canada.\n",
    "\n",
    "7/8/2025"
   ]
  },
  {
   "cell_type": "code",
   "execution_count": 1,
   "id": "90430156",
   "metadata": {
    "jupyter": {
     "source_hidden": true
    }
   },
   "outputs": [],
   "source": [
    "#relevant import statements\n",
    "import numpy as np\n",
    "import math\n",
    "import pandas as pd\n",
    "import xarray as xr \n",
    "import pickle \n",
    "import matplotlib.pyplot as plt"
   ]
  },
  {
   "cell_type": "markdown",
   "id": "550d86e4",
   "metadata": {},
   "source": [
    "Open and pre-process ellipse metrics. "
   ]
  },
  {
   "cell_type": "code",
   "execution_count": 2,
   "id": "5fd539c8",
   "metadata": {},
   "outputs": [],
   "source": [
    "##open ellipse metric files\n",
    "infile = open(\"../../data/ellipse/wind10_redo.p\", 'rb') \n",
    "wind10 = pickle.load(infile)\n",
    "infile.close()\n",
    "\n",
    "infile = open(\"../../data/ellipse/size10_redo.p\", 'rb') \n",
    "size10 = pickle.load(infile)\n",
    "infile.close()\n",
    "\n",
    "infile = open(\"../../data/ellipse/ratio10_redo.p\", 'rb') \n",
    "rat10 = pickle.load(infile)\n",
    "infile.close()\n",
    "\n",
    "infile = open(\"../../data/ellipse/ephi10_redo.p\", 'rb') \n",
    "ephi10 = pickle.load(infile)\n",
    "infile.close()\n",
    "\n",
    "infile = open(\"../../data/ellipse/cenlat10_redo.p\", 'rb')\n",
    "cenlat10 = pickle.load(infile)\n",
    "infile.close()\n",
    "\n",
    "infile = open(\"../../data/ellipse/cenlon10_redo.p\", 'rb')\n",
    "cenlon10 = pickle.load(infile)\n",
    "infile.close()\n",
    "\n",
    "infile = open(\"../../data/gph/NA_gph_weightedANOM_100.p\", 'rb') \n",
    "gph = pickle.load(infile)\n",
    "infile.close()\n",
    "\n",
    "infile = open(\"../../data/pv/CAP_pvu_weightedANOM.p\", 'rb') \n",
    "pv = pickle.load(infile)\n",
    "infile.close()"
   ]
  },
  {
   "cell_type": "code",
   "execution_count": 3,
   "id": "2b6e8cff",
   "metadata": {},
   "outputs": [
    {
     "data": {
      "text/plain": [
       "(63, 183)"
      ]
     },
     "execution_count": 3,
     "metadata": {},
     "output_type": "execute_result"
    }
   ],
   "source": [
    "wind10.shape"
   ]
  },
  {
   "cell_type": "code",
   "execution_count": 4,
   "id": "eeb26656",
   "metadata": {},
   "outputs": [],
   "source": [
    "#remove leap year\n",
    "##CHANGE IF NOT EXTENDED DATAQ BACK TO 120\n",
    "wind10 = np.delete(wind10[:62],[151],1)\n",
    "rat10 = np.delete(rat10[:62],[151],1)\n",
    "cenlat10 = np.delete(cenlat10[:62],[151],1)\n",
    "cenlon10 = np.delete(cenlon10[:62],[151],1)\n",
    "size10 = np.delete(size10[:62],[151],1)\n",
    "ephi10 = np.delete(ephi10[:62],[151],1)"
   ]
  },
  {
   "cell_type": "code",
   "execution_count": 5,
   "id": "4a866124",
   "metadata": {},
   "outputs": [
    {
     "data": {
      "text/plain": [
       "(62, 182)"
      ]
     },
     "execution_count": 5,
     "metadata": {},
     "output_type": "execute_result"
    }
   ],
   "source": [
    "wind10.shape"
   ]
  },
  {
   "cell_type": "code",
   "execution_count": 6,
   "id": "daacf922",
   "metadata": {},
   "outputs": [],
   "source": [
    "shift = 14\n",
    "#this is used to change the start date from October 19 to November 2nd... and just reduce the overall time observed.\n",
    "#0 if no change. \n",
    "\n",
    "idx = 135"
   ]
  },
  {
   "cell_type": "code",
   "execution_count": 7,
   "id": "5b60538e",
   "metadata": {},
   "outputs": [],
   "source": [
    "wind10 = wind10[:,19+shift:168]\n",
    "rat10 = rat10[:,19+shift:168]\n",
    "cenlat10 = cenlat10[:,19+shift:168]\n",
    "cenlon10 = cenlon10[:,19+shift:168]\n",
    "size10 = size10[:,19+shift:168]\n",
    "ephi10 = ephi10[:,19+shift:168]\n",
    "gph = gph[:62,19+shift:168]\n",
    "pv = pv[:62,19+shift:168]"
   ]
  },
  {
   "cell_type": "code",
   "execution_count": 8,
   "id": "dc319591",
   "metadata": {
    "scrolled": true
   },
   "outputs": [
    {
     "name": "stdout",
     "output_type": "stream",
     "text": [
      "6\n",
      "124\n",
      "True\n",
      "13\n",
      "112\n",
      "True\n",
      "17\n",
      "71\n",
      "True\n",
      "18\n",
      "95\n",
      "True\n",
      "19\n",
      "127\n",
      "True\n",
      "19\n",
      "128\n",
      "True\n",
      "19\n",
      "129\n",
      "True\n",
      "24\n",
      "127\n",
      "True\n",
      "24\n",
      "128\n",
      "True\n",
      "24\n",
      "129\n",
      "True\n",
      "24\n",
      "130\n",
      "True\n",
      "24\n",
      "131\n",
      "True\n",
      "24\n",
      "132\n",
      "True\n",
      "24\n",
      "133\n",
      "True\n",
      "24\n",
      "134\n",
      "True\n",
      "27\n",
      "109\n",
      "True\n",
      "27\n",
      "110\n",
      "True\n",
      "27\n",
      "111\n",
      "True\n",
      "27\n",
      "112\n",
      "True\n",
      "27\n",
      "113\n",
      "True\n",
      "27\n",
      "114\n",
      "True\n",
      "27\n",
      "115\n",
      "True\n",
      "28\n",
      "133\n",
      "True\n",
      "28\n",
      "134\n",
      "True\n",
      "29\n",
      "118\n",
      "True\n",
      "29\n",
      "127\n",
      "True\n",
      "29\n",
      "128\n",
      "True\n",
      "29\n",
      "129\n",
      "True\n",
      "29\n",
      "130\n",
      "True\n",
      "29\n",
      "131\n",
      "True\n",
      "29\n",
      "132\n",
      "True\n",
      "29\n",
      "133\n",
      "True\n",
      "29\n",
      "134\n",
      "True\n",
      "36\n",
      "132\n",
      "True\n",
      "39\n",
      "121\n",
      "True\n",
      "39\n",
      "122\n",
      "True\n",
      "39\n",
      "123\n",
      "True\n",
      "39\n",
      "124\n",
      "True\n",
      "39\n",
      "125\n",
      "True\n",
      "39\n",
      "126\n",
      "True\n",
      "39\n",
      "127\n",
      "True\n",
      "39\n",
      "128\n",
      "True\n",
      "39\n",
      "129\n",
      "True\n",
      "39\n",
      "130\n",
      "True\n",
      "39\n",
      "131\n",
      "True\n",
      "39\n",
      "132\n",
      "True\n",
      "39\n",
      "133\n",
      "True\n",
      "39\n",
      "134\n",
      "True\n",
      "41\n",
      "107\n",
      "True\n",
      "41\n",
      "108\n",
      "True\n",
      "41\n",
      "109\n",
      "True\n",
      "41\n",
      "110\n",
      "True\n",
      "41\n",
      "111\n",
      "True\n",
      "41\n",
      "112\n",
      "True\n",
      "41\n",
      "113\n",
      "True\n",
      "48\n",
      "134\n",
      "True\n",
      "49\n",
      "89\n",
      "True\n",
      "49\n",
      "94\n",
      "True\n",
      "49\n",
      "95\n",
      "True\n",
      "49\n",
      "96\n",
      "True\n",
      "49\n",
      "97\n",
      "True\n",
      "49\n",
      "98\n",
      "True\n",
      "49\n",
      "99\n",
      "True\n",
      "49\n",
      "100\n",
      "True\n",
      "49\n",
      "101\n",
      "True\n",
      "49\n",
      "102\n",
      "True\n",
      "49\n",
      "103\n",
      "True\n",
      "49\n",
      "104\n",
      "True\n",
      "49\n",
      "105\n",
      "True\n",
      "49\n",
      "106\n",
      "True\n",
      "49\n",
      "107\n",
      "True\n",
      "49\n",
      "108\n",
      "True\n",
      "49\n",
      "109\n",
      "True\n",
      "49\n",
      "110\n",
      "True\n",
      "49\n",
      "111\n",
      "True\n",
      "49\n",
      "112\n",
      "True\n",
      "49\n",
      "113\n",
      "True\n",
      "49\n",
      "114\n",
      "True\n",
      "49\n",
      "115\n",
      "True\n",
      "49\n",
      "116\n",
      "True\n",
      "49\n",
      "117\n",
      "True\n",
      "49\n",
      "118\n",
      "True\n",
      "56\n",
      "134\n",
      "True\n",
      "58\n",
      "114\n",
      "True\n"
     ]
    }
   ],
   "source": [
    "#remove NaNs\n",
    "##CHANGE IF NOT EXTENDED DATA\n",
    "test_comp = []\n",
    "indices = np.isnan(wind10)\n",
    "for i in range(0,62):\n",
    "    for j in range(0,idx):\n",
    "        if indices[i,j] != False:\n",
    "            print(i)\n",
    "            print(j)\n",
    "            print(\"True\")\n",
    "            wind10[i,j] = 0\n",
    "            rat10[i,j] = 0\n",
    "            cenlat10[i,j] = 0\n",
    "            cenlon10[i,j] = 0\n",
    "            size10[i,j] = 0\n",
    "            ephi10[i,j] = 0\n",
    "            if i >= 57:\n",
    "                test_comp.append((i,j))\n",
    "            else:\n",
    "                continue"
   ]
  },
  {
   "cell_type": "code",
   "execution_count": 9,
   "id": "8b271831",
   "metadata": {},
   "outputs": [],
   "source": [
    "input = np.empty((62,idx,8))"
   ]
  },
  {
   "cell_type": "code",
   "execution_count": 10,
   "id": "339e9295",
   "metadata": {},
   "outputs": [],
   "source": [
    "def daily_anomaly(target):\n",
    "    dailymean = np.nanmean(target,axis=1)\n",
    "    anom = np.zeros_like(target)\n",
    "    for t in np.arange(target.shape[1]):\n",
    "         anom[:,t] = target[:,t] - dailymean\n",
    "    print(anom.shape)\n",
    "    return anom; "
   ]
  },
  {
   "cell_type": "code",
   "execution_count": 11,
   "id": "c8b596e4",
   "metadata": {},
   "outputs": [
    {
     "name": "stdout",
     "output_type": "stream",
     "text": [
      "(62, 135)\n",
      "(62, 135)\n",
      "(62, 135)\n",
      "(62, 135)\n",
      "(62, 135)\n",
      "(62, 135)\n",
      "(62, 135)\n",
      "(62, 135)\n"
     ]
    }
   ],
   "source": [
    "input[:,:,0] = daily_anomaly(wind10[:,:])\n",
    "input[:,:,1] = daily_anomaly(rat10[:,:])\n",
    "input[:,:,2] = daily_anomaly(cenlat10[:,:])\n",
    "input[:,:,3] = daily_anomaly(cenlon10[:,:])\n",
    "input[:,:,4] = daily_anomaly(size10[:,:])\n",
    "input[:,:,5] = daily_anomaly(ephi10[:,:])\n",
    "input[:,:,6] = daily_anomaly(gph[:,:])\n",
    "input[:,:,7] = daily_anomaly(pv[:,:])"
   ]
  },
  {
   "cell_type": "code",
   "execution_count": 12,
   "id": "cd6dcc6f",
   "metadata": {},
   "outputs": [],
   "source": [
    "input2 = np.empty((62,idx,4))"
   ]
  },
  {
   "cell_type": "code",
   "execution_count": 21,
   "id": "abbbb098",
   "metadata": {},
   "outputs": [],
   "source": [
    "input2[:,:,3] = cenlat10[:62,:]\n",
    "input2[:,:,2] = pv[:62,:]\n",
    "input2[:,:,1] = wind10[:62,:]\n",
    "input2[:,:,0] = gph[:62,:]"
   ]
  },
  {
   "cell_type": "markdown",
   "id": "9dc195f0",
   "metadata": {},
   "source": [
    "Now that the assembly is done ... We can plot. lol."
   ]
  },
  {
   "cell_type": "code",
   "execution_count": 22,
   "id": "e312b009",
   "metadata": {},
   "outputs": [],
   "source": [
    "##open indice files\n",
    "infile = open(\"posXtest_can14.p\", 'rb') \n",
    "posXtest = pickle.load(infile)\n",
    "infile.close()\n",
    "\n",
    "infile = open(\"FposXtest_can14.p\", 'rb') \n",
    "FposXtest = pickle.load(infile)\n",
    "infile.close()\n",
    "\n",
    "infile = open(\"negXtest_can14.p\", 'rb') \n",
    "negXtest = pickle.load(infile)\n",
    "infile.close()\n",
    "\n",
    "infile = open(\"FnegXtest_can14.p\", 'rb') \n",
    "FnegXtest = pickle.load(infile)\n",
    "infile.close()"
   ]
  },
  {
   "cell_type": "markdown",
   "id": "41aa0341",
   "metadata": {},
   "source": [
    "### These few cells will be for making box plots instead lol. "
   ]
  },
  {
   "cell_type": "code",
   "execution_count": 23,
   "id": "a4e8728f",
   "metadata": {},
   "outputs": [
    {
     "data": {
      "text/plain": [
       "(10, 135)"
      ]
     },
     "execution_count": 23,
     "metadata": {},
     "output_type": "execute_result"
    }
   ],
   "source": [
    "##reduce input to just the testing data\n",
    "nolag_Xtest = input2[52:,:,:]\n",
    "nolag_Xtest.shape\n",
    "\n",
    "####now I wanna make these plots SO ... I am adding an index column on to X_test ... full version. \n",
    "ranges = np.array([x for x in range(0,idx*10,1)])\n",
    "ranges = ranges.reshape(10,idx) \n",
    "ranges.shape"
   ]
  },
  {
   "cell_type": "code",
   "execution_count": 24,
   "id": "dd71ba80",
   "metadata": {},
   "outputs": [
    {
     "name": "stdout",
     "output_type": "stream",
     "text": [
      "(12334, 1, 4)\n",
      "12334\n"
     ]
    }
   ],
   "source": [
    "##Correct Positive Events\n",
    "pos_corr_events = []\n",
    "pos_corr_num = []\n",
    "pos_corr_total_events = []\n",
    "\n",
    "for i in range(0,10):\n",
    "    for j in range(0,idx):\n",
    "        #index for the date being observed\n",
    "        date_index = ranges[i,j]\n",
    "        ##loop through indexes of positive and correct events\n",
    "        for k in range(len(posXtest)):\n",
    "            pos_index = posXtest[k]\n",
    "            if pos_index == date_index:\n",
    "                pos_corr_total_events.append(0)\n",
    "                pos_corr_num.append(0)\n",
    "                pos_corr_events.extend(nolag_Xtest[i,j,:])\n",
    "\n",
    "##reshape\n",
    "pos = np.array(pos_corr_events).reshape((len(pos_corr_num),1,4))\n",
    "print(pos.shape)\n",
    "print(len(pos_corr_total_events))\n",
    "##A LOT OF THE CORRECT POSITIVE EVENTS ARE WITHIN 20 DAYS OF THE START OF THE YEAR"
   ]
  },
  {
   "cell_type": "code",
   "execution_count": 25,
   "id": "313dbc1a",
   "metadata": {},
   "outputs": [
    {
     "name": "stdout",
     "output_type": "stream",
     "text": [
      "(1166, 1, 4)\n",
      "1166\n"
     ]
    }
   ],
   "source": [
    "##FALSE Positive Events\n",
    "Fpos_corr_events = []\n",
    "Fpos_corr_num = []\n",
    "Fpos_corr_total_events = []\n",
    "\n",
    "for i in range(0,10):\n",
    "    for j in range(0,idx):\n",
    "        #index for the date being observed\n",
    "        date_index = ranges[i,j]\n",
    "        ##loop through indexes of positive and correct events\n",
    "        for k in range(len(FposXtest)):\n",
    "            pos_index = FposXtest[k]\n",
    "            if pos_index == date_index:\n",
    "                Fpos_corr_total_events.append(0)\n",
    "                Fpos_corr_num.append(0)\n",
    "                Fpos_corr_events.extend(nolag_Xtest[i,j,:])\n",
    "##reshape\n",
    "Fpos = np.array(Fpos_corr_events).reshape((len(Fpos_corr_num),1,4))\n",
    "print(Fpos.shape)\n",
    "print(len(Fpos_corr_total_events))"
   ]
  },
  {
   "cell_type": "code",
   "execution_count": 26,
   "id": "51052726",
   "metadata": {},
   "outputs": [
    {
     "name": "stdout",
     "output_type": "stream",
     "text": [
      "(9891, 1, 4)\n",
      "9891\n"
     ]
    }
   ],
   "source": [
    "##Correct Negative Events\n",
    "neg_corr_events = []\n",
    "neg_corr_num = []\n",
    "neg_corr_total_events = []\n",
    "\n",
    "for i in range(0,10):\n",
    "    for j in range(0,idx):\n",
    "        #index for the date being observed\n",
    "        date_index = ranges[i,j]\n",
    "        ##loop through indexes of positive and correct events\n",
    "        for k in range(len(negXtest)):\n",
    "            neg_index = negXtest[k]\n",
    "            if neg_index == date_index:\n",
    "                neg_corr_total_events.append(0)\n",
    "                neg_corr_num.append(0)\n",
    "                neg_corr_events.extend(nolag_Xtest[i,j,:])\n",
    "##reshape\n",
    "neg = np.array(neg_corr_events).reshape((len(neg_corr_num),1,4))\n",
    "print(neg.shape)\n",
    "print(len(neg_corr_total_events))"
   ]
  },
  {
   "cell_type": "code",
   "execution_count": 27,
   "id": "3e11e100",
   "metadata": {},
   "outputs": [
    {
     "name": "stdout",
     "output_type": "stream",
     "text": [
      "(3599, 1, 4)\n",
      "3599\n"
     ]
    }
   ],
   "source": [
    "##FALSE Negative Events\n",
    "Fneg_corr_events = []\n",
    "Fneg_corr_num = []\n",
    "Fneg_corr_total_events = []\n",
    "\n",
    "for i in range(0,10):\n",
    "    for j in range(0,idx):\n",
    "        #index for the date being observed\n",
    "        date_index = ranges[i,j]\n",
    "        ##loop through indexes of positive and correct events\n",
    "        for k in range(len(FnegXtest)):\n",
    "            neg_index = FnegXtest[k]\n",
    "            if neg_index == date_index:\n",
    "                Fneg_corr_total_events.append(0)\n",
    "                Fneg_corr_num.append(0)\n",
    "                Fneg_corr_events.extend(nolag_Xtest[i,j,:])\n",
    "\n",
    "##reshape\n",
    "Fneg = np.array(Fneg_corr_events).reshape((len(Fneg_corr_num),1,4))\n",
    "print(Fneg.shape)\n",
    "print(len(Fneg_corr_total_events))"
   ]
  },
  {
   "cell_type": "code",
   "execution_count": 28,
   "id": "f315e9b3",
   "metadata": {},
   "outputs": [
    {
     "data": {
      "image/png": "[encoded data removed]",
      "text/plain": [
       "<Figure size 1200x1200 with 4 Axes>"
      ]
     },
     "metadata": {},
     "output_type": "display_data"
    }
   ],
   "source": [
    "import matplotlib.ticker as mticker\n",
    "myLocator = mticker.MultipleLocator(2)\n",
    "\n",
    "#metrics = [\"Wind (m/s)\", \"Ratio (m)\", \"Latitude ($^o$)\", \"Longitude ($^o$)\", \"Size (m$^2$)\", \"EPhi ($^o$)\", \"GPH (hPa)\", \"PV (m$^2$K/s kg)\"]\n",
    "metrics = [\"GPH (m)\",\"Wind (m/s)\",\"PV (m$^2$K/s kg)\", \"Latitude ($^o$)\"]\n",
    "#y1 = [-400,-80,-2,-90]\n",
    "#y2 = [400,80,2,20]\n",
    "ticks = ['Correct +', 'Incorrect -', 'Correct -', 'Incorrect +'] #set tick numbers for dataset\n",
    "ind = [2, 4, 6, 8]  # the x locations for the groups\n",
    "w = 0.25 #box-plot width\n",
    "c = [\"midnightblue\",\"royalblue\",\"mediumvioletred\",\"magenta\"]\n",
    "fs = 14\n",
    "\n",
    "fig, axes = plt.subplots(4, 1, figsize=(12, 12))\n",
    "plt.suptitle(\"Distribution of RF Input Feature Anomalies, Canada +14 Days\", fontsize = 20, x=0.53)\n",
    "axes = axes.flatten()\n",
    "for i in range(0,4):\n",
    "    C_pos = pos[:,0,i]\n",
    "    F_neg = Fneg[:,0,i]\n",
    "    C_neg = neg[:,0,i]\n",
    "    F_pos = Fpos[:,0,i]\n",
    "        \n",
    "    a1 =axes[i].boxplot([C_pos,F_neg,C_neg,F_pos], positions= [2,4,6,8], widths=w, patch_artist=True)\n",
    "    for bplot in (a1,):\n",
    "        for patch, color in zip(bplot['boxes'], c):\n",
    "            patch.set_facecolor(color)\n",
    "    axes[i].set_xticks(ind, ticks, fontsize = 14)\n",
    "    #axes[i].set_ylim((y1[i],y2[i]))\n",
    "    axes[i].set_ylabel(str(metrics[i]), fontsize = 14)\n",
    "    axes[i].tick_params(axis='both', labelsize=14)\n",
    "\n",
    "\n",
    "plt.tight_layout()\n",
    "plt.subplots_adjust(top=0.95)   \n",
    "plt.savefig(\"CanRF_BOXPLOT_14days.png\",bbox_inches = 'tight')\n",
    "plt.show()"
   ]
  },
  {
   "cell_type": "code",
   "execution_count": null,
   "id": "b80c3b8b",
   "metadata": {},
   "outputs": [],
   "source": []
  }
 ],
 "metadata": {
  "kernelspec": {
   "display_name": "Python 3 (ipykernel)",
   "language": "python",
   "name": "python3"
  },
  "language_info": {
   "codemirror_mode": {
    "name": "ipython",
    "version": 3
   },
   "file_extension": ".py",
   "mimetype": "text/x-python",
   "name": "python",
   "nbconvert_exporter": "python",
   "pygments_lexer": "ipython3",
   "version": "3.10.12"
  }
 },
 "nbformat": 4,
 "nbformat_minor": 5
}
