{
 "cells": [
  {
   "cell_type": "markdown",
   "id": "34b11b2a",
   "metadata": {},
   "source": [
    "### File for comparing lists from RF and LSTM models for 90th confidence predictions ...\n",
    "\n",
    "7/15/2025"
   ]
  },
  {
   "cell_type": "code",
   "execution_count": 1,
   "id": "caf20d39",
   "metadata": {},
   "outputs": [],
   "source": [
    "#relevant import statements\n",
    "import numpy as np\n",
    "import math\n",
    "import pandas as pd\n",
    "import xarray as xr \n",
    "import pickle \n",
    "import matplotlib.pyplot as plt"
   ]
  },
  {
   "cell_type": "code",
   "execution_count": 2,
   "id": "66c3c925",
   "metadata": {},
   "outputs": [],
   "source": [
    "##open indice files\n",
    "infile = open(\"./Europe/posXtest_eur14.p\", 'rb') \n",
    "posXtest = pickle.load(infile)\n",
    "infile.close()\n",
    "\n",
    "infile = open(\"./RF_indices/posXtest_eur14.p\", 'rb') \n",
    "pos_LSTM = pickle.load(infile)\n",
    "infile.close()\n",
    "\n",
    "infile = open(\"./Europe/FposXtest_eur14.p\", 'rb') \n",
    "FposXtest = pickle.load(infile)\n",
    "infile.close()\n",
    "\n",
    "infile = open(\"./RF_indices/FposXtest_eur14.p\", 'rb') \n",
    "Fpos_LSTM = pickle.load(infile)\n",
    "infile.close()\n",
    "\n",
    "infile = open(\"./Europe/negXtest_eur14.p\", 'rb') \n",
    "negXtest = pickle.load(infile)\n",
    "infile.close()\n",
    "\n",
    "infile = open(\"./RF_indices/negXtest_eur14.p\", 'rb') \n",
    "neg_LSTM = pickle.load(infile)\n",
    "infile.close()\n",
    "\n",
    "infile = open(\"./Europe/FnegXtest_eur14.p\", 'rb') \n",
    "FnegXtest = pickle.load(infile)\n",
    "infile.close()\n",
    "\n",
    "infile = open(\"./RF_indices/FnegXtest_eur14.p\", 'rb') \n",
    "Fneg_LSTM = pickle.load(infile)\n",
    "infile.close()"
   ]
  },
  {
   "cell_type": "code",
   "execution_count": 5,
   "id": "29108002",
   "metadata": {},
   "outputs": [
    {
     "data": {
      "text/plain": [
       "(10, 135)"
      ]
     },
     "execution_count": 5,
     "metadata": {},
     "output_type": "execute_result"
    }
   ],
   "source": [
    "####now I wanna make these plots SO ... I am adding an index column on to X_test ... full version. \n",
    "ranges_RF = np.array([x for x in range(0,135*10,1)])\n",
    "ranges_RF = ranges_RF.reshape(10,135) \n",
    "ranges_RF.shape"
   ]
  },
  {
   "cell_type": "code",
   "execution_count": 6,
   "id": "13c31143",
   "metadata": {},
   "outputs": [
    {
     "data": {
      "text/plain": [
       "(10, 135)"
      ]
     },
     "execution_count": 6,
     "metadata": {},
     "output_type": "execute_result"
    }
   ],
   "source": [
    "ranges_LSTM = np.array([x for x in range(0,135*10,1)])\n",
    "ranges_LSTM = ranges_LSTM.reshape(10,135) \n",
    "ranges_LSTM.shape"
   ]
  },
  {
   "cell_type": "raw",
   "id": "69273083",
   "metadata": {
    "jupyter": {
     "source_hidden": true
    }
   },
   "source": [
    "#okay but even if I compare based on NUMBER, these are not going to match \n",
    "#so I need to get creative\n",
    "shifted_posX = []\n",
    "\n",
    "for k in posXtest:\n",
    "    #print(k)\n",
    "    for i in range(0,10):\n",
    "        for j in range(0,135):\n",
    "            old = corr_RFindices[i,j]\n",
    "            #print(old)\n",
    "            new = ranges_LSTM[i,j] \n",
    "            #print(new)\n",
    "            #if the value  == old index and the old index is the same as the new one...\n",
    "            if k == old and old == new: \n",
    "                shifted_posX.append(old)\n",
    "            #if the value == old index and the old index is NOT the same as the new one...\n",
    "            elif k == old and old != new:\n",
    "                shifted_posX.append(old)"
   ]
  },
  {
   "cell_type": "code",
   "execution_count": 7,
   "id": "379561ba",
   "metadata": {},
   "outputs": [],
   "source": [
    "##I want to go in and see if I can have this show the # of repeated overlap dates because set() is flattening and removing the repeat dimension from this, which I kinda want to maintain. "
   ]
  },
  {
   "cell_type": "code",
   "execution_count": 14,
   "id": "bdc9f966",
   "metadata": {},
   "outputs": [
    {
     "name": "stdout",
     "output_type": "stream",
     "text": [
      "11391\n",
      "9172\n"
     ]
    }
   ],
   "source": [
    "print(len(posXtest))\n",
    "print(len(pos_LSTM))"
   ]
  },
  {
   "cell_type": "code",
   "execution_count": 8,
   "id": "3d70a264",
   "metadata": {},
   "outputs": [],
   "source": [
    "#flatten ranges to allow mapping of the rep. arrays. \n",
    "#flat_RF_map = corr_RFindices.flatten()      \n",
    "\n",
    "flat_RF_map = ranges_LSTM.flatten() #because of the changes, these are the same...\n",
    "flat_LSTM_map = ranges_LSTM.flatten() \n",
    "#both should be the same shape, covering the same dates"
   ]
  },
  {
   "cell_type": "code",
   "execution_count": 9,
   "id": "1405aa23",
   "metadata": {},
   "outputs": [],
   "source": [
    "import collections\n",
    "#definition to compile and compare counts across lists/dictionaries\n",
    "def compare_dicts_values(list1, list2):\n",
    "    RF_count = collections.Counter() ##RF counter dictionary\n",
    "    for day in list1:\n",
    "        RF_count[day] += 1\n",
    "    LSTM_count = collections.Counter() ##LSTM counter dictionary\n",
    "    for day in list2:\n",
    "        LSTM_count[day] += 1\n",
    "        \n",
    "    result = {}\n",
    "    #begin comparing RF and LSTM dictionaries. \n",
    "    for key in RF_count:\n",
    "        if key in LSTM_count: #this next part is basically like \"which count is smaller so that we save the overlap in the dict\"\n",
    "            if RF_count[key] >= LSTM_count[key]:\n",
    "                result[key] = abs(LSTM_count[key])\n",
    "            if RF_count[key] < LSTM_count[key]:\n",
    "                result[key] = abs(RF_count[key])\n",
    "    return result;"
   ]
  },
  {
   "cell_type": "code",
   "execution_count": 10,
   "id": "38499c12",
   "metadata": {},
   "outputs": [],
   "source": [
    "#I wanna see if I can add something to the previous slide that allows for days surrounding, too. "
   ]
  },
  {
   "cell_type": "code",
   "execution_count": 12,
   "id": "0c62aa3d",
   "metadata": {
    "collapsed": true,
    "jupyter": {
     "outputs_hidden": true
    }
   },
   "outputs": [
    {
     "data": {
      "text/plain": [
       "{5: 88,\n",
       " 7: 90,\n",
       " 8: 95,\n",
       " 9: 97,\n",
       " 10: 90,\n",
       " 11: 90,\n",
       " 12: 93,\n",
       " 13: 93,\n",
       " 14: 93,\n",
       " 15: 92,\n",
       " 16: 89,\n",
       " 138: 54,\n",
       " 139: 31,\n",
       " 140: 20,\n",
       " 141: 23,\n",
       " 142: 31,\n",
       " 143: 42,\n",
       " 144: 61,\n",
       " 145: 78,\n",
       " 270: 43,\n",
       " 271: 39,\n",
       " 272: 34,\n",
       " 273: 30,\n",
       " 275: 26,\n",
       " 276: 28,\n",
       " 277: 26,\n",
       " 280: 49,\n",
       " 281: 57,\n",
       " 294: 1,\n",
       " 405: 20,\n",
       " 406: 21,\n",
       " 407: 19,\n",
       " 412: 24,\n",
       " 413: 21,\n",
       " 414: 10,\n",
       " 415: 4,\n",
       " 416: 3,\n",
       " 540: 33,\n",
       " 542: 51,\n",
       " 543: 89,\n",
       " 547: 100,\n",
       " 548: 98,\n",
       " 549: 97,\n",
       " 550: 96,\n",
       " 551: 96,\n",
       " 552: 94,\n",
       " 553: 93,\n",
       " 554: 85,\n",
       " 555: 72,\n",
       " 556: 59,\n",
       " 557: 55,\n",
       " 558: 40,\n",
       " 559: 25,\n",
       " 560: 13,\n",
       " 561: 7,\n",
       " 818: 66,\n",
       " 819: 50,\n",
       " 820: 25,\n",
       " 821: 6,\n",
       " 822: 1,\n",
       " 948: 97,\n",
       " 949: 100,\n",
       " 950: 100,\n",
       " 951: 100,\n",
       " 952: 100,\n",
       " 1096: 2,\n",
       " 1097: 3,\n",
       " 1098: 3,\n",
       " 1099: 3,\n",
       " 1220: 64,\n",
       " 1221: 89,\n",
       " 1222: 94,\n",
       " 1223: 94,\n",
       " 1224: 96,\n",
       " 1225: 96,\n",
       " 1226: 98,\n",
       " 1227: 98,\n",
       " 1228: 93,\n",
       " 1229: 91,\n",
       " 1230: 89,\n",
       " 1231: 88,\n",
       " 1232: 86,\n",
       " 1233: 88,\n",
       " 1234: 86,\n",
       " 1235: 81,\n",
       " 1236: 80,\n",
       " 1237: 73,\n",
       " 0: 71,\n",
       " 6: 84,\n",
       " 135: 10,\n",
       " 136: 13,\n",
       " 137: 74,\n",
       " 541: 32,\n",
       " 562: 5,\n",
       " 563: 3,\n",
       " 564: 4,\n",
       " 810: 65,\n",
       " 811: 27,\n",
       " 812: 27,\n",
       " 945: 30,\n",
       " 946: 52,\n",
       " 947: 80,\n",
       " 17: 41,\n",
       " 18: 15,\n",
       " 539: 1,\n",
       " 1086: 8,\n",
       " 409: 14,\n",
       " 1215: 5,\n",
       " 1216: 3,\n",
       " 682: 11,\n",
       " 1083: 12,\n",
       " 1084: 12,\n",
       " 1085: 12,\n",
       " 410: 8,\n",
       " 411: 7,\n",
       " 675: 6,\n",
       " 681: 5,\n",
       " 1082: 7,\n",
       " 1087: 4,\n",
       " 1088: 3,\n",
       " 26: 3,\n",
       " 27: 2,\n",
       " 1080: 1,\n",
       " 1081: 2,\n",
       " 676: 3,\n",
       " 677: 3,\n",
       " 678: 3,\n",
       " 679: 3,\n",
       " 680: 3,\n",
       " 1217: 1,\n",
       " 1219: 2}"
      ]
     },
     "execution_count": 12,
     "metadata": {},
     "output_type": "execute_result"
    }
   ],
   "source": [
    "pos_dict = compare_dicts_values(posXtest, pos_LSTM)\n",
    "pos_dict"
   ]
  },
  {
   "cell_type": "code",
   "execution_count": 13,
   "id": "e4d15ebb",
   "metadata": {},
   "outputs": [
    {
     "name": "stdout",
     "output_type": "stream",
     "text": [
      "6025\n"
     ]
    }
   ],
   "source": [
    "total_sum = sum(pos_dict.values())\n",
    "print(total_sum)  "
   ]
  },
  {
   "cell_type": "code",
   "execution_count": 16,
   "id": "701c08ff",
   "metadata": {},
   "outputs": [
    {
     "data": {
      "text/plain": [
       "0.6568905364151766"
      ]
     },
     "execution_count": 16,
     "metadata": {},
     "output_type": "execute_result"
    }
   ],
   "source": [
    "total_sum/len(pos_LSTM)"
   ]
  },
  {
   "cell_type": "code",
   "execution_count": null,
   "id": "86744ce0",
   "metadata": {},
   "outputs": [],
   "source": []
  }
 ],
 "metadata": {
  "kernelspec": {
   "display_name": "Python 3 (ipykernel)",
   "language": "python",
   "name": "python3"
  },
  "language_info": {
   "codemirror_mode": {
    "name": "ipython",
    "version": 3
   },
   "file_extension": ".py",
   "mimetype": "text/x-python",
   "name": "python",
   "nbconvert_exporter": "python",
   "pygments_lexer": "ipython3",
   "version": "3.10.12"
  }
 },
 "nbformat": 4,
 "nbformat_minor": 5
}
