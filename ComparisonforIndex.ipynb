{
 "cells": [
  {
   "cell_type": "markdown",
   "id": "cc587803",
   "metadata": {},
   "source": [
    "### File for comparing lists from RF and LSTM models for 90th confidence predictions ...\n",
    "\n",
    "7/15/2025"
   ]
  },
  {
   "cell_type": "code",
   "execution_count": 1,
   "id": "0be5869e",
   "metadata": {},
   "outputs": [],
   "source": [
    "#relevant import statements\n",
    "import numpy as np\n",
    "import math\n",
    "import pandas as pd\n",
    "import xarray as xr \n",
    "import pickle \n",
    "import matplotlib.pyplot as plt"
   ]
  },
  {
   "cell_type": "code",
   "execution_count": 2,
   "id": "7a94ec7c",
   "metadata": {},
   "outputs": [],
   "source": [
    "##open indice files\n",
    "infile = open(\"./Europe/posXtest_RF14.p\", 'rb') \n",
    "posXtest = pickle.load(infile)\n",
    "infile.close()\n",
    "\n",
    "infile = open(\"./RF_indices/posXtest_eur14.p\", 'rb') \n",
    "pos_LSTM = pickle.load(infile)\n",
    "infile.close()\n",
    "\n",
    "infile = open(\"./Europe/FposXtest_RF14.p\", 'rb') \n",
    "FposXtest = pickle.load(infile)\n",
    "infile.close()\n",
    "\n",
    "infile = open(\"./RF_indices/FposXtest_eur14.p\", 'rb') \n",
    "Fpos_LSTM = pickle.load(infile)\n",
    "infile.close()\n",
    "\n",
    "infile = open(\"./Europe/negXtest_RF14.p\", 'rb') \n",
    "negXtest = pickle.load(infile)\n",
    "infile.close()\n",
    "\n",
    "infile = open(\"./RF_indices/negXtest_eur14.p\", 'rb') \n",
    "neg_LSTM = pickle.load(infile)\n",
    "infile.close()\n",
    "\n",
    "infile = open(\"./Europe/FnegXtest_RF14.p\", 'rb') \n",
    "FnegXtest = pickle.load(infile)\n",
    "infile.close()\n",
    "\n",
    "infile = open(\"./RF_indices/FnegXtest_eur14.p\", 'rb') \n",
    "Fneg_LSTM = pickle.load(infile)\n",
    "infile.close()"
   ]
  },
  {
   "cell_type": "code",
   "execution_count": 3,
   "id": "67f863f8",
   "metadata": {},
   "outputs": [
    {
     "data": {
      "text/plain": [
       "(10, 149)"
      ]
     },
     "execution_count": 3,
     "metadata": {},
     "output_type": "execute_result"
    }
   ],
   "source": [
    "####now I wanna make these plots SO ... I am adding an index column on to X_test ... full version. \n",
    "ranges_RF = np.array([x for x in range(0,149*10,1)])\n",
    "ranges_RF = ranges_RF.reshape(10,149) \n",
    "ranges_RF.shape"
   ]
  },
  {
   "cell_type": "code",
   "execution_count": 4,
   "id": "ae16d3cd",
   "metadata": {},
   "outputs": [
    {
     "data": {
      "text/plain": [
       "(10, 135)"
      ]
     },
     "execution_count": 4,
     "metadata": {},
     "output_type": "execute_result"
    }
   ],
   "source": [
    "corr_RFindices = ranges_RF[:,:135] ##correct RF indices relative to comparing with SLTM\n",
    "ignore_RFindices = ranges_RF[:,135:] ##indices for ignorong\n",
    "\n",
    "corr_RFindices.shape"
   ]
  },
  {
   "cell_type": "code",
   "execution_count": 17,
   "id": "e5cdea82",
   "metadata": {},
   "outputs": [
    {
     "data": {
      "text/plain": [
       "(10, 135)"
      ]
     },
     "execution_count": 17,
     "metadata": {},
     "output_type": "execute_result"
    }
   ],
   "source": [
    "ranges_LSTM = np.array([x for x in range(0,135*10,1)])\n",
    "ranges_LSTM = ranges_LSTM.reshape(10,135) \n",
    "ranges_LSTM.shape"
   ]
  },
  {
   "cell_type": "code",
   "execution_count": 18,
   "id": "50e8e449",
   "metadata": {},
   "outputs": [],
   "source": [
    "#flatten ranges to allow mapping of the rep. arrays. \n",
    "flat_RF_map = ranges_RF.flatten()      \n",
    "flat_LSTM_map = ranges_LSTM.flatten() "
   ]
  },
  {
   "cell_type": "code",
   "execution_count": 19,
   "id": "d814b8fc",
   "metadata": {},
   "outputs": [],
   "source": [
    "#map dates to arrays\n",
    "RF_dates = set(flat_RF_mapping_full[posXtest])\n",
    "LSTM_dates = set(flat_LSTM_mapping[pos_LSTM])"
   ]
  },
  {
   "cell_type": "code",
   "execution_count": 20,
   "id": "298adea0",
   "metadata": {},
   "outputs": [],
   "source": [
    "##do fuzzy overlap for datasets\n",
    "RF_expanded = set() ##allow for extended\n",
    "for d in RF_dates:\n",
    "    RF_expanded.update(range(d - 5, d + 6))  \n",
    "pos_corr_events = [d for d in LSTM_dates if d in RF_expanded]"
   ]
  },
  {
   "cell_type": "code",
   "execution_count": 21,
   "id": "0b7d94d0",
   "metadata": {},
   "outputs": [
    {
     "name": "stdout",
     "output_type": "stream",
     "text": [
      "Number of unique RF dates:  176\n",
      "Number of unique LSTM dates:  201\n",
      "Overlap:  29\n"
     ]
    }
   ],
   "source": [
    "print(\"Number of unique RF dates: \",len(RF_dates))\n",
    "print(\"Number of unique LSTM dates: \",len(LSTM_dates))\n",
    "print(\"Overlap with +/- 5 day window: \",len(pos_corr_events))"
   ]
  },
  {
   "cell_type": "code",
   "execution_count": null,
   "id": "5c1caa9d",
   "metadata": {},
   "outputs": [],
   "source": [
    "precision_RF = num_both/num_RF if num_RF > 0 else 0\n",
    "precision_LSTM = num_both/num_LSTM if num_LSTM > 0 else 0"
   ]
  }
 ],
 "metadata": {
  "kernelspec": {
   "display_name": "Python 3 (ipykernel)",
   "language": "python",
   "name": "python3"
  },
  "language_info": {
   "codemirror_mode": {
    "name": "ipython",
    "version": 3
   },
   "file_extension": ".py",
   "mimetype": "text/x-python",
   "name": "python",
   "nbconvert_exporter": "python",
   "pygments_lexer": "ipython3",
   "version": "3.10.12"
  }
 },
 "nbformat": 4,
 "nbformat_minor": 5
}
