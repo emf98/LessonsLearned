{
 "cells": [
  {
   "cell_type": "markdown",
   "id": "d078ab57",
   "metadata": {},
   "source": [
    "### File for comparing lists from RF and LSTM models for 90th confidence predictions ...\n",
    "\n",
    "7/15/2025"
   ]
  },
  {
   "cell_type": "code",
   "execution_count": 2,
   "id": "ad8d4726",
   "metadata": {},
   "outputs": [],
   "source": [
    "#relevant import statements\n",
    "import numpy as np\n",
    "import math\n",
    "import pandas as pd\n",
    "import xarray as xr \n",
    "import pickle \n",
    "import matplotlib.pyplot as plt"
   ]
  },
  {
   "cell_type": "code",
   "execution_count": 3,
   "id": "209c2503",
   "metadata": {},
   "outputs": [],
   "source": [
    "##open indice files\n",
    "infile = open(\"./Europe/posXtest_RF14.p\", 'rb') \n",
    "posXtest = pickle.load(infile)\n",
    "infile.close()\n",
    "\n",
    "infile = open(\"./RF_indices/posXtest_eur14.p\", 'rb') \n",
    "pos_LSTM = pickle.load(infile)\n",
    "infile.close()\n",
    "\n",
    "infile = open(\"./Europe/FposXtest_RF14.p\", 'rb') \n",
    "FposXtest = pickle.load(infile)\n",
    "infile.close()\n",
    "\n",
    "infile = open(\"./RF_indices/FposXtest_eur14.p\", 'rb') \n",
    "Fpos_LSTM = pickle.load(infile)\n",
    "infile.close()\n",
    "\n",
    "infile = open(\"./Europe/negXtest_RF14.p\", 'rb') \n",
    "negXtest = pickle.load(infile)\n",
    "infile.close()\n",
    "\n",
    "infile = open(\"./RF_indices/negXtest_eur14.p\", 'rb') \n",
    "neg_LSTM = pickle.load(infile)\n",
    "infile.close()\n",
    "\n",
    "infile = open(\"./Europe/FnegXtest_RF14.p\", 'rb') \n",
    "FnegXtest = pickle.load(infile)\n",
    "infile.close()\n",
    "\n",
    "infile = open(\"./RF_indices/FnegXtest_eur14.p\", 'rb') \n",
    "Fneg_LSTM = pickle.load(infile)\n",
    "infile.close()"
   ]
  },
  {
   "cell_type": "code",
   "execution_count": 4,
   "id": "b439571e",
   "metadata": {},
   "outputs": [
    {
     "data": {
      "text/plain": [
       "(10, 149)"
      ]
     },
     "execution_count": 4,
     "metadata": {},
     "output_type": "execute_result"
    }
   ],
   "source": [
    "####now I wanna make these plots SO ... I am adding an index column on to X_test ... full version. \n",
    "ranges = np.array([x for x in range(0,149*10,1)])\n",
    "ranges = ranges.reshape(10,149) \n",
    "ranges.shape"
   ]
  },
  {
   "cell_type": "code",
   "execution_count": 5,
   "id": "ef0c931e",
   "metadata": {},
   "outputs": [
    {
     "data": {
      "text/plain": [
       "12749"
      ]
     },
     "execution_count": 5,
     "metadata": {},
     "output_type": "execute_result"
    }
   ],
   "source": [
    "len(posXtest)"
   ]
  },
  {
   "cell_type": "code",
   "execution_count": 6,
   "id": "b9a85280",
   "metadata": {},
   "outputs": [
    {
     "data": {
      "text/plain": [
       "9172"
      ]
     },
     "execution_count": 6,
     "metadata": {},
     "output_type": "execute_result"
    }
   ],
   "source": [
    "len(pos_LSTM)"
   ]
  },
  {
   "cell_type": "code",
   "execution_count": null,
   "id": "84601a80",
   "metadata": {},
   "outputs": [],
   "source": [
    "##Correct Positive Events\n",
    "pos_corr_events = []\n",
    "\n",
    "##loop through indexes of positive and correct events\n",
    "for k in range(len(posXtest)):\n",
    "    pos_RF = posXtest[k]\n",
    "    for l in range(len(pos_LSTM)):\n",
    "        pos_LT = pos_LSTM[l]\n",
    "        if pos_LT == pos_RF:\n",
    "            pos_corr_events.append(0)\n",
    "        elif:\n",
    "            continue"
   ]
  }
 ],
 "metadata": {
  "kernelspec": {
   "display_name": "Python 3 (ipykernel)",
   "language": "python",
   "name": "python3"
  },
  "language_info": {
   "codemirror_mode": {
    "name": "ipython",
    "version": 3
   },
   "file_extension": ".py",
   "mimetype": "text/x-python",
   "name": "python",
   "nbconvert_exporter": "python",
   "pygments_lexer": "ipython3",
   "version": "3.10.12"
  }
 },
 "nbformat": 4,
 "nbformat_minor": 5
}
