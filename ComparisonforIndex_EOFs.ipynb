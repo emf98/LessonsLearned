{
 "cells": [
  {
   "cell_type": "markdown",
   "id": "29b0205b",
   "metadata": {},
   "source": [
    "### File for comparing lists from RF and LSTM models for 90th confidence predictions ...\n",
    "\n",
    "7/25/2025\n",
    "\n",
    "This time just for the EOF LSTM and RF. "
   ]
  },
  {
   "cell_type": "code",
   "execution_count": 1,
   "id": "ce3c2fae",
   "metadata": {},
   "outputs": [],
   "source": [
    "#relevant import statements\n",
    "import numpy as np\n",
    "import math\n",
    "import pandas as pd\n",
    "import xarray as xr \n",
    "import pickle \n",
    "import matplotlib.pyplot as plt\n",
    "\n",
    "import collections"
   ]
  },
  {
   "cell_type": "code",
   "execution_count": 2,
   "id": "91741e32",
   "metadata": {},
   "outputs": [
    {
     "name": "stdout",
     "output_type": "stream",
     "text": [
      "RF dates shape: (10, 135)\n",
      "LSTM dates shape: (10, 135)\n"
     ]
    }
   ],
   "source": [
    "#because of how i modified the RF models, these dates match. SO. The mismatch of array index issue I had is largely circumvented. \n",
    "ranges_RF = np.array([x for x in range(0,135*10,1)])\n",
    "ranges_RF = ranges_RF.reshape(10,135) \n",
    "print(\"RF dates shape:\",ranges_RF.shape)\n",
    "\n",
    "ranges_LSTM = np.array([x for x in range(0,135*10,1)])\n",
    "ranges_LSTM = ranges_LSTM.reshape(10,135) \n",
    "print(\"LSTM dates shape:\",ranges_LSTM.shape)"
   ]
  },
  {
   "cell_type": "code",
   "execution_count": 3,
   "id": "ee5e3db0",
   "metadata": {},
   "outputs": [],
   "source": [
    "#flatten ranges to allow mapping of the rep. arrays. \n",
    "#flat_RF_map = corr_RFindices.flatten()      \n",
    "\n",
    "flat_RF_map = ranges_LSTM.flatten() #because of the changes, these are the same...\n",
    "flat_LSTM_map = ranges_LSTM.flatten() \n",
    "#both should be the same shape, covering the same dates"
   ]
  },
  {
   "cell_type": "markdown",
   "id": "e32daa67",
   "metadata": {},
   "source": [
    "### Definition statement for calculating overlap. "
   ]
  },
  {
   "cell_type": "code",
   "execution_count": 8,
   "id": "76f6741b",
   "metadata": {},
   "outputs": [],
   "source": [
    "#definition to compile and compare counts across lists/dictionaries\n",
    "def compare_dicts_values(list1, list2):\n",
    "    RF_count = collections.Counter() ##RF counter dictionary\n",
    "    for day in list1:\n",
    "        RF_count[day] += 1\n",
    "    LSTM_count = collections.Counter() ##LSTM counter dictionary\n",
    "    for day in list2:\n",
    "        LSTM_count[day] += 1\n",
    "        \n",
    "    result = {}\n",
    "    #begin comparing RF and LSTM dictionaries. \n",
    "    for key in RF_count:\n",
    "        if key in LSTM_count: #this next part is basically like \"which count is smaller so that we save the overlap in the dict\"\n",
    "            if RF_count[key] >= LSTM_count[key]:\n",
    "                result[key] = abs(LSTM_count[key])\n",
    "            if RF_count[key] < LSTM_count[key]:\n",
    "                result[key] = abs(RF_count[key])\n",
    "    total_sum = sum(result.values()) #look at total count for all events\n",
    "    print(\"Total number of RF events: \",len(list1)) \n",
    "    print(\"Total number of LSTM events: \",len(list2)) \n",
    "    print(\"Total number of overlap: \",total_sum)  \n",
    "    percentage = round(total_sum/len(list2) *100,2)\n",
    "    return percentage;\n",
    "\n",
    "#_________________________________________________________________\n",
    "##this instance is just to save the keys so that I can look at composites ... for those dates. \n",
    "def compare_keys(list1, list2):\n",
    "    RF_count = collections.Counter() ##RF counter dictionary\n",
    "    for day in list1:\n",
    "        RF_count[day] += 1\n",
    "    LSTM_count = collections.Counter() ##LSTM counter dictionary\n",
    "    for day in list2:\n",
    "        LSTM_count[day] += 1\n",
    "        \n",
    "    result = []\n",
    "    Rfonly = []\n",
    "    #begin comparing RF and LSTM dictionaries. \n",
    "    for key in RF_count:\n",
    "        if key in LSTM_count:\n",
    "            #save the key to look at for composites\n",
    "            result.append(key)\n",
    "        if key not in LSTM_count:\n",
    "            Rfonly.append(key)\n",
    "    \n",
    "    LSTMonly =[]\n",
    "    for key in LSTM_count:\n",
    "        if key not in RF_count:\n",
    "            LSTMonly.append(key)\n",
    "    \n",
    "    ##I have this set up to look at the SLTM/RF only values too but I may save those for another time. \n",
    "    return result,Rfonly,LSTMonly ;\n",
    "#ultimately these composites would look at the average across the # of shared dates, ignoring the count of them. "
   ]
  },
  {
   "cell_type": "markdown",
   "id": "e1984946",
   "metadata": {},
   "source": [
    "## Europe first. "
   ]
  },
  {
   "cell_type": "code",
   "execution_count": 9,
   "id": "e3cfa0f4",
   "metadata": {},
   "outputs": [],
   "source": [
    "##open EUROPE indice files\n",
    "infile = open(\"./RF_indices/posXtest_eur14.p\", 'rb') \n",
    "pos_LSTM = pickle.load(infile)\n",
    "infile.close()\n",
    "\n",
    "infile = open(\"./Europe/posXtest_eur14_eof.p\", 'rb') \n",
    "posXtest = pickle.load(infile)\n",
    "infile.close()\n",
    "\n",
    "infile = open(\"./RF_indices/FposXtest_eur14.p\", 'rb') \n",
    "Fpos_LSTM = pickle.load(infile)\n",
    "infile.close()\n",
    "\n",
    "infile = open(\"./Europe/FposXtest_eur14_eof.p\", 'rb') \n",
    "FposXtest = pickle.load(infile)\n",
    "infile.close()\n",
    "\n",
    "infile = open(\"./RF_indices/negXtest_eur14.p\", 'rb') \n",
    "neg_LSTM = pickle.load(infile)\n",
    "infile.close()\n",
    "\n",
    "infile = open(\"./Europe/negXtest_eur14_eof.p\", 'rb') \n",
    "negXtest = pickle.load(infile)\n",
    "infile.close()\n",
    "\n",
    "infile = open(\"./RF_indices/FnegXtest_eur14.p\", 'rb') \n",
    "Fneg_LSTM = pickle.load(infile)\n",
    "infile.close()\n",
    "\n",
    "infile = open(\"./Europe/FnegXtest_eur14_eof.p\", 'rb') \n",
    "FnegXtest = pickle.load(infile)\n",
    "infile.close()"
   ]
  },
  {
   "cell_type": "code",
   "execution_count": 10,
   "id": "f0081196",
   "metadata": {},
   "outputs": [
    {
     "name": "stdout",
     "output_type": "stream",
     "text": [
      "Overview and Comparison of High Confidence events from Europe 14 between RF Ellipse and RF EOF\n",
      "Positive and Correct Events\n",
      "Total number of RF events:  10604\n",
      "Total number of LSTM events:  9172\n",
      "Total number of overlap:  6751\n",
      "73.6 % relative to RF events\n",
      "__________________________________\n",
      "Negative and Correct Events\n",
      "Total number of RF events:  8304\n",
      "Total number of LSTM events:  9661\n",
      "Total number of overlap:  2588\n",
      "26.79 % relative to RF events\n",
      "__________________________________\n",
      "Positive and Incorrect Events\n",
      "Total number of RF events:  5196\n",
      "Total number of LSTM events:  3839\n",
      "Total number of overlap:  1247\n",
      "32.48 % relative to RF events\n",
      "__________________________________\n",
      "Negative and Inorrect Events\n",
      "Total number of RF events:  2895\n",
      "Total number of LSTM events:  4328\n",
      "Total number of overlap:  1508\n",
      "34.84 % relative to RF events\n"
     ]
    }
   ],
   "source": [
    "print(\"Overview and Comparison of High Confidence events from Europe 14 between RF Ellipse and RF EOF\")\n",
    "print(\"Positive and Correct Events\")\n",
    "print(compare_dicts_values(posXtest, pos_LSTM),\"% relative to RF events\")\n",
    "print(\"__________________________________\")\n",
    "print(\"Negative and Correct Events\")\n",
    "print(compare_dicts_values(negXtest, neg_LSTM),\"% relative to RF events\")\n",
    "print(\"__________________________________\")\n",
    "print(\"Positive and Incorrect Events\")\n",
    "print(compare_dicts_values(FposXtest, Fpos_LSTM),\"% relative to RF events\")\n",
    "print(\"__________________________________\")\n",
    "print(\"Negative and Inorrect Events\")\n",
    "print(compare_dicts_values(FnegXtest, Fneg_LSTM),\"% relative to RF events\")"
   ]
  },
  {
   "cell_type": "code",
   "execution_count": 17,
   "id": "76e526bc",
   "metadata": {},
   "outputs": [
    {
     "name": "stdout",
     "output_type": "stream",
     "text": [
      "Positive and Correct Events\n",
      "RF EOF total unique indices: 146\n",
      "LSTM total unique indices: 201\n",
      "There are 119 shared indices. The RF EOF model has 27 unique events and the LSTM model has 82.\n",
      "__________________________________\n",
      "Negative and Correct Events\n",
      "RF EOF total unique indices: 174\n",
      "LSTM total unique indices: 516\n",
      "There are 142 shared indices. The RF EOF model has 32 unique events and the LSTM model has 374.\n"
     ]
    }
   ],
   "source": [
    "RF_count = collections.Counter() ##RF counter dictionary\n",
    "for day in posXtest:\n",
    "    RF_count[day] += 1\n",
    "LSTM_count = collections.Counter() ##LSTM counter dictionary\n",
    "for day in pos_LSTM:\n",
    "    LSTM_count[day] += 1\n",
    "count, RF, EOF = compare_keys(posXtest, pos_LSTM)\n",
    "print(\"Positive and Correct Events\")\n",
    "print(\"RF EOF total unique indices: \"+str(len(RF_count)))\n",
    "print(\"LSTM total unique indices: \"+str(len(LSTM_count)))\n",
    "print(\"There are \"+str(len(count))+\" shared indices. The RF EOF model has \"+str(len(RF))+\" unique events and the LSTM model has \"+str(len(EOF))+\".\")\n",
    "print(\"__________________________________\")\n",
    "\n",
    "RF_count = collections.Counter() ##RF counter dictionary\n",
    "for day in negXtest:\n",
    "    RF_count[day] += 1\n",
    "LSTM_count = collections.Counter() ##LSTM counter dictionary\n",
    "for day in neg_LSTM:\n",
    "    LSTM_count[day] += 1\n",
    "count, RF, EOF = compare_keys(negXtest, neg_LSTM)\n",
    "print(\"Negative and Correct Events\")\n",
    "print(\"RF EOF total unique indices: \"+str(len(RF_count)))\n",
    "print(\"LSTM total unique indices: \"+str(len(LSTM_count)))\n",
    "print(\"There are \"+str(len(count))+\" shared indices. The RF EOF model has \"+str(len(RF))+\" unique events and the LSTM model has \"+str(len(EOF))+\".\")"
   ]
  },
  {
   "cell_type": "raw",
   "id": "56943206",
   "metadata": {},
   "source": [
    "#save shared keys for composite plots. \n",
    "pos_count= compare_keys(posXtest, pos_LSTM)\n",
    "neg_count = compare_keys(negXtest, neg_LSTM)\n",
    "Fpos_count = compare_keys(FposXtest, Fpos_LSTM)\n",
    "Fneg_count = compare_keys(FnegXtest, Fneg_LSTM)\n",
    "\n",
    "pickle.dump(pos_count, open(\"./shared_keys/sharedPOS_eur14.p\", 'wb'))\n",
    "pickle.dump(Fpos_count, open(\"./shared_keys/sharedFPOS_eur14.p\", 'wb'))\n",
    "pickle.dump(neg_count, open(\"./shared_keys/sharedNEG_eur14.p\", 'wb'))\n",
    "pickle.dump(Fneg_count, open(\"./shared_keys/sharedFNEG_eur14.p\", 'wb'))"
   ]
  }
 ],
 "metadata": {
  "kernelspec": {
   "display_name": "Python 3 (ipykernel)",
   "language": "python",
   "name": "python3"
  },
  "language_info": {
   "codemirror_mode": {
    "name": "ipython",
    "version": 3
   },
   "file_extension": ".py",
   "mimetype": "text/x-python",
   "name": "python",
   "nbconvert_exporter": "python",
   "pygments_lexer": "ipython3",
   "version": "3.10.12"
  }
 },
 "nbformat": 4,
 "nbformat_minor": 5
}
