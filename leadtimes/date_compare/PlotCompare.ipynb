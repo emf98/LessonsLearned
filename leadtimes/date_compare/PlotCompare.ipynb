{
 "cells": [
  {
   "cell_type": "markdown",
   "id": "18131c62",
   "metadata": {},
   "source": [
    "## Create Overlap Plots of Shared Data from different regions/leads\n",
    "\n",
    "File created 10/7/2025"
   ]
  },
  {
   "cell_type": "raw",
   "id": "1fb4578c",
   "metadata": {
    "jupyter": {
     "source_hidden": true
    }
   },
   "source": [
    "!pip install geopy"
   ]
  },
  {
   "cell_type": "code",
   "execution_count": 1,
   "id": "f5db1141",
   "metadata": {},
   "outputs": [],
   "source": [
    "#relevant import statements\n",
    "import numpy as np\n",
    "import math\n",
    "import pandas as pd\n",
    "import xarray as xr \n",
    "import pickle \n",
    "import matplotlib.pyplot as plt\n",
    "\n",
    "##just to stop the excess number of warnings \n",
    "import warnings\n",
    "warnings.filterwarnings('ignore')\n",
    "\n",
    "from cartopy.mpl.gridliner import LONGITUDE_FORMATTER, LATITUDE_FORMATTER\n",
    "from geopy.distance import great_circle\n",
    "import cartopy.crs as ccrs\n",
    "from matplotlib.path import Path"
   ]
  },
  {
   "cell_type": "code",
   "execution_count": 2,
   "id": "f3f505b2",
   "metadata": {},
   "outputs": [],
   "source": [
    "##import files to make the plots\n",
    "from Modified_PredictionPlots import extrapolate\n",
    "from Modified_PredictionPlots import daily_anomaly\n",
    "\n",
    "from Modified_PredictionPlots import preprocess_ellipse\n",
    "from Modified_PredictionPlots import CScheckevent_label\n",
    "\n",
    "from Modified_PredictionPlots import combine_cross\n",
    "\n",
    "from DateCompare import date_place"
   ]
  },
  {
   "cell_type": "code",
   "execution_count": 3,
   "id": "12fa03e0",
   "metadata": {},
   "outputs": [],
   "source": [
    "##set up input file \n",
    "shift = 14\n",
    "idx = 135 #129 for 20, 119 for 30."
   ]
  },
  {
   "cell_type": "code",
   "execution_count": 4,
   "id": "6d8a0798",
   "metadata": {},
   "outputs": [
    {
     "name": "stdout",
     "output_type": "stream",
     "text": [
      "GPH shape:  (10, 135, 26, 181)\n"
     ]
    }
   ],
   "source": [
    "##for horizontal cross sections of GPH\n",
    "infile = open(\"../../data/gph/1959composite_capGPH10.p\",\"rb\")\n",
    "gph_input = pickle.load(infile)  ##GPH vertical cross section along longitudes\n",
    "gph_input = np.delete(gph_input,[151],1)\n",
    "GPH = gph_input[52:62, 19+shift:168, :, :].reshape((10, idx, 26, 180)) \n",
    "GPH = extrapolate(GPH)\n",
    "infile.close()\n",
    "\n",
    "infile = open(\"../../data/gph/1959anom_capGPH10.p\",\"rb\")\n",
    "gph_input = pickle.load(infile)  ##GPH vertical cross section along longitudes\n",
    "gph_input = np.delete(gph_input,[151],1)\n",
    "GPHA = gph_input[52:62, 19+shift:168, :, :].reshape((10, idx, 26, 180))\n",
    "GPHA = extrapolate(GPHA)\n",
    "infile.close()\n",
    "\n",
    "print(\"GPH shape: \",GPH.shape)"
   ]
  },
  {
   "cell_type": "code",
   "execution_count": 5,
   "id": "7ebe54de",
   "metadata": {},
   "outputs": [
    {
     "name": "stdout",
     "output_type": "stream",
     "text": [
      "Vertical GPH shape:  (10, 135, 37, 180)\n"
     ]
    }
   ],
   "source": [
    "#for vertical cross sections of GPH\n",
    "infile = open(\"../../data/gph/1959_gphforNAO.p\",\"rb\")\n",
    "gph_input = pickle.load(infile)  ##GPH vertical cross section along longitudes\n",
    "gph_input = np.delete(gph_input,[151],1)\n",
    "vert_GPH= gph_input[52:62, 19+shift:168, :, :].reshape((10, idx, 37, 180)) \n",
    "infile.close()\n",
    "\n",
    "print(\"Vertical GPH shape: \",vert_GPH.shape)"
   ]
  },
  {
   "cell_type": "code",
   "execution_count": 6,
   "id": "54a09be7",
   "metadata": {},
   "outputs": [],
   "source": [
    "infile = open(\"../../data/NH_tempanoms_Nov90-40.p\",\"rb\",)\n",
    "temp_input = pickle.load(infile)  ##ZMehf vertical cross section along longitudes\n",
    "TEMP = temp_input[52:62, shift:, :, :].reshape((10, idx, 26, 180))\n",
    "TEMP = extrapolate(TEMP)\n",
    "infile.close()"
   ]
  },
  {
   "cell_type": "code",
   "execution_count": 7,
   "id": "f5dad18a",
   "metadata": {},
   "outputs": [],
   "source": [
    "##open indice files\n",
    "infile = open(\"./shared/sharedPOS14.p\", 'rb') \n",
    "posXtest = pickle.load(infile)\n",
    "infile.close()\n",
    "\n",
    "infile = open(\"./shared/sharedFPOS14.p\", 'rb') \n",
    "FposXtest = pickle.load(infile)\n",
    "infile.close()\n",
    "\n",
    "infile = open(\"./shared/sharedNEG14.p\", 'rb') \n",
    "negXtest = pickle.load(infile)\n",
    "infile.close()\n",
    "\n",
    "infile = open(\"./shared/sharedFNEG14.p\", 'rb') \n",
    "FnegXtest = pickle.load(infile)\n",
    "infile.close()"
   ]
  },
  {
   "cell_type": "markdown",
   "id": "942ed4d2",
   "metadata": {},
   "source": [
    "### Plot!"
   ]
  },
  {
   "cell_type": "code",
   "execution_count": 9,
   "id": "bfe4e3d0",
   "metadata": {},
   "outputs": [
    {
     "name": "stdout",
     "output_type": "stream",
     "text": [
      "There are 104 events for True Positives. Of those, 104 occur before January 10th and 0 occur after.\n",
      "____________________________________________________\n",
      "There are 57 events for True Negatives. Of those, 13 occur before January 10th and 44 occur after.\n",
      "____________________________________________________\n",
      "There are 1 events for False Positives. Of those, 1 occur before January 10th and 0 occur after.\n",
      "____________________________________________________\n",
      "There are 14 events for False Negatives. Of those, 3 occur before January 10th and 11 occur after.\n",
      "____________________________________________________\n"
     ]
    }
   ],
   "source": [
    "less, greater = date_place(posXtest, idx)\n",
    "print(\"There are \"+str(len(posXtest))+\" events for True Positives. Of those, \"+str(less)+\" occur before January 10th and \"+str(greater)+\" occur after.\")\n",
    "print(\"____________________________________________________\")\n",
    "\n",
    "less, greater = date_place(negXtest, idx)\n",
    "print(\"There are \"+str(len(negXtest))+\" events for True Negatives. Of those, \"+str(less)+\" occur before January 10th and \"+str(greater)+\" occur after.\")\n",
    "print(\"____________________________________________________\")\n",
    "\n",
    "less, greater = date_place(FposXtest, idx)\n",
    "print(\"There are \"+str(len(FposXtest))+\" events for False Positives. Of those, \"+str(less)+\" occur before January 10th and \"+str(greater)+\" occur after.\")\n",
    "print(\"____________________________________________________\")\n",
    "\n",
    "less, greater = date_place(FnegXtest, idx)\n",
    "print(\"There are \"+str(len(FnegXtest))+\" events for False Negatives. Of those, \"+str(less)+\" occur before January 10th and \"+str(greater)+\" occur after.\")\n",
    "print(\"____________________________________________________\")"
   ]
  },
  {
   "cell_type": "code",
   "execution_count": null,
   "id": "22f95393",
   "metadata": {},
   "outputs": [],
   "source": [
    "##GPH Cross Section\n",
    "#horizontal\n",
    "GPH_cpos = np.mean(CScheckevent_label(posXtest,GPH,idx),axis =0)\n",
    "GPH_cneg = np.mean(CScheckevent_label(negXtest,GPH,idx),axis =0)\n",
    "GPH_Fpos = np.mean(CScheckevent_label(FposXtest,GPH,idx),axis =0)\n",
    "GPH_Fneg = np.mean(CScheckevent_label(FnegXtest,GPH,idx),axis =0)\n",
    "GPHA_cpos = np.mean(CScheckevent_label(posXtest,GPHA,idx),axis =0)\n",
    "GPHA_cneg = np.mean(CScheckevent_label(negXtest,GPHA,idx),axis =0)\n",
    "GPHA_Fpos = np.mean(CScheckevent_label(FposXtest,GPHA,idx),axis =0)\n",
    "GPHA_Fneg = np.mean(CScheckevent_label(FnegXtest,GPHA,idx),axis =0)"
   ]
  },
  {
   "cell_type": "code",
   "execution_count": null,
   "id": "f7756a6a",
   "metadata": {},
   "outputs": [],
   "source": [
    "#vertical\n",
    "vert_GPH_cpos = np.mean(CScheckevent_label(posXtest,vert_GPH,idx),axis =0)\n",
    "vert_GPH_cneg = np.mean(CScheckevent_label(negXtest,vert_GPH,idx),axis =0)\n",
    "vert_GPH_Fpos = np.mean(CScheckevent_label(FposXtest,vert_GPH,idx),axis =0)\n",
    "vert_GPH_Fneg = np.mean(CScheckevent_label(FnegXtest,vert_GPH,idx),axis =0)"
   ]
  },
  {
   "cell_type": "code",
   "execution_count": null,
   "id": "5c515d5f",
   "metadata": {},
   "outputs": [],
   "source": [
    "##Temp Cross Section\n",
    "TEMP_cpos = np.mean(CScheckevent_label(posXtest,TEMP,idx),axis =0)\n",
    "TEMP_cneg = np.mean(CScheckevent_label(negXtest,TEMP,idx),axis =0)\n",
    "TEMP_Fpos = np.mean(CScheckevent_label(FposXtest,TEMP,idx),axis =0)\n",
    "TEMP_Fneg = np.mean(CScheckevent_label(FnegXtest,TEMP,idx),axis =0)"
   ]
  },
  {
   "cell_type": "code",
   "execution_count": null,
   "id": "1da9c3c2",
   "metadata": {},
   "outputs": [],
   "source": [
    "colorbarMin1 = -900\n",
    "colorbarMax1 = 900\n",
    "colorspace1 = 50\n",
    "\n",
    "colorbarMin2 = -200\n",
    "colorbarMax2 = 200\n",
    "colorspace2 = 25\n",
    "\n",
    "colorbarMin3 = -10\n",
    "colorbarMax3 = 10\n",
    "colorspace3 = 1"
   ]
  },
  {
   "cell_type": "code",
   "execution_count": null,
   "id": "d1a25e82",
   "metadata": {},
   "outputs": [],
   "source": [
    "combine_cross(GPH_cpos,GPH_cneg,vert_GPH_cpos,vert_GPH_cneg,TEMP_cpos,TEMP_cneg,\n",
    "              GPHA_cpos,GPHA_cneg, colorbarMin1, colorbarMax1, colorspace1,\n",
    "              colorbarMin2, colorbarMax2, colorspace2, colorbarMin3, colorbarMax3,\n",
    "              colorspace3,\"+14 days\", \"compar14_plots.png\")"
   ]
  },
  {
   "cell_type": "code",
   "execution_count": null,
   "id": "10af65fb",
   "metadata": {},
   "outputs": [],
   "source": []
  }
 ],
 "metadata": {
  "kernelspec": {
   "display_name": "Python 3 (ipykernel)",
   "language": "python",
   "name": "python3"
  },
  "language_info": {
   "codemirror_mode": {
    "name": "ipython",
    "version": 3
   },
   "file_extension": ".py",
   "mimetype": "text/x-python",
   "name": "python",
   "nbconvert_exporter": "python",
   "pygments_lexer": "ipython3",
   "version": "3.10.12"
  }
 },
 "nbformat": 4,
 "nbformat_minor": 5
}
