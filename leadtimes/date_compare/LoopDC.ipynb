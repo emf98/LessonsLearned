{
 "cells": [
  {
   "cell_type": "raw",
   "id": "f6d7e6f4",
   "metadata": {
    "jupyter": {
     "outputs_hidden": true,
     "source_hidden": true
    }
   },
   "source": [
    "!pip install matplotlib\n",
    "!pip install cartopy\n",
    "!pip install keras\n",
    "!pip install shap\n",
    "!pip install scipy\n",
    "!pip install netCDF4"
   ]
  },
  {
   "cell_type": "markdown",
   "id": "880c7bdf",
   "metadata": {},
   "source": [
    "## Loop and compare date indices shared by regions and lead times. \n",
    "\n",
    "File made 10/6/2025. "
   ]
  },
  {
   "cell_type": "code",
   "execution_count": 1,
   "id": "41ec5b9a",
   "metadata": {},
   "outputs": [],
   "source": [
    "#relevant import statements\n",
    "import numpy as np\n",
    "import math\n",
    "import pandas as pd\n",
    "import xarray as xr \n",
    "import pickle \n",
    "import matplotlib.pyplot as plt\n",
    "\n",
    "import collections\n",
    "\n",
    "from DateCompare import upload_data\n",
    "from DateCompare import three_compare_keys\n",
    "from DateCompare import two_compare_keys"
   ]
  },
  {
   "cell_type": "markdown",
   "id": "65fce54a",
   "metadata": {},
   "source": [
    "## BY REGION:"
   ]
  },
  {
   "cell_type": "markdown",
   "id": "b01259a4",
   "metadata": {},
   "source": [
    "###  Compare Europe dates. "
   ]
  },
  {
   "cell_type": "code",
   "execution_count": 2,
   "id": "75de9cf3",
   "metadata": {
    "jupyter": {
     "source_hidden": true
    }
   },
   "outputs": [
    {
     "name": "stdout",
     "output_type": "stream",
     "text": [
      "True Positive\n",
      "There are 12 shared indices for Europe at all leadtimes for TP.\n",
      "The 14-days has 168 unique events, 20-days has 144, and 30-days has 140.\n",
      "_________________________________________________________\n",
      "True Negative\n",
      "There are 15 shared indices for Europe at all leadtimes for TN.\n",
      "The 14-days has 157 unique events, 20-days has 158, and 30-days has 152.\n",
      "_________________________________________________________\n",
      "False Positive\n",
      "There are 0 shared indices for Europe at all leadtimes for FP.\n",
      "The 14-days has 68 unique events, 20-days has 72, and 30-days has 115.\n",
      "_________________________________________________________\n",
      "False Negative\n",
      "There are 0 shared indices for Europe at all leadtimes for FN.\n",
      "The 14-days has 88 unique events, 20-days has 80, and 30-days has 94.\n"
     ]
    }
   ],
   "source": [
    "print(\"True Positive\")\n",
    "string = \"posXtest_eur14.p\"\n",
    "\n",
    "list1 = upload_data(\"./14day_indices/\"+string)\n",
    "list2 = upload_data(\"./20day_indices/\"+string)\n",
    "list3 = upload_data(\"./30day_indices/\"+string)\n",
    "\n",
    "count, day14, day20, day30 = three_compare_keys(list1, list2, list3)\n",
    "print(\"There are \"+str(len(count))+\" shared indices for Europe at all leadtimes for TP.\")\n",
    "print(\"The 14-days has \"+str(len(day14))+\" unique events, 20-days has \"+str(len(day20))+\", and 30-days has \"+str(len(day30))+\".\")\n",
    "print(\"_________________________________________________________\")\n",
    "\n",
    "print(\"True Negative\")\n",
    "string = \"negXtest_eur14.p\"\n",
    "\n",
    "list1 = upload_data(\"./14day_indices/\"+string)\n",
    "list2 = upload_data(\"./20day_indices/\"+string)\n",
    "list3 = upload_data(\"./30day_indices/\"+string)\n",
    "\n",
    "count, day14, day20, day30 = three_compare_keys(list1, list2, list3)\n",
    "print(\"There are \"+str(len(count))+\" shared indices for Europe at all leadtimes for TN.\")\n",
    "print(\"The 14-days has \"+str(len(day14))+\" unique events, 20-days has \"+str(len(day20))+\", and 30-days has \"+str(len(day30))+\".\")\n",
    "print(\"_________________________________________________________\")\n",
    "\n",
    "print(\"False Positive\")\n",
    "string = \"FposXtest_eur14.p\"\n",
    "\n",
    "list1 = upload_data(\"./14day_indices/\"+string)\n",
    "list2 = upload_data(\"./20day_indices/\"+string)\n",
    "list3 = upload_data(\"./30day_indices/\"+string)\n",
    "\n",
    "count, day14, day20, day30 = three_compare_keys(list1, list2, list3)\n",
    "print(\"There are \"+str(len(count))+\" shared indices for Europe at all leadtimes for FP.\")\n",
    "print(\"The 14-days has \"+str(len(day14))+\" unique events, 20-days has \"+str(len(day20))+\", and 30-days has \"+str(len(day30))+\".\")\n",
    "print(\"_________________________________________________________\")\n",
    "\n",
    "print(\"False Negative\")\n",
    "string = \"FnegXtest_eur14.p\"\n",
    "\n",
    "list1 = upload_data(\"./14day_indices/\"+string)\n",
    "list2 = upload_data(\"./20day_indices/\"+string)\n",
    "list3 = upload_data(\"./30day_indices/\"+string)\n",
    "\n",
    "count, day14, day20, day30 = three_compare_keys(list1, list2, list3)\n",
    "print(\"There are \"+str(len(count))+\" shared indices for Europe at all leadtimes for FN.\")\n",
    "print(\"The 14-days has \"+str(len(day14))+\" unique events, 20-days has \"+str(len(day20))+\", and 30-days has \"+str(len(day30))+\".\")"
   ]
  },
  {
   "cell_type": "markdown",
   "id": "780e704b",
   "metadata": {},
   "source": [
    "### Compare Canada dates."
   ]
  },
  {
   "cell_type": "code",
   "execution_count": 3,
   "id": "7bce8a55",
   "metadata": {
    "jupyter": {
     "source_hidden": true
    }
   },
   "outputs": [
    {
     "name": "stdout",
     "output_type": "stream",
     "text": [
      "True Positive\n",
      "There are 5 shared indices for Canada at all leadtimes for TP.\n",
      "The 14-days has 119 unique events, 20-days has 137, and 30-days has 111.\n",
      "_________________________________________________________\n",
      "True Negative\n",
      "There are 3 shared indices for Canada at all leadtimes for TN.\n",
      "The 14-days has 149 unique events, 20-days has 150, and 30-days has 158.\n",
      "_________________________________________________________\n",
      "False Positive\n",
      "There are 0 shared indices for Canada at all leadtimes for FP.\n",
      "The 14-days has 12 unique events, 20-days has 38, and 30-days has 60.\n",
      "_________________________________________________________\n",
      "False Negative\n",
      "There are 1 shared indices for Canada at all leadtimes for FN.\n",
      "The 14-days has 66 unique events, 20-days has 65, and 30-days has 56.\n"
     ]
    }
   ],
   "source": [
    "print(\"True Positive\")\n",
    "string = \"posXtest_can14.p\"\n",
    "\n",
    "list1 = upload_data(\"./14day_indices/\"+string)\n",
    "list2 = upload_data(\"./20day_indices/\"+string)\n",
    "list3 = upload_data(\"./30day_indices/\"+string)\n",
    "\n",
    "count, day14, day20, day30 = three_compare_keys(list1, list2, list3)\n",
    "print(\"There are \"+str(len(count))+\" shared indices for Canada at all leadtimes for TP.\")\n",
    "print(\"The 14-days has \"+str(len(day14))+\" unique events, 20-days has \"+str(len(day20))+\", and 30-days has \"+str(len(day30))+\".\")\n",
    "print(\"_________________________________________________________\")\n",
    "\n",
    "print(\"True Negative\")\n",
    "string = \"negXtest_can14.p\"\n",
    "\n",
    "list1 = upload_data(\"./14day_indices/\"+string)\n",
    "list2 = upload_data(\"./20day_indices/\"+string)\n",
    "list3 = upload_data(\"./30day_indices/\"+string)\n",
    "\n",
    "count, day14, day20, day30 = three_compare_keys(list1, list2, list3)\n",
    "print(\"There are \"+str(len(count))+\" shared indices for Canada at all leadtimes for TN.\")\n",
    "print(\"The 14-days has \"+str(len(day14))+\" unique events, 20-days has \"+str(len(day20))+\", and 30-days has \"+str(len(day30))+\".\")\n",
    "print(\"_________________________________________________________\")\n",
    "\n",
    "print(\"False Positive\")\n",
    "string = \"FposXtest_can14.p\"\n",
    "\n",
    "list1 = upload_data(\"./14day_indices/\"+string)\n",
    "list2 = upload_data(\"./20day_indices/\"+string)\n",
    "list3 = upload_data(\"./30day_indices/\"+string)\n",
    "\n",
    "count, day14, day20, day30 = three_compare_keys(list1, list2, list3)\n",
    "print(\"There are \"+str(len(count))+\" shared indices for Canada at all leadtimes for FP.\")\n",
    "print(\"The 14-days has \"+str(len(day14))+\" unique events, 20-days has \"+str(len(day20))+\", and 30-days has \"+str(len(day30))+\".\")\n",
    "print(\"_________________________________________________________\")\n",
    "\n",
    "print(\"False Negative\")\n",
    "string = \"FnegXtest_can14.p\"\n",
    "\n",
    "list1 = upload_data(\"./14day_indices/\"+string)\n",
    "list2 = upload_data(\"./20day_indices/\"+string)\n",
    "list3 = upload_data(\"./30day_indices/\"+string)\n",
    "\n",
    "count, day14, day20, day30 = three_compare_keys(list1, list2, list3)\n",
    "print(\"There are \"+str(len(count))+\" shared indices for Canada at all leadtimes for FN.\")\n",
    "print(\"The 14-days has \"+str(len(day14))+\" unique events, 20-days has \"+str(len(day20))+\", and 30-days has \"+str(len(day30))+\".\")"
   ]
  },
  {
   "cell_type": "markdown",
   "id": "d9a00f2e",
   "metadata": {},
   "source": [
    "### Compare SE US dates."
   ]
  },
  {
   "cell_type": "code",
   "execution_count": 4,
   "id": "bb35ed1f",
   "metadata": {
    "jupyter": {
     "source_hidden": true
    }
   },
   "outputs": [
    {
     "name": "stdout",
     "output_type": "stream",
     "text": [
      "True Positive\n",
      "There are 0 shared indices for SE US at all leadtimes for TP.\n",
      "The 14-days has 131 unique events, 20-days has 92, and 30-days has 92.\n",
      "_________________________________________________________\n",
      "True Negative\n",
      "There are 1 shared indices for SE US at all leadtimes for TN.\n",
      "The 14-days has 127 unique events, 20-days has 127, and 30-days has 149.\n",
      "_________________________________________________________\n",
      "False Positive\n",
      "There are 0 shared indices for SE US at all leadtimes for FP.\n",
      "The 14-days has 73 unique events, 20-days has 56, and 30-days has 61.\n",
      "_________________________________________________________\n",
      "False Negative\n",
      "There are 0 shared indices for SE US at all leadtimes for FN.\n",
      "The 14-days has 57 unique events, 20-days has 58, and 30-days has 54.\n"
     ]
    }
   ],
   "source": [
    "print(\"True Positive\")\n",
    "string = \"posXtest_seu14.p\"\n",
    "\n",
    "list1 = upload_data(\"./14day_indices/\"+string)\n",
    "list2 = upload_data(\"./20day_indices/\"+string)\n",
    "list3 = upload_data(\"./30day_indices/\"+string)\n",
    "\n",
    "count, day14, day20, day30 = three_compare_keys(list1, list2, list3)\n",
    "print(\"There are \"+str(len(count))+\" shared indices for SE US at all leadtimes for TP.\")\n",
    "print(\"The 14-days has \"+str(len(day14))+\" unique events, 20-days has \"+str(len(day20))+\", and 30-days has \"+str(len(day30))+\".\")\n",
    "print(\"_________________________________________________________\")\n",
    "\n",
    "print(\"True Negative\")\n",
    "string = \"negXtest_seu14.p\"\n",
    "\n",
    "list1 = upload_data(\"./14day_indices/\"+string)\n",
    "list2 = upload_data(\"./20day_indices/\"+string)\n",
    "list3 = upload_data(\"./30day_indices/\"+string)\n",
    "\n",
    "count, day14, day20, day30 = three_compare_keys(list1, list2, list3)\n",
    "print(\"There are \"+str(len(count))+\" shared indices for SE US at all leadtimes for TN.\")\n",
    "print(\"The 14-days has \"+str(len(day14))+\" unique events, 20-days has \"+str(len(day20))+\", and 30-days has \"+str(len(day30))+\".\")\n",
    "print(\"_________________________________________________________\")\n",
    "\n",
    "print(\"False Positive\")\n",
    "string = \"FposXtest_seu14.p\"\n",
    "\n",
    "list1 = upload_data(\"./14day_indices/\"+string)\n",
    "list2 = upload_data(\"./20day_indices/\"+string)\n",
    "list3 = upload_data(\"./30day_indices/\"+string)\n",
    "\n",
    "count, day14, day20, day30 = three_compare_keys(list1, list2, list3)\n",
    "print(\"There are \"+str(len(count))+\" shared indices for SE US at all leadtimes for FP.\")\n",
    "print(\"The 14-days has \"+str(len(day14))+\" unique events, 20-days has \"+str(len(day20))+\", and 30-days has \"+str(len(day30))+\".\")\n",
    "print(\"_________________________________________________________\")\n",
    "\n",
    "print(\"False Negative\")\n",
    "string = \"FnegXtest_seu14.p\"\n",
    "\n",
    "list1 = upload_data(\"./14day_indices/\"+string)\n",
    "list2 = upload_data(\"./20day_indices/\"+string)\n",
    "list3 = upload_data(\"./30day_indices/\"+string)\n",
    "\n",
    "count, day14, day20, day30 = three_compare_keys(list1, list2, list3)\n",
    "print(\"There are \"+str(len(count))+\" shared indices for SE US at all leadtimes for FN.\")\n",
    "print(\"The 14-days has \"+str(len(day14))+\" unique events, 20-days has \"+str(len(day20))+\", and 30-days has \"+str(len(day30))+\".\")"
   ]
  },
  {
   "cell_type": "markdown",
   "id": "0999e25a",
   "metadata": {},
   "source": [
    "### Just Europe and Canada ... by leadtime. "
   ]
  },
  {
   "cell_type": "code",
   "execution_count": 5,
   "id": "3b588a9d",
   "metadata": {
    "jupyter": {
     "source_hidden": true
    }
   },
   "outputs": [
    {
     "name": "stdout",
     "output_type": "stream",
     "text": [
      "#################################\n",
      "14 days\n",
      "True Positive\n",
      "There are 104 shared indices at 14-days in Europe and Canada in TP.\n",
      "The Europe has 113 unique events and Canada has 44.\n",
      "_________________________________________________________\n",
      "True Negative\n",
      "There are 57 shared indices at 14-days in Europe and Canada in TN.\n",
      "The Europe has 171 unique events and Canada has 140.\n",
      "_________________________________________________________\n",
      "False Positive\n",
      "There are 1 shared indices at 14-days in Europe and Canada in FP.\n",
      "The Europe has 72 unique events and Canada has 12.\n",
      "_________________________________________________________\n",
      "False Negative\n",
      "There are 14 shared indices at 14-days in Europe and Canada in FN.\n",
      "The Europe has 95 unique events and Canada has 60.\n",
      "#################################\n",
      "20 days\n",
      "True Positive\n",
      "There are 83 shared indices at 20-days in Europe and Canada in TP.\n",
      "The Europe has 102 unique events and Canada has 84.\n",
      "_________________________________________________________\n",
      "True Negative\n",
      "There are 55 shared indices at 20-days in Europe and Canada in TN.\n",
      "The Europe has 165 unique events and Canada has 136.\n",
      "_________________________________________________________\n",
      "False Positive\n",
      "There are 1 shared indices at 20-days in Europe and Canada in FP.\n",
      "The Europe has 82 unique events and Canada has 38.\n",
      "_________________________________________________________\n",
      "False Negative\n",
      "There are 11 shared indices at 20-days in Europe and Canada in FN.\n",
      "The Europe has 88 unique events and Canada has 65.\n",
      "#################################\n",
      "30 days\n",
      "True Positive\n",
      "There are 45 shared indices at 30-days in Europe and Canada in TP.\n",
      "The Europe has 131 unique events and Canada has 78.\n",
      "_________________________________________________________\n",
      "True Negative\n",
      "There are 41 shared indices at 30-days in Europe and Canada in TN.\n",
      "The Europe has 171 unique events and Canada has 149.\n",
      "_________________________________________________________\n",
      "False Positive\n",
      "There are 3 shared indices at 30-days in Europe and Canada in FP.\n",
      "The Europe has 124 unique events and Canada has 57.\n",
      "_________________________________________________________\n",
      "False Negative\n",
      "There are 12 shared indices at 30-days in Europe and Canada in FN.\n",
      "The Europe has 92 unique events and Canada has 50.\n",
      "_________________________________________________________\n"
     ]
    }
   ],
   "source": [
    "print(\"#################################\")\n",
    "print(\"14 days\")\n",
    "print(\"True Positive\")\n",
    "list1 = upload_data(\"./14day_indices/posXtest_eur14.p\")\n",
    "list2 = upload_data(\"./14day_indices/posXtest_can14.p\")\n",
    "\n",
    "count, l1, l2 = two_compare_keys(list1, list2)\n",
    "print(\"There are \"+str(len(count))+\" shared indices at 14-days in Europe and Canada in TP.\")\n",
    "print(\"The Europe has \"+str(len(l1))+\" unique events and Canada has \"+str(len(l2))+\".\")\n",
    "pickle.dump(count, open(\"./shared/sharedPOS14.p\", 'wb'))\n",
    "print(\"_________________________________________________________\")\n",
    "\n",
    "print(\"True Negative\")\n",
    "list1 = upload_data(\"./14day_indices/negXtest_eur14.p\")\n",
    "list2 = upload_data(\"./14day_indices/negXtest_can14.p\")\n",
    "\n",
    "count, l1, l2 = two_compare_keys(list1, list2)\n",
    "print(\"There are \"+str(len(count))+\" shared indices at 14-days in Europe and Canada in TN.\")\n",
    "print(\"The Europe has \"+str(len(l1))+\" unique events and Canada has \"+str(len(l2))+\".\")\n",
    "pickle.dump(count, open(\"./shared/sharedNEG14.p\", 'wb'))\n",
    "print(\"_________________________________________________________\")\n",
    "\n",
    "print(\"False Positive\")\n",
    "list1 = upload_data(\"./14day_indices/FposXtest_eur14.p\")\n",
    "list2 = upload_data(\"./14day_indices/FposXtest_can14.p\")\n",
    "\n",
    "count, l1, l2 = two_compare_keys(list1, list2)\n",
    "print(\"There are \"+str(len(count))+\" shared indices at 14-days in Europe and Canada in FP.\")\n",
    "print(\"The Europe has \"+str(len(l1))+\" unique events and Canada has \"+str(len(l2))+\".\")\n",
    "pickle.dump(count, open(\"./shared/sharedFPOS14.p\", 'wb'))\n",
    "print(\"_________________________________________________________\")\n",
    "\n",
    "print(\"False Negative\")\n",
    "list1 = upload_data(\"./14day_indices/FnegXtest_eur14.p\")\n",
    "list2 = upload_data(\"./14day_indices/FnegXtest_can14.p\")\n",
    "\n",
    "count, l1, l2 = two_compare_keys(list1, list2)\n",
    "print(\"There are \"+str(len(count))+\" shared indices at 14-days in Europe and Canada in FN.\")\n",
    "print(\"The Europe has \"+str(len(l1))+\" unique events and Canada has \"+str(len(l2))+\".\")\n",
    "pickle.dump(count, open(\"./shared/sharedFNEG14.p\", 'wb'))\n",
    "\n",
    "print(\"#################################\")\n",
    "\n",
    "print(\"20 days\")\n",
    "print(\"True Positive\")\n",
    "list1 = upload_data(\"./20day_indices/posXtest_eur14.p\")\n",
    "list2 = upload_data(\"./20day_indices/posXtest_can14.p\")\n",
    "\n",
    "count, l1, l2 = two_compare_keys(list1, list2)\n",
    "print(\"There are \"+str(len(count))+\" shared indices at 20-days in Europe and Canada in TP.\")\n",
    "print(\"The Europe has \"+str(len(l1))+\" unique events and Canada has \"+str(len(l2))+\".\")\n",
    "pickle.dump(count, open(\"./shared/sharedPOS20.p\", 'wb'))\n",
    "print(\"_________________________________________________________\")\n",
    "\n",
    "print(\"True Negative\")\n",
    "list1 = upload_data(\"./20day_indices/negXtest_eur14.p\")\n",
    "list2 = upload_data(\"./20day_indices/negXtest_can14.p\")\n",
    "\n",
    "count, l1, l2 = two_compare_keys(list1, list2)\n",
    "print(\"There are \"+str(len(count))+\" shared indices at 20-days in Europe and Canada in TN.\")\n",
    "print(\"The Europe has \"+str(len(l1))+\" unique events and Canada has \"+str(len(l2))+\".\")\n",
    "pickle.dump(count, open(\"./shared/sharedNEG20.p\", 'wb'))\n",
    "print(\"_________________________________________________________\")\n",
    "\n",
    "print(\"False Positive\")\n",
    "list1 = upload_data(\"./20day_indices/FposXtest_eur14.p\")\n",
    "list2 = upload_data(\"./20day_indices/FposXtest_can14.p\")\n",
    "\n",
    "count, l1, l2 = two_compare_keys(list1, list2)\n",
    "print(\"There are \"+str(len(count))+\" shared indices at 20-days in Europe and Canada in FP.\")\n",
    "print(\"The Europe has \"+str(len(l1))+\" unique events and Canada has \"+str(len(l2))+\".\")\n",
    "pickle.dump(count, open(\"./shared/sharedFPOS20.p\", 'wb'))\n",
    "print(\"_________________________________________________________\")\n",
    "\n",
    "print(\"False Negative\")\n",
    "list1 = upload_data(\"./20day_indices/FnegXtest_eur14.p\")\n",
    "list2 = upload_data(\"./20day_indices/FnegXtest_can14.p\")\n",
    "\n",
    "count, l1, l2 = two_compare_keys(list1, list2)\n",
    "print(\"There are \"+str(len(count))+\" shared indices at 20-days in Europe and Canada in FN.\")\n",
    "print(\"The Europe has \"+str(len(l1))+\" unique events and Canada has \"+str(len(l2))+\".\")\n",
    "pickle.dump(count, open(\"./shared/sharedFNEG20.p\", 'wb'))\n",
    "\n",
    "print(\"#################################\")\n",
    "\n",
    "print(\"30 days\")\n",
    "print(\"True Positive\")\n",
    "list1 = upload_data(\"./30day_indices/posXtest_eur14.p\")\n",
    "list2 = upload_data(\"./30day_indices/posXtest_can14.p\")\n",
    "\n",
    "count, l1, l2 = two_compare_keys(list1, list2)\n",
    "print(\"There are \"+str(len(count))+\" shared indices at 30-days in Europe and Canada in TP.\")\n",
    "print(\"The Europe has \"+str(len(l1))+\" unique events and Canada has \"+str(len(l2))+\".\")\n",
    "pickle.dump(count, open(\"./shared/sharedPOS30.p\", 'wb'))\n",
    "print(\"_________________________________________________________\")\n",
    "\n",
    "print(\"True Negative\")\n",
    "list1 = upload_data(\"./30day_indices/negXtest_eur14.p\")\n",
    "list2 = upload_data(\"./30day_indices/negXtest_can14.p\")\n",
    "\n",
    "count, l1, l2 = two_compare_keys(list1, list2)\n",
    "print(\"There are \"+str(len(count))+\" shared indices at 30-days in Europe and Canada in TN.\")\n",
    "print(\"The Europe has \"+str(len(l1))+\" unique events and Canada has \"+str(len(l2))+\".\")\n",
    "pickle.dump(count, open(\"./shared/sharedNEG30.p\", 'wb'))\n",
    "print(\"_________________________________________________________\")\n",
    "\n",
    "print(\"False Positive\")\n",
    "list1 = upload_data(\"./30day_indices/FposXtest_eur14.p\")\n",
    "list2 = upload_data(\"./30day_indices/FposXtest_can14.p\")\n",
    "\n",
    "count, l1, l2 = two_compare_keys(list1, list2)\n",
    "print(\"There are \"+str(len(count))+\" shared indices at 30-days in Europe and Canada in FP.\")\n",
    "print(\"The Europe has \"+str(len(l1))+\" unique events and Canada has \"+str(len(l2))+\".\")\n",
    "pickle.dump(count, open(\"./shared/sharedFPOS30.p\", 'wb'))\n",
    "print(\"_________________________________________________________\")\n",
    "\n",
    "print(\"False Negative\")\n",
    "list1 = upload_data(\"./30day_indices/FnegXtest_eur14.p\")\n",
    "list2 = upload_data(\"./30day_indices/FnegXtest_can14.p\")\n",
    "\n",
    "count, l1, l2 = two_compare_keys(list1, list2)\n",
    "print(\"There are \"+str(len(count))+\" shared indices at 30-days in Europe and Canada in FN.\")\n",
    "print(\"The Europe has \"+str(len(l1))+\" unique events and Canada has \"+str(len(l2))+\".\")\n",
    "pickle.dump(count, open(\"./shared/sharedFNEG30.p\", 'wb'))\n",
    "print(\"_________________________________________________________\")"
   ]
  },
  {
   "cell_type": "markdown",
   "id": "8edd7737",
   "metadata": {},
   "source": [
    "## BY LEADTIME:"
   ]
  },
  {
   "cell_type": "markdown",
   "id": "adb27229",
   "metadata": {},
   "source": [
    "### 14 days"
   ]
  },
  {
   "cell_type": "code",
   "execution_count": 6,
   "id": "3aefac38",
   "metadata": {
    "jupyter": {
     "source_hidden": true
    }
   },
   "outputs": [
    {
     "name": "stdout",
     "output_type": "stream",
     "text": [
      "True Positive\n",
      "There are 29 shared indices at 14-days in all regions in TP.\n",
      "The Europe has 109 unique events, Canada has 38, and SE US has 105.\n",
      "_________________________________________________________\n",
      "True Negative\n",
      "There are 17 shared indices at 14-days in all regions in TN.\n",
      "The Europe has 137 unique events, Canada has 106, and SE US has 68.\n",
      "_________________________________________________________\n",
      "False Positive\n",
      "There are 0 shared indices at 14-days in all regions in FP.\n",
      "The Europe has 64 unique events, Canada has 12, and SE US has 77.\n",
      "_________________________________________________________\n",
      "False Negative\n",
      "There are 2 shared indices at 14-days in all regions in FN.\n",
      "The Europe has 82 unique events, Canada has 54, and SE US has 37.\n"
     ]
    }
   ],
   "source": [
    "print(\"True Positive\")\n",
    "list1 = upload_data(\"./14day_indices/posXtest_eur14.p\")\n",
    "list2 = upload_data(\"./14day_indices/posXtest_can14.p\")\n",
    "list3 = upload_data(\"./14day_indices/posXtest_seu14.p\")\n",
    "\n",
    "count, l1, l2, l3 = three_compare_keys(list1, list2, list3)\n",
    "print(\"There are \"+str(len(count))+\" shared indices at 14-days in all regions in TP.\")\n",
    "print(\"The Europe has \"+str(len(l1))+\" unique events, Canada has \"+str(len(l2))+\", and SE US has \"+str(len(l3))+\".\")\n",
    "print(\"_________________________________________________________\")\n",
    "\n",
    "print(\"True Negative\")\n",
    "list1 = upload_data(\"./14day_indices/negXtest_eur14.p\")\n",
    "list2 = upload_data(\"./14day_indices/negXtest_can14.p\")\n",
    "list3 = upload_data(\"./14day_indices/negXtest_seu14.p\")\n",
    "\n",
    "count, l1, l2, l3 = three_compare_keys(list1, list2, list3)\n",
    "print(\"There are \"+str(len(count))+\" shared indices at 14-days in all regions in TN.\")\n",
    "print(\"The Europe has \"+str(len(l1))+\" unique events, Canada has \"+str(len(l2))+\", and SE US has \"+str(len(l3))+\".\")\n",
    "print(\"_________________________________________________________\")\n",
    "\n",
    "print(\"False Positive\")\n",
    "list1 = upload_data(\"./14day_indices/FposXtest_eur14.p\")\n",
    "list2 = upload_data(\"./14day_indices/FposXtest_can14.p\")\n",
    "list3 = upload_data(\"./14day_indices/FposXtest_seu14.p\")\n",
    "\n",
    "count, l1, l2, l3 = three_compare_keys(list1, list2, list3)\n",
    "print(\"There are \"+str(len(count))+\" shared indices at 14-days in all regions in FP.\")\n",
    "print(\"The Europe has \"+str(len(l1))+\" unique events, Canada has \"+str(len(l2))+\", and SE US has \"+str(len(l3))+\".\")\n",
    "print(\"_________________________________________________________\")\n",
    "\n",
    "print(\"False Negative\")\n",
    "list1 = upload_data(\"./14day_indices/FnegXtest_eur14.p\")\n",
    "list2 = upload_data(\"./14day_indices/FnegXtest_can14.p\")\n",
    "list3 = upload_data(\"./14day_indices/FnegXtest_seu14.p\")\n",
    "\n",
    "count, l1, l2, l3 = three_compare_keys(list1, list2, list3)\n",
    "print(\"There are \"+str(len(count))+\" shared indices at 14-days in all regions in FN.\")\n",
    "print(\"The Europe has \"+str(len(l1))+\" unique events, Canada has \"+str(len(l2))+\", and SE US has \"+str(len(l3))+\".\")"
   ]
  },
  {
   "cell_type": "markdown",
   "id": "caf23124",
   "metadata": {},
   "source": [
    "### 20 days"
   ]
  },
  {
   "cell_type": "code",
   "execution_count": 7,
   "id": "6478203c",
   "metadata": {
    "jupyter": {
     "source_hidden": true
    }
   },
   "outputs": [
    {
     "name": "stdout",
     "output_type": "stream",
     "text": [
      "True Positive\n",
      "There are 0 shared indices at 20-days in all regions in TP.\n",
      "The Europe has 94 unique events, Canada has 78, and SE US has 99.\n",
      "_________________________________________________________\n",
      "True Negative\n",
      "There are 19 shared indices at 20-days in all regions in TN.\n",
      "The Europe has 134 unique events, Canada has 107, and SE US has 79.\n",
      "_________________________________________________________\n",
      "False Positive\n",
      "There are 0 shared indices at 20-days in all regions in FP.\n",
      "The Europe has 76 unique events, Canada has 38, and SE US has 70.\n",
      "_________________________________________________________\n",
      "False Negative\n",
      "There are 1 shared indices at 20-days in all regions in FN.\n",
      "The Europe has 74 unique events, Canada has 58, and SE US has 39.\n"
     ]
    }
   ],
   "source": [
    "print(\"True Positive\")\n",
    "list1 = upload_data(\"./20day_indices/posXtest_eur14.p\")\n",
    "list2 = upload_data(\"./20day_indices/posXtest_can14.p\")\n",
    "list3 = upload_data(\"./20day_indices/posXtest_seu14.p\")\n",
    "\n",
    "count, l1, l2, l3 = three_compare_keys(list1, list2, list3)\n",
    "print(\"There are \"+str(len(count))+\" shared indices at 20-days in all regions in TP.\")\n",
    "print(\"The Europe has \"+str(len(l1))+\" unique events, Canada has \"+str(len(l2))+\", and SE US has \"+str(len(l3))+\".\")\n",
    "print(\"_________________________________________________________\")\n",
    "\n",
    "print(\"True Negative\")\n",
    "list1 = upload_data(\"./20day_indices/negXtest_eur14.p\")\n",
    "list2 = upload_data(\"./20day_indices/negXtest_can14.p\")\n",
    "list3 = upload_data(\"./20day_indices/negXtest_seu14.p\")\n",
    "\n",
    "count, l1, l2, l3 = three_compare_keys(list1, list2, list3)\n",
    "print(\"There are \"+str(len(count))+\" shared indices at 20-days in all regions in TN.\")\n",
    "print(\"The Europe has \"+str(len(l1))+\" unique events, Canada has \"+str(len(l2))+\", and SE US has \"+str(len(l3))+\".\")\n",
    "print(\"_________________________________________________________\")\n",
    "\n",
    "print(\"False Positive\")\n",
    "list1 = upload_data(\"./20day_indices/FposXtest_eur14.p\")\n",
    "list2 = upload_data(\"./20day_indices/FposXtest_can14.p\")\n",
    "list3 = upload_data(\"./20day_indices/FposXtest_seu14.p\")\n",
    "\n",
    "count, l1, l2, l3 = three_compare_keys(list1, list2, list3)\n",
    "print(\"There are \"+str(len(count))+\" shared indices at 20-days in all regions in FP.\")\n",
    "print(\"The Europe has \"+str(len(l1))+\" unique events, Canada has \"+str(len(l2))+\", and SE US has \"+str(len(l3))+\".\")\n",
    "print(\"_________________________________________________________\")\n",
    "\n",
    "print(\"False Negative\")\n",
    "list1 = upload_data(\"./20day_indices/FnegXtest_eur14.p\")\n",
    "list2 = upload_data(\"./20day_indices/FnegXtest_can14.p\")\n",
    "list3 = upload_data(\"./20day_indices/FnegXtest_seu14.p\")\n",
    "\n",
    "count, l1, l2, l3 = three_compare_keys(list1, list2, list3)\n",
    "print(\"There are \"+str(len(count))+\" shared indices at 20-days in all regions in FN.\")\n",
    "print(\"The Europe has \"+str(len(l1))+\" unique events, Canada has \"+str(len(l2))+\", and SE US has \"+str(len(l3))+\".\")"
   ]
  },
  {
   "cell_type": "markdown",
   "id": "3e5c574a",
   "metadata": {},
   "source": [
    "### 30 days"
   ]
  },
  {
   "cell_type": "code",
   "execution_count": 8,
   "id": "c8176a28",
   "metadata": {
    "jupyter": {
     "source_hidden": true
    }
   },
   "outputs": [
    {
     "name": "stdout",
     "output_type": "stream",
     "text": [
      "True Positive\n",
      "There are 0 shared indices at 30-days in all regions in TP.\n",
      "The Europe has 119 unique events, Canada has 68, and SE US has 86.\n",
      "_________________________________________________________\n",
      "True Negative\n",
      "There are 14 shared indices at 30-days in all regions in TN.\n",
      "The Europe has 139 unique events, Canada has 125, and SE US has 89.\n",
      "_________________________________________________________\n",
      "False Positive\n",
      "There are 0 shared indices at 30-days in all regions in FP.\n",
      "The Europe has 117 unique events, Canada has 55, and SE US has 64.\n",
      "_________________________________________________________\n",
      "False Negative\n",
      "There are 2 shared indices at 30-days in all regions in FN.\n",
      "The Europe has 79 unique events, Canada has 46, and SE US has 37.\n"
     ]
    }
   ],
   "source": [
    "print(\"True Positive\")\n",
    "list1 = upload_data(\"./30day_indices/posXtest_eur14.p\")\n",
    "list2 = upload_data(\"./30day_indices/posXtest_can14.p\")\n",
    "list3 = upload_data(\"./30day_indices/posXtest_seu14.p\")\n",
    "\n",
    "count, l1, l2, l3 = three_compare_keys(list1, list2, list3)\n",
    "print(\"There are \"+str(len(count))+\" shared indices at 30-days in all regions in TP.\")\n",
    "print(\"The Europe has \"+str(len(l1))+\" unique events, Canada has \"+str(len(l2))+\", and SE US has \"+str(len(l3))+\".\")\n",
    "print(\"_________________________________________________________\")\n",
    "\n",
    "print(\"True Negative\")\n",
    "list1 = upload_data(\"./30day_indices/negXtest_eur14.p\")\n",
    "list2 = upload_data(\"./30day_indices/negXtest_can14.p\")\n",
    "list3 = upload_data(\"./30day_indices/negXtest_seu14.p\")\n",
    "\n",
    "count, l1, l2, l3 = three_compare_keys(list1, list2, list3)\n",
    "print(\"There are \"+str(len(count))+\" shared indices at 30-days in all regions in TN.\")\n",
    "print(\"The Europe has \"+str(len(l1))+\" unique events, Canada has \"+str(len(l2))+\", and SE US has \"+str(len(l3))+\".\")\n",
    "print(\"_________________________________________________________\")\n",
    "\n",
    "print(\"False Positive\")\n",
    "list1 = upload_data(\"./30day_indices/FposXtest_eur14.p\")\n",
    "list2 = upload_data(\"./30day_indices/FposXtest_can14.p\")\n",
    "list3 = upload_data(\"./30day_indices/FposXtest_seu14.p\")\n",
    "\n",
    "count, l1, l2, l3 = three_compare_keys(list1, list2, list3)\n",
    "print(\"There are \"+str(len(count))+\" shared indices at 30-days in all regions in FP.\")\n",
    "print(\"The Europe has \"+str(len(l1))+\" unique events, Canada has \"+str(len(l2))+\", and SE US has \"+str(len(l3))+\".\")\n",
    "print(\"_________________________________________________________\")\n",
    "\n",
    "print(\"False Negative\")\n",
    "list1 = upload_data(\"./30day_indices/FnegXtest_eur14.p\")\n",
    "list2 = upload_data(\"./30day_indices/FnegXtest_can14.p\")\n",
    "list3 = upload_data(\"./30day_indices/FnegXtest_seu14.p\")\n",
    "\n",
    "count, l1, l2, l3 = three_compare_keys(list1, list2, list3)\n",
    "print(\"There are \"+str(len(count))+\" shared indices at 30-days in all regions in FN.\")\n",
    "print(\"The Europe has \"+str(len(l1))+\" unique events, Canada has \"+str(len(l2))+\", and SE US has \"+str(len(l3))+\".\")"
   ]
  },
  {
   "cell_type": "code",
   "execution_count": null,
   "id": "4bec215e",
   "metadata": {},
   "outputs": [],
   "source": []
  }
 ],
 "metadata": {
  "kernelspec": {
   "display_name": "Python 3 (ipykernel)",
   "language": "python",
   "name": "python3"
  },
  "language_info": {
   "codemirror_mode": {
    "name": "ipython",
    "version": 3
   },
   "file_extension": ".py",
   "mimetype": "text/x-python",
   "name": "python",
   "nbconvert_exporter": "python",
   "pygments_lexer": "ipython3",
   "version": "3.10.12"
  }
 },
 "nbformat": 4,
 "nbformat_minor": 5
}
