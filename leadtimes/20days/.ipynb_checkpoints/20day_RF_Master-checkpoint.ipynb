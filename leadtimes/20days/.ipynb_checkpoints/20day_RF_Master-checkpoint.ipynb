{
 "cells": [
  {
   "cell_type": "markdown",
   "id": "8912f69e",
   "metadata": {},
   "source": [
    "### Random Forests at 20-days leadtime for all regions.\n",
    "\n",
    "File generated 9/25/2025\n",
    "\n",
    "This file utilizes definition statements containing RF architecture to create three separate RF models, each for a designated forecast region. "
   ]
  },
  {
   "cell_type": "code",
   "execution_count": 1,
   "id": "14d00063",
   "metadata": {
    "jupyter": {
     "source_hidden": true
    }
   },
   "outputs": [
    {
     "name": "stderr",
     "output_type": "stream",
     "text": [
      "2025-09-25 21:01:32.955827: I tensorflow/core/util/port.cc:113] oneDNN custom operations are on. You may see slightly different numerical results due to floating-point round-off errors from different computation orders. To turn them off, set the environment variable `TF_ENABLE_ONEDNN_OPTS=0`.\n",
      "2025-09-25 21:01:32.986124: E external/local_xla/xla/stream_executor/cuda/cuda_dnn.cc:9373] Unable to register cuDNN factory: Attempting to register factory for plugin cuDNN when one has already been registered\n",
      "2025-09-25 21:01:32.986145: E external/local_xla/xla/stream_executor/cuda/cuda_fft.cc:607] Unable to register cuFFT factory: Attempting to register factory for plugin cuFFT when one has already been registered\n",
      "2025-09-25 21:01:32.986952: E external/local_xla/xla/stream_executor/cuda/cuda_blas.cc:1534] Unable to register cuBLAS factory: Attempting to register factory for plugin cuBLAS when one has already been registered\n",
      "2025-09-25 21:01:32.991679: I tensorflow/core/platform/cpu_feature_guard.cc:183] This TensorFlow binary is optimized to use available CPU instructions in performance-critical operations.\n",
      "To enable the following instructions: SSE3 SSE4.1 SSE4.2 AVX, in other operations, rebuild TensorFlow with the appropriate compiler flags.\n"
     ]
    }
   ],
   "source": [
    "#relevant import statements\n",
    "import numpy as np\n",
    "import math\n",
    "import pandas as pd\n",
    "import xarray as xr \n",
    "import pickle \n",
    "import matplotlib.pyplot as plt\n",
    "\n",
    "import random\n",
    "from random import seed\n",
    "from random import randint\n",
    "from random import sample\n",
    "\n",
    "import seaborn as sns # statistical data visualization\n",
    "from sklearn.ensemble import RandomForestRegressor, RandomForestClassifier\n",
    "from sklearn.metrics import accuracy_score\n",
    "from sklearn.model_selection import train_test_split\n",
    "from sklearn.metrics import mean_squared_error, r2_score\n",
    "\n",
    "from sklearn.feature_selection import SelectFromModel\n",
    "\n",
    "import keras\n",
    "import shap\n",
    "\n",
    "##just to stop the excess number of warnings \n",
    "import warnings\n",
    "warnings.filterwarnings('ignore')"
   ]
  },
  {
   "cell_type": "code",
   "execution_count": 2,
   "id": "e347daed",
   "metadata": {},
   "outputs": [],
   "source": [
    "#import definitions \n",
    "from SkillStats_MOD import BSS\n",
    "from SkillStats_MOD import RAS\n",
    "from SkillStats_MOD import PAS\n",
    "\n",
    "#first RF arch\n",
    "from RF_arch1 import rf_featselect\n",
    "#second RF arch\n",
    "from RF_arch2 import rf_90thpercentile"
   ]
  },
  {
   "cell_type": "code",
   "execution_count": 3,
   "id": "0d6be3be",
   "metadata": {},
   "outputs": [
    {
     "data": {
      "text/plain": [
       "(62, 149, 8)"
      ]
     },
     "execution_count": 3,
     "metadata": {},
     "output_type": "execute_result"
    }
   ],
   "source": [
    "#load input data, it is max/min standardized, NaNs removed\n",
    "#stratospheric polar vortex ellipse diagnostics from Fernandez et al 2025 (in review)\n",
    "\n",
    "infile = open(\"../../data/nolag_extendedanom_input.p\", 'rb') \n",
    "nolag_input = pickle.load(infile)\n",
    "infile.close()\n",
    "\n",
    "nolag_input.shape "
   ]
  },
  {
   "cell_type": "markdown",
   "id": "3e0030ff",
   "metadata": {},
   "source": [
    "The input data stays the same regardless of forecast region. \n",
    "\n",
    "The original array starts on October 19th. The shift send this forward to November 2nd. "
   ]
  },
  {
   "cell_type": "code",
   "execution_count": 4,
   "id": "741ad9b5",
   "metadata": {},
   "outputs": [],
   "source": [
    "##CHANGE THIS CALL BASED ON LEAD TIME.\n",
    "idx = 129 #129 for 20, 119 for 30.\n",
    "inp1 = np.empty((62,idx,8)) #create new input array, 14 day lag. \n",
    "shift = 20"
   ]
  },
  {
   "cell_type": "code",
   "execution_count": 5,
   "id": "55d9f092",
   "metadata": {},
   "outputs": [],
   "source": [
    "##reshaping to change lag in metrics for input\n",
    "inp1[:,:,0] = nolag_input[:62,shift:,0] ##wind\n",
    "inp1[:,:,1] = nolag_input[:62,shift:,1] ##ratio\n",
    "inp1[:,:,2] = nolag_input[:62,shift:,2] ##latitude\n",
    "inp1[:,:,3] = nolag_input[:62,shift:,3] ##longitude\n",
    "inp1[:,:,4] = nolag_input[:62,shift:,4] ##size\n",
    "inp1[:,:,5] = nolag_input[:62,shift:,5] ##ephi\n",
    "inp1[:,:,6] = nolag_input[:62,shift:,7] ##pv\n",
    "inp1[:,:,7] = nolag_input[:62,shift:,6] ##gph\n",
    "\n",
    "inp=inp1.reshape(62*idx,8)"
   ]
  },
  {
   "cell_type": "code",
   "execution_count": 6,
   "id": "a0daddf1",
   "metadata": {},
   "outputs": [],
   "source": [
    "#convert to pandas dataframe\n",
    "input = pd.DataFrame(inp)\n",
    "#label columns of variables for input data\n",
    "col_names = ['wind','rat','cenlat','cenlon','size','ephi','pv','gph']\n",
    "#col_names = ['wind','rat','cenlat','cenlon','size','ephi','pv']\n",
    "input.columns = col_names\n",
    "\n",
    "#input"
   ]
  },
  {
   "cell_type": "markdown",
   "id": "23459683",
   "metadata": {},
   "source": [
    "Load in temperature files. "
   ]
  },
  {
   "cell_type": "code",
   "execution_count": 7,
   "id": "b7a9e8bc",
   "metadata": {},
   "outputs": [],
   "source": [
    "#load output data file.\n",
    "infile = open(\"../../data/eur_anomtemps_reduced.p\",\"rb\",)\n",
    "temp = pickle.load(infile) \n",
    "europe_temp = temp.reshape(62,149)\n",
    "infile.close()\n",
    "\n",
    "infile = open(\"../../data/nova_anomtemps_reduced.p\",\"rb\",)\n",
    "temp = pickle.load(infile) \n",
    "canada_temp = temp.reshape(62,149)\n",
    "infile.close()\n",
    "\n",
    "infile = open(\"../../data/seus_anomtemps_reduced.p\",\"rb\",)\n",
    "temp = pickle.load(infile) \n",
    "seus_temp = temp.reshape(62,149)\n",
    "infile.close()\n",
    "\n",
    "# load climo data\n",
    "infile = open(\"../../data/eur_climoprob_reduced.p\",\"rb\",)\n",
    "climo = pickle.load(infile) \n",
    "europe_climo = climo.reshape(62,149,2)\n",
    "infile.close()\n",
    "\n",
    "infile = open(\"../../data/nova_climoprob_reduced.p\",\"rb\",)\n",
    "climo = pickle.load(infile) \n",
    "canada_climo = climo.reshape(62,149,2)\n",
    "infile.close()\n",
    "\n",
    "infile = open(\"../../data/seus_climoprob_reduced.p\",\"rb\",)\n",
    "climo = pickle.load(infile) \n",
    "seus_climo = climo.reshape(62,149,2) \n",
    "infile.close()"
   ]
  },
  {
   "cell_type": "code",
   "execution_count": 8,
   "id": "b0941f49",
   "metadata": {},
   "outputs": [
    {
     "name": "stdout",
     "output_type": "stream",
     "text": [
      "Check temp shape: (7998,)\n",
      "Check climo shape: (7998, 2)\n"
     ]
    }
   ],
   "source": [
    "##reshape temp files again to introduce lag. \n",
    "eur_output = europe_temp[:,shift:].reshape(62*idx)\n",
    "can_output = canada_temp[:,shift:].reshape(62*idx)\n",
    "seu_output = seus_temp[:,shift:].reshape(62*idx)\n",
    "print(\"Check temp shape:\", eur_output.shape)\n",
    "\n",
    "##reshaping climo\n",
    "eur_climo = europe_climo[:,shift:,:].reshape(62*idx,2)\n",
    "can_climo = canada_climo[:,shift:,:].reshape(62*idx,2)\n",
    "seu_climo = seus_climo[:,shift:,:].reshape(62*idx,2)\n",
    "print(\"Check climo shape:\", eur_climo.shape)"
   ]
  },
  {
   "cell_type": "markdown",
   "id": "887b427d",
   "metadata": {},
   "source": [
    "### Begin RF Feature selection test. "
   ]
  },
  {
   "cell_type": "code",
   "execution_count": 9,
   "id": "5fce9b70",
   "metadata": {},
   "outputs": [],
   "source": [
    "#number of cross validations\n",
    "n = 100"
   ]
  },
  {
   "cell_type": "code",
   "execution_count": 10,
   "id": "d9e68270",
   "metadata": {
    "collapsed": true,
    "jupyter": {
     "outputs_hidden": true
    }
   },
   "outputs": [
    {
     "name": "stdout",
     "output_type": "stream",
     "text": [
      "Begin CV ...\n",
      "###################################################\n",
      "Accuracy, Validation: 56.32%\n",
      "Accuracy, Training: 63.09%\n",
      "Accuracy, Testing: 60.17%\n"
     ]
    },
    {
     "data": {
      "image/png": "[encoded data removed]",
      "text/plain": [
       "<Figure size 900x600 with 1 Axes>"
      ]
     },
     "metadata": {},
     "output_type": "display_data"
    }
   ],
   "source": [
    "##Europe Feature Selection\n",
    "eur_important = rf_featselect(n,idx,input,eur_output,eur_climo)\n",
    "\n",
    "imp = np.nanmean(eur_important, axis = 0)\n",
    "imp.shape\n",
    "\n",
    "#plot features by relative importance\n",
    "indices = np.argsort(imp)[::-1]  #sort by importance\n",
    "c = [\"navy\",\"royalblue\",\"slateblue\",\"blueviolet\",\"darkviolet\",\"purple\",\"mediumvioletred\",\"magenta\"]\n",
    "\n",
    "plt.figure(figsize=(9, 6))\n",
    "plt.title(\"Average Feature Importances Across 100 CVs, Europe +20\",fontsize =18)\n",
    "plt.barh(range(input.shape[1]), imp[indices], align=\"center\", color = c)\n",
    "plt.yticks(range(input.shape[1]), input.columns[indices],fontsize =14)\n",
    "plt.xticks(fontsize =14)\n",
    "plt.xlabel(\"Relative Importance\",fontsize =16)\n",
    "plt.gca().invert_yaxis()\n",
    "plt.savefig(\"./images/EurRF_FeatureImportance_20days.png\",bbox_inches = 'tight')"
   ]
  },
  {
   "cell_type": "code",
   "execution_count": 11,
   "id": "57d68c33",
   "metadata": {
    "collapsed": true,
    "jupyter": {
     "outputs_hidden": true
    }
   },
   "outputs": [
    {
     "name": "stdout",
     "output_type": "stream",
     "text": [
      "Begin CV ...\n",
      "###################################################\n",
      "Accuracy, Validation: 68.82%\n",
      "Accuracy, Training: 71.35%\n",
      "Accuracy, Testing: 71.90%\n"
     ]
    },
    {
     "data": {
      "image/png": "[encoded data removed]",
      "text/plain": [
       "<Figure size 900x600 with 1 Axes>"
      ]
     },
     "metadata": {},
     "output_type": "display_data"
    }
   ],
   "source": [
    "##Canada Feature Selection\n",
    "can_important = rf_featselect(n,idx,input,can_output,can_climo)\n",
    "\n",
    "imp = np.nanmean(can_important, axis = 0)\n",
    "imp.shape\n",
    "\n",
    "#plot features by relative importance\n",
    "indices = np.argsort(imp)[::-1]  #sort by importance\n",
    "c = [\"navy\",\"royalblue\",\"slateblue\",\"blueviolet\",\"darkviolet\",\"purple\",\"mediumvioletred\",\"magenta\"]\n",
    "\n",
    "plt.figure(figsize=(9, 6))\n",
    "plt.title(\"Average Feature Importances Across 100 CVs, Canada +20\",fontsize =18)\n",
    "plt.barh(range(input.shape[1]), imp[indices], align=\"center\", color = c)\n",
    "plt.yticks(range(input.shape[1]), input.columns[indices],fontsize =14)\n",
    "plt.xticks(fontsize =14)\n",
    "plt.xlabel(\"Relative Importance\",fontsize =16)\n",
    "plt.gca().invert_yaxis()\n",
    "plt.savefig(\"./images/CanRF_FeatureImportance_20days.png\",bbox_inches = 'tight')"
   ]
  },
  {
   "cell_type": "code",
   "execution_count": 12,
   "id": "88dfb1f3",
   "metadata": {},
   "outputs": [
    {
     "name": "stdout",
     "output_type": "stream",
     "text": [
      "Begin CV ...\n",
      "###################################################\n",
      "Accuracy, Validation: 60.92%\n",
      "Accuracy, Training: 63.17%\n",
      "Accuracy, Testing: 59.16%\n"
     ]
    },
    {
     "data": {
      "image/png": "[encoded data removed]",
      "text/plain": [
       "<Figure size 900x600 with 1 Axes>"
      ]
     },
     "metadata": {},
     "output_type": "display_data"
    }
   ],
   "source": [
    "##SEUS Feature Selection\n",
    "seu_important = rf_featselect(n,idx,input,seu_output,seu_climo)\n",
    "\n",
    "imp = np.nanmean(seu_important, axis = 0)\n",
    "imp.shape\n",
    "\n",
    "#plot features by relative importance\n",
    "indices = np.argsort(imp)[::-1]  #sort by importance\n",
    "c = [\"navy\",\"royalblue\",\"slateblue\",\"blueviolet\",\"darkviolet\",\"purple\",\"mediumvioletred\",\"magenta\"]\n",
    "\n",
    "plt.figure(figsize=(9, 6))\n",
    "plt.title(\"Average Feature Importances Across 100 CVs, SEUS +20\",fontsize =18)\n",
    "plt.barh(range(input.shape[1]), imp[indices], align=\"center\", color = c)\n",
    "plt.yticks(range(input.shape[1]), input.columns[indices],fontsize =14)\n",
    "plt.xticks(fontsize =14)\n",
    "plt.xlabel(\"Relative Importance\",fontsize =16)\n",
    "plt.gca().invert_yaxis()\n",
    "plt.savefig(\"./images/SeuRF_FeatureImportance_20days.png\",bbox_inches = 'tight')"
   ]
  },
  {
   "cell_type": "markdown",
   "id": "40460c72",
   "metadata": {},
   "source": [
    "## Second RF run post feature selection"
   ]
  },
  {
   "cell_type": "code",
   "execution_count": 13,
   "id": "5bee9460",
   "metadata": {},
   "outputs": [],
   "source": [
    "##change pandas dataframe to choose top 3 important features only\n",
    "eur_input = input[[\"wind\",\"cenlon\",\"cenlat\",\"gph\"]]\n",
    "can_input = input[[\"wind\",\"pv\",\"cenlat\",\"gph\"]]\n",
    "seu_input = input[[\"wind\",\"pv\",\"size\",\"cenlat\"]]"
   ]
  },
  {
   "cell_type": "markdown",
   "id": "1b0071e3",
   "metadata": {},
   "source": [
    "### Europe"
   ]
  },
  {
   "cell_type": "code",
   "execution_count": null,
   "id": "896984f6",
   "metadata": {
    "scrolled": true
   },
   "outputs": [
    {
     "name": "stdout",
     "output_type": "stream",
     "text": [
      "Load in data ...\n",
      " \n",
      "Creating lists ...\n",
      " \n",
      "Establishing RF hyperparams ...\n",
      " \n",
      "Begin RF CV.\n"
     ]
    }
   ],
   "source": [
    "##Europe Forecasts of opportunity\n",
    "eur_test90, eur_fulltest, eur_shap_obj, eur_posXtest, eur_FposXtest, eur_negXtest, eur_FnegXtest = rf_90thpercentile(n,idx,eur_input,eur_output,eur_climo)"
   ]
  },
  {
   "cell_type": "code",
   "execution_count": null,
   "id": "6e4acb23",
   "metadata": {
    "jupyter": {
     "source_hidden": true
    }
   },
   "outputs": [],
   "source": [
    "plt.title(\"SHAP Values for Negative Europe Temp Anomalies +14 Days Lead\",fontsize =14, y = 1.05)\n",
    "ax = shap.plots.beeswarm(eur_shap_obj[:,:,0], show = False) ##for negative classifications ... this is physically consistent!\n",
    "#plt.savefig(\"./images/EllipseRFSHAP_Eur_14days.png\",bbox_inches = 'tight')"
   ]
  },
  {
   "cell_type": "code",
   "execution_count": null,
   "id": "63368b1f",
   "metadata": {
    "jupyter": {
     "source_hidden": true
    }
   },
   "outputs": [],
   "source": [
    "#######bar plot for showing the distribution of confident predictions\n",
    "bins = np.linspace(0.4, 1,13)  # 10 bins from 0.4 to 1\n",
    "##bin the testing 90th percentile accuracy data\n",
    "counts90, edges90 = np.histogram(eur_test90, bins=bins)\n",
    "countsfull, edgesfull = np.histogram(eur_fulltest, bins=bins)\n",
    "#plot the full dataset\n",
    "#offset = 0.02  # Adjust this value if needed for better visibility\n",
    "plt.bar(edgesfull[:-1], countsfull, width=np.diff(edgesfull), \n",
    "        edgecolor='black', alpha=0.5, label='All Predictions', align='edge', color='blue')\n",
    "\n",
    "#plot the 90th percentile\n",
    "plt.bar(edges90[:-1], counts90, width=np.diff(edges90), \n",
    "        edgecolor='black', alpha=0.5, label='>90th Percentile Predictions', align='edge', color = 'lightblue')\n",
    "plt.xlabel('Accuracy',fontsize =14)\n",
    "plt.ylabel('Number of Models',fontsize =14)\n",
    "plt.legend()\n",
    "plt.title('Testing Prediction ACC Across 100 RF Models, Europe +14',fontsize =15)\n",
    "#plt.savefig(\"./images/GPHndEllipse_ACC.png\",bbox_inches = 'tight')"
   ]
  },
  {
   "cell_type": "markdown",
   "id": "8ab2c8b0",
   "metadata": {},
   "source": [
    "### Canada"
   ]
  },
  {
   "cell_type": "code",
   "execution_count": null,
   "id": "957462c2",
   "metadata": {
    "scrolled": true
   },
   "outputs": [],
   "source": [
    "##Canada Forecasts of opportunity\n",
    "can_test90, can_fulltest, can_shap_obj, can_posXtest, can_FposXtest, can_negXtest, can_FnegXtest = rf_90thpercentile(n,idx,can_input,can_output,can_climo)"
   ]
  },
  {
   "cell_type": "code",
   "execution_count": null,
   "id": "b6805dd3",
   "metadata": {
    "jupyter": {
     "source_hidden": true
    }
   },
   "outputs": [],
   "source": [
    "plt.title(\"SHAP Values for Negative Canada Temp Anomalies +14 Days Lead\",fontsize =14, y = 1.05)\n",
    "ax = shap.plots.beeswarm(can_shap_obj[:,:,0], show = False) ##for negative classifications ... this is physically consistent!\n",
    "#plt.savefig(\"./images/EllipseRFSHAP_Eur_14days.png\",bbox_inches = 'tight')"
   ]
  },
  {
   "cell_type": "code",
   "execution_count": null,
   "id": "8caee5ad",
   "metadata": {
    "jupyter": {
     "source_hidden": true
    }
   },
   "outputs": [],
   "source": [
    "#######bar plot for showing the distribution of confident predictions\n",
    "bins = np.linspace(0.4, 1,13)  # 10 bins from 0.4 to 1\n",
    "##bin the testing 90th percentile accuracy data\n",
    "counts90, edges90 = np.histogram(can_test90, bins=bins)\n",
    "countsfull, edgesfull = np.histogram(can_fulltest, bins=bins)\n",
    "#plot the full dataset\n",
    "#offset = 0.02  # Adjust this value if needed for better visibility\n",
    "plt.bar(edgesfull[:-1], countsfull, width=np.diff(edgesfull), \n",
    "        edgecolor='black', alpha=0.5, label='All Predictions', align='edge', color='blue')\n",
    "\n",
    "#plot the 90th percentile\n",
    "plt.bar(edges90[:-1], counts90, width=np.diff(edges90), \n",
    "        edgecolor='black', alpha=0.5, label='>90th Percentile Predictions', align='edge', color = 'lightblue')\n",
    "plt.xlabel('Accuracy',fontsize =14)\n",
    "plt.ylabel('Number of Models',fontsize =14)\n",
    "plt.legend()\n",
    "plt.title('Testing Prediction ACC Across 100 RF Models, Canada +14',fontsize =15)\n",
    "#plt.savefig(\"./images/GPHndEllipse_ACC.png\",bbox_inches = 'tight')"
   ]
  },
  {
   "cell_type": "markdown",
   "id": "006d38ea",
   "metadata": {},
   "source": [
    "### S.E. U.S."
   ]
  },
  {
   "cell_type": "code",
   "execution_count": null,
   "id": "a9e8c240",
   "metadata": {
    "scrolled": true
   },
   "outputs": [],
   "source": [
    "##SEUS Forecasts of opportunity\n",
    "seu_test90, seu_fulltest, seu_shap_obj, seu_posXtest, seu_FposXtest, seu_negXtest, seu_FnegXtest = rf_90thpercentile(n,idx,seu_input,seu_output,seu_climo)"
   ]
  },
  {
   "cell_type": "code",
   "execution_count": null,
   "id": "0cff25b1",
   "metadata": {
    "jupyter": {
     "source_hidden": true
    }
   },
   "outputs": [],
   "source": [
    "plt.title(\"SHAP Values for Negative SEUS Temp Anomalies +14 Days Lead\",fontsize =14, y = 1.05)\n",
    "ax = shap.plots.beeswarm(seu_shap_obj[:,:,0], show = False) ##for negative classifications ... this is physically consistent!\n",
    "#plt.savefig(\"./images/EllipseRFSHAP_Eur_14days.png\",bbox_inches = 'tight')"
   ]
  },
  {
   "cell_type": "code",
   "execution_count": null,
   "id": "87ac7105",
   "metadata": {
    "jupyter": {
     "source_hidden": true
    }
   },
   "outputs": [],
   "source": [
    "#######bar plot for showing the distribution of confident predictions\n",
    "bins = np.linspace(0.4, 1,13)  # 10 bins from 0.4 to 1\n",
    "##bin the testing 90th percentile accuracy data\n",
    "counts90, edges90 = np.histogram(seu_test90, bins=bins)\n",
    "countsfull, edgesfull = np.histogram(seu_fulltest, bins=bins)\n",
    "#plot the full dataset\n",
    "#offset = 0.02  # Adjust this value if needed for better visibility\n",
    "plt.bar(edgesfull[:-1], countsfull, width=np.diff(edgesfull), \n",
    "        edgecolor='black', alpha=0.5, label='All Predictions', align='edge', color='blue')\n",
    "\n",
    "#plot the 90th percentile\n",
    "plt.bar(edges90[:-1], counts90, width=np.diff(edges90), \n",
    "        edgecolor='black', alpha=0.5, label='>90th Percentile Predictions', align='edge', color = 'lightblue')\n",
    "plt.xlabel('Accuracy',fontsize =14)\n",
    "plt.ylabel('Number of Models',fontsize =14)\n",
    "plt.legend()\n",
    "plt.title('Testing Prediction ACC Across 100 RF Models, SEUS +14',fontsize =15)\n",
    "#plt.savefig(\"./images/GPHndEllipse_ACC.png\",bbox_inches = 'tight')"
   ]
  },
  {
   "cell_type": "markdown",
   "id": "403c0d36",
   "metadata": {},
   "source": [
    "### Pickle out index files. "
   ]
  },
  {
   "cell_type": "code",
   "execution_count": null,
   "id": "4a4d3e7b",
   "metadata": {},
   "outputs": [],
   "source": [
    "##export out files to make the next few plots w/o normalization\n",
    "pickle.dump(eur_posXtest, open(\"./index/posXtest_eur14.p\", 'wb'))\n",
    "pickle.dump(eur_FposXtest, open(\"./index/FposXtest_eur14.p\", 'wb'))\n",
    "pickle.dump(eur_negXtest, open(\"./index/negXtest_eur14.p\", 'wb'))\n",
    "pickle.dump(eur_FnegXtest, open(\"./index/FnegXtest_eur14.p\", 'wb'))\n",
    "\n",
    "pickle.dump(can_posXtest, open(\"./index/posXtest_can14.p\", 'wb'))\n",
    "pickle.dump(can_FposXtest, open(\"./index/FposXtest_can14.p\", 'wb'))\n",
    "pickle.dump(can_negXtest, open(\"./index/negXtest_can14.p\", 'wb'))\n",
    "pickle.dump(can_FnegXtest, open(\"./index/FnegXtest_can14.p\", 'wb'))\n",
    "\n",
    "pickle.dump(seu_posXtest, open(\"./index/posXtest_seu14.p\", 'wb'))\n",
    "pickle.dump(seu_FposXtest, open(\"./index/FposXtest_seu14.p\", 'wb'))\n",
    "pickle.dump(seu_negXtest, open(\"./index/negXtest_seu14.p\", 'wb'))\n",
    "pickle.dump(seu_FnegXtest, open(\"./index/FnegXtest_seu14.p\", 'wb'))"
   ]
  },
  {
   "cell_type": "code",
   "execution_count": null,
   "id": "3d06e36e",
   "metadata": {},
   "outputs": [],
   "source": []
  }
 ],
 "metadata": {
  "kernelspec": {
   "display_name": "Python 3 (ipykernel)",
   "language": "python",
   "name": "python3"
  },
  "language_info": {
   "codemirror_mode": {
    "name": "ipython",
    "version": 3
   },
   "file_extension": ".py",
   "mimetype": "text/x-python",
   "name": "python",
   "nbconvert_exporter": "python",
   "pygments_lexer": "ipython3",
   "version": "3.10.12"
  }
 },
 "nbformat": 4,
 "nbformat_minor": 5
}
