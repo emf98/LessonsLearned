{
 "cells": [
  {
   "cell_type": "markdown",
   "id": "37a78e11",
   "metadata": {},
   "source": [
    "### Random Forests at 14-days leadtime for all regions.\n",
    "\n",
    "File generated 9/18/2025\n",
    "\n",
    "This file utilizes definition statements containing RF architecture to create three separate RF models, each for a designated forecast region. "
   ]
  },
  {
   "cell_type": "code",
   "execution_count": 1,
   "id": "e026c479",
   "metadata": {
    "jupyter": {
     "source_hidden": true
    }
   },
   "outputs": [
    {
     "name": "stderr",
     "output_type": "stream",
     "text": [
      "2025-09-18 22:09:43.331192: I tensorflow/core/util/port.cc:113] oneDNN custom operations are on. You may see slightly different numerical results due to floating-point round-off errors from different computation orders. To turn them off, set the environment variable `TF_ENABLE_ONEDNN_OPTS=0`.\n",
      "2025-09-18 22:09:43.361546: E external/local_xla/xla/stream_executor/cuda/cuda_dnn.cc:9373] Unable to register cuDNN factory: Attempting to register factory for plugin cuDNN when one has already been registered\n",
      "2025-09-18 22:09:43.361566: E external/local_xla/xla/stream_executor/cuda/cuda_fft.cc:607] Unable to register cuFFT factory: Attempting to register factory for plugin cuFFT when one has already been registered\n",
      "2025-09-18 22:09:43.362368: E external/local_xla/xla/stream_executor/cuda/cuda_blas.cc:1534] Unable to register cuBLAS factory: Attempting to register factory for plugin cuBLAS when one has already been registered\n",
      "2025-09-18 22:09:43.367100: I tensorflow/core/platform/cpu_feature_guard.cc:183] This TensorFlow binary is optimized to use available CPU instructions in performance-critical operations.\n",
      "To enable the following instructions: SSE3 SSE4.1 SSE4.2 AVX, in other operations, rebuild TensorFlow with the appropriate compiler flags.\n"
     ]
    }
   ],
   "source": [
    "#relevant import statements\n",
    "import numpy as np\n",
    "import math\n",
    "import pandas as pd\n",
    "import xarray as xr \n",
    "import pickle \n",
    "import matplotlib.pyplot as plt\n",
    "\n",
    "import random\n",
    "from random import seed\n",
    "from random import randint\n",
    "from random import sample\n",
    "\n",
    "import seaborn as sns # statistical data visualization\n",
    "from sklearn.ensemble import RandomForestRegressor, RandomForestClassifier\n",
    "from sklearn.metrics import accuracy_score\n",
    "from sklearn.model_selection import train_test_split\n",
    "from sklearn.metrics import mean_squared_error, r2_score\n",
    "\n",
    "from sklearn.feature_selection import SelectFromModel\n",
    "\n",
    "import keras\n",
    "import shap\n",
    "\n",
    "##just to stop the excess number of warnings \n",
    "import warnings\n",
    "warnings.filterwarnings('ignore')"
   ]
  },
  {
   "cell_type": "code",
   "execution_count": 2,
   "id": "1b174cc4",
   "metadata": {},
   "outputs": [],
   "source": [
    "#import definitions \n",
    "from SkillStats_MOD import BSS\n",
    "from SkillStats_MOD import RAS\n",
    "from SkillStats_MOD import PAS\n",
    "\n",
    "#first RF arch\n",
    "from RF_arch1 import rf_featselect\n",
    "#second RF arch\n",
    "from RF_arch2 import rf_90thpercentile"
   ]
  },
  {
   "cell_type": "code",
   "execution_count": 3,
   "id": "171a3a10",
   "metadata": {},
   "outputs": [
    {
     "data": {
      "text/plain": [
       "(62, 149, 8)"
      ]
     },
     "execution_count": 3,
     "metadata": {},
     "output_type": "execute_result"
    }
   ],
   "source": [
    "#load input data, it is max/min standardized, NaNs removed\n",
    "#stratospheric polar vortex ellipse diagnostics from Fernandez et al 2025 (in review)\n",
    "\n",
    "infile = open(\"../../data/nolag_extendedanom_input.p\", 'rb') \n",
    "nolag_input = pickle.load(infile)\n",
    "infile.close()\n",
    "\n",
    "nolag_input.shape "
   ]
  },
  {
   "cell_type": "markdown",
   "id": "75dc9480",
   "metadata": {},
   "source": [
    "The input data stays the same regardless of forecast region. \n",
    "\n",
    "The original array starts on October 19th. The shift send this forward to November 2nd. "
   ]
  },
  {
   "cell_type": "code",
   "execution_count": 4,
   "id": "773bc77e",
   "metadata": {},
   "outputs": [],
   "source": [
    "##CHANGE THIS CALL BASED ON LEAD TIME.\n",
    "idx = 135 #129 for 20, 119 for 30.\n",
    "inp1 = np.empty((62,idx,8)) #create new input array, 14 day lag. \n",
    "shift = 14"
   ]
  },
  {
   "cell_type": "code",
   "execution_count": 5,
   "id": "cbaccb92",
   "metadata": {},
   "outputs": [],
   "source": [
    "##reshaping to change lag in metrics for input\n",
    "inp1[:,:,0] = nolag_input[:62,shift:,0] ##wind\n",
    "inp1[:,:,1] = nolag_input[:62,shift:,1] ##ratio\n",
    "inp1[:,:,2] = nolag_input[:62,shift:,2] ##latitude\n",
    "inp1[:,:,3] = nolag_input[:62,shift:,3] ##longitude\n",
    "inp1[:,:,4] = nolag_input[:62,shift:,4] ##size\n",
    "inp1[:,:,5] = nolag_input[:62,shift:,5] ##ephi\n",
    "inp1[:,:,6] = nolag_input[:62,shift:,7] ##pv\n",
    "inp1[:,:,7] = nolag_input[:62,shift:,6] ##gph\n",
    "\n",
    "inp=inp1.reshape(62*idx,8)"
   ]
  },
  {
   "cell_type": "code",
   "execution_count": 6,
   "id": "a7d5be35",
   "metadata": {},
   "outputs": [],
   "source": [
    "#convert to pandas dataframe\n",
    "input = pd.DataFrame(inp)\n",
    "#label columns of variables for input data\n",
    "col_names = ['wind','rat','cenlat','cenlon','size','ephi','pv','gph']\n",
    "#col_names = ['wind','rat','cenlat','cenlon','size','ephi','pv']\n",
    "input.columns = col_names\n",
    "\n",
    "#input"
   ]
  },
  {
   "cell_type": "markdown",
   "id": "0720e822",
   "metadata": {},
   "source": [
    "Load in temperature files. "
   ]
  },
  {
   "cell_type": "code",
   "execution_count": 7,
   "id": "7adc87f9",
   "metadata": {},
   "outputs": [],
   "source": [
    "#load output data file.\n",
    "infile = open(\"../../data/eur_anomtemps_reduced.p\",\"rb\",)\n",
    "temp = pickle.load(infile) \n",
    "europe_temp = temp.reshape(62,149)\n",
    "infile.close()\n",
    "\n",
    "infile = open(\"../../data/nova_anomtemps_reduced.p\",\"rb\",)\n",
    "temp = pickle.load(infile) \n",
    "canada_temp = temp.reshape(62,149)\n",
    "infile.close()\n",
    "\n",
    "infile = open(\"../../data/seus_anomtemps_reduced.p\",\"rb\",)\n",
    "temp = pickle.load(infile) \n",
    "seus_temp = temp.reshape(62,149)\n",
    "infile.close()\n",
    "\n",
    "# load climo data\n",
    "infile = open(\"../../data/eur_climoprob_reduced.p\",\"rb\",)\n",
    "climo = pickle.load(infile) \n",
    "europe_climo = climo.reshape(62,149,2)\n",
    "infile.close()\n",
    "\n",
    "infile = open(\"../../data/nova_climoprob_reduced.p\",\"rb\",)\n",
    "climo = pickle.load(infile) \n",
    "canada_climo = climo.reshape(62,149,2)\n",
    "infile.close()\n",
    "\n",
    "infile = open(\"../../data/seus_climoprob_reduced.p\",\"rb\",)\n",
    "climo = pickle.load(infile) \n",
    "seus_climo = climo.reshape(62,149,2) \n",
    "infile.close()"
   ]
  },
  {
   "cell_type": "code",
   "execution_count": 8,
   "id": "90266655",
   "metadata": {},
   "outputs": [
    {
     "name": "stdout",
     "output_type": "stream",
     "text": [
      "Check temp shape: (8370,)\n",
      "Check climo shape: (8370, 2)\n"
     ]
    }
   ],
   "source": [
    "##reshape temp files again to introduce lag. \n",
    "eur_output = europe_temp[:,shift:].reshape(62*idx)\n",
    "can_output = canada_temp[:,shift:].reshape(62*idx)\n",
    "seu_output = seus_temp[:,shift:].reshape(62*idx)\n",
    "print(\"Check temp shape:\", eur_output.shape)\n",
    "\n",
    "##reshaping climo\n",
    "eur_climo = europe_climo[:,shift:,:].reshape(62*idx,2)\n",
    "can_climo = canada_climo[:,shift:,:].reshape(62*idx,2)\n",
    "seu_climo = seus_climo[:,shift:,:].reshape(62*idx,2)\n",
    "print(\"Check climo shape:\", eur_climo.shape)"
   ]
  },
  {
   "cell_type": "markdown",
   "id": "c4487060",
   "metadata": {},
   "source": [
    "### Begin RF Feature selection test. "
   ]
  },
  {
   "cell_type": "code",
   "execution_count": 9,
   "id": "fc00bf9e",
   "metadata": {},
   "outputs": [],
   "source": [
    "#number of cross validations\n",
    "n = 100"
   ]
  },
  {
   "cell_type": "code",
   "execution_count": null,
   "id": "68ff7d37",
   "metadata": {
    "scrolled": true
   },
   "outputs": [
    {
     "name": "stdout",
     "output_type": "stream",
     "text": [
      "Begin CV ...\n"
     ]
    }
   ],
   "source": [
    "##Europe Feature Selection\n",
    "eur_important = rf_featselect(n,idx,input,eur_output,eur_climo)\n",
    "\n",
    "imp = np.nanmean(eur_important, axis = 0)\n",
    "imp.shape\n",
    "\n",
    "#plot features by relative importance\n",
    "indices = np.argsort(imp)[::-1]  #sort by importance\n",
    "c = [\"navy\",\"royalblue\",\"slateblue\",\"blueviolet\",\"darkviolet\",\"purple\",\"mediumvioletred\",\"magenta\"]\n",
    "\n",
    "plt.figure(figsize=(9, 6))\n",
    "plt.title(\"Average Feature Importances Across 100 CVs, Europe +14\",fontsize =18)\n",
    "plt.barh(range(input.shape[1]), imp[indices], align=\"center\", color = c)\n",
    "plt.yticks(range(input.shape[1]), input.columns[indices],fontsize =14)\n",
    "plt.xticks(fontsize =14)\n",
    "plt.xlabel(\"Relative Importance\",fontsize =16)\n",
    "plt.gca().invert_yaxis()\n",
    "plt.savefig(\"./images/EurRF_FeatureImportance_14days.png\",bbox_inches = 'tight')"
   ]
  },
  {
   "cell_type": "code",
   "execution_count": null,
   "id": "294cc4c9",
   "metadata": {},
   "outputs": [],
   "source": [
    "##Canada Feature Selection\n",
    "can_important = rf_featselect(n,idx,input,can_output,can_climo)\n",
    "\n",
    "imp = np.nanmean(can_important, axis = 0)\n",
    "imp.shape\n",
    "\n",
    "#plot features by relative importance\n",
    "indices = np.argsort(imp)[::-1]  #sort by importance\n",
    "c = [\"navy\",\"royalblue\",\"slateblue\",\"blueviolet\",\"darkviolet\",\"purple\",\"mediumvioletred\",\"magenta\"]\n",
    "\n",
    "plt.figure(figsize=(9, 6))\n",
    "plt.title(\"Average Feature Importances Across 100 CVs, Canada +14\",fontsize =18)\n",
    "plt.barh(range(input.shape[1]), imp[indices], align=\"center\", color = c)\n",
    "plt.yticks(range(input.shape[1]), input.columns[indices],fontsize =14)\n",
    "plt.xticks(fontsize =14)\n",
    "plt.xlabel(\"Relative Importance\",fontsize =16)\n",
    "plt.gca().invert_yaxis()\n",
    "plt.savefig(\"./images/CanRF_FeatureImportance_14days.png\",bbox_inches = 'tight')"
   ]
  },
  {
   "cell_type": "code",
   "execution_count": null,
   "id": "e1110c50",
   "metadata": {},
   "outputs": [],
   "source": [
    "##SEUS Feature Selection\n",
    "seu_important = rf_featselect(n,idx,input,seu_output,seu_climo)\n",
    "\n",
    "imp = np.nanmean(seu_important, axis = 0)\n",
    "imp.shape\n",
    "\n",
    "#plot features by relative importance\n",
    "indices = np.argsort(imp)[::-1]  #sort by importance\n",
    "c = [\"navy\",\"royalblue\",\"slateblue\",\"blueviolet\",\"darkviolet\",\"purple\",\"mediumvioletred\",\"magenta\"]\n",
    "\n",
    "plt.figure(figsize=(9, 6))\n",
    "plt.title(\"Average Feature Importances Across 100 CVs, SEUS +14\",fontsize =18)\n",
    "plt.barh(range(input.shape[1]), imp[indices], align=\"center\", color = c)\n",
    "plt.yticks(range(input.shape[1]), input.columns[indices],fontsize =14)\n",
    "plt.xticks(fontsize =14)\n",
    "plt.xlabel(\"Relative Importance\",fontsize =16)\n",
    "plt.gca().invert_yaxis()\n",
    "plt.savefig(\"./images/SeuRF_FeatureImportance_14days.png\",bbox_inches = 'tight')"
   ]
  },
  {
   "cell_type": "markdown",
   "id": "ddf2d0c0",
   "metadata": {},
   "source": [
    "## Second RF run post feature selection"
   ]
  },
  {
   "cell_type": "code",
   "execution_count": null,
   "id": "2c7a7388",
   "metadata": {},
   "outputs": [],
   "source": [
    "##change pandas dataframe to choose top 3 important features only\n",
    "eur_input = input[[\"wind\",\"cenlon\",\"cenlat\",\"gph\"]]\n",
    "#can_input = input[[\"wind\",\"cenlon\",\"cenlat\",\"gph\"]]\n",
    "#seus_input = input[[\"wind\",\"cenlon\",\"cenlat\",\"gph\"]]"
   ]
  },
  {
   "cell_type": "markdown",
   "id": "ba261402",
   "metadata": {},
   "source": [
    "### Europe"
   ]
  },
  {
   "cell_type": "code",
   "execution_count": null,
   "id": "909660d4",
   "metadata": {
    "scrolled": true
   },
   "outputs": [],
   "source": [
    "##Europe Forecasts of opportunity\n",
    "eur_test90, eur_fulltest, eur_shap_obj, eur_posXtest, eur_FposXtest, eur_negXtest, eur_FnegXtest = rf_90thpercentile(n,idx,eur_input,eur_output,eur_climo)"
   ]
  },
  {
   "cell_type": "code",
   "execution_count": null,
   "id": "f9589dee",
   "metadata": {},
   "outputs": [],
   "source": [
    "plt.title(\"SHAP Values for Negative Europe Temp Anomalies +14 Days Lead\",fontsize =14, y = 1.05)\n",
    "ax = shap.plots.beeswarm(eur_shap_obj[:,:,0], show = False) ##for negative classifications ... this is physically consistent!\n",
    "#plt.savefig(\"./images/EllipseRFSHAP_Eur_14days.png\",bbox_inches = 'tight')"
   ]
  },
  {
   "cell_type": "code",
   "execution_count": null,
   "id": "7b8e6902",
   "metadata": {
    "jupyter": {
     "source_hidden": true
    }
   },
   "outputs": [],
   "source": [
    "#######bar plot for showing the distribution of confident predictions\n",
    "bins = np.linspace(0.4, 1,13)  # 10 bins from 0.4 to 1\n",
    "##bin the testing 90th percentile accuracy data\n",
    "counts90, edges90 = np.histogram(eur_test90, bins=bins)\n",
    "countsfull, edgesfull = np.histogram(eur_fulltest, bins=bins)\n",
    "#plot the full dataset\n",
    "#offset = 0.02  # Adjust this value if needed for better visibility\n",
    "plt.bar(edgesfull[:-1], countsfull, width=np.diff(edgesfull), \n",
    "        edgecolor='black', alpha=0.5, label='All Predictions', align='edge', color='blue')\n",
    "\n",
    "#plot the 90th percentile\n",
    "plt.bar(edges90[:-1], counts90, width=np.diff(edges90), \n",
    "        edgecolor='black', alpha=0.5, label='>90th Percentile Predictions', align='edge', color = 'lightblue')\n",
    "plt.xlabel('Accuracy',fontsize =14)\n",
    "plt.ylabel('Number of Models',fontsize =14)\n",
    "plt.legend()\n",
    "plt.title('Testing Prediction ACC Across 100 RF Models, Europe +14',fontsize =15)\n",
    "#plt.savefig(\"./images/GPHndEllipse_ACC.png\",bbox_inches = 'tight')"
   ]
  },
  {
   "cell_type": "raw",
   "id": "bc31aa9b",
   "metadata": {},
   "source": [
    "##export out files to make the next few plots w/o normalization\n",
    "pickle.dump(posXtest, open(\"posXtest_eur14.p\", 'wb'))\n",
    "pickle.dump(FposXtest, open(\"FposXtest_eur14.p\", 'wb'))\n",
    "pickle.dump(negXtest, open(\"negXtest_eur14.p\", 'wb'))\n",
    "pickle.dump(FnegXtest, open(\"FnegXtest_eur14.p\", 'wb'))"
   ]
  },
  {
   "cell_type": "markdown",
   "id": "945db5c2",
   "metadata": {},
   "source": [
    "### Canada"
   ]
  },
  {
   "cell_type": "code",
   "execution_count": null,
   "id": "8c9186d4",
   "metadata": {
    "scrolled": true
   },
   "outputs": [],
   "source": [
    "##Canada Forecasts of opportunity\n",
    "can_test90, can_fulltest, can_shap_obj, can_posXtest, can_FposXtest, can_negXtest, can_FnegXtest = rf_90thpercentile(n,idx,can_input,can_output,can_climo)"
   ]
  },
  {
   "cell_type": "code",
   "execution_count": null,
   "id": "f60f284f",
   "metadata": {
    "jupyter": {
     "source_hidden": true
    }
   },
   "outputs": [],
   "source": [
    "plt.title(\"SHAP Values for Negative Canada Temp Anomalies +14 Days Lead\",fontsize =14, y = 1.05)\n",
    "ax = shap.plots.beeswarm(can_shap_obj[:,:,0], show = False) ##for negative classifications ... this is physically consistent!\n",
    "#plt.savefig(\"./images/EllipseRFSHAP_Eur_14days.png\",bbox_inches = 'tight')"
   ]
  },
  {
   "cell_type": "code",
   "execution_count": null,
   "id": "2832bb13",
   "metadata": {
    "jupyter": {
     "source_hidden": true
    }
   },
   "outputs": [],
   "source": [
    "#######bar plot for showing the distribution of confident predictions\n",
    "bins = np.linspace(0.4, 1,13)  # 10 bins from 0.4 to 1\n",
    "##bin the testing 90th percentile accuracy data\n",
    "counts90, edges90 = np.histogram(can_test90, bins=bins)\n",
    "countsfull, edgesfull = np.histogram(can_fulltest, bins=bins)\n",
    "#plot the full dataset\n",
    "#offset = 0.02  # Adjust this value if needed for better visibility\n",
    "plt.bar(edgesfull[:-1], countsfull, width=np.diff(edgesfull), \n",
    "        edgecolor='black', alpha=0.5, label='All Predictions', align='edge', color='blue')\n",
    "\n",
    "#plot the 90th percentile\n",
    "plt.bar(edges90[:-1], counts90, width=np.diff(edges90), \n",
    "        edgecolor='black', alpha=0.5, label='>90th Percentile Predictions', align='edge', color = 'lightblue')\n",
    "plt.xlabel('Accuracy',fontsize =14)\n",
    "plt.ylabel('Number of Models',fontsize =14)\n",
    "plt.legend()\n",
    "plt.title('Testing Prediction ACC Across 100 RF Models, Canada +14',fontsize =15)\n",
    "#plt.savefig(\"./images/GPHndEllipse_ACC.png\",bbox_inches = 'tight')"
   ]
  },
  {
   "cell_type": "markdown",
   "id": "c51fe77b",
   "metadata": {},
   "source": [
    "### S.E. U.S."
   ]
  },
  {
   "cell_type": "code",
   "execution_count": null,
   "id": "d8bd5f49",
   "metadata": {
    "scrolled": true
   },
   "outputs": [],
   "source": [
    "##SEUS Forecasts of opportunity\n",
    "seu_test90, seu_fulltest, seu_shap_obj, seu_posXtest, seu_FposXtest, seu_negXtest, seu_FnegXtest = rf_90thpercentile(n,idx,seu_input,seu_output,seu_climo)"
   ]
  },
  {
   "cell_type": "code",
   "execution_count": null,
   "id": "bb15dc48",
   "metadata": {
    "jupyter": {
     "source_hidden": true
    }
   },
   "outputs": [],
   "source": [
    "plt.title(\"SHAP Values for Negative SEUS Temp Anomalies +14 Days Lead\",fontsize =14, y = 1.05)\n",
    "ax = shap.plots.beeswarm(seu_shap_obj[:,:,0], show = False) ##for negative classifications ... this is physically consistent!\n",
    "#plt.savefig(\"./images/EllipseRFSHAP_Eur_14days.png\",bbox_inches = 'tight')"
   ]
  },
  {
   "cell_type": "code",
   "execution_count": null,
   "id": "fa8b43b6",
   "metadata": {
    "jupyter": {
     "source_hidden": true
    }
   },
   "outputs": [],
   "source": [
    "#######bar plot for showing the distribution of confident predictions\n",
    "bins = np.linspace(0.4, 1,13)  # 10 bins from 0.4 to 1\n",
    "##bin the testing 90th percentile accuracy data\n",
    "counts90, edges90 = np.histogram(seu_test90, bins=bins)\n",
    "countsfull, edgesfull = np.histogram(seu_fulltest, bins=bins)\n",
    "#plot the full dataset\n",
    "#offset = 0.02  # Adjust this value if needed for better visibility\n",
    "plt.bar(edgesfull[:-1], countsfull, width=np.diff(edgesfull), \n",
    "        edgecolor='black', alpha=0.5, label='All Predictions', align='edge', color='blue')\n",
    "\n",
    "#plot the 90th percentile\n",
    "plt.bar(edges90[:-1], counts90, width=np.diff(edges90), \n",
    "        edgecolor='black', alpha=0.5, label='>90th Percentile Predictions', align='edge', color = 'lightblue')\n",
    "plt.xlabel('Accuracy',fontsize =14)\n",
    "plt.ylabel('Number of Models',fontsize =14)\n",
    "plt.legend()\n",
    "plt.title('Testing Prediction ACC Across 100 RF Models, SEUS +14',fontsize =15)\n",
    "#plt.savefig(\"./images/GPHndEllipse_ACC.png\",bbox_inches = 'tight')"
   ]
  }
 ],
 "metadata": {
  "kernelspec": {
   "display_name": "Python 3 (ipykernel)",
   "language": "python",
   "name": "python3"
  },
  "language_info": {
   "codemirror_mode": {
    "name": "ipython",
    "version": 3
   },
   "file_extension": ".py",
   "mimetype": "text/x-python",
   "name": "python",
   "nbconvert_exporter": "python",
   "pygments_lexer": "ipython3",
   "version": "3.10.12"
  }
 },
 "nbformat": 4,
 "nbformat_minor": 5
}
