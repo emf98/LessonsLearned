{
 "cells": [
  {
   "cell_type": "markdown",
   "id": "36b4f936",
   "metadata": {},
   "source": [
    "### Tuning the LSTM model ... \n",
    "\n",
    "File copied from \"REAL\" model tuning for EOF on 8/4/2025.  "
   ]
  },
  {
   "cell_type": "code",
   "execution_count": 1,
   "id": "1697d82d",
   "metadata": {
    "jupyter": {
     "source_hidden": true
    }
   },
   "outputs": [
    {
     "name": "stderr",
     "output_type": "stream",
     "text": [
      "2025-08-04 17:42:28.437491: I tensorflow/core/util/port.cc:111] oneDNN custom operations are on. You may see slightly different numerical results due to floating-point round-off errors from different computation orders. To turn them off, set the environment variable `TF_ENABLE_ONEDNN_OPTS=0`.\n",
      "2025-08-04 17:42:28.439490: I tensorflow/tsl/cuda/cudart_stub.cc:28] Could not find cuda drivers on your machine, GPU will not be used.\n",
      "2025-08-04 17:42:28.466085: E tensorflow/compiler/xla/stream_executor/cuda/cuda_dnn.cc:9342] Unable to register cuDNN factory: Attempting to register factory for plugin cuDNN when one has already been registered\n",
      "2025-08-04 17:42:28.466106: E tensorflow/compiler/xla/stream_executor/cuda/cuda_fft.cc:609] Unable to register cuFFT factory: Attempting to register factory for plugin cuFFT when one has already been registered\n",
      "2025-08-04 17:42:28.466124: E tensorflow/compiler/xla/stream_executor/cuda/cuda_blas.cc:1518] Unable to register cuBLAS factory: Attempting to register factory for plugin cuBLAS when one has already been registered\n",
      "2025-08-04 17:42:28.471341: I tensorflow/tsl/cuda/cudart_stub.cc:28] Could not find cuda drivers on your machine, GPU will not be used.\n",
      "2025-08-04 17:42:28.471732: I tensorflow/core/platform/cpu_feature_guard.cc:182] This TensorFlow binary is optimized to use available CPU instructions in performance-critical operations.\n",
      "To enable the following instructions: AVX2 AVX512F AVX512_VNNI AVX512_BF16 AVX_VNNI AMX_TILE AMX_INT8 AMX_BF16 FMA, in other operations, rebuild TensorFlow with the appropriate compiler flags.\n",
      "2025-08-04 17:42:29.615174: W tensorflow/core/common_runtime/gpu/gpu_device.cc:2211] Cannot dlopen some GPU libraries. Please make sure the missing libraries mentioned above are installed properly if you would like to use GPU. Follow the guide at https://www.tensorflow.org/install/gpu for how to download and setup the required libraries for your platform.\n",
      "Skipping registering GPU devices...\n"
     ]
    }
   ],
   "source": [
    "##import cell makes its appearance once again...\n",
    "%matplotlib inline\n",
    "##so-called \"math\" related imports\n",
    "#from netCDF4 import Dataset as ncread\n",
    "import numpy as np\n",
    "import pandas as pd\n",
    "import math\n",
    "from random import seed\n",
    "from random import randint\n",
    "from random import sample\n",
    "from scipy.ndimage import gaussian_filter\n",
    "from sklearn.metrics import brier_score_loss\n",
    "import xarray as xr\n",
    "\n",
    "import pickle\n",
    "\n",
    "##plotting related imports\n",
    "import matplotlib.pyplot as plt\n",
    "\n",
    "#import tensorflow/keras related files\n",
    "import tensorflow as tf    \n",
    "#tf.compat.v1.disable_v2_behavior() # <-- HERE !\n",
    "\n",
    "tf.device('/physical_device:GPU:0')\n",
    "\n",
    "from tensorflow import keras\n",
    "from tensorflow.keras import layers\n",
    "from tensorflow.keras import Input\n",
    "from tensorflow.keras.models import Model\n",
    "from tensorflow.keras.callbacks import ModelCheckpoint\n",
    "from tensorflow.keras import regularizers\n",
    "import tensorflow.keras.backend as K\n",
    "from tensorflow.keras.utils import to_categorical\n",
    "from tensorflow.keras.layers import Dropout, Activation, Reshape, Flatten, LSTM, Dense, Dropout, Embedding, Bidirectional, GRU\n",
    "from tensorflow.keras import Sequential\n",
    "from tensorflow.keras import initializers, regularizers\n",
    "from tensorflow.keras import optimizers\n",
    "from tensorflow.keras import constraints\n",
    "from tensorflow.keras.layers import Layer, InputSpec\n",
    "\n",
    "#tf.compat.v1.disable_eager_execution()\n",
    "#import investigate\n",
    "\n",
    "import keras_tuner as kt"
   ]
  },
  {
   "cell_type": "code",
   "execution_count": 2,
   "id": "b2307209",
   "metadata": {},
   "outputs": [
    {
     "name": "stdout",
     "output_type": "stream",
     "text": [
      "2.14.1\n"
     ]
    }
   ],
   "source": [
    "print(tf.__version__)"
   ]
  },
  {
   "cell_type": "code",
   "execution_count": 3,
   "id": "a578f98c",
   "metadata": {},
   "outputs": [
    {
     "data": {
      "text/plain": [
       "(62, 149, 8)"
      ]
     },
     "execution_count": 3,
     "metadata": {},
     "output_type": "execute_result"
    }
   ],
   "source": [
    "#load input data, it is max/min standardized, NaNs removed\n",
    "#stratospheric polar vortex ellipse diagnostics from Fernandez et al 2025 (in review)\n",
    "#comparison here may be a little muddled because I am limitied in the days that I can observe, however, I am currently working(7/8/2025) on calculating the diagnostics for the full dataset\n",
    "#this will be fixed. \n",
    "\n",
    "infile = open(\"../data/nolag_extendedanom_input.p\", 'rb') \n",
    "nolag_input = pickle.load(infile)\n",
    "infile.close()\n",
    "\n",
    "nolag_input.shape"
   ]
  },
  {
   "cell_type": "code",
   "execution_count": 4,
   "id": "9a19a45a",
   "metadata": {},
   "outputs": [
    {
     "data": {
      "text/plain": [
       "(9238, 8)"
      ]
     },
     "execution_count": 4,
     "metadata": {},
     "output_type": "execute_result"
    }
   ],
   "source": [
    "idx = 149\n",
    "#switch to 149 for normal. \n",
    "\n",
    "inp1 = np.empty((62,idx,8)) #create new input array, 14 day lag. \n",
    "\n",
    "shift = 0\n",
    "#0 if normal\n",
    "#this indicates setting the start date as November 2 rather than October 19\n",
    "\n",
    "##reshaping to change lag in metrics for input\n",
    "inp1[:,:,0] = nolag_input[:62,shift:,0] ##wind\n",
    "inp1[:,:,1] = nolag_input[:62,shift:,1] ##ratio\n",
    "inp1[:,:,2] = nolag_input[:62,shift:,2] ##latitude\n",
    "inp1[:,:,3] = nolag_input[:62,shift:,3] ##longitude\n",
    "inp1[:,:,4] = nolag_input[:62,shift:,4] ##size\n",
    "inp1[:,:,5] = nolag_input[:62,shift:,5] ##ephi\n",
    "inp1[:,:,6] = nolag_input[:62,shift:,6] ##gph\n",
    "inp1[:,:,7] = nolag_input[:62,shift:,7] ##pv\n",
    "\n",
    "inp=inp1.reshape(62*idx,8)\n",
    "inp.shape"
   ]
  },
  {
   "cell_type": "code",
   "execution_count": 5,
   "id": "6aeb8ae2",
   "metadata": {
    "scrolled": true
   },
   "outputs": [],
   "source": [
    "#load output data file.\n",
    "#I can change this to represent any of the available temp regions. \n",
    "infile = open(\"../data/eur_anomtemps_reduced.p\",\"rb\",)\n",
    "output = pickle.load(infile) \n",
    "infile.close()"
   ]
  },
  {
   "cell_type": "code",
   "execution_count": 6,
   "id": "e48de52e",
   "metadata": {},
   "outputs": [
    {
     "data": {
      "text/plain": [
       "(9238,)"
      ]
     },
     "execution_count": 6,
     "metadata": {},
     "output_type": "execute_result"
    }
   ],
   "source": [
    "output.shape"
   ]
  },
  {
   "cell_type": "code",
   "execution_count": 9,
   "id": "9856283f",
   "metadata": {},
   "outputs": [
    {
     "data": {
      "text/html": [
       "<div>\n",
       "<style scoped>\n",
       "    .dataframe tbody tr th:only-of-type {\n",
       "        vertical-align: middle;\n",
       "    }\n",
       "\n",
       "    .dataframe tbody tr th {\n",
       "        vertical-align: top;\n",
       "    }\n",
       "\n",
       "    .dataframe thead th {\n",
       "        text-align: right;\n",
       "    }\n",
       "</style>\n",
       "<table border=\"1\" class=\"dataframe\">\n",
       "  <thead>\n",
       "    <tr style=\"text-align: right;\">\n",
       "      <th></th>\n",
       "      <th>wind</th>\n",
       "      <th>rat</th>\n",
       "      <th>cenlat</th>\n",
       "      <th>cenlon</th>\n",
       "      <th>size</th>\n",
       "      <th>ephi</th>\n",
       "      <th>gph</th>\n",
       "      <th>pv</th>\n",
       "    </tr>\n",
       "  </thead>\n",
       "  <tbody>\n",
       "    <tr>\n",
       "      <th>0</th>\n",
       "      <td>0.570790</td>\n",
       "      <td>0.618161</td>\n",
       "      <td>0.828871</td>\n",
       "      <td>0.055095</td>\n",
       "      <td>0.326356</td>\n",
       "      <td>0.726418</td>\n",
       "      <td>0.719386</td>\n",
       "      <td>0.126977</td>\n",
       "    </tr>\n",
       "    <tr>\n",
       "      <th>1</th>\n",
       "      <td>0.573147</td>\n",
       "      <td>0.626809</td>\n",
       "      <td>0.826273</td>\n",
       "      <td>0.565595</td>\n",
       "      <td>0.330771</td>\n",
       "      <td>0.733839</td>\n",
       "      <td>0.721613</td>\n",
       "      <td>0.203389</td>\n",
       "    </tr>\n",
       "    <tr>\n",
       "      <th>2</th>\n",
       "      <td>0.576683</td>\n",
       "      <td>0.629552</td>\n",
       "      <td>0.822728</td>\n",
       "      <td>0.707387</td>\n",
       "      <td>0.341216</td>\n",
       "      <td>0.734021</td>\n",
       "      <td>0.727079</td>\n",
       "      <td>0.232331</td>\n",
       "    </tr>\n",
       "    <tr>\n",
       "      <th>3</th>\n",
       "      <td>0.581320</td>\n",
       "      <td>0.621400</td>\n",
       "      <td>0.820200</td>\n",
       "      <td>0.769665</td>\n",
       "      <td>0.351285</td>\n",
       "      <td>0.743165</td>\n",
       "      <td>0.726248</td>\n",
       "      <td>0.218715</td>\n",
       "    </tr>\n",
       "    <tr>\n",
       "      <th>4</th>\n",
       "      <td>0.585344</td>\n",
       "      <td>0.615700</td>\n",
       "      <td>0.820122</td>\n",
       "      <td>0.801782</td>\n",
       "      <td>0.360734</td>\n",
       "      <td>0.757252</td>\n",
       "      <td>0.722180</td>\n",
       "      <td>0.208927</td>\n",
       "    </tr>\n",
       "    <tr>\n",
       "      <th>...</th>\n",
       "      <td>...</td>\n",
       "      <td>...</td>\n",
       "      <td>...</td>\n",
       "      <td>...</td>\n",
       "      <td>...</td>\n",
       "      <td>...</td>\n",
       "      <td>...</td>\n",
       "      <td>...</td>\n",
       "    </tr>\n",
       "    <tr>\n",
       "      <th>9233</th>\n",
       "      <td>0.593302</td>\n",
       "      <td>0.446485</td>\n",
       "      <td>0.741122</td>\n",
       "      <td>0.674863</td>\n",
       "      <td>0.550987</td>\n",
       "      <td>0.194401</td>\n",
       "      <td>0.583356</td>\n",
       "      <td>0.649220</td>\n",
       "    </tr>\n",
       "    <tr>\n",
       "      <th>9234</th>\n",
       "      <td>0.585727</td>\n",
       "      <td>0.443649</td>\n",
       "      <td>0.738294</td>\n",
       "      <td>0.688205</td>\n",
       "      <td>0.539156</td>\n",
       "      <td>0.203137</td>\n",
       "      <td>0.576748</td>\n",
       "      <td>0.704463</td>\n",
       "    </tr>\n",
       "    <tr>\n",
       "      <th>9235</th>\n",
       "      <td>0.581969</td>\n",
       "      <td>0.438761</td>\n",
       "      <td>0.736058</td>\n",
       "      <td>0.705501</td>\n",
       "      <td>0.522961</td>\n",
       "      <td>0.221439</td>\n",
       "      <td>0.577187</td>\n",
       "      <td>0.760367</td>\n",
       "    </tr>\n",
       "    <tr>\n",
       "      <th>9236</th>\n",
       "      <td>0.581262</td>\n",
       "      <td>0.432586</td>\n",
       "      <td>0.734603</td>\n",
       "      <td>0.725774</td>\n",
       "      <td>0.506165</td>\n",
       "      <td>0.259560</td>\n",
       "      <td>0.586223</td>\n",
       "      <td>0.765773</td>\n",
       "    </tr>\n",
       "    <tr>\n",
       "      <th>9237</th>\n",
       "      <td>0.581061</td>\n",
       "      <td>0.423985</td>\n",
       "      <td>0.734216</td>\n",
       "      <td>0.746868</td>\n",
       "      <td>0.490494</td>\n",
       "      <td>0.313516</td>\n",
       "      <td>0.599852</td>\n",
       "      <td>0.744233</td>\n",
       "    </tr>\n",
       "  </tbody>\n",
       "</table>\n",
       "<p>9238 rows × 8 columns</p>\n",
       "</div>"
      ],
      "text/plain": [
       "          wind       rat    cenlat    cenlon      size      ephi       gph  \\\n",
       "0     0.570790  0.618161  0.828871  0.055095  0.326356  0.726418  0.719386   \n",
       "1     0.573147  0.626809  0.826273  0.565595  0.330771  0.733839  0.721613   \n",
       "2     0.576683  0.629552  0.822728  0.707387  0.341216  0.734021  0.727079   \n",
       "3     0.581320  0.621400  0.820200  0.769665  0.351285  0.743165  0.726248   \n",
       "4     0.585344  0.615700  0.820122  0.801782  0.360734  0.757252  0.722180   \n",
       "...        ...       ...       ...       ...       ...       ...       ...   \n",
       "9233  0.593302  0.446485  0.741122  0.674863  0.550987  0.194401  0.583356   \n",
       "9234  0.585727  0.443649  0.738294  0.688205  0.539156  0.203137  0.576748   \n",
       "9235  0.581969  0.438761  0.736058  0.705501  0.522961  0.221439  0.577187   \n",
       "9236  0.581262  0.432586  0.734603  0.725774  0.506165  0.259560  0.586223   \n",
       "9237  0.581061  0.423985  0.734216  0.746868  0.490494  0.313516  0.599852   \n",
       "\n",
       "            pv  \n",
       "0     0.126977  \n",
       "1     0.203389  \n",
       "2     0.232331  \n",
       "3     0.218715  \n",
       "4     0.208927  \n",
       "...        ...  \n",
       "9233  0.649220  \n",
       "9234  0.704463  \n",
       "9235  0.760367  \n",
       "9236  0.765773  \n",
       "9237  0.744233  \n",
       "\n",
       "[9238 rows x 8 columns]"
      ]
     },
     "execution_count": 9,
     "metadata": {},
     "output_type": "execute_result"
    }
   ],
   "source": [
    "#convert to pandas dataframe\n",
    "input = pd.DataFrame(inp)\n",
    "#label columns of variables for input data\n",
    "col_names = ['wind','rat','cenlat','cenlon','size','ephi','gph','pv']\n",
    "input.columns = col_names\n",
    "\n",
    "input##make pandas dataframe for RF\n",
    "input = pd.DataFrame(input)\n",
    "input"
   ]
  },
  {
   "cell_type": "code",
   "execution_count": 10,
   "id": "ee702c75",
   "metadata": {},
   "outputs": [
    {
     "data": {
      "text/plain": [
       "(62, 149, 8)"
      ]
     },
     "execution_count": 10,
     "metadata": {},
     "output_type": "execute_result"
    }
   ],
   "source": [
    "inp2 = input.values.reshape(62,149,8)\n",
    "inp2.shape"
   ]
  },
  {
   "cell_type": "code",
   "execution_count": 11,
   "id": "1760b17b",
   "metadata": {},
   "outputs": [
    {
     "name": "stdout",
     "output_type": "stream",
     "text": [
      "(62, 135)\n"
     ]
    }
   ],
   "source": [
    "##need to change this based on lag \n",
    "## 14-days = [:, 10:] 10 day window rather than 14\n",
    "## 20-days = [:, 16:]\n",
    "## 30-days = [:, 26:]\n",
    "\n",
    "# 139\n",
    "# 133\n",
    "# 123\n",
    "\n",
    "## 14-days = [:, 14:] 14 day window\n",
    "## 20-days = [:, 20:]\n",
    "## 30-days = [:, 30:]\n",
    "\n",
    "# 135\n",
    "# 129\n",
    "# 119\n",
    "\n",
    "lead = 135\n",
    "\n",
    "temp = output.reshape(62, 149)\n",
    "temp = temp[:, 14:]\n",
    "print(temp.shape)\n",
    "\n",
    "temp_flat = temp.flatten()"
   ]
  },
  {
   "cell_type": "code",
   "execution_count": 12,
   "id": "7a6e5566",
   "metadata": {},
   "outputs": [],
   "source": [
    "#create timeseries data arrays for PCs \n",
    "#was 122 and 14 for the 14 day window. \n",
    "\n",
    "new_input =  np.empty((62,lead,14,8))\n",
    "new_output = np.empty((62,lead))\n",
    "\n",
    "for i in range(0,62):\n",
    "    for j in range(0,lead):\n",
    "        new_input[i,j,:,:] = inp2[i,j:j+14,:]\n",
    "        new_output[i,j] = temp[i,j]"
   ]
  },
  {
   "cell_type": "code",
   "execution_count": 13,
   "id": "cc56dc77",
   "metadata": {},
   "outputs": [
    {
     "name": "stdout",
     "output_type": "stream",
     "text": [
      "(62, 135, 14, 8)\n",
      "(62, 135)\n"
     ]
    }
   ],
   "source": [
    "new_input = np.array(new_input)\n",
    "new_output = np.array(new_output)\n",
    "print(new_input.shape)\n",
    "print(new_output.shape)"
   ]
  },
  {
   "cell_type": "code",
   "execution_count": 14,
   "id": "5974c283",
   "metadata": {},
   "outputs": [
    {
     "data": {
      "text/plain": [
       "7114"
      ]
     },
     "execution_count": 14,
     "metadata": {},
     "output_type": "execute_result"
    }
   ],
   "source": [
    "frac_ind = round((62*lead)*0.15)\n",
    "frac_end = round((62*lead)-frac_ind)\n",
    "frac_end"
   ]
  },
  {
   "cell_type": "code",
   "execution_count": 15,
   "id": "f8303db4",
   "metadata": {},
   "outputs": [
    {
     "data": {
      "text/plain": [
       "1256"
      ]
     },
     "execution_count": 15,
     "metadata": {},
     "output_type": "execute_result"
    }
   ],
   "source": [
    "frac_ind"
   ]
  },
  {
   "cell_type": "code",
   "execution_count": 16,
   "id": "d286ce74",
   "metadata": {},
   "outputs": [],
   "source": [
    "##Set X_all and Y_all datasets\n",
    "X_all = np.copy(new_input.reshape((62*lead),14,8))\n",
    "Y_all = np.copy(new_output.flatten())\n",
    "\n",
    "##training data partition out\n",
    "X_tri = X_all[:frac_end,:]\n",
    "Y_tri = Y_all[:frac_end]\n",
    "\n",
    "#testing data partition out\n",
    "X_tes = X_all[frac_end:,:]\n",
    "Y_tes = Y_all[frac_end:]\n",
    "\n",
    "#Convert the Y array into a categorical array. This means we will create one-hot vector labels for all of the inputs.\n",
    "# The one-hot vectors have an index for each possible output category (two in our case)\n",
    "# A \"1\" is put in the index corresponding to the category to which the sample belongs\n",
    "Y_all = keras.utils.to_categorical(Y_all)\n",
    "Y_tri = keras.utils.to_categorical(Y_tri)\n",
    "Y_tes= keras.utils.to_categorical(Y_tes)"
   ]
  },
  {
   "cell_type": "code",
   "execution_count": 17,
   "id": "4b490a80",
   "metadata": {},
   "outputs": [
    {
     "data": {
      "text/plain": [
       "(8370, 2)"
      ]
     },
     "execution_count": 17,
     "metadata": {},
     "output_type": "execute_result"
    }
   ],
   "source": [
    "Y_all.shape"
   ]
  },
  {
   "cell_type": "code",
   "execution_count": 18,
   "id": "76f646e5",
   "metadata": {},
   "outputs": [],
   "source": [
    "##checking my data for NaN of Infs because I need to make sure this doesn't cause\n",
    "#the model to throw back no loss\n",
    "\n",
    "if np.any(np.isnan(X_all)) or np.any(np.isinf(X_all)):\n",
    "    print(\"NaN or Inf values found in X_all!\")\n",
    "\n",
    "if np.any(np.isnan(Y_all)) or np.any(np.isinf(Y_all)):\n",
    "    print(\"NaN or Inf values found in Y_all!\")"
   ]
  },
  {
   "cell_type": "markdown",
   "id": "28911a9e",
   "metadata": {},
   "source": [
    "### Begin establishing specifics of model."
   ]
  },
  {
   "cell_type": "code",
   "execution_count": 19,
   "id": "c3bd2ea6",
   "metadata": {},
   "outputs": [
    {
     "data": {
      "text/plain": [
       "(8370, 2)"
      ]
     },
     "execution_count": 19,
     "metadata": {},
     "output_type": "execute_result"
    }
   ],
   "source": [
    "##checking to make sure shape was properly one hot encoded\n",
    "Y_all.shape"
   ]
  },
  {
   "cell_type": "code",
   "execution_count": 20,
   "id": "7d7370f7",
   "metadata": {},
   "outputs": [],
   "source": [
    "##class weight creator for the instance where now I have a four dimensional output array \n",
    "def class_weight_creator(Y):\n",
    "    class_dict = {}\n",
    "    Y_reshaped = Y.reshape(-1, Y.shape[-1])\n",
    "    weights = np.max(np.sum(Y_reshaped, axis=0)) / np.sum(Y_reshaped, axis=0)\n",
    "    for i in range(Y.shape[-1] ):\n",
    "        class_dict[i] = weights[i]\n",
    "        \n",
    "    return class_dict"
   ]
  },
  {
   "cell_type": "code",
   "execution_count": 21,
   "id": "0fbd6e05",
   "metadata": {},
   "outputs": [],
   "source": [
    "##number of input nodes\n",
    "numb_int = X_all.shape[1:]\n",
    "\n",
    "##fraction of training data\n",
    "X_validation = X_tri[0:frac_ind]\n",
    "Y_validation = Y_tri[0:frac_ind]\n",
    "        \n",
    "X_train = X_tri[frac_ind:len(X_tri)]\n",
    "Y_train = Y_tri[frac_ind:len(Y_tri)]\n",
    "\n",
    "X_test = X_tes\n",
    "Y_test = Y_tes"
   ]
  },
  {
   "cell_type": "code",
   "execution_count": 22,
   "id": "678b3bae",
   "metadata": {},
   "outputs": [
    {
     "data": {
      "text/plain": [
       "(5858, 2)"
      ]
     },
     "execution_count": 22,
     "metadata": {},
     "output_type": "execute_result"
    }
   ],
   "source": [
    "Y_train.shape"
   ]
  },
  {
   "cell_type": "code",
   "execution_count": 23,
   "id": "89a97fc5",
   "metadata": {},
   "outputs": [
    {
     "data": {
      "text/plain": [
       "(14, 8)"
      ]
     },
     "execution_count": 23,
     "metadata": {},
     "output_type": "execute_result"
    }
   ],
   "source": [
    "numb_int"
   ]
  },
  {
   "cell_type": "code",
   "execution_count": 24,
   "id": "85419c9b",
   "metadata": {},
   "outputs": [
    {
     "data": {
      "text/plain": [
       "{0: 1.0, 1: 1.0604994}"
      ]
     },
     "execution_count": 24,
     "metadata": {},
     "output_type": "execute_result"
    }
   ],
   "source": [
    "##do the class_dict weights\n",
    "class_weight = class_weight_creator(Y_train)\n",
    "class_weight"
   ]
  },
  {
   "cell_type": "markdown",
   "id": "e4b29452",
   "metadata": {},
   "source": [
    "### Model Architecture. "
   ]
  },
  {
   "cell_type": "code",
   "execution_count": 25,
   "id": "347a6708",
   "metadata": {},
   "outputs": [],
   "source": [
    "######\n",
    "batch_size = 64 #The number of samples the network sees before it backpropagates (batch size)\n",
    "epochs = 30 #The number of times the network will loop through the entire dataset (epochs)\n",
    "shuffle = True #Set whether to shuffle the training data so the model doesn't see it sequentially \n",
    "verbose = 2 #Set whether the model will output information when trained (0 = no output; 2 = output accuracy every epoch)"
   ]
  },
  {
   "cell_type": "code",
   "execution_count": 26,
   "id": "7b1f992c",
   "metadata": {},
   "outputs": [],
   "source": [
    "def tune_LSTM(hp): \n",
    "    ##set ranges for hyperparameters\n",
    "    n1 = hp.Int('n1', min_value=32, max_value=160, step=32)\n",
    "    n2 = hp.Int('n2', min_value=4, max_value=32, step=4)\n",
    "    n3 = hp.Int('n3', min_value=8, max_value=32, step=8)\n",
    "    \n",
    "    reg1 = hp.Float('reg1', min_value=0.001, max_value=0.9, step=0.01)\n",
    "    reg2 = hp.Float('reg2', min_value=0.001, max_value=0.9, step=0.01)\n",
    "    reg3 = hp.Float('reg3', min_value=0.001, max_value=0.9, step=0.01)\n",
    "    \n",
    "    \n",
    "    input_tensor = Input(shape=(14, 8))\n",
    "    layer1 = layers.RNN(\n",
    "        layers.LSTMCell(n1, activation='tanh', use_bias=True,\n",
    "                          kernel_initializer='glorot_uniform',\n",
    "                          kernel_regularizer=keras.regularizers.l2(l2= reg1)),\n",
    "        return_sequences=True)(input_tensor)\n",
    "    layer2 = layers.RNN(\n",
    "        layers.LSTMCell(n2, activation='tanh', use_bias=True,\n",
    "                          kernel_initializer='glorot_uniform',\n",
    "                          kernel_regularizer=keras.regularizers.l2(l2= reg2)),\n",
    "                        return_sequences=False)(layer1)\n",
    "    layer3 = layers.Dense(n3, activation='relu',use_bias=True,\n",
    "                          kernel_initializer='he_normal',bias_initializer='he_normal',\n",
    "                          kernel_regularizer=keras.regularizers.l2(l2=reg3))(layer2)\n",
    "\n",
    "    output_tensor = layers.Dense(2, activation='softmax',)(layer3)\n",
    "\n",
    "    model = Model(input_tensor, output_tensor)\n",
    "    \n",
    "    lr = hp.Float('learning_rate', min_value=0.001, max_value=0.1)\n",
    "    \n",
    "    opt = tf.keras.optimizers.legacy.Adam(learning_rate=lr)\n",
    "    #decay_rate = lr / epochs\n",
    "    #momentum = 0.9\n",
    "\n",
    "    model.compile(optimizer=opt,loss='categorical_crossentropy',metrics=[keras.metrics.categorical_accuracy],)\n",
    "                            \n",
    "    return model"
   ]
  },
  {
   "cell_type": "code",
   "execution_count": 27,
   "id": "f95b316c",
   "metadata": {},
   "outputs": [],
   "source": [
    "##the LSTM layers will have EXACTLY the same regularizer"
   ]
  },
  {
   "cell_type": "code",
   "execution_count": 28,
   "id": "19cc0a1a",
   "metadata": {},
   "outputs": [],
   "source": [
    "tf.keras.backend.clear_session()"
   ]
  },
  {
   "cell_type": "code",
   "execution_count": 29,
   "id": "02ba826f",
   "metadata": {},
   "outputs": [],
   "source": [
    "###################################################"
   ]
  },
  {
   "cell_type": "code",
   "execution_count": 30,
   "id": "82bd3177",
   "metadata": {},
   "outputs": [],
   "source": [
    "#intialize/setup the hyperband tuner\n",
    "tuner = kt.RandomSearch(\n",
    "    tune_LSTM, #model\n",
    "    objective = [kt.Objective('val_loss', 'min')],#kt.Objective('loss', 'min'),kt.Objective('val_categorical_accuracy', 'max')],\n",
    "    max_trials=1000, #number of iterations of tuning to run\n",
    "    max_consecutive_failed_trials=3, #number of allowed failed trials\n",
    "    directory = 'tuning',\n",
    "    project_name='ellipse_lstm1'\n",
    ")"
   ]
  },
  {
   "cell_type": "code",
   "execution_count": 31,
   "id": "78229616",
   "metadata": {},
   "outputs": [],
   "source": [
    "stop_early = tf.keras.callbacks.EarlyStopping(monitor='val_loss', patience=5,restore_best_weights=True,verbose=1)"
   ]
  },
  {
   "cell_type": "code",
   "execution_count": null,
   "id": "b2fa76ea",
   "metadata": {
    "scrolled": true
   },
   "outputs": [
    {
     "name": "stdout",
     "output_type": "stream",
     "text": [
      "Trial 189 Complete [00h 00m 17s]\n",
      "multi_objective: 0.6897799968719482\n",
      "\n",
      "Best multi_objective So Far: 0.6891664266586304\n",
      "Total elapsed time: 00h 43m 23s\n",
      "\n",
      "Search: Running Trial #190\n",
      "\n",
      "Value             |Best Value So Far |Hyperparameter\n",
      "64                |64                |n1\n",
      "28                |4                 |n2\n",
      "8                 |32                |n3\n",
      "0.081             |0.651             |reg1\n",
      "0.351             |0.681             |reg2\n",
      "0.601             |0.041             |reg3\n",
      "0.06182           |0.092134          |learning_rate\n",
      "\n",
      "Epoch 1/30\n",
      "92/92 [==============================] - 2s 10ms/step - loss: 2.3401 - categorical_accuracy: 0.5027 - val_loss: 0.6925 - val_categorical_accuracy: 0.5446\n",
      "Epoch 2/30\n",
      "92/92 [==============================] - 1s 7ms/step - loss: 0.7154 - categorical_accuracy: 0.5048 - val_loss: 0.6932 - val_categorical_accuracy: 0.4554\n",
      "Epoch 3/30\n",
      "92/92 [==============================] - 1s 7ms/step - loss: 0.7146 - categorical_accuracy: 0.5089 - val_loss: 0.7066 - val_categorical_accuracy: 0.4554\n",
      "Epoch 4/30\n",
      "92/92 [==============================] - 1s 9ms/step - loss: 0.7150 - categorical_accuracy: 0.5024 - val_loss: 0.6925 - val_categorical_accuracy: 0.5446\n",
      "Epoch 5/30\n",
      "92/92 [==============================] - 1s 7ms/step - loss: 0.7148 - categorical_accuracy: 0.4949 - val_loss: 0.7032 - val_categorical_accuracy: 0.4554\n",
      "Epoch 6/30\n",
      "92/92 [==============================] - 1s 7ms/step - loss: 0.7152 - categorical_accuracy: 0.5007 - val_loss: 0.6946 - val_categorical_accuracy: 0.4554\n",
      "Epoch 7/30\n",
      "92/92 [==============================] - 1s 9ms/step - loss: 0.7150 - categorical_accuracy: 0.4959 - val_loss: 0.6915 - val_categorical_accuracy: 0.5446\n",
      "Epoch 8/30\n",
      "92/92 [==============================] - 1s 7ms/step - loss: 0.7152 - categorical_accuracy: 0.4846 - val_loss: 0.6931 - val_categorical_accuracy: 0.5446\n",
      "Epoch 9/30\n",
      "92/92 [==============================] - 1s 7ms/step - loss: 0.7149 - categorical_accuracy: 0.5048 - val_loss: 0.6929 - val_categorical_accuracy: 0.5446\n",
      "Epoch 10/30\n",
      "92/92 [==============================] - 1s 7ms/step - loss: 0.7147 - categorical_accuracy: 0.4980 - val_loss: 0.6927 - val_categorical_accuracy: 0.5446\n",
      "Epoch 11/30\n",
      "92/92 [==============================] - 1s 8ms/step - loss: 0.7146 - categorical_accuracy: 0.5014 - val_loss: 0.6892 - val_categorical_accuracy: 0.5446\n",
      "Epoch 12/30\n",
      "80/92 [=========================>....] - ETA: 0s - loss: 0.7160 - categorical_accuracy: 0.4885"
     ]
    }
   ],
   "source": [
    "##actual tuning process\n",
    "tuner.search(X_train, Y_train, validation_data=(X_validation, Y_validation),\n",
    "             batch_size=batch_size, epochs=epochs, shuffle=shuffle,\n",
    "             class_weight = class_weight, callbacks=[stop_early])"
   ]
  },
  {
   "cell_type": "raw",
   "id": "c8610f73",
   "metadata": {
    "jupyter": {
     "source_hidden": true
    }
   },
   "source": [
    "Value             |Best Value So Far |Hyperparameter\n",
    "160               |64                |n1\n",
    "12                |4                 |n2\n",
    "8                 |32                |n3\n",
    "0.071             |0.651             |reg1\n",
    "0.141             |0.681             |reg2\n",
    "0.511             |0.041             |reg3\n",
    "0.0075707         |0.092134          |learning_rate\n",
    "\n",
    "Epoch 1/30\n",
    "91/92 [============================>.] - ETA: 0s - loss: 4.1534 - categorical_accuracy: 0.5048\n"
   ]
  },
  {
   "cell_type": "code",
   "execution_count": 36,
   "id": "662bc82e",
   "metadata": {},
   "outputs": [
    {
     "data": {
      "text/plain": [
       "{'n1': 96,\n",
       " 'n2': 24,\n",
       " 'n3': 32,\n",
       " 'reg1': 0.771,\n",
       " 'reg2': 0.5710000000000001,\n",
       " 'reg3': 0.41100000000000003,\n",
       " 'learning_rate': 0.050603709673394566}"
      ]
     },
     "execution_count": 36,
     "metadata": {},
     "output_type": "execute_result"
    }
   ],
   "source": [
    "#Get the optimal hyperparameters\n",
    "best_hps=tuner.get_best_hyperparameters(num_trials=1)[0]\n",
    "best_hps.values"
   ]
  },
  {
   "cell_type": "code",
   "execution_count": 37,
   "id": "a12bc44f",
   "metadata": {
    "scrolled": true
   },
   "outputs": [
    {
     "name": "stdout",
     "output_type": "stream",
     "text": [
      "Epoch 1/30\n",
      "92/92 [==============================] - 2s 11ms/step - loss: 4.6570 - categorical_accuracy: 0.5143 - val_loss: 0.7090 - val_categorical_accuracy: 0.4554\n",
      "Epoch 2/30\n",
      "92/92 [==============================] - 1s 9ms/step - loss: 0.7157 - categorical_accuracy: 0.4939 - val_loss: 0.6935 - val_categorical_accuracy: 0.4554\n",
      "Epoch 3/30\n",
      "92/92 [==============================] - 1s 9ms/step - loss: 0.7147 - categorical_accuracy: 0.4904 - val_loss: 0.6907 - val_categorical_accuracy: 0.5446\n",
      "Epoch 4/30\n",
      "92/92 [==============================] - 1s 9ms/step - loss: 0.7160 - categorical_accuracy: 0.4973 - val_loss: 0.6968 - val_categorical_accuracy: 0.4554\n",
      "Epoch 5/30\n",
      "92/92 [==============================] - 1s 9ms/step - loss: 0.7150 - categorical_accuracy: 0.4997 - val_loss: 0.6905 - val_categorical_accuracy: 0.5446\n",
      "Epoch 6/30\n",
      "92/92 [==============================] - 1s 9ms/step - loss: 0.7148 - categorical_accuracy: 0.4966 - val_loss: 0.6933 - val_categorical_accuracy: 0.4554\n",
      "Epoch 7/30\n",
      "92/92 [==============================] - 1s 9ms/step - loss: 0.7147 - categorical_accuracy: 0.5031 - val_loss: 0.6892 - val_categorical_accuracy: 0.5446\n",
      "Epoch 8/30\n",
      "92/92 [==============================] - 1s 9ms/step - loss: 0.7149 - categorical_accuracy: 0.5003 - val_loss: 0.6920 - val_categorical_accuracy: 0.5446\n",
      "Epoch 9/30\n",
      "92/92 [==============================] - 1s 9ms/step - loss: 0.7154 - categorical_accuracy: 0.4973 - val_loss: 0.6893 - val_categorical_accuracy: 0.5446\n",
      "Epoch 10/30\n",
      "92/92 [==============================] - 1s 9ms/step - loss: 0.7155 - categorical_accuracy: 0.5017 - val_loss: 0.6933 - val_categorical_accuracy: 0.4554\n",
      "Epoch 11/30\n",
      "92/92 [==============================] - 1s 9ms/step - loss: 0.7156 - categorical_accuracy: 0.5010 - val_loss: 0.6901 - val_categorical_accuracy: 0.5446\n",
      "Epoch 12/30\n",
      "92/92 [==============================] - 1s 9ms/step - loss: 0.7142 - categorical_accuracy: 0.4966 - val_loss: 0.6893 - val_categorical_accuracy: 0.5446\n",
      "Epoch 13/30\n",
      "92/92 [==============================] - 1s 9ms/step - loss: 0.7159 - categorical_accuracy: 0.4990 - val_loss: 0.6916 - val_categorical_accuracy: 0.5446\n",
      "Epoch 14/30\n",
      "92/92 [==============================] - 1s 9ms/step - loss: 0.7163 - categorical_accuracy: 0.5014 - val_loss: 0.6971 - val_categorical_accuracy: 0.4554\n",
      "Epoch 15/30\n",
      "92/92 [==============================] - 1s 9ms/step - loss: 0.7225 - categorical_accuracy: 0.4997 - val_loss: 0.6992 - val_categorical_accuracy: 0.5446\n",
      "Epoch 16/30\n",
      "92/92 [==============================] - 1s 9ms/step - loss: 0.7224 - categorical_accuracy: 0.5109 - val_loss: 0.6990 - val_categorical_accuracy: 0.5446\n",
      "Epoch 17/30\n",
      "92/92 [==============================] - 1s 9ms/step - loss: 0.7218 - categorical_accuracy: 0.5051 - val_loss: 0.6983 - val_categorical_accuracy: 0.5446\n",
      "Epoch 18/30\n",
      "92/92 [==============================] - 1s 9ms/step - loss: 0.7208 - categorical_accuracy: 0.5017 - val_loss: 0.7109 - val_categorical_accuracy: 0.4554\n",
      "Epoch 19/30\n",
      "92/92 [==============================] - 1s 9ms/step - loss: 0.7220 - categorical_accuracy: 0.4986 - val_loss: 0.7014 - val_categorical_accuracy: 0.4554\n",
      "Epoch 20/30\n",
      "92/92 [==============================] - 1s 9ms/step - loss: 0.7216 - categorical_accuracy: 0.5003 - val_loss: 0.7016 - val_categorical_accuracy: 0.4554\n",
      "Epoch 21/30\n",
      "92/92 [==============================] - 1s 9ms/step - loss: 0.7221 - categorical_accuracy: 0.4949 - val_loss: 0.7030 - val_categorical_accuracy: 0.4554\n",
      "Epoch 22/30\n",
      "92/92 [==============================] - 1s 9ms/step - loss: 0.7230 - categorical_accuracy: 0.5020 - val_loss: 0.7043 - val_categorical_accuracy: 0.4554\n",
      "Epoch 23/30\n",
      "92/92 [==============================] - 1s 9ms/step - loss: 0.7222 - categorical_accuracy: 0.4945 - val_loss: 0.7014 - val_categorical_accuracy: 0.4554\n",
      "Epoch 24/30\n",
      "92/92 [==============================] - 1s 9ms/step - loss: 0.7197 - categorical_accuracy: 0.5017 - val_loss: 0.6952 - val_categorical_accuracy: 0.5446\n",
      "Epoch 25/30\n",
      "92/92 [==============================] - 1s 9ms/step - loss: 0.7253 - categorical_accuracy: 0.4962 - val_loss: 0.7022 - val_categorical_accuracy: 0.4554\n",
      "Epoch 26/30\n",
      "92/92 [==============================] - 1s 9ms/step - loss: 0.7237 - categorical_accuracy: 0.4966 - val_loss: 0.7085 - val_categorical_accuracy: 0.4554\n",
      "Epoch 27/30\n",
      "92/92 [==============================] - 1s 9ms/step - loss: 0.7212 - categorical_accuracy: 0.5085 - val_loss: 0.6990 - val_categorical_accuracy: 0.5446\n",
      "Epoch 28/30\n",
      "92/92 [==============================] - 1s 9ms/step - loss: 0.7217 - categorical_accuracy: 0.5058 - val_loss: 0.7019 - val_categorical_accuracy: 0.4554\n",
      "Epoch 29/30\n",
      "92/92 [==============================] - 1s 9ms/step - loss: 0.7215 - categorical_accuracy: 0.5020 - val_loss: 0.6956 - val_categorical_accuracy: 0.5446\n",
      "Epoch 30/30\n",
      "92/92 [==============================] - 1s 9ms/step - loss: 0.7221 - categorical_accuracy: 0.5007 - val_loss: 0.7028 - val_categorical_accuracy: 0.4554\n"
     ]
    }
   ],
   "source": [
    "# Build the model with the optimal hyperparameters and train it on the data for 50 epochs\n",
    "lstm_model = tuner.hypermodel.build(best_hps)\n",
    "history = lstm_model.fit(X_train,Y_train, validation_data=(X_validation, Y_validation),\n",
    "                    batch_size=batch_size, epochs=epochs, shuffle=shuffle,class_weight = class_weight)\n"
   ]
  },
  {
   "cell_type": "code",
   "execution_count": 38,
   "id": "d3a396ad",
   "metadata": {},
   "outputs": [
    {
     "name": "stdout",
     "output_type": "stream",
     "text": [
      "262/262 [==============================] - 1s 2ms/step\n",
      "40/40 [==============================] - 0s 2ms/step\n",
      "184/184 [==============================] - 0s 2ms/step\n",
      "40/40 [==============================] - 0s 2ms/step\n"
     ]
    },
    {
     "data": {
      "text/plain": [
       "<bound method Axes.legend of <Axes: title={'center': 'Accuracy'}, xlabel='Epoch', ylabel='Acc'>>"
      ]
     },
     "execution_count": 38,
     "metadata": {},
     "output_type": "execute_result"
    },
    {
     "data": {
      "image/png": "[encoded data removed]",
      "text/plain": [
       "<Figure size 1600x400 with 2 Axes>"
      ]
     },
     "metadata": {},
     "output_type": "display_data"
    }
   ],
   "source": [
    "train_loss=lstm_model.history.history['loss']\n",
    "val_loss=lstm_model.history.history['val_loss']\n",
    "    \n",
    "cat_acc=lstm_model.history.history['categorical_accuracy']\n",
    "val_acc=lstm_model.history.history['val_categorical_accuracy']\n",
    "        \n",
    "pred = lstm_model.predict(X_all)\n",
    "pred_val = lstm_model.predict(X_validation)\n",
    "pred_train = lstm_model.predict(X_train)\n",
    "pred_test = lstm_model.predict(X_test)\n",
    "\n",
    "# Look at the optimization history\n",
    "fig, (ax1,ax2) = plt.subplots(1,2, figsize=plt.figaspect(0.25))\n",
    "ax1.plot(train_loss, label='Training loss')\n",
    "ax1.plot(val_loss, label='Validation loss')\n",
    "ax1.set_yscale('log')\n",
    "ax1.set_title('loss')\n",
    "ax1.set_xlabel('Epoch')\n",
    "ax1.set_ylabel('loss')\n",
    "ax1.legend()\n",
    "\n",
    "ax2.plot(cat_acc, label='Training ACC')\n",
    "ax2.plot(val_acc, label='Validation ACC')\n",
    "ax2.set_title('Accuracy')\n",
    "ax2.set_xlabel('Epoch')\n",
    "ax2.set_ylabel('Acc')\n",
    "ax2.legend"
   ]
  },
  {
   "cell_type": "code",
   "execution_count": null,
   "id": "39ae6a9b",
   "metadata": {},
   "outputs": [],
   "source": []
  }
 ],
 "metadata": {
  "kernelspec": {
   "display_name": "Python 3 (ipykernel)",
   "language": "python",
   "name": "python3"
  },
  "language_info": {
   "codemirror_mode": {
    "name": "ipython",
    "version": 3
   },
   "file_extension": ".py",
   "mimetype": "text/x-python",
   "name": "python",
   "nbconvert_exporter": "python",
   "pygments_lexer": "ipython3",
   "version": "3.10.12"
  }
 },
 "nbformat": 4,
 "nbformat_minor": 5
}
