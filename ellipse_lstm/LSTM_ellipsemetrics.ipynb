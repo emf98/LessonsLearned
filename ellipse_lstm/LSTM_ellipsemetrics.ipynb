{
 "cells": [
  {
   "cell_type": "markdown",
   "id": "29304986",
   "metadata": {},
   "source": [
    "### Starting over with the LSTM model ... but for the ellipse metrics this time. \n",
    "\n",
    "File created 7/31/2025. \n",
    "\n",
    "I will start with a 14 day model. "
   ]
  },
  {
   "cell_type": "raw",
   "id": "08db711e",
   "metadata": {
    "jupyter": {
     "outputs_hidden": true,
     "source_hidden": true
    }
   },
   "source": [
    "!pip install innvestigate\n",
    "!pip install investigate\n",
    "\n",
    "!pip install matplotlib\n",
    "!pip install netCDF4\n",
    "!pip install cartopy\n",
    "!pip install shap\n",
    "!pip install keras_tuner"
   ]
  },
  {
   "cell_type": "code",
   "execution_count": 3,
   "id": "39a69429",
   "metadata": {
    "collapsed": true,
    "jupyter": {
     "outputs_hidden": true
    }
   },
   "outputs": [
    {
     "name": "stderr",
     "output_type": "stream",
     "text": [
      "2025-07-31 17:51:05.959544: I tensorflow/core/util/port.cc:111] oneDNN custom operations are on. You may see slightly different numerical results due to floating-point round-off errors from different computation orders. To turn them off, set the environment variable `TF_ENABLE_ONEDNN_OPTS=0`.\n",
      "2025-07-31 17:51:05.961614: I tensorflow/tsl/cuda/cudart_stub.cc:28] Could not find cuda drivers on your machine, GPU will not be used.\n",
      "2025-07-31 17:51:05.987861: E tensorflow/compiler/xla/stream_executor/cuda/cuda_dnn.cc:9342] Unable to register cuDNN factory: Attempting to register factory for plugin cuDNN when one has already been registered\n",
      "2025-07-31 17:51:05.987882: E tensorflow/compiler/xla/stream_executor/cuda/cuda_fft.cc:609] Unable to register cuFFT factory: Attempting to register factory for plugin cuFFT when one has already been registered\n",
      "2025-07-31 17:51:05.987904: E tensorflow/compiler/xla/stream_executor/cuda/cuda_blas.cc:1518] Unable to register cuBLAS factory: Attempting to register factory for plugin cuBLAS when one has already been registered\n",
      "2025-07-31 17:51:05.993100: I tensorflow/tsl/cuda/cudart_stub.cc:28] Could not find cuda drivers on your machine, GPU will not be used.\n",
      "2025-07-31 17:51:05.993496: I tensorflow/core/platform/cpu_feature_guard.cc:182] This TensorFlow binary is optimized to use available CPU instructions in performance-critical operations.\n",
      "To enable the following instructions: AVX2 AVX512F AVX512_VNNI AVX512_BF16 AVX_VNNI AMX_TILE AMX_INT8 AMX_BF16 FMA, in other operations, rebuild TensorFlow with the appropriate compiler flags.\n",
      "2025-07-31 17:51:07.529300: W tensorflow/core/common_runtime/gpu/gpu_device.cc:2211] Cannot dlopen some GPU libraries. Please make sure the missing libraries mentioned above are installed properly if you would like to use GPU. Follow the guide at https://www.tensorflow.org/install/gpu for how to download and setup the required libraries for your platform.\n",
      "Skipping registering GPU devices...\n"
     ]
    }
   ],
   "source": [
    "##import cell makes its appearance once again...\n",
    "%matplotlib inline\n",
    "##so-called \"math\" related imports\n",
    "#from netCDF4 import Dataset as ncread\n",
    "import numpy as np\n",
    "import pandas as pd\n",
    "import math\n",
    "from random import seed\n",
    "from random import randint\n",
    "from random import sample\n",
    "from scipy.ndimage import gaussian_filter\n",
    "from sklearn.metrics import brier_score_loss\n",
    "import xarray as xr\n",
    "\n",
    "import pickle\n",
    "\n",
    "##plotting related imports\n",
    "import matplotlib.pyplot as plt\n",
    "\n",
    "#import tensorflow/keras related files\n",
    "import tensorflow as tf    \n",
    "#tf.compat.v1.disable_v2_behavior() # <-- HERE !\n",
    "\n",
    "tf.device('/physical_device:GPU:0')\n",
    "\n",
    "from tensorflow import keras\n",
    "from tensorflow.keras import layers\n",
    "from tensorflow.keras import Input\n",
    "from tensorflow.keras.models import Model\n",
    "from tensorflow.keras.callbacks import ModelCheckpoint\n",
    "from tensorflow.keras import regularizers\n",
    "import tensorflow.keras.backend as K\n",
    "from tensorflow.keras.utils import to_categorical\n",
    "from tensorflow.keras.layers import Dropout, Activation, Reshape, Flatten, LSTM, Dense, Dropout, Embedding, Bidirectional, GRU\n",
    "from tensorflow.keras import Sequential\n",
    "from tensorflow.keras import initializers, regularizers\n",
    "from tensorflow.keras import optimizers\n",
    "from tensorflow.keras import constraints\n",
    "from tensorflow.keras.layers import Layer, InputSpec\n",
    "\n",
    "tf.compat.v1.disable_eager_execution()\n",
    "#import investigate"
   ]
  },
  {
   "cell_type": "code",
   "execution_count": 4,
   "id": "ade69233",
   "metadata": {},
   "outputs": [
    {
     "name": "stdout",
     "output_type": "stream",
     "text": [
      "2.14.1\n"
     ]
    }
   ],
   "source": [
    "print(tf.__version__)"
   ]
  },
  {
   "cell_type": "code",
   "execution_count": 5,
   "id": "7c0a00d3",
   "metadata": {},
   "outputs": [],
   "source": [
    "##load in solvers for PC analysis to get the PCs for the model itself. "
   ]
  },
  {
   "cell_type": "code",
   "execution_count": 6,
   "id": "a5cf07d9",
   "metadata": {},
   "outputs": [
    {
     "data": {
      "text/plain": [
       "(62, 149, 8)"
      ]
     },
     "execution_count": 6,
     "metadata": {},
     "output_type": "execute_result"
    }
   ],
   "source": [
    "#load input data, it is max/min standardized, NaNs removed\n",
    "#stratospheric polar vortex ellipse diagnostics from Fernandez et al 2025 (in review)\n",
    "#comparison here may be a little muddled because I am limitied in the days that I can observe, however, I am currently working(7/8/2025) on calculating the diagnostics for the full dataset\n",
    "#this will be fixed. \n",
    "\n",
    "infile = open(\"../data/nolag_extendedanom_input.p\", 'rb') \n",
    "nolag_input = pickle.load(infile)\n",
    "infile.close()\n",
    "\n",
    "nolag_input.shape"
   ]
  },
  {
   "cell_type": "code",
   "execution_count": 9,
   "id": "e38e83ad",
   "metadata": {},
   "outputs": [
    {
     "data": {
      "text/plain": [
       "(9238, 8)"
      ]
     },
     "execution_count": 9,
     "metadata": {},
     "output_type": "execute_result"
    }
   ],
   "source": [
    "idx = 149\n",
    "#switch to 149 for normal. \n",
    "\n",
    "inp1 = np.empty((62,idx,8)) #create new input array, 14 day lag. \n",
    "\n",
    "shift = 0\n",
    "#0 if normal\n",
    "#this indicates setting the start date as November 2 rather than October 19\n",
    "\n",
    "##reshaping to change lag in metrics for input\n",
    "inp1[:,:,0] = nolag_input[:62,shift:,0] ##wind\n",
    "inp1[:,:,1] = nolag_input[:62,shift:,1] ##ratio\n",
    "inp1[:,:,2] = nolag_input[:62,shift:,2] ##latitude\n",
    "inp1[:,:,3] = nolag_input[:62,shift:,3] ##longitude\n",
    "inp1[:,:,4] = nolag_input[:62,shift:,4] ##size\n",
    "inp1[:,:,5] = nolag_input[:62,shift:,5] ##ephi\n",
    "inp1[:,:,6] = nolag_input[:62,shift:,6] ##gph\n",
    "inp1[:,:,7] = nolag_input[:62,shift:,7] ##pv\n",
    "\n",
    "inp=inp1.reshape(62*idx,8)\n",
    "inp.shape"
   ]
  },
  {
   "cell_type": "code",
   "execution_count": 10,
   "id": "190436da",
   "metadata": {
    "scrolled": true
   },
   "outputs": [],
   "source": [
    "#load output data file.\n",
    "#I can change this to represent any of the available temp regions. \n",
    "infile = open(\"../data/eur_anomtemps_reduced.p\",\"rb\",)\n",
    "output = pickle.load(infile) \n",
    "infile.close()"
   ]
  },
  {
   "cell_type": "code",
   "execution_count": 11,
   "id": "daa07258",
   "metadata": {},
   "outputs": [
    {
     "data": {
      "text/plain": [
       "(9238,)"
      ]
     },
     "execution_count": 11,
     "metadata": {},
     "output_type": "execute_result"
    }
   ],
   "source": [
    "output.shape"
   ]
  },
  {
   "cell_type": "code",
   "execution_count": 12,
   "id": "85cfca42",
   "metadata": {},
   "outputs": [
    {
     "data": {
      "text/html": [
       "<div>\n",
       "<style scoped>\n",
       "    .dataframe tbody tr th:only-of-type {\n",
       "        vertical-align: middle;\n",
       "    }\n",
       "\n",
       "    .dataframe tbody tr th {\n",
       "        vertical-align: top;\n",
       "    }\n",
       "\n",
       "    .dataframe thead th {\n",
       "        text-align: right;\n",
       "    }\n",
       "</style>\n",
       "<table border=\"1\" class=\"dataframe\">\n",
       "  <thead>\n",
       "    <tr style=\"text-align: right;\">\n",
       "      <th></th>\n",
       "      <th>wind</th>\n",
       "      <th>rat</th>\n",
       "      <th>cenlat</th>\n",
       "      <th>cenlon</th>\n",
       "      <th>size</th>\n",
       "      <th>ephi</th>\n",
       "      <th>gph</th>\n",
       "      <th>pv</th>\n",
       "    </tr>\n",
       "  </thead>\n",
       "  <tbody>\n",
       "    <tr>\n",
       "      <th>0</th>\n",
       "      <td>0.570790</td>\n",
       "      <td>0.618161</td>\n",
       "      <td>0.828871</td>\n",
       "      <td>0.055095</td>\n",
       "      <td>0.326356</td>\n",
       "      <td>0.726418</td>\n",
       "      <td>0.719386</td>\n",
       "      <td>0.126977</td>\n",
       "    </tr>\n",
       "    <tr>\n",
       "      <th>1</th>\n",
       "      <td>0.573147</td>\n",
       "      <td>0.626809</td>\n",
       "      <td>0.826273</td>\n",
       "      <td>0.565595</td>\n",
       "      <td>0.330771</td>\n",
       "      <td>0.733839</td>\n",
       "      <td>0.721613</td>\n",
       "      <td>0.203389</td>\n",
       "    </tr>\n",
       "    <tr>\n",
       "      <th>2</th>\n",
       "      <td>0.576683</td>\n",
       "      <td>0.629552</td>\n",
       "      <td>0.822728</td>\n",
       "      <td>0.707387</td>\n",
       "      <td>0.341216</td>\n",
       "      <td>0.734021</td>\n",
       "      <td>0.727079</td>\n",
       "      <td>0.232331</td>\n",
       "    </tr>\n",
       "    <tr>\n",
       "      <th>3</th>\n",
       "      <td>0.581320</td>\n",
       "      <td>0.621400</td>\n",
       "      <td>0.820200</td>\n",
       "      <td>0.769665</td>\n",
       "      <td>0.351285</td>\n",
       "      <td>0.743165</td>\n",
       "      <td>0.726248</td>\n",
       "      <td>0.218715</td>\n",
       "    </tr>\n",
       "    <tr>\n",
       "      <th>4</th>\n",
       "      <td>0.585344</td>\n",
       "      <td>0.615700</td>\n",
       "      <td>0.820122</td>\n",
       "      <td>0.801782</td>\n",
       "      <td>0.360734</td>\n",
       "      <td>0.757252</td>\n",
       "      <td>0.722180</td>\n",
       "      <td>0.208927</td>\n",
       "    </tr>\n",
       "    <tr>\n",
       "      <th>...</th>\n",
       "      <td>...</td>\n",
       "      <td>...</td>\n",
       "      <td>...</td>\n",
       "      <td>...</td>\n",
       "      <td>...</td>\n",
       "      <td>...</td>\n",
       "      <td>...</td>\n",
       "      <td>...</td>\n",
       "    </tr>\n",
       "    <tr>\n",
       "      <th>9233</th>\n",
       "      <td>0.593302</td>\n",
       "      <td>0.446485</td>\n",
       "      <td>0.741122</td>\n",
       "      <td>0.674863</td>\n",
       "      <td>0.550987</td>\n",
       "      <td>0.194401</td>\n",
       "      <td>0.583356</td>\n",
       "      <td>0.649220</td>\n",
       "    </tr>\n",
       "    <tr>\n",
       "      <th>9234</th>\n",
       "      <td>0.585727</td>\n",
       "      <td>0.443649</td>\n",
       "      <td>0.738294</td>\n",
       "      <td>0.688205</td>\n",
       "      <td>0.539156</td>\n",
       "      <td>0.203137</td>\n",
       "      <td>0.576748</td>\n",
       "      <td>0.704463</td>\n",
       "    </tr>\n",
       "    <tr>\n",
       "      <th>9235</th>\n",
       "      <td>0.581969</td>\n",
       "      <td>0.438761</td>\n",
       "      <td>0.736058</td>\n",
       "      <td>0.705501</td>\n",
       "      <td>0.522961</td>\n",
       "      <td>0.221439</td>\n",
       "      <td>0.577187</td>\n",
       "      <td>0.760367</td>\n",
       "    </tr>\n",
       "    <tr>\n",
       "      <th>9236</th>\n",
       "      <td>0.581262</td>\n",
       "      <td>0.432586</td>\n",
       "      <td>0.734603</td>\n",
       "      <td>0.725774</td>\n",
       "      <td>0.506165</td>\n",
       "      <td>0.259560</td>\n",
       "      <td>0.586223</td>\n",
       "      <td>0.765773</td>\n",
       "    </tr>\n",
       "    <tr>\n",
       "      <th>9237</th>\n",
       "      <td>0.581061</td>\n",
       "      <td>0.423985</td>\n",
       "      <td>0.734216</td>\n",
       "      <td>0.746868</td>\n",
       "      <td>0.490494</td>\n",
       "      <td>0.313516</td>\n",
       "      <td>0.599852</td>\n",
       "      <td>0.744233</td>\n",
       "    </tr>\n",
       "  </tbody>\n",
       "</table>\n",
       "<p>9238 rows × 8 columns</p>\n",
       "</div>"
      ],
      "text/plain": [
       "          wind       rat    cenlat    cenlon      size      ephi       gph  \\\n",
       "0     0.570790  0.618161  0.828871  0.055095  0.326356  0.726418  0.719386   \n",
       "1     0.573147  0.626809  0.826273  0.565595  0.330771  0.733839  0.721613   \n",
       "2     0.576683  0.629552  0.822728  0.707387  0.341216  0.734021  0.727079   \n",
       "3     0.581320  0.621400  0.820200  0.769665  0.351285  0.743165  0.726248   \n",
       "4     0.585344  0.615700  0.820122  0.801782  0.360734  0.757252  0.722180   \n",
       "...        ...       ...       ...       ...       ...       ...       ...   \n",
       "9233  0.593302  0.446485  0.741122  0.674863  0.550987  0.194401  0.583356   \n",
       "9234  0.585727  0.443649  0.738294  0.688205  0.539156  0.203137  0.576748   \n",
       "9235  0.581969  0.438761  0.736058  0.705501  0.522961  0.221439  0.577187   \n",
       "9236  0.581262  0.432586  0.734603  0.725774  0.506165  0.259560  0.586223   \n",
       "9237  0.581061  0.423985  0.734216  0.746868  0.490494  0.313516  0.599852   \n",
       "\n",
       "            pv  \n",
       "0     0.126977  \n",
       "1     0.203389  \n",
       "2     0.232331  \n",
       "3     0.218715  \n",
       "4     0.208927  \n",
       "...        ...  \n",
       "9233  0.649220  \n",
       "9234  0.704463  \n",
       "9235  0.760367  \n",
       "9236  0.765773  \n",
       "9237  0.744233  \n",
       "\n",
       "[9238 rows x 8 columns]"
      ]
     },
     "execution_count": 12,
     "metadata": {},
     "output_type": "execute_result"
    }
   ],
   "source": [
    "#convert to pandas dataframe\n",
    "input = pd.DataFrame(inp)\n",
    "#label columns of variables for input data\n",
    "col_names = ['wind','rat','cenlat','cenlon','size','ephi','gph','pv']\n",
    "input.columns = col_names\n",
    "\n",
    "input"
   ]
  },
  {
   "cell_type": "code",
   "execution_count": 17,
   "id": "328afb52",
   "metadata": {},
   "outputs": [
    {
     "data": {
      "text/plain": [
       "(62, 149, 8)"
      ]
     },
     "execution_count": 17,
     "metadata": {},
     "output_type": "execute_result"
    }
   ],
   "source": [
    "inp2 = input.values.reshape(62,149,8)\n",
    "inp2.shape"
   ]
  },
  {
   "cell_type": "code",
   "execution_count": 18,
   "id": "5b355b60",
   "metadata": {},
   "outputs": [
    {
     "name": "stdout",
     "output_type": "stream",
     "text": [
      "(62, 135)\n"
     ]
    }
   ],
   "source": [
    "##need to change this based on lag \n",
    "## 14-days = [:, 10:] 10 day window rather than 14\n",
    "## 20-days = [:, 16:]\n",
    "## 30-days = [:, 26:]\n",
    "\n",
    "# 139\n",
    "# 133\n",
    "# 123\n",
    "\n",
    "## 14-days = [:, 14:] 14 day window\n",
    "## 20-days = [:, 20:]\n",
    "## 30-days = [:, 30:]\n",
    "\n",
    "# 135\n",
    "# 129\n",
    "# 119\n",
    "\n",
    "lead = 135\n",
    "\n",
    "temp = output.reshape(62, 149)\n",
    "temp = temp[:, 14:]\n",
    "print(temp.shape)\n",
    "\n",
    "temp_flat = temp.flatten()"
   ]
  },
  {
   "cell_type": "code",
   "execution_count": 20,
   "id": "a90f05fe",
   "metadata": {},
   "outputs": [],
   "source": [
    "#create timeseries data arrays for PCs \n",
    "#was 122 and 14 for the 14 day window. \n",
    "\n",
    "new_input =  np.empty((62,lead,14,8))\n",
    "new_output = np.empty((62,lead))\n",
    "\n",
    "for i in range(0,62):\n",
    "    for j in range(0,lead):\n",
    "        new_input[i,j,:,:] = inp2[i,j:j+14,:]\n",
    "        new_output[i,j] = temp[i,j]"
   ]
  },
  {
   "cell_type": "code",
   "execution_count": 21,
   "id": "05ddf357",
   "metadata": {},
   "outputs": [
    {
     "name": "stdout",
     "output_type": "stream",
     "text": [
      "(62, 135, 14, 8)\n",
      "(62, 135)\n"
     ]
    }
   ],
   "source": [
    "new_input = np.array(new_input)\n",
    "new_output = np.array(new_output)\n",
    "print(new_input.shape)\n",
    "print(new_output.shape)"
   ]
  },
  {
   "cell_type": "code",
   "execution_count": 22,
   "id": "d623cdb0",
   "metadata": {},
   "outputs": [
    {
     "data": {
      "text/plain": [
       "7114"
      ]
     },
     "execution_count": 22,
     "metadata": {},
     "output_type": "execute_result"
    }
   ],
   "source": [
    "frac_ind = round((62*lead)*0.15)\n",
    "frac_end = round((62*lead)-frac_ind)\n",
    "frac_end"
   ]
  },
  {
   "cell_type": "code",
   "execution_count": 23,
   "id": "95f1aec5",
   "metadata": {},
   "outputs": [
    {
     "data": {
      "text/plain": [
       "1256"
      ]
     },
     "execution_count": 23,
     "metadata": {},
     "output_type": "execute_result"
    }
   ],
   "source": [
    "frac_ind"
   ]
  },
  {
   "cell_type": "code",
   "execution_count": 25,
   "id": "b729234e",
   "metadata": {},
   "outputs": [],
   "source": [
    "##Set X_all and Y_all datasets\n",
    "X_all = np.copy(new_input.reshape((62*lead),14,8))\n",
    "Y_all = np.copy(new_output.flatten())\n",
    "\n",
    "##training data partition out\n",
    "X_tri = X_all[:frac_end,:]\n",
    "Y_tri = Y_all[:frac_end]\n",
    "\n",
    "#testing data partition out\n",
    "X_tes = X_all[frac_end:,:]\n",
    "Y_tes = Y_all[frac_end:]\n",
    "\n",
    "#Convert the Y array into a categorical array. This means we will create one-hot vector labels for all of the inputs.\n",
    "# The one-hot vectors have an index for each possible output category (two in our case)\n",
    "# A \"1\" is put in the index corresponding to the category to which the sample belongs\n",
    "Y_all = keras.utils.to_categorical(Y_all)\n",
    "Y_tri = keras.utils.to_categorical(Y_tri)\n",
    "Y_tes= keras.utils.to_categorical(Y_tes)"
   ]
  },
  {
   "cell_type": "code",
   "execution_count": 26,
   "id": "0a542282",
   "metadata": {},
   "outputs": [
    {
     "data": {
      "text/plain": [
       "(8370, 2)"
      ]
     },
     "execution_count": 26,
     "metadata": {},
     "output_type": "execute_result"
    }
   ],
   "source": [
    "Y_all.shape"
   ]
  },
  {
   "cell_type": "code",
   "execution_count": 27,
   "id": "73e2bd6d",
   "metadata": {},
   "outputs": [],
   "source": [
    "##checking my data for NaN of Infs because I need to make sure this doesn't cause\n",
    "#the model to throw back no loss\n",
    "\n",
    "if np.any(np.isnan(X_all)) or np.any(np.isinf(X_all)):\n",
    "    print(\"NaN or Inf values found in X_all!\")\n",
    "\n",
    "if np.any(np.isnan(Y_all)) or np.any(np.isinf(Y_all)):\n",
    "    print(\"NaN or Inf values found in Y_all!\")"
   ]
  },
  {
   "cell_type": "markdown",
   "id": "95a425e3",
   "metadata": {},
   "source": [
    "### Begin establishing specifics of model."
   ]
  },
  {
   "cell_type": "code",
   "execution_count": 28,
   "id": "b4135926",
   "metadata": {},
   "outputs": [],
   "source": [
    "##class weight creator for the instance where now I have a four dimensional output array \n",
    "def class_weight_creator(Y):\n",
    "    class_dict = {}\n",
    "    Y_reshaped = Y.reshape(-1, Y.shape[-1])\n",
    "    weights = np.max(np.sum(Y_reshaped, axis=0)) / np.sum(Y_reshaped, axis=0)\n",
    "    for i in range(Y.shape[-1] ):\n",
    "        class_dict[i] = weights[i]\n",
    "        \n",
    "    return class_dict"
   ]
  },
  {
   "cell_type": "code",
   "execution_count": 29,
   "id": "e2803294",
   "metadata": {},
   "outputs": [],
   "source": [
    "##number of input nodes\n",
    "numb_int = X_all.shape[1:]\n",
    "\n",
    "##fraction of training data\n",
    "X_validation = X_tri[0:frac_ind]\n",
    "Y_validation = Y_tri[0:frac_ind]\n",
    "        \n",
    "X_train = X_tri[frac_ind:len(X_tri)]\n",
    "Y_train = Y_tri[frac_ind:len(Y_tri)]\n",
    "\n",
    "X_test = X_tes\n",
    "Y_test = Y_tes"
   ]
  },
  {
   "cell_type": "code",
   "execution_count": 30,
   "id": "4679c850",
   "metadata": {},
   "outputs": [
    {
     "data": {
      "text/plain": [
       "(5858, 2)"
      ]
     },
     "execution_count": 30,
     "metadata": {},
     "output_type": "execute_result"
    }
   ],
   "source": [
    "Y_train.shape"
   ]
  },
  {
   "cell_type": "code",
   "execution_count": 31,
   "id": "adfe55bd",
   "metadata": {},
   "outputs": [
    {
     "data": {
      "text/plain": [
       "(14, 8)"
      ]
     },
     "execution_count": 31,
     "metadata": {},
     "output_type": "execute_result"
    }
   ],
   "source": [
    "numb_int"
   ]
  },
  {
   "cell_type": "raw",
   "id": "7eba0c7a",
   "metadata": {
    "jupyter": {
     "source_hidden": true
    }
   },
   "source": [
    "from tensorflow.keras.layers import Layer\n",
    "from tensorflow.keras import backend as K\n",
    "\n",
    "class AttentionWithContext(Layer):\n",
    "    def __init__(self, **kwargs):\n",
    "        super(AttentionWithContext, self).__init__(**kwargs)\n",
    "\n",
    "    def build(self, input_shape):\n",
    "        self.W = self.add_weight(shape=(input_shape[-1], input_shape[-1]),\n",
    "                                 initializer='glorot_uniform',\n",
    "                                 trainable=True,\n",
    "                                 name='W')\n",
    "        self.u = self.add_weight(shape=(input_shape[-1],),\n",
    "                                 initializer='glorot_uniform',\n",
    "                                 trainable=True,\n",
    "                                 name='u')\n",
    "        super(AttentionWithContext, self).build(input_shape)\n",
    "\n",
    "    def call(self, x):\n",
    "        # x shape: (batch_size, timesteps, features)\n",
    "        uit = K.tanh(K.dot(x, self.W))  # (batch_size, timesteps, features)\n",
    "        # use tf.tensordot to do dot product along features dimension:\n",
    "        ait = tf.tensordot(uit, self.u, axes=[[2], [0]])  # (batch_size, timesteps)\n",
    "        a = K.softmax(ait)  # attention weights (batch_size, timesteps)\n",
    "        a = K.expand_dims(a)  # (batch_size, timesteps, 1)\n",
    "        weighted_input = x * a  # (batch_size, timesteps, features)\n",
    "        output = K.sum(weighted_input, axis=1)  # (batch_size, features)\n",
    "        return output\n",
    "\n",
    "    def compute_output_shape(self, input_shape):\n",
    "        return (input_shape[0], input_shape[-1])"
   ]
  },
  {
   "cell_type": "markdown",
   "id": "53150388",
   "metadata": {},
   "source": [
    "### Model Architecture. "
   ]
  },
  {
   "cell_type": "code",
   "execution_count": 32,
   "id": "be886014",
   "metadata": {},
   "outputs": [],
   "source": [
    "######\n",
    "batch_size = 64 #The number of samples the network sees before it backpropagates (batch size)\n",
    "epochs = 30 #The number of times the network will loop through the entire dataset (epochs)\n",
    "shuffle = True #Set whether to shuffle the training data so the model doesn't see it sequentially \n",
    "verbose = 2 #Set whether the model will output information when trained (0 = no output; 2 = output accuracy every epoch)"
   ]
  },
  {
   "cell_type": "code",
   "execution_count": 35,
   "id": "c96593fe",
   "metadata": {},
   "outputs": [],
   "source": [
    "stop_early = tf.keras.callbacks.EarlyStopping(monitor='val_loss', patience=5)"
   ]
  },
  {
   "cell_type": "code",
   "execution_count": 56,
   "id": "f2918dba",
   "metadata": {},
   "outputs": [],
   "source": [
    "#model\n",
    "def basic_LSTM(ntimestep, nfeature, n1, n2, n3, rl1, rl3, lr):  \n",
    "    input_tensor = Input(shape=(ntimestep, nfeature))\n",
    "    \n",
    "    layer1 = layers.RNN(\n",
    "        layers.LSTMCell(n1, activation='tanh', use_bias=True,\n",
    "                          dropout=0.331, \n",
    "                          kernel_initializer='glorot_uniform',\n",
    "                          kernel_regularizer=keras.regularizers.l2(l2= rl1)),\n",
    "        return_sequences=True)(input_tensor)\n",
    "       \n",
    "    layer2 = layers.RNN(\n",
    "        layers.LSTMCell(n2, activation='tanh', use_bias=True,\n",
    "                          kernel_initializer='glorot_uniform',\n",
    "                          kernel_regularizer=keras.regularizers.l2(l2= rl1)),\n",
    "        return_sequences=False)(layer1)\n",
    "    \n",
    "    layer3 = layers.Dense(n3, activation='relu',use_bias=True,\n",
    "                          kernel_initializer='he_normal',bias_initializer='he_normal',\n",
    "                          kernel_regularizer=keras.regularizers.l2(l2=rl3))(layer2)\n",
    "\n",
    "    output_tensor = layers.Dense(2, activation='softmax',)(layer3)\n",
    "\n",
    "    model = Model(input_tensor, output_tensor)\n",
    "    opt = tf.keras.optimizers.legacy.Adam(learning_rate=lr)\n",
    "    loss = 'categorical_crossentropy' #categorical_focal_loss(alpha=0.7, gamma=0.5)\n",
    "    #decay_rate = lr / epochs\n",
    "    #momentum = 0.9\n",
    "\n",
    "    model.compile(optimizer=opt,loss=loss,metrics=[keras.metrics.categorical_accuracy],)\n",
    "                            \n",
    "    return model"
   ]
  },
  {
   "cell_type": "code",
   "execution_count": 77,
   "id": "cd500dc9",
   "metadata": {},
   "outputs": [],
   "source": [
    "tf.keras.backend.clear_session()"
   ]
  },
  {
   "cell_type": "code",
   "execution_count": 78,
   "id": "8c041f31",
   "metadata": {},
   "outputs": [],
   "source": [
    "model = basic_LSTM(numb_int[0],numb_int[1], 128, 16, 20, 0.005, 0.005, 0.001)\n"
   ]
  },
  {
   "cell_type": "code",
   "execution_count": 79,
   "id": "96053e60",
   "metadata": {},
   "outputs": [
    {
     "data": {
      "text/plain": [
       "{0: 1.0, 1: 1.0604994}"
      ]
     },
     "execution_count": 79,
     "metadata": {},
     "output_type": "execute_result"
    }
   ],
   "source": [
    "##do the class_dict weights\n",
    "class_weight = class_weight_creator(Y_train)\n",
    "class_weight"
   ]
  },
  {
   "cell_type": "code",
   "execution_count": 80,
   "id": "df9ff9cf",
   "metadata": {
    "scrolled": true
   },
   "outputs": [
    {
     "name": "stdout",
     "output_type": "stream",
     "text": [
      "Train on 5858 samples, validate on 1256 samples\n",
      "Epoch 1/30\n"
     ]
    },
    {
     "name": "stderr",
     "output_type": "stream",
     "text": [
      "2025-07-31 18:04:38.966227: W tensorflow/c/c_api.cc:305] Operation '{name:'training/Adam/dense_1/bias/v/Assign' id:1327 op device:{requested: '', assigned: ''} def:{{{node training/Adam/dense_1/bias/v/Assign}} = AssignVariableOp[_has_manual_control_dependencies=true, dtype=DT_FLOAT, validate_shape=false](training/Adam/dense_1/bias/v, training/Adam/dense_1/bias/v/Initializer/zeros)}}' was changed by setting attribute after it was run by a session. This mutation will have no effect, and will trigger an error in the future. Either don't modify nodes after running them or create a new session.\n"
     ]
    },
    {
     "name": "stdout",
     "output_type": "stream",
     "text": [
      "5858/5858 [==============================] - 1s 199us/sample - loss: 1.1447 - categorical_accuracy: 0.5306 - val_loss: 0.9488 - val_categorical_accuracy: 0.4793\n",
      "Epoch 2/30\n",
      "5858/5858 [==============================] - 1s 143us/sample - loss: 0.8807 - categorical_accuracy: 0.5613 - val_loss: 0.8011 - val_categorical_accuracy: 0.5987\n",
      "Epoch 3/30\n",
      "5858/5858 [==============================] - 1s 142us/sample - loss: 0.8009 - categorical_accuracy: 0.5703 - val_loss: 0.7494 - val_categorical_accuracy: 0.6019\n",
      "Epoch 4/30\n",
      "5858/5858 [==============================] - 1s 142us/sample - loss: 0.7659 - categorical_accuracy: 0.5678 - val_loss: 0.7247 - val_categorical_accuracy: 0.6019\n",
      "Epoch 5/30\n",
      "5858/5858 [==============================] - 1s 142us/sample - loss: 0.7462 - categorical_accuracy: 0.5679 - val_loss: 0.7311 - val_categorical_accuracy: 0.5231\n",
      "Epoch 6/30\n",
      "5858/5858 [==============================] - 1s 142us/sample - loss: 0.7295 - categorical_accuracy: 0.5806 - val_loss: 0.6959 - val_categorical_accuracy: 0.5963\n",
      "Epoch 7/30\n",
      "5858/5858 [==============================] - 1s 142us/sample - loss: 0.7250 - categorical_accuracy: 0.5633 - val_loss: 0.6898 - val_categorical_accuracy: 0.6043\n",
      "Epoch 8/30\n",
      "5858/5858 [==============================] - 1s 140us/sample - loss: 0.7184 - categorical_accuracy: 0.5638 - val_loss: 0.6927 - val_categorical_accuracy: 0.5565\n",
      "Epoch 9/30\n",
      "5858/5858 [==============================] - 1s 140us/sample - loss: 0.7139 - categorical_accuracy: 0.5673 - val_loss: 0.6798 - val_categorical_accuracy: 0.6011\n",
      "Epoch 10/30\n",
      "5858/5858 [==============================] - 1s 140us/sample - loss: 0.7094 - categorical_accuracy: 0.5695 - val_loss: 0.6832 - val_categorical_accuracy: 0.5939\n",
      "Epoch 11/30\n",
      "5858/5858 [==============================] - 1s 140us/sample - loss: 0.7105 - categorical_accuracy: 0.5645 - val_loss: 0.6820 - val_categorical_accuracy: 0.5932\n",
      "Epoch 12/30\n",
      "5858/5858 [==============================] - 1s 140us/sample - loss: 0.7083 - categorical_accuracy: 0.5683 - val_loss: 0.6862 - val_categorical_accuracy: 0.5533\n",
      "Epoch 13/30\n",
      "5858/5858 [==============================] - 1s 139us/sample - loss: 0.7088 - categorical_accuracy: 0.5620 - val_loss: 0.6773 - val_categorical_accuracy: 0.6067\n",
      "Epoch 14/30\n",
      "5858/5858 [==============================] - 1s 140us/sample - loss: 0.7072 - categorical_accuracy: 0.5606 - val_loss: 0.6780 - val_categorical_accuracy: 0.6146\n",
      "Epoch 15/30\n",
      "5858/5858 [==============================] - 1s 140us/sample - loss: 0.7057 - categorical_accuracy: 0.5708 - val_loss: 0.6808 - val_categorical_accuracy: 0.5486\n",
      "Epoch 16/30\n",
      "5858/5858 [==============================] - 1s 140us/sample - loss: 0.7078 - categorical_accuracy: 0.5657 - val_loss: 0.6788 - val_categorical_accuracy: 0.6139\n",
      "Epoch 17/30\n",
      "5858/5858 [==============================] - 1s 140us/sample - loss: 0.7047 - categorical_accuracy: 0.5708 - val_loss: 0.6752 - val_categorical_accuracy: 0.5868\n",
      "Epoch 18/30\n",
      "5858/5858 [==============================] - 1s 140us/sample - loss: 0.7037 - categorical_accuracy: 0.5731 - val_loss: 0.6782 - val_categorical_accuracy: 0.5939\n",
      "Epoch 19/30\n",
      "5858/5858 [==============================] - 1s 140us/sample - loss: 0.7041 - categorical_accuracy: 0.5714 - val_loss: 0.6790 - val_categorical_accuracy: 0.5677\n",
      "Epoch 20/30\n",
      "5858/5858 [==============================] - 1s 144us/sample - loss: 0.7027 - categorical_accuracy: 0.5784 - val_loss: 0.6772 - val_categorical_accuracy: 0.5804\n",
      "Epoch 21/30\n",
      "5858/5858 [==============================] - 1s 140us/sample - loss: 0.7070 - categorical_accuracy: 0.5625 - val_loss: 0.6785 - val_categorical_accuracy: 0.5820\n",
      "Epoch 22/30\n",
      "5858/5858 [==============================] - 1s 140us/sample - loss: 0.7054 - categorical_accuracy: 0.5678 - val_loss: 0.6746 - val_categorical_accuracy: 0.6003\n",
      "Epoch 23/30\n",
      "5858/5858 [==============================] - 1s 140us/sample - loss: 0.7047 - categorical_accuracy: 0.5676 - val_loss: 0.6757 - val_categorical_accuracy: 0.6162\n",
      "Epoch 24/30\n",
      "5858/5858 [==============================] - 1s 140us/sample - loss: 0.7038 - categorical_accuracy: 0.5727 - val_loss: 0.6721 - val_categorical_accuracy: 0.6067\n",
      "Epoch 25/30\n",
      "5858/5858 [==============================] - 1s 140us/sample - loss: 0.7025 - categorical_accuracy: 0.5698 - val_loss: 0.6731 - val_categorical_accuracy: 0.5947\n",
      "Epoch 26/30\n",
      "5858/5858 [==============================] - 1s 140us/sample - loss: 0.7028 - categorical_accuracy: 0.5797 - val_loss: 0.6808 - val_categorical_accuracy: 0.5565\n",
      "Epoch 27/30\n",
      "5858/5858 [==============================] - 1s 140us/sample - loss: 0.7060 - categorical_accuracy: 0.5659 - val_loss: 0.6781 - val_categorical_accuracy: 0.6019\n",
      "Epoch 28/30\n",
      "5858/5858 [==============================] - 1s 140us/sample - loss: 0.7055 - categorical_accuracy: 0.5693 - val_loss: 0.6727 - val_categorical_accuracy: 0.6035\n",
      "Epoch 29/30\n",
      "5858/5858 [==============================] - 1s 140us/sample - loss: 0.7024 - categorical_accuracy: 0.5766 - val_loss: 0.6855 - val_categorical_accuracy: 0.5597\n",
      "Epoch 30/30\n",
      "5858/5858 [==============================] - 1s 141us/sample - loss: 0.7042 - categorical_accuracy: 0.5726 - val_loss: 0.6735 - val_categorical_accuracy: 0.6035\n"
     ]
    },
    {
     "data": {
      "text/plain": [
       "<keras.src.callbacks.History at 0x1552589f3160>"
      ]
     },
     "execution_count": 80,
     "metadata": {},
     "output_type": "execute_result"
    }
   ],
   "source": [
    "model.fit(X_train, Y_train, validation_data=(X_validation, Y_validation),\n",
    "          batch_size=batch_size, epochs=epochs, class_weight=class_weight, shuffle=shuffle)#, callbacks=[stop_early])"
   ]
  },
  {
   "cell_type": "code",
   "execution_count": 81,
   "id": "7fc00bf0",
   "metadata": {},
   "outputs": [
    {
     "name": "stderr",
     "output_type": "stream",
     "text": [
      "2025-07-31 18:05:04.166962: W tensorflow/c/c_api.cc:305] Operation '{name:'dense_1/Softmax' id:737 op device:{requested: '', assigned: ''} def:{{{node dense_1/Softmax}} = Softmax[T=DT_FLOAT, _has_manual_control_dependencies=true](dense_1/BiasAdd)}}' was changed by setting attribute after it was run by a session. This mutation will have no effect, and will trigger an error in the future. Either don't modify nodes after running them or create a new session.\n"
     ]
    },
    {
     "data": {
      "text/plain": [
       "<bound method Axes.legend of <Axes: title={'center': 'Accuracy'}, xlabel='Epoch', ylabel='Acc'>>"
      ]
     },
     "execution_count": 81,
     "metadata": {},
     "output_type": "execute_result"
    },
    {
     "data": {
      "image/png": "[encoded data removed]",
      "text/plain": [
       "<Figure size 1600x400 with 2 Axes>"
      ]
     },
     "metadata": {},
     "output_type": "display_data"
    }
   ],
   "source": [
    "train_loss=model.history.history['loss']\n",
    "val_loss=model.history.history['val_loss']\n",
    "    \n",
    "cat_acc=model.history.history['categorical_accuracy']\n",
    "val_acc=model.history.history['val_categorical_accuracy']\n",
    "        \n",
    "pred = model.predict(X_all)\n",
    "pred_val = model.predict(X_validation)\n",
    "pred_train = model.predict(X_train)\n",
    "pred_test = model.predict(X_test)\n",
    "\n",
    "# Look at the optimization history\n",
    "fig, (ax1,ax2) = plt.subplots(1,2, figsize=plt.figaspect(0.25))\n",
    "ax1.plot(train_loss, label='Training loss')\n",
    "ax1.plot(val_loss, label='Validation loss')\n",
    "ax1.set_yscale('log')\n",
    "ax1.set_title('loss')\n",
    "ax1.set_xlabel('Epoch')\n",
    "ax1.set_ylabel('loss')\n",
    "ax1.legend()\n",
    "\n",
    "ax2.plot(cat_acc, label='Training ACC')\n",
    "ax2.plot(val_acc, label='Validation ACC')\n",
    "ax2.set_title('Accuracy')\n",
    "ax2.set_xlabel('Epoch')\n",
    "ax2.set_ylabel('Acc')\n",
    "ax2.legend\n",
    "#plt.savefig(\"SEUS_onearch.png\")"
   ]
  },
  {
   "cell_type": "code",
   "execution_count": 62,
   "id": "cd68deba",
   "metadata": {},
   "outputs": [
    {
     "name": "stdout",
     "output_type": "stream",
     "text": [
      "              precision    recall  f1-score   support\n",
      "\n",
      "           0      0.545     1.000     0.705       684\n",
      "           1      0.000     0.000     0.000       572\n",
      "\n",
      "    accuracy                          0.545      1256\n",
      "   macro avg      0.272     0.500     0.353      1256\n",
      "weighted avg      0.297     0.545     0.384      1256\n",
      "\n"
     ]
    },
    {
     "name": "stderr",
     "output_type": "stream",
     "text": [
      "/usr/local/lib/python3.10/dist-packages/sklearn/metrics/_classification.py:1471: UndefinedMetricWarning: Precision and F-score are ill-defined and being set to 0.0 in labels with no predicted samples. Use `zero_division` parameter to control this behavior.\n",
      "  _warn_prf(average, modifier, msg_start, len(result))\n",
      "/usr/local/lib/python3.10/dist-packages/sklearn/metrics/_classification.py:1471: UndefinedMetricWarning: Precision and F-score are ill-defined and being set to 0.0 in labels with no predicted samples. Use `zero_division` parameter to control this behavior.\n",
      "  _warn_prf(average, modifier, msg_start, len(result))\n",
      "/usr/local/lib/python3.10/dist-packages/sklearn/metrics/_classification.py:1471: UndefinedMetricWarning: Precision and F-score are ill-defined and being set to 0.0 in labels with no predicted samples. Use `zero_division` parameter to control this behavior.\n",
      "  _warn_prf(average, modifier, msg_start, len(result))\n"
     ]
    }
   ],
   "source": [
    "from sklearn.metrics import classification_report\n",
    "import numpy as np\n",
    "\n",
    "y_val_pred = model.predict(X_validation)\n",
    "y_val_classes = np.argmax(y_val_pred, axis=1)\n",
    "y_val_true = np.argmax(Y_validation, axis=1)\n",
    "\n",
    "print(classification_report(y_val_true, y_val_classes, digits=3))"
   ]
  },
  {
   "cell_type": "code",
   "execution_count": 63,
   "id": "b0a23e17",
   "metadata": {},
   "outputs": [
    {
     "name": "stdout",
     "output_type": "stream",
     "text": [
      "Brier Score (Model): 0.2501\n",
      "Brier Score (Climatology): 0.2500\n",
      "Brier Skill Score: -0.0003\n"
     ]
    }
   ],
   "source": [
    "# Convert one-hot labels to 1D integer labels (0 or 1)\n",
    "y_true = np.argmax(Y_test, axis=1)\n",
    "\n",
    "# Extract predicted probability for the positive class (class 1)\n",
    "y_prob = pred_test[:,1]\n",
    "\n",
    "# Create climatology baseline: constant probability = mean positive class rate\n",
    "p_climatology = np.full_like(y_true, y_true.mean(), dtype=float)\n",
    "\n",
    "# Compute Brier Scores\n",
    "bs_model = brier_score_loss(y_true, y_prob)\n",
    "bs_climo = brier_score_loss(y_true, p_climatology)\n",
    "\n",
    "# Compute Brier Skill Score\n",
    "bss = 1 - (bs_model / bs_climo)\n",
    "\n",
    "print(f\"Brier Score (Model): {bs_model:.4f}\")\n",
    "print(f\"Brier Score (Climatology): {bs_climo:.4f}\")\n",
    "print(f\"Brier Skill Score: {bss:.4f}\")"
   ]
  },
  {
   "cell_type": "code",
   "execution_count": 64,
   "id": "84d9bd7e",
   "metadata": {},
   "outputs": [
    {
     "name": "stdout",
     "output_type": "stream",
     "text": [
      "Brier Score (Model): 0.2501\n",
      "Brier Score (Climatology): 0.4992\n",
      "Brier Skill Score: 0.4991\n"
     ]
    }
   ],
   "source": [
    "## Labels for negative class\n",
    "y_true_neg = 1 - y_true  # flip 0 <-> 1\n",
    "\n",
    "# Predicted probabilities for negative class\n",
    "y_prob_neg = pred_test[:, 0]\n",
    "\n",
    "# Calculate Brier Score and BSS for negative class\n",
    "bs_model_neg = brier_score_loss(y_true_neg, y_prob_neg)\n",
    "bs_climo_neg = brier_score_loss(y_true_neg, np.full_like(y_true_neg, y_true_neg.mean()))\n",
    "bss_neg = 1 - (bs_model_neg / bs_climo_neg)\n",
    "\n",
    "print(f\"Brier Score (Model): {bs_model_neg:.4f}\")\n",
    "print(f\"Brier Score (Climatology): {bs_climo_neg:.4f}\")\n",
    "print(f\"Brier Skill Score: {bss_neg:.4f}\")"
   ]
  },
  {
   "cell_type": "code",
   "execution_count": 65,
   "id": "36694514",
   "metadata": {},
   "outputs": [
    {
     "data": {
      "image/png": "[encoded data removed]",
      "text/plain": [
       "<Figure size 1000x1000 with 6 Axes>"
      ]
     },
     "metadata": {},
     "output_type": "display_data"
    }
   ],
   "source": [
    "bins = np.linspace(0.1, 0.9, 37)  #10 bins from 0.4 to 1\n",
    "##bin the probabilities\n",
    "counts_neg_test, edges_neg_test = np.histogram(pred_test[:,0], bins=bins)\n",
    "counts_pos_test, edges_pos_test = np.histogram(pred_test[:,1], bins=bins)\n",
    "\n",
    "counts_neg_train, edges_neg_train = np.histogram(pred_train[:,0], bins=bins)\n",
    "counts_pos_train, edges_pos_train = np.histogram(pred_train[:,1], bins=bins)\n",
    "\n",
    "counts_neg_val, edges_neg_val = np.histogram(pred_val[:,0], bins=bins)\n",
    "counts_pos_val, edges_pos_val = np.histogram(pred_val[:,1], bins=bins)\n",
    "\n",
    "fig, axes = plt.subplots(3, 2, figsize=(10,10))\n",
    "ax1, ax2, ax3, ax4, ax5, ax6 = axes.flatten()\n",
    "\n",
    "ax1.bar(edges_neg_train[:-1], counts_neg_train, width=np.diff(edges_neg_train), \n",
    "        edgecolor='black', alpha=0.5, align='edge', color='blue')\n",
    "ax1.set_title('Negative Training Predictions', fontsize=13)\n",
    "ax1.set_xlabel('Probability')\n",
    "ax1.set_ylabel('Count')\n",
    "\n",
    "ax2.bar(edges_pos_train[:-1], counts_pos_train, width=np.diff(edges_pos_train), \n",
    "        edgecolor='black', alpha=0.5, align='edge', color='orange')\n",
    "ax2.set_title('Positive Training Predictions', fontsize=13)\n",
    "ax2.set_xlabel('Probability')\n",
    "ax2.set_ylabel('Count')\n",
    "\n",
    "ax3.bar(edges_neg_val[:-1], counts_neg_val, width=np.diff(edges_neg_val), \n",
    "        edgecolor='black', alpha=0.5, align='edge', color='blue')\n",
    "ax3.set_title('Negative Validation Predictions', fontsize=13)\n",
    "ax3.set_xlabel('Probability')\n",
    "ax3.set_ylabel('Count')\n",
    "\n",
    "ax4.bar(edges_pos_val[:-1], counts_pos_val, width=np.diff(edges_pos_val), \n",
    "        edgecolor='black', alpha=0.5, align='edge', color='orange')\n",
    "ax4.set_title('Positive Validation Predictions', fontsize=13)\n",
    "ax4.set_xlabel('Probability')\n",
    "ax4.set_ylabel('Count')\n",
    "\n",
    "ax5.bar(edges_neg_test[:-1], counts_neg_test, width=np.diff(edges_neg_test), \n",
    "        edgecolor='black', alpha=0.5, align='edge', color='blue')\n",
    "ax5.set_title('Negative Testing Predictions', fontsize=13)\n",
    "ax5.set_xlabel('Probability')\n",
    "ax5.set_ylabel('Count')\n",
    "\n",
    "ax6.bar(edges_pos_test[:-1], counts_pos_test, width=np.diff(edges_pos_test), \n",
    "        edgecolor='black', alpha=0.5, align='edge', color='orange')\n",
    "ax6.set_title('Positive Testing Predictions', fontsize=13)\n",
    "ax6.set_xlabel('Probability')\n",
    "ax6.set_ylabel('Count')\n",
    "\n",
    "plt.tight_layout()"
   ]
  },
  {
   "cell_type": "markdown",
   "id": "40a8539b",
   "metadata": {},
   "source": [
    "### Try SHAP."
   ]
  },
  {
   "cell_type": "code",
   "execution_count": 82,
   "id": "ea9408cd",
   "metadata": {},
   "outputs": [],
   "source": [
    "##testing shap\n",
    "import shap\n",
    "import pylab\n",
    "import random"
   ]
  },
  {
   "cell_type": "code",
   "execution_count": 83,
   "id": "277b3c23",
   "metadata": {},
   "outputs": [],
   "source": [
    "#random range of dates from X_train for explainer\n",
    "start = random.randrange(len(X_train[:,0])-frac_ind)\n",
    "end = start+(frac_ind)"
   ]
  },
  {
   "cell_type": "code",
   "execution_count": null,
   "id": "88da1d5d",
   "metadata": {},
   "outputs": [],
   "source": [
    "print(start)"
   ]
  },
  {
   "cell_type": "code",
   "execution_count": null,
   "id": "765caad5",
   "metadata": {},
   "outputs": [],
   "source": [
    "#use gradient explainer on subset of training data\n",
    "sample = X_train[start:end]\n",
    "explainer = shap.GradientExplainer(model, sample)"
   ]
  },
  {
   "cell_type": "code",
   "execution_count": null,
   "id": "dba1a092",
   "metadata": {},
   "outputs": [],
   "source": [
    "#use explainer\n",
    "shap_values = explainer.shap_values(X_train[:100])"
   ]
  },
  {
   "cell_type": "code",
   "execution_count": null,
   "id": "32043292",
   "metadata": {},
   "outputs": [],
   "source": [
    "#change shap values to array\n",
    "shap_values = np.array(shap_values)\n",
    "shap_values.shape"
   ]
  },
  {
   "cell_type": "code",
   "execution_count": null,
   "id": "e3c88baa",
   "metadata": {},
   "outputs": [],
   "source": [
    "aggs = np.abs(shap_values) ##aggregate over the samples to make all positive\n",
    "aggs.shape"
   ]
  },
  {
   "cell_type": "code",
   "execution_count": null,
   "id": "d9bb8cf2",
   "metadata": {},
   "outputs": [],
   "source": [
    "#take mean along sample dimension\n",
    "aggs = aggs.mean(axis=1)\n",
    "aggs.shape"
   ]
  },
  {
   "cell_type": "code",
   "execution_count": null,
   "id": "44a2ab1d",
   "metadata": {},
   "outputs": [],
   "source": [
    "feat_cat = aggs.mean(axis=1) ##take mean along timestep axis\n",
    "feat_cat.shape\n",
    "feat_cat_df = pd.DataFrame(feat_cat) #turn into pandas dataframe"
   ]
  },
  {
   "cell_type": "code",
   "execution_count": null,
   "id": "23d8794c",
   "metadata": {},
   "outputs": [],
   "source": [
    "feat_cat.shape"
   ]
  },
  {
   "cell_type": "code",
   "execution_count": null,
   "id": "f6909280",
   "metadata": {},
   "outputs": [],
   "source": [
    "#fetures = ['1', '56', '0', '54', '9', '57', '2', '31', '26', '14','20', '6', '11', '38', '21', '18', '15', '22', '12', '13']\n",
    "\n",
    "#labels for columns\n",
    "features = ['U3', 'GPH4', 'U2', 'GPH2', 'EHF2', 'GPH5', 'U4', 'EHF24', 'EHF19', 'EHF7',\n",
    "            'EHF13', 'U8', 'EHF4', 'EHF31', 'EHF14', 'EHF11', 'EHF8', 'EHF15', 'EHF5', 'EHF6']"
   ]
  },
  {
   "cell_type": "code",
   "execution_count": null,
   "id": "6f7760d6",
   "metadata": {},
   "outputs": [],
   "source": [
    "#add labels and transpose model\n",
    "feat_cat_df.columns = features\n",
    "featcat_df = feat_cat_df.T"
   ]
  },
  {
   "cell_type": "code",
   "execution_count": null,
   "id": "7ac8d921",
   "metadata": {},
   "outputs": [],
   "source": [
    "fig = plt.figure(figsize=(11,10),dpi=100)\n",
    "fig.suptitle(\"SHAP for Predicting Surface Temperature Extreme over Europe 14-days Leadtime\",\n",
    "             fontsize = 19,x=.53) \n",
    " \n",
    "ax1 = fig.add_subplot(1,1,1)\n",
    "featcat_df.loc[featcat_df.sum(1).sort_values(ascending=True).index[:]].plot(\n",
    "    kind=\"barh\", stacked=True, ax = ax1, colormap = 'bwr')\n",
    "ax1.tick_params(axis='both', which='major', labelsize= 16)\n",
    "#ax1.set_yticks([0,1,2,3,4,5,6,7,8],feature_name_bh)\n",
    "ax1.set_xlabel('Mean SHAP value', fontsize =18 )\n",
    "ax1.set_ylabel('Feature', fontsize =18 )\n",
    "ax1.legend(loc = 'lower right', fontsize =18)\n",
    "#ax1.set_xlim(0,0.25)\n",
    "\n",
    "plt.tight_layout()\n",
    "plt.savefig('practice_SHAP.png')"
   ]
  },
  {
   "cell_type": "code",
   "execution_count": null,
   "id": "8cf9472c",
   "metadata": {},
   "outputs": [],
   "source": [
    "#stuff for creating beeswarm plots\n",
    "shap_class1_agg = np.mean(shap_values[1], axis=1)  #pos class agg shap values (samples, features)\n",
    "shap_class0_agg = np.mean(shap_values[0], axis=1)  #neg class agg shap values (samples, features)\n",
    "X_sample = np.mean(X_train[:100], axis=1) #reference from training for agg shaps(samples, features)"
   ]
  },
  {
   "cell_type": "code",
   "execution_count": null,
   "id": "bb166188",
   "metadata": {},
   "outputs": [],
   "source": [
    "shap_class1_agg.shape"
   ]
  },
  {
   "cell_type": "code",
   "execution_count": null,
   "id": "3827ed79",
   "metadata": {},
   "outputs": [],
   "source": [
    "#separate reference dataframe with column names. \n",
    "X_df = pd.DataFrame(X_sample, columns=features)"
   ]
  },
  {
   "cell_type": "code",
   "execution_count": null,
   "id": "77516c2d",
   "metadata": {},
   "outputs": [],
   "source": [
    "shap.summary_plot(shap_class1_agg, X_df, show=False)\n",
    "fig = plt.gcf()\n",
    "ax = plt.gca()\n",
    "\n",
    "fig.suptitle(\"SHAP Beeswarm Plot – Positive Class (14-day Forecast)\", fontsize=16)\n",
    "ax.set_xlabel(\"Mean SHAP Value\", fontsize=14)\n",
    "ax.set_ylabel(\"Features\", fontsize=14)\n",
    "ax.tick_params(axis='both', labelsize=12)\n",
    "\n",
    "plt.tight_layout()\n",
    "plt.savefig(\"beeswarm_postest.png\")\n",
    "plt.show()"
   ]
  },
  {
   "cell_type": "code",
   "execution_count": null,
   "id": "441a1c29",
   "metadata": {},
   "outputs": [],
   "source": [
    "shap.summary_plot(shap_class0_agg, X_df, show=False)\n",
    "fig = plt.gcf()\n",
    "ax = plt.gca()\n",
    "\n",
    "fig.suptitle(\"SHAP Beeswarm Plot – Negative Class (14-day Forecast)\", fontsize=16)\n",
    "ax.set_xlabel(\"Mean SHAP Value\", fontsize=14)\n",
    "ax.set_ylabel(\"Features\", fontsize=14)\n",
    "ax.tick_params(axis='both', labelsize=12)\n",
    "\n",
    "plt.tight_layout()\n",
    "plt.savefig(\"beeswarm_negtest.png\")\n",
    "plt.show()"
   ]
  },
  {
   "cell_type": "code",
   "execution_count": null,
   "id": "f8a1cb86",
   "metadata": {},
   "outputs": [],
   "source": []
  }
 ],
 "metadata": {
  "kernelspec": {
   "display_name": "Python 3 (ipykernel)",
   "language": "python",
   "name": "python3"
  },
  "language_info": {
   "codemirror_mode": {
    "name": "ipython",
    "version": 3
   },
   "file_extension": ".py",
   "mimetype": "text/x-python",
   "name": "python",
   "nbconvert_exporter": "python",
   "pygments_lexer": "ipython3",
   "version": "3.10.12"
  }
 },
 "nbformat": 4,
 "nbformat_minor": 5
}
