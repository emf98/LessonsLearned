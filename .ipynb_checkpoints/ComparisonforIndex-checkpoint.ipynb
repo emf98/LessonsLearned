{
 "cells": [
  {
   "cell_type": "markdown",
   "id": "bc0bb3d7",
   "metadata": {},
   "source": [
    "### File for comparing lists from RF and LSTM models for 90th confidence predictions ...\n",
    "\n",
    "7/15/2025"
   ]
  },
  {
   "cell_type": "code",
   "execution_count": 1,
   "id": "3cca1b75",
   "metadata": {},
   "outputs": [],
   "source": [
    "#relevant import statements\n",
    "import numpy as np\n",
    "import math\n",
    "import pandas as pd\n",
    "import xarray as xr \n",
    "import pickle \n",
    "import matplotlib.pyplot as plt\n",
    "\n",
    "import collections"
   ]
  },
  {
   "cell_type": "code",
   "execution_count": 2,
   "id": "daa55b94",
   "metadata": {},
   "outputs": [
    {
     "name": "stdout",
     "output_type": "stream",
     "text": [
      "RF dates shape: (10, 135)\n",
      "LSTM dates shape: (10, 135)\n"
     ]
    }
   ],
   "source": [
    "#because of how i modified the RF models, these dates match. SO. The mismatch of array index issue I had is largely circumvented. \n",
    "ranges_RF = np.array([x for x in range(0,135*10,1)])\n",
    "ranges_RF = ranges_RF.reshape(10,135) \n",
    "print(\"RF dates shape:\",ranges_RF.shape)\n",
    "\n",
    "ranges_LSTM = np.array([x for x in range(0,135*10,1)])\n",
    "ranges_LSTM = ranges_LSTM.reshape(10,135) \n",
    "print(\"LSTM dates shape:\",ranges_LSTM.shape)"
   ]
  },
  {
   "cell_type": "code",
   "execution_count": 3,
   "id": "0d70735e",
   "metadata": {},
   "outputs": [],
   "source": [
    "#flatten ranges to allow mapping of the rep. arrays. \n",
    "#flat_RF_map = corr_RFindices.flatten()      \n",
    "\n",
    "flat_RF_map = ranges_LSTM.flatten() #because of the changes, these are the same...\n",
    "flat_LSTM_map = ranges_LSTM.flatten() \n",
    "#both should be the same shape, covering the same dates"
   ]
  },
  {
   "cell_type": "markdown",
   "id": "2fd6a322",
   "metadata": {},
   "source": [
    "### Definition statement for calculating overlap. "
   ]
  },
  {
   "cell_type": "code",
   "execution_count": 13,
   "id": "e7f94280",
   "metadata": {},
   "outputs": [],
   "source": [
    "#definition to compile and compare counts across lists/dictionaries\n",
    "def compare_dicts_values(list1, list2):\n",
    "    RF_count = collections.Counter() ##RF counter dictionary\n",
    "    for day in list1:\n",
    "        RF_count[day] += 1\n",
    "    LSTM_count = collections.Counter() ##LSTM counter dictionary\n",
    "    for day in list2:\n",
    "        LSTM_count[day] += 1\n",
    "        \n",
    "    result = {}\n",
    "    #begin comparing RF and LSTM dictionaries. \n",
    "    for key in RF_count:\n",
    "        if key in LSTM_count: #this next part is basically like \"which count is smaller so that we save the overlap in the dict\"\n",
    "            if RF_count[key] >= LSTM_count[key]:\n",
    "                result[key] = abs(LSTM_count[key])\n",
    "            if RF_count[key] < LSTM_count[key]:\n",
    "                result[key] = abs(RF_count[key])\n",
    "    total_sum = sum(result.values()) #look at total count for all events\n",
    "    print(\"Total number of RF events: \",len(list1)) \n",
    "    print(\"Total number of LSTM events: \",len(list2)) \n",
    "    print(\"Total number of overlap: \",total_sum)  \n",
    "    percentage = round(total_sum/len(list2) *100,2)\n",
    "    return percentage;\n",
    "\n",
    "#_________________________________________________________________\n",
    "##this instance is just to save the keys so that I can look at composites ... for those dates. \n",
    "def compare_keys(list1, list2):\n",
    "    RF_count = collections.Counter() ##RF counter dictionary\n",
    "    for day in list1:\n",
    "        RF_count[day] += 1\n",
    "    LSTM_count = collections.Counter() ##LSTM counter dictionary\n",
    "    for day in list2:\n",
    "        LSTM_count[day] += 1\n",
    "        \n",
    "    result = []\n",
    "    Rfonly = []\n",
    "    #begin comparing RF and LSTM dictionaries. \n",
    "    for key in RF_count:\n",
    "        if key in LSTM_count:\n",
    "            #save the key to look at for composites\n",
    "            result.append(key)\n",
    "        if key not in LSTM_count:\n",
    "            Rfonly.append(key)\n",
    "    \n",
    "    LSTMonly =[]\n",
    "    for key in LSTM_count:\n",
    "        if key not in RF_count:\n",
    "            LSTMonly.append(key)\n",
    "    \n",
    "    ##I have this set up to look at the SLTM/RF only values too but I may save those for another time. \n",
    "    return result, Rfonly, LSTMonly;\n",
    "#ultimately these composites would look at the average across the # of shared dates, ignoring the count of them. "
   ]
  },
  {
   "cell_type": "markdown",
   "id": "7ca21b95",
   "metadata": {},
   "source": [
    "## Europe first. "
   ]
  },
  {
   "cell_type": "code",
   "execution_count": 14,
   "id": "2b3ac337",
   "metadata": {},
   "outputs": [],
   "source": [
    "##open EUROPE indice files\n",
    "infile = open(\"./Europe/posXtest_eur14.p\", 'rb') \n",
    "posXtest = pickle.load(infile)\n",
    "infile.close()\n",
    "\n",
    "infile = open(\"./Europe/posXtest_eur14_eof.p\", 'rb') \n",
    "pos_LSTM = pickle.load(infile)\n",
    "infile.close()\n",
    "\n",
    "infile = open(\"./Europe/FposXtest_eur14.p\", 'rb') \n",
    "FposXtest = pickle.load(infile)\n",
    "infile.close()\n",
    "\n",
    "infile = open(\"./Europe/FposXtest_eur14_eof.p\", 'rb') \n",
    "Fpos_LSTM = pickle.load(infile)\n",
    "infile.close()\n",
    "\n",
    "infile = open(\"./Europe/negXtest_eur14.p\", 'rb') \n",
    "negXtest = pickle.load(infile)\n",
    "infile.close()\n",
    "\n",
    "infile = open(\"./Europe/negXtest_eur14_eof.p\", 'rb') \n",
    "neg_LSTM = pickle.load(infile)\n",
    "infile.close()\n",
    "\n",
    "infile = open(\"./Europe/FnegXtest_eur14.p\", 'rb') \n",
    "FnegXtest = pickle.load(infile)\n",
    "infile.close()\n",
    "\n",
    "infile = open(\"./Europe/FnegXtest_eur14_eof.p\", 'rb') \n",
    "Fneg_LSTM = pickle.load(infile)\n",
    "infile.close()"
   ]
  },
  {
   "cell_type": "code",
   "execution_count": 15,
   "id": "c1ae3889",
   "metadata": {},
   "outputs": [
    {
     "name": "stdout",
     "output_type": "stream",
     "text": [
      "Overview and Comparison of High Confidence events from Europe 14 between RF Ellipse and RF EOF\n",
      "Positive and Correct Events\n",
      "Total number of RF events:  11494\n",
      "Total number of LSTM events:  10604\n",
      "Total number of overlap:  7295\n",
      "68.79 % relative to LSTM events\n",
      "__________________________________\n",
      "Negative and Correct Events\n",
      "Total number of RF events:  9876\n",
      "Total number of LSTM events:  8304\n",
      "Total number of overlap:  1285\n",
      "15.47 % relative to LSTM events\n",
      "__________________________________\n",
      "Positive and Incorrect Events\n",
      "Total number of RF events:  3618\n",
      "Total number of LSTM events:  5196\n",
      "Total number of overlap:  1175\n",
      "22.61 % relative to LSTM events\n",
      "__________________________________\n",
      "Negative and Inorrect Events\n",
      "Total number of RF events:  2002\n",
      "Total number of LSTM events:  2895\n",
      "Total number of overlap:  750\n",
      "25.91 % relative to LSTM events\n"
     ]
    }
   ],
   "source": [
    "print(\"Overview and Comparison of High Confidence events from Europe 14 between RF Ellipse and RF EOF\")\n",
    "print(\"Positive and Correct Events\")\n",
    "print(compare_dicts_values(posXtest, pos_LSTM),\"% relative to LSTM events\")\n",
    "print(\"__________________________________\")\n",
    "print(\"Negative and Correct Events\")\n",
    "print(compare_dicts_values(negXtest, neg_LSTM),\"% relative to LSTM events\")\n",
    "print(\"__________________________________\")\n",
    "print(\"Positive and Incorrect Events\")\n",
    "print(compare_dicts_values(FposXtest, Fpos_LSTM),\"% relative to LSTM events\")\n",
    "print(\"__________________________________\")\n",
    "print(\"Negative and Inorrect Events\")\n",
    "print(compare_dicts_values(FnegXtest, Fneg_LSTM),\"% relative to LSTM events\")"
   ]
  },
  {
   "cell_type": "raw",
   "id": "1d41210e",
   "metadata": {
    "jupyter": {
     "source_hidden": true
    }
   },
   "source": [
    "Overview and Comparison of High Confidence events from Europe 14 between RF and LSTM\n",
    "Positive and Correct Events\n",
    "Total number of RF events:  11490\n",
    "Total number of LSTM events:  9172\n",
    "Total number of overlap:  6066\n",
    "66.14 % relative to LSTM events\n",
    "__________________________________\n",
    "Negative and Correct Events\n",
    "Total number of RF events:  9876\n",
    "Total number of LSTM events:  9661\n",
    "Total number of overlap:  2359\n",
    "24.42 % relative to LSTM events\n",
    "__________________________________\n",
    "Positive and Incorrect Events\n",
    "Total number of RF events:  3624\n",
    "Total number of LSTM events:  3839\n",
    "Total number of overlap:  552\n",
    "14.38 % relative to LSTM events\n",
    "__________________________________\n",
    "Negative and Inorrect Events\n",
    "Total number of RF events:  2005\n",
    "Total number of LSTM events:  4328\n",
    "Total number of overlap:  678\n",
    "15.67 % relative to LSTM events"
   ]
  },
  {
   "cell_type": "code",
   "execution_count": 26,
   "id": "7ea17376",
   "metadata": {},
   "outputs": [
    {
     "name": "stdout",
     "output_type": "stream",
     "text": [
      "Positive and Correct Events\n",
      "RF Ellipse total unique indices: 226\n",
      "RF EOF total unique indices: 146\n",
      "There are 123 shared indices. The RF Ellipse model has 103 unique events and the RF EOF model has 23.\n",
      "__________________________________\n",
      "Negative and Correct Events\n",
      "RF Ellipse total unique indices: 222\n",
      "RF EOF total unique indices: 174\n",
      "There are 75 shared indices. The RF Ellipse model has 147 unique events and the RF EOF model has 99.\n"
     ]
    }
   ],
   "source": [
    "RF_count = collections.Counter() ##RF counter dictionary\n",
    "for day in posXtest:\n",
    "    RF_count[day] += 1\n",
    "LSTM_count = collections.Counter() ##LSTM counter dictionary\n",
    "for day in pos_LSTM:\n",
    "    LSTM_count[day] += 1\n",
    "count, RF, EOF = compare_keys(posXtest, pos_LSTM)\n",
    "print(\"Positive and Correct Events\")\n",
    "print(\"RF Ellipse total unique indices: \"+str(len(RF_count)))\n",
    "print(\"RF EOF total unique indices: \"+str(len(LSTM_count)))\n",
    "print(\"There are \"+str(len(count))+\" shared indices. The RF Ellipse model has \"+str(len(RF))+\" unique events and the RF EOF model has \"+str(len(EOF))+\".\")\n",
    "print(\"__________________________________\")\n",
    "\n",
    "RF_count = collections.Counter() ##RF counter dictionary\n",
    "for day in negXtest:\n",
    "    RF_count[day] += 1\n",
    "LSTM_count = collections.Counter() ##LSTM counter dictionary\n",
    "for day in neg_LSTM:\n",
    "    LSTM_count[day] += 1\n",
    "count, RF, EOF = compare_keys(negXtest, neg_LSTM)\n",
    "print(\"Negative and Correct Events\")\n",
    "print(\"RF Ellipse total unique indices: \"+str(len(RF_count)))\n",
    "print(\"RF EOF total unique indices: \"+str(len(LSTM_count)))\n",
    "print(\"There are \"+str(len(count))+\" shared indices. The RF Ellipse model has \"+str(len(RF))+\" unique events and the RF EOF model has \"+str(len(EOF))+\".\")"
   ]
  },
  {
   "cell_type": "code",
   "execution_count": 7,
   "id": "5014aeb2",
   "metadata": {},
   "outputs": [],
   "source": [
    "#save shared keys for composite plots. \n",
    "pos_count= compare_keys(posXtest, pos_LSTM)\n",
    "neg_count = compare_keys(negXtest, neg_LSTM)\n",
    "Fpos_count = compare_keys(FposXtest, Fpos_LSTM)\n",
    "Fneg_count = compare_keys(FnegXtest, Fneg_LSTM)\n",
    "\n",
    "pickle.dump(pos_count, open(\"./shared_keys/sharedPOS_eur14_eof.p\", 'wb'))\n",
    "pickle.dump(Fpos_count, open(\"./shared_keys/sharedFPOS_eur14_eof.p\", 'wb'))\n",
    "pickle.dump(neg_count, open(\"./shared_keys/sharedNEG_eur14_eof.p\", 'wb'))\n",
    "pickle.dump(Fneg_count, open(\"./shared_keys/sharedFNEG_eur14_eof.p\", 'wb'))"
   ]
  },
  {
   "cell_type": "markdown",
   "id": "d9d4d158",
   "metadata": {},
   "source": [
    "## Now Canada."
   ]
  },
  {
   "cell_type": "code",
   "execution_count": 8,
   "id": "455d8507",
   "metadata": {
    "jupyter": {
     "source_hidden": true
    }
   },
   "outputs": [],
   "source": [
    "##open CANADA indice files\n",
    "infile = open(\"./Canada/posXtest_can14.p\", 'rb') \n",
    "posXtest = pickle.load(infile)\n",
    "infile.close()\n",
    "\n",
    "infile = open(\"./RF_indices/posXtest_can14.p\", 'rb') \n",
    "pos_LSTM = pickle.load(infile)\n",
    "infile.close()\n",
    "\n",
    "infile = open(\"./Canada/FposXtest_can14.p\", 'rb') \n",
    "FposXtest = pickle.load(infile)\n",
    "infile.close()\n",
    "\n",
    "infile = open(\"./RF_indices/FposXtest_can14.p\", 'rb') \n",
    "Fpos_LSTM = pickle.load(infile)\n",
    "infile.close()\n",
    "\n",
    "infile = open(\"./Canada/negXtest_can14.p\", 'rb') \n",
    "negXtest = pickle.load(infile)\n",
    "infile.close()\n",
    "\n",
    "infile = open(\"./RF_indices/negXtest_can14.p\", 'rb') \n",
    "neg_LSTM = pickle.load(infile)\n",
    "infile.close()\n",
    "\n",
    "infile = open(\"./Canada/FnegXtest_can14.p\", 'rb') \n",
    "FnegXtest = pickle.load(infile)\n",
    "infile.close()\n",
    "\n",
    "infile = open(\"./RF_indices/FnegXtest_can14.p\", 'rb') \n",
    "Fneg_LSTM = pickle.load(infile)\n",
    "infile.close()"
   ]
  },
  {
   "cell_type": "code",
   "execution_count": 9,
   "id": "9134cceb",
   "metadata": {},
   "outputs": [
    {
     "name": "stdout",
     "output_type": "stream",
     "text": [
      "Overview and Comparison of High Confidence events from Canada 14 between RF and LSTM\n",
      "Positive and Correct Events\n",
      "Total number of RF events:  12534\n",
      "Total number of LSTM events:  11774\n",
      "Total number of overlap:  7614\n",
      "64.67 % relative to LSTM events\n",
      "__________________________________\n",
      "Negative and Correct Events\n",
      "Total number of RF events:  9742\n",
      "Total number of LSTM events:  12426\n",
      "Total number of overlap:  2825\n",
      "22.73 % relative to LSTM events\n",
      "__________________________________\n",
      "Positive and Incorrect Events\n",
      "Total number of RF events:  3755\n",
      "Total number of LSTM events:  1074\n",
      "Total number of overlap:  596\n",
      "55.49 % relative to LSTM events\n",
      "__________________________________\n",
      "Negative and Inorrect Events\n",
      "Total number of RF events:  965\n",
      "Total number of LSTM events:  1726\n",
      "Total number of overlap:  626\n",
      "36.27 % relative to LSTM events\n"
     ]
    }
   ],
   "source": [
    "print(\"Overview and Comparison of High Confidence events from Canada 14 between RF and LSTM\")\n",
    "print(\"Positive and Correct Events\")\n",
    "print(compare_dicts_values(posXtest, pos_LSTM),\"% relative to LSTM events\")\n",
    "print(\"__________________________________\")\n",
    "print(\"Negative and Correct Events\")\n",
    "print(compare_dicts_values(negXtest, neg_LSTM),\"% relative to LSTM events\")\n",
    "print(\"__________________________________\")\n",
    "print(\"Positive and Incorrect Events\")\n",
    "print(compare_dicts_values(FposXtest, Fpos_LSTM),\"% relative to LSTM events\")\n",
    "print(\"__________________________________\")\n",
    "print(\"Negative and Inorrect Events\")\n",
    "print(compare_dicts_values(FnegXtest, Fneg_LSTM),\"% relative to LSTM events\")"
   ]
  },
  {
   "cell_type": "code",
   "execution_count": 10,
   "id": "f4eea6e5",
   "metadata": {},
   "outputs": [],
   "source": [
    "#save shared keys for composite plots. \n",
    "pos_count= compare_keys(posXtest, pos_LSTM)\n",
    "neg_count = compare_keys(negXtest, neg_LSTM)\n",
    "Fpos_count = compare_keys(FposXtest, Fpos_LSTM)\n",
    "Fneg_count = compare_keys(FnegXtest, Fneg_LSTM)\n",
    "\n",
    "pickle.dump(pos_count, open(\"./shared_keys/sharedPOS_can14.p\", 'wb'))\n",
    "pickle.dump(Fpos_count, open(\"./shared_keys/sharedFPOS_can14.p\", 'wb'))\n",
    "pickle.dump(neg_count, open(\"./shared_keys/sharedNEG_can14.p\", 'wb'))\n",
    "pickle.dump(Fneg_count, open(\"./shared_keys/sharedFNEG_can14.p\", 'wb'))"
   ]
  },
  {
   "cell_type": "markdown",
   "id": "bd8c8891",
   "metadata": {},
   "source": [
    "## Last, SE US."
   ]
  },
  {
   "cell_type": "code",
   "execution_count": 11,
   "id": "c2cc049a",
   "metadata": {
    "jupyter": {
     "source_hidden": true
    }
   },
   "outputs": [],
   "source": [
    "##open SEUS indice files\n",
    "infile = open(\"./SEUS/posXtest_seus14.p\", 'rb') \n",
    "posXtest = pickle.load(infile)\n",
    "infile.close()\n",
    "\n",
    "infile = open(\"./RF_indices/posXtest_seus14.p\", 'rb') \n",
    "pos_LSTM = pickle.load(infile)\n",
    "infile.close()\n",
    "\n",
    "infile = open(\"./SEUS/FposXtest_seus14.p\", 'rb') \n",
    "FposXtest = pickle.load(infile)\n",
    "infile.close()\n",
    "\n",
    "infile = open(\"./RF_indices/FposXtest_seus14.p\", 'rb') \n",
    "Fpos_LSTM = pickle.load(infile)\n",
    "infile.close()\n",
    "\n",
    "infile = open(\"./SEUS/negXtest_seus14.p\", 'rb') \n",
    "negXtest = pickle.load(infile)\n",
    "infile.close()\n",
    "\n",
    "infile = open(\"./RF_indices/negXtest_seus14.p\", 'rb') \n",
    "neg_LSTM = pickle.load(infile)\n",
    "infile.close()\n",
    "\n",
    "infile = open(\"./SEUS/FnegXtest_seus14.p\", 'rb') \n",
    "FnegXtest = pickle.load(infile)\n",
    "infile.close()\n",
    "\n",
    "infile = open(\"./RF_indices/FnegXtest_seus14.p\", 'rb') \n",
    "Fneg_LSTM = pickle.load(infile)\n",
    "infile.close()"
   ]
  },
  {
   "cell_type": "code",
   "execution_count": 12,
   "id": "0e61ac2f",
   "metadata": {},
   "outputs": [
    {
     "name": "stdout",
     "output_type": "stream",
     "text": [
      "Overview and Comparison of High Confidence events from SE US 14 between RF and LSTM\n",
      "Positive and Correct Events\n",
      "Total number of RF events:  8608\n",
      "Total number of LSTM events:  7907\n",
      "Total number of overlap:  3472\n",
      "43.91 % relative to LSTM events\n",
      "__________________________________\n",
      "Negative and Correct Events\n",
      "Total number of RF events:  10276\n",
      "Total number of LSTM events:  11290\n",
      "Total number of overlap:  2463\n",
      "21.82 % relative to LSTM events\n",
      "__________________________________\n",
      "Positive and Incorrect Events\n",
      "Total number of RF events:  3222\n",
      "Total number of LSTM events:  2210\n",
      "Total number of overlap:  234\n",
      "10.59 % relative to LSTM events\n",
      "__________________________________\n",
      "Negative and Inorrect Events\n",
      "Total number of RF events:  4891\n",
      "Total number of LSTM events:  5593\n",
      "Total number of overlap:  826\n",
      "14.77 % relative to LSTM events\n"
     ]
    }
   ],
   "source": [
    "print(\"Overview and Comparison of High Confidence events from SE US 14 between RF and LSTM\")\n",
    "print(\"Positive and Correct Events\")\n",
    "print(compare_dicts_values(posXtest, pos_LSTM),\"% relative to LSTM events\")\n",
    "print(\"__________________________________\")\n",
    "print(\"Negative and Correct Events\")\n",
    "print(compare_dicts_values(negXtest, neg_LSTM),\"% relative to LSTM events\")\n",
    "print(\"__________________________________\")\n",
    "print(\"Positive and Incorrect Events\")\n",
    "print(compare_dicts_values(FposXtest, Fpos_LSTM),\"% relative to LSTM events\")\n",
    "print(\"__________________________________\")\n",
    "print(\"Negative and Inorrect Events\")\n",
    "print(compare_dicts_values(FnegXtest, Fneg_LSTM),\"% relative to LSTM events\")"
   ]
  },
  {
   "cell_type": "code",
   "execution_count": 13,
   "id": "b1a4b2cd",
   "metadata": {},
   "outputs": [],
   "source": [
    "#save shared keys for composite plots. \n",
    "pos_count= compare_keys(posXtest, pos_LSTM)\n",
    "neg_count = compare_keys(negXtest, neg_LSTM)\n",
    "Fpos_count = compare_keys(FposXtest, Fpos_LSTM)\n",
    "Fneg_count = compare_keys(FnegXtest, Fneg_LSTM)\n",
    "\n",
    "pickle.dump(pos_count, open(\"./shared_keys/sharedPOS_seus14.p\", 'wb'))\n",
    "pickle.dump(Fpos_count, open(\"./shared_keys/sharedFPOS_seus14.p\", 'wb'))\n",
    "pickle.dump(neg_count, open(\"./shared_keys/sharedNEG_seus14.p\", 'wb'))\n",
    "pickle.dump(Fneg_count, open(\"./shared_keys/sharedFNEG_seus14.p\", 'wb'))"
   ]
  },
  {
   "cell_type": "code",
   "execution_count": null,
   "id": "e0508517",
   "metadata": {},
   "outputs": [],
   "source": []
  }
 ],
 "metadata": {
  "kernelspec": {
   "display_name": "Python 3 (ipykernel)",
   "language": "python",
   "name": "python3"
  },
  "language_info": {
   "codemirror_mode": {
    "name": "ipython",
    "version": 3
   },
   "file_extension": ".py",
   "mimetype": "text/x-python",
   "name": "python",
   "nbconvert_exporter": "python",
   "pygments_lexer": "ipython3",
   "version": "3.10.12"
  }
 },
 "nbformat": 4,
 "nbformat_minor": 5
}
