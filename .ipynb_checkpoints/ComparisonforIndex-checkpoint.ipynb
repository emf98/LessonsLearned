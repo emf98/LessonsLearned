{
 "cells": [
  {
   "cell_type": "markdown",
   "id": "d6bb0d57",
   "metadata": {},
   "source": [
    "### File for comparing lists from RF and LSTM models for 90th confidence predictions ...\n",
    "\n",
    "7/15/2025"
   ]
  },
  {
   "cell_type": "code",
   "execution_count": 1,
   "id": "570bc342",
   "metadata": {},
   "outputs": [],
   "source": [
    "#relevant import statements\n",
    "import numpy as np\n",
    "import math\n",
    "import pandas as pd\n",
    "import xarray as xr \n",
    "import pickle \n",
    "import matplotlib.pyplot as plt"
   ]
  },
  {
   "cell_type": "code",
   "execution_count": 2,
   "id": "0c5a20ca",
   "metadata": {},
   "outputs": [],
   "source": [
    "##open indice files\n",
    "infile = open(\"./Europe/posXtest_RF14.p\", 'rb') \n",
    "posXtest = pickle.load(infile)\n",
    "infile.close()\n",
    "\n",
    "infile = open(\"./RF_indices/posXtest_eur14.p\", 'rb') \n",
    "pos_LSTM = pickle.load(infile)\n",
    "infile.close()\n",
    "\n",
    "infile = open(\"./Europe/FposXtest_RF14.p\", 'rb') \n",
    "FposXtest = pickle.load(infile)\n",
    "infile.close()\n",
    "\n",
    "infile = open(\"./RF_indices/FposXtest_eur14.p\", 'rb') \n",
    "Fpos_LSTM = pickle.load(infile)\n",
    "infile.close()\n",
    "\n",
    "infile = open(\"./Europe/negXtest_RF14.p\", 'rb') \n",
    "negXtest = pickle.load(infile)\n",
    "infile.close()\n",
    "\n",
    "infile = open(\"./RF_indices/negXtest_eur14.p\", 'rb') \n",
    "neg_LSTM = pickle.load(infile)\n",
    "infile.close()\n",
    "\n",
    "infile = open(\"./Europe/FnegXtest_RF14.p\", 'rb') \n",
    "FnegXtest = pickle.load(infile)\n",
    "infile.close()\n",
    "\n",
    "infile = open(\"./RF_indices/FnegXtest_eur14.p\", 'rb') \n",
    "Fneg_LSTM = pickle.load(infile)\n",
    "infile.close()"
   ]
  },
  {
   "cell_type": "code",
   "execution_count": 3,
   "id": "42070f2c",
   "metadata": {},
   "outputs": [
    {
     "data": {
      "text/plain": [
       "(10, 149)"
      ]
     },
     "execution_count": 3,
     "metadata": {},
     "output_type": "execute_result"
    }
   ],
   "source": [
    "####now I wanna make these plots SO ... I am adding an index column on to X_test ... full version. \n",
    "ranges_RF = np.array([x for x in range(0,149*10,1)])\n",
    "ranges_RF = ranges_RF.reshape(10,149) \n",
    "ranges_RF.shape"
   ]
  },
  {
   "cell_type": "code",
   "execution_count": 4,
   "id": "fdedd771",
   "metadata": {},
   "outputs": [
    {
     "data": {
      "text/plain": [
       "(10, 135)"
      ]
     },
     "execution_count": 4,
     "metadata": {},
     "output_type": "execute_result"
    }
   ],
   "source": [
    "corr_RFindices = ranges_RF[:,:135] ##correct RF indices relative to comparing with SLTM\n",
    "ignore_RFindices = ranges_RF[:,135:] ##indices for ignorong\n",
    "\n",
    "corr_RFindices.shape"
   ]
  },
  {
   "cell_type": "code",
   "execution_count": 5,
   "id": "5cc71679",
   "metadata": {},
   "outputs": [
    {
     "data": {
      "text/plain": [
       "(10, 135)"
      ]
     },
     "execution_count": 5,
     "metadata": {},
     "output_type": "execute_result"
    }
   ],
   "source": [
    "ranges_LSTM = np.array([x for x in range(0,135*10,1)])\n",
    "ranges_LSTM = ranges_LSTM.reshape(10,135) \n",
    "ranges_LSTM.shape"
   ]
  },
  {
   "cell_type": "code",
   "execution_count": 6,
   "id": "ee733c79",
   "metadata": {},
   "outputs": [],
   "source": [
    "##I want to go in and see if I can have this show the # of repeated overlap dates because set() is flattening and removing the repeat dimension from this, which I kinda want to maintain. "
   ]
  },
  {
   "cell_type": "code",
   "execution_count": 25,
   "id": "c97435da",
   "metadata": {},
   "outputs": [],
   "source": [
    "#flatten ranges to allow mapping of the rep. arrays. \n",
    "flat_RF_map = corr_RFindices.flatten()      \n",
    "flat_LSTM_map = ranges_LSTM.flatten() \n",
    "#both should be the same shape, covering the same dates"
   ]
  },
  {
   "cell_type": "code",
   "execution_count": 26,
   "id": "73559fef",
   "metadata": {},
   "outputs": [
    {
     "data": {
      "text/plain": [
       "(12749,)"
      ]
     },
     "execution_count": 26,
     "metadata": {},
     "output_type": "execute_result"
    }
   ],
   "source": [
    "posXtest.shape"
   ]
  },
  {
   "cell_type": "code",
   "execution_count": 32,
   "id": "cfc12bab",
   "metadata": {},
   "outputs": [
    {
     "data": {
      "text/plain": [
       "(9172,)"
      ]
     },
     "execution_count": 32,
     "metadata": {},
     "output_type": "execute_result"
    }
   ],
   "source": [
    "pos_LSTM.shape"
   ]
  },
  {
   "cell_type": "code",
   "execution_count": 40,
   "id": "014d7768",
   "metadata": {},
   "outputs": [],
   "source": [
    "import collections\n",
    "#definition to compile and compare counts across lists/dictionaries\n",
    "def compare_dicts_values(list1, list2):\n",
    "    RF_count = collections.Counter() ##RF counter dictionary\n",
    "    for day in list1:\n",
    "        RF_count[day] += 1\n",
    "    LSTM_count = collections.Counter() ##LSTM counter dictionary\n",
    "    for day in list2:\n",
    "        LSTM_count[day] += 1\n",
    "        \n",
    "    result = {}\n",
    "    #begin comparing RF and LSTM dictionaries. \n",
    "    for key in RF_count:\n",
    "        if key in LSTM_count: #this next part is basically like \"which count is smaller so that we save the overlap in the dict\"\n",
    "            if RF_count[key] >= LSTM_count[key]:\n",
    "                result[key] = abs(LSTM_count[key])\n",
    "            if RF_count[key] < LSTM_count[key]:\n",
    "                result[key] = abs(RF_count[key])\n",
    "    return result;"
   ]
  },
  {
   "cell_type": "code",
   "execution_count": 41,
   "id": "423ce79f",
   "metadata": {},
   "outputs": [
    {
     "data": {
      "text/plain": [
       "{0: 96,\n",
       " 5: 98,\n",
       " 6: 97,\n",
       " 7: 97,\n",
       " 8: 98,\n",
       " 9: 97,\n",
       " 10: 96,\n",
       " 11: 95,\n",
       " 12: 90,\n",
       " 13: 19,\n",
       " 14: 15,\n",
       " 15: 14,\n",
       " 1206: 1,\n",
       " 1207: 3,\n",
       " 763: 33,\n",
       " 16: 7,\n",
       " 19: 2,\n",
       " 1208: 3}"
      ]
     },
     "execution_count": 41,
     "metadata": {},
     "output_type": "execute_result"
    }
   ],
   "source": [
    "pos_dict = compare_dicts_values(posXtest, pos_LSTM)\n",
    "pos_dict"
   ]
  },
  {
   "cell_type": "code",
   "execution_count": 43,
   "id": "1e1a922d",
   "metadata": {},
   "outputs": [
    {
     "name": "stdout",
     "output_type": "stream",
     "text": [
      "961\n"
     ]
    }
   ],
   "source": [
    "total_sum = sum(pos_dict.values())\n",
    "print(total_sum)  "
   ]
  },
  {
   "cell_type": "code",
   "execution_count": null,
   "id": "e447bb86",
   "metadata": {},
   "outputs": [],
   "source": []
  }
 ],
 "metadata": {
  "kernelspec": {
   "display_name": "Python 3 (ipykernel)",
   "language": "python",
   "name": "python3"
  },
  "language_info": {
   "codemirror_mode": {
    "name": "ipython",
    "version": 3
   },
   "file_extension": ".py",
   "mimetype": "text/x-python",
   "name": "python",
   "nbconvert_exporter": "python",
   "pygments_lexer": "ipython3",
   "version": "3.10.12"
  }
 },
 "nbformat": 4,
 "nbformat_minor": 5
}
